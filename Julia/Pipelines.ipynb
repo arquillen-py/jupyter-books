{
 "cells": [
  {
   "cell_type": "code",
   "execution_count": null,
   "source": [
    "# Import Packages\r\n",
    "using Pkg  # Package to install new packages\r\n",
    "\r\n",
    "# Install packages \r\n",
    "Pkg.add(\"DataFrames\")\r\n",
    "Pkg.add(\"CSV\")\r\n",
    "Pkg.add(\"Plots\")\r\n",
    "Pkg.add(\"Lathe\")\r\n",
    "Pkg.add(\"Dates\")\r\n",
    "Pkg.add(\"GLM\")\r\n",
    "Pkg.add(\"AutoMLPipeline\")\r\n",
    "#Pkg.add(\"StatsPlots\")\r\n",
    "#Pkg.add(\"MLBase\")\r\n",
    "#Pkg.add(\"flux\")\r\n",
    "#Pkg.add(\"ANOVA\")\r\n",
    "\r\n",
    "# Load the installed packages\r\n",
    "using DataFrames\r\n",
    "using CSV\r\n",
    "using Plots\r\n",
    "using Lathe.preprocess: TrainTestSplit\r\n",
    "using Dates\r\n",
    "using GLM\r\n",
    "using AutoMLPipeline\r\n",
    "\r\n",
    "#=\r\n",
    "using Statistics\r\n",
    "using StatsPlots\r\n",
    "using MLBase\r\n",
    "using Printf\r\n",
    "using Query\r\n",
    "using FileIO\r\n",
    "=#\r\n",
    "\r\n",
    "# Enable printing of 1000 columns\r\n",
    "ENV[\"COLUMNS\"] = 1000"
   ],
   "outputs": [],
   "metadata": {}
  },
  {
   "cell_type": "code",
   "execution_count": null,
   "source": [
    "function change_column_dtype(df, colname, newdtype)\r\n",
    "    df[!, colname] = convert.(newdtype, df[:, colname])\r\n",
    "end"
   ],
   "outputs": [],
   "metadata": {}
  },
  {
   "cell_type": "code",
   "execution_count": null,
   "source": [
    "data = DataFrame(CSV.File(\"../Datasets/sleepdata.csv\"))\r\n",
    "\r\n",
    "rename!(data, :\"Sleep quality\" => \"SleepQuality\", :\"Time in bed\" => \"Time_in_bed\", \"Wake up\" => \"Wake_up\", :\"Sleep Notes\" => \"Sleep_Notes\", :\"Heart rate\" => \"Heart_rate\", :\"Activity (steps)\" => \"Activity_(steps)\")\r\n",
    "\r\n",
    "coalesce.(data.Sleep_Notes, \"None\")\r\n",
    "\r\n",
    "dropmissing!(data);\r\n",
    "\r\n",
    "delete!(data, 1);"
   ],
   "outputs": [],
   "metadata": {}
  },
  {
   "cell_type": "code",
   "execution_count": null,
   "source": [
    "const nano = 60000000000 # how many nanoseconds are in a minute\r\n",
    "\r\n",
    "insertcols!(data, :Minutes_in_bed => 1)\r\n",
    "for i in range(1, length=nrow(data))\r\n",
    "    data.Minutes_in_bed[i] = Dates.value(data.Time_in_bed[i]) / nano\r\n",
    "end"
   ],
   "outputs": [],
   "metadata": {}
  },
  {
   "cell_type": "code",
   "execution_count": null,
   "source": [
    "data.Start = Date.(data.Start, \"yyyy-mm-dd HH:MM:SS\");\r\n",
    "data.End = Date.(data.End, \"yyyy-mm-dd HH:MM:SS\");"
   ],
   "outputs": [],
   "metadata": {}
  },
  {
   "cell_type": "code",
   "execution_count": null,
   "source": [
    "X = data[:, [5, 6, 7]] |> DataFrame;\r\n",
    "\r\n",
    "Y = data[:, 9] |> Vector;"
   ],
   "outputs": [],
   "metadata": {}
  },
  {
   "cell_type": "code",
   "execution_count": null,
   "source": [
    "catf = CatFeatureSelector()\r\n",
    "numf = NumFeatureSelector()\r\n",
    "\r\n",
    "stsc = SKPreprocessor(\"StandardScaler\")\r\n",
    "ohe = OneHotEncoder()\r\n",
    "\r\n",
    "forest = SKLearner(\"RandomForestRegressor\")\r\n",
    "lasso = SKLearner(\"Lasso\")\r\n",
    "gradient = SKLearner(\"GradientBoostingRegressor\")"
   ],
   "outputs": [],
   "metadata": {}
  },
  {
   "cell_type": "code",
   "execution_count": null,
   "source": [
    "#=Categorical Processing\r\n",
    "popCat = @pipeline catf\r\n",
    "transformCat = fit_transform!(popCat, X, Y)\r\n",
    "\r\n",
    "colNames = names(transformCat)\r\n",
    "\r\n",
    "popOHE = @pipeline (catf |> ohe)\r\n",
    "transformOHE = fit_transform(popOHE, X, Y)\r\n",
    "\r\n",
    "names(transformOHE);=#"
   ],
   "outputs": [],
   "metadata": {}
  },
  {
   "cell_type": "code",
   "execution_count": null,
   "source": [
    "popRFR = @pipeline ( (numf |> stsc) + (catf |> ohe) ) |> forest;\r\n",
    "popLasso = @pipeline ( (numf |> stsc) + (catf |> ohe) ) |> lasso;\r\n",
    "popGradient = @pipeline ( (numf |> stsc) + (catf |> ohe) ) |> gradient;\r\n",
    "\r\n",
    "transformRFR = AutoMLPipeline.fit_transform!(popRFR, X, Y);\r\n",
    "transformLasso = AutoMLPipeline.fit_transform!(popLasso, X, Y);\r\n",
    "transformGradient = AutoMLPipeline.fit_transform!(popGradient, X, Y);\r\n",
    "\r\n",
    "meanRFR, sdRFR = crossvalidate(popRFR, X, Y, \"mean_squared_error\", 5);\r\n",
    "meanLasso, sdLasso = crossvalidate(popLasso, X, Y, \"mean_squared_error\", 5);\r\n",
    "meanGradient, sdGradient = crossvalidate(popGradient, X, Y, \"mean_squared_error\", 5);\r\n",
    "\r\n",
    "println(meanRFR)\r\n",
    "println(meanLasso)\r\n",
    "println(meanGradient)"
   ],
   "outputs": [],
   "metadata": {}
  },
  {
   "cell_type": "code",
   "execution_count": null,
   "source": [
    "predictions = transformLasso\r\n",
    "truevalues = Y\r\n",
    "\r\n",
    "scatter(truevalues, predictions, xlabel = \"True Values\", ylabel = \"Predicted Values\")"
   ],
   "outputs": [],
   "metadata": {}
  },
  {
   "cell_type": "code",
   "execution_count": null,
   "source": [
    "#=onehotDF = DataFrame(Stressful_day = Bool[], Drank_coffee = Bool[], Drank_tea = Bool[], Worked_out = Bool[], Ate_late = Bool[])\r\n",
    "\r\n",
    "for i in range(1, length = nrow(data))\r\n",
    "    currentSleepNote = data.Sleep_Notes[i]\r\n",
    "    if occursin(\":\", data.Sleep_Notes[i])\r\n",
    "        sleepList = []\r\n",
    "\r\n",
    "        note1 = split(currentSleepNote, \":\")[1]\r\n",
    "        note2 = split(currentSleepNote, \":\")[2]\r\n",
    "\r\n",
    "        push!(sleepList, note1, note2)\r\n",
    "\r\n",
    "        ohb = onehotbatch(sleepList, [\"Stressful day\", \"Drank coffee\", \"Drank tea\", \"Worked out\", \"Ate late\"])\r\n",
    "\r\n",
    "        enc = ohb[:, 1] + ohb[:, 2]\r\n",
    "        \r\n",
    "        push!(onehotDF, enc)\r\n",
    "    else\r\n",
    "        sleepList = []\r\n",
    "\r\n",
    "        push!(sleepList, currentSleepNote)\r\n",
    "\r\n",
    "        enc = onehot(currentSleepNote, [\"Stressful day\", \"Drank coffee\", \"Drank tea\", \"Worked out\", \"Ate late\"])\r\n",
    "\r\n",
    "        push!(onehotDF, enc)\r\n",
    "    end\r\n",
    "end\r\n",
    "\r\n",
    "data = hcat(data, onehotDF)=#"
   ],
   "outputs": [],
   "metadata": {}
  },
  {
   "cell_type": "code",
   "execution_count": null,
   "source": [
    "#=insertcols!(data, :\"Wake_up_ord\" => 1)\r\n",
    "\r\n",
    "i = 1\r\n",
    "for emoticon in data.Wake_up\r\n",
    "    if occursin(\":)\", emoticon)\r\n",
    "        data[i, \"Wake_up_ord\"] = 2 \r\n",
    "        i += 1\r\n",
    "    elseif occursin(\":|\", emoticon)\r\n",
    "        data[i, \"Wake_up_ord\"] = 1\r\n",
    "        i += 1\r\n",
    "    elseif occursin(\":()\", emoticon)\r\n",
    "        data[i, \"Wake_up_ord\"] = 0\r\n",
    "        i += 1\r\n",
    "    end\r\n",
    "end=#"
   ],
   "outputs": [],
   "metadata": {}
  },
  {
   "cell_type": "code",
   "execution_count": null,
   "source": [
    "#=insertcols!(data, :\"Sleep_quality_num\" => 1.0)\r\n",
    "\r\n",
    "i = 1\r\n",
    "for percentage in data.SleepQuality\r\n",
    "    number = percentage[1:end-1]\r\n",
    "    #println(parse(Float64, number))\r\n",
    "    data[i, \"Sleep_quality_num\"] = parse(Float64, number)\r\n",
    "    i += 1\r\n",
    "end\r\n",
    "\r\n",
    "insertcols!(data, :\"Sleep_quality_ord\" => 1)\r\n",
    "\r\n",
    "i = 1\r\n",
    "for num in data.Sleep_quality_num\r\n",
    "    #println(num)\r\n",
    "    if num >= 0.0 && num < 25.0\r\n",
    "        data[i, \"Sleep_quality_ord\"] = 1\r\n",
    "        i += 1\r\n",
    "    elseif num >= 25.0 && num < 50.0\r\n",
    "        data[i, \"Sleep_quality_ord\"] = 2\r\n",
    "        i += 1\r\n",
    "    elseif num >= 50.0 && num < 75.0\r\n",
    "        data[i, \"Sleep_quality_ord\"] = 3\r\n",
    "        i += 1\r\n",
    "    elseif num >= 75.0\r\n",
    "        data[i, \"Sleep_quality_ord\"] = 4\r\n",
    "        i += 1\r\n",
    "    end\r\n",
    "end\r\n",
    "=#"
   ],
   "outputs": [],
   "metadata": {}
  }
 ],
 "metadata": {
  "orig_nbformat": 4,
  "language_info": {
   "file_extension": ".jl",
   "name": "julia",
   "mimetype": "application/julia",
   "version": "1.6.2"
  },
  "kernelspec": {
   "name": "julia-1.6",
   "display_name": "Julia 1.6.2",
   "language": "julia"
  }
 },
 "nbformat": 4,
 "nbformat_minor": 2
}