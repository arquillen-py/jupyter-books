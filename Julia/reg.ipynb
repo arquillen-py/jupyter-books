{
 "cells": [
  {
   "cell_type": "code",
   "execution_count": null,
   "source": [
    "# Import Packages\r\n",
    "using Pkg  # Package to install new packages\r\n",
    "\r\n",
    "# Install packages \r\n",
    "#Pkg.add(\"DataFrames\")\r\n",
    "#Pkg.add(\"CSV\")\r\n",
    "#Pkg.add(\"Plots\")\r\n",
    "#Pkg.add(\"Lathe\")\r\n",
    "#Pkg.add(\"GLM\")\r\n",
    "#Pkg.add(\"StatsPlots\")\r\n",
    "#Pkg.add(\"MLBase\")\r\n",
    "#Pkg.add(\"flux\")\r\n",
    "\r\n",
    "\r\n",
    "# Load the installed packages\r\n",
    "using DataFrames\r\n",
    "using CSV\r\n",
    "using Plots\r\n",
    "using Lathe\r\n",
    "using GLM\r\n",
    "using Statistics\r\n",
    "using StatsPlots\r\n",
    "using MLBase\r\n",
    "using Printf\r\n",
    "using Dates\r\n",
    "using Flux: onehot\r\n",
    "using Flux: onehotbatch\r\n",
    "using Query\r\n",
    "using VegaLite\r\n",
    "using DataVoyager\r\n",
    "using FileIO\r\n",
    "using ElectronDisplay\r\n",
    "\r\n",
    "# Enable printing of 1000 columns\r\n",
    "ENV[\"COLUMNS\"] = 1000"
   ],
   "outputs": [],
   "metadata": {}
  },
  {
   "cell_type": "code",
   "execution_count": null,
   "source": [
    "data = DataFrame(CSV.File(\"../Datasets/sleepdata.csv\"))\r\n",
    "dropmissing!(data)\r\n",
    "rename!(data, :\"Sleep quality\" => \"SleepQuality\", :\"Time in bed\" => \"Time_in_bed\", \"Wake up\" => \"Wake_up\", :\"Sleep Notes\" => \"Sleep_Notes\", :\"Heart rate\" => \"Heart_rate\", :\"Activity (steps)\" => \"Activity_(steps)\")\r\n",
    "first(data,5)"
   ],
   "outputs": [],
   "metadata": {}
  },
  {
   "cell_type": "code",
   "execution_count": null,
   "source": [
    "data.Start = Date.(data.Start, \"yyyy-mm-dd HH:MM:SS\");\r\n",
    "data.End = Date.(data.End, \"yyyy-mm-dd HH:MM:SS\");\r\n",
    "first(data, 5)"
   ],
   "outputs": [],
   "metadata": {}
  },
  {
   "cell_type": "code",
   "execution_count": null,
   "source": [
    "const nano = 60000000000 # how many nanoseconds are in a minute\r\n",
    "\r\n",
    "insertcols!(data, :Minutes_in_bed => 1)\r\n",
    "for i in range(1, length=nrow(data))\r\n",
    "    data.Minutes_in_bed[i] = Dates.value(data.Time_in_bed[i]) / nano\r\n",
    "end"
   ],
   "outputs": [],
   "metadata": {}
  },
  {
   "cell_type": "code",
   "execution_count": null,
   "source": [
    "first(data, 5)"
   ],
   "outputs": [],
   "metadata": {}
  },
  {
   "cell_type": "code",
   "execution_count": null,
   "source": [
    "for i in range(1, length=nrow(data))\r\n",
    "    if occursin(\":\", data.Sleep_Notes[i])\r\n",
    "        data.Sleep_Notes[i] = split(data.Sleep_Notes[i], \":\" )[1]\r\n",
    "    end\r\n",
    "end"
   ],
   "outputs": [],
   "metadata": {}
  },
  {
   "cell_type": "code",
   "execution_count": 304,
   "source": [
    "first(data, 5)"
   ],
   "outputs": [
    {
     "output_type": "execute_result",
     "data": {
      "text/plain": [
       "\u001b[1m5×14 DataFrame\u001b[0m\n",
       "\u001b[1m Row \u001b[0m│\u001b[1m Start      \u001b[0m\u001b[1m End        \u001b[0m\u001b[1m SleepQuality \u001b[0m\u001b[1m Time_in_bed \u001b[0m\u001b[1m Wake_up \u001b[0m\u001b[1m Sleep_Notes   \u001b[0m\u001b[1m Heart_rate \u001b[0m\u001b[1m Activity_(steps) \u001b[0m\u001b[1m Minutes_in_bed \u001b[0m\u001b[1m Stressful_day \u001b[0m\u001b[1m Drank_coffee \u001b[0m\u001b[1m Drank_tea \u001b[0m\u001b[1m Worked_out \u001b[0m\u001b[1m Ate_late \u001b[0m\n",
       "\u001b[1m     \u001b[0m│\u001b[90m Date       \u001b[0m\u001b[90m Date       \u001b[0m\u001b[90m String       \u001b[0m\u001b[90m Time        \u001b[0m\u001b[90m String  \u001b[0m\u001b[90m String        \u001b[0m\u001b[90m Int64      \u001b[0m\u001b[90m Int64            \u001b[0m\u001b[90m Int64          \u001b[0m\u001b[90m Bool          \u001b[0m\u001b[90m Bool         \u001b[0m\u001b[90m Bool      \u001b[0m\u001b[90m Bool       \u001b[0m\u001b[90m Bool     \u001b[0m\n",
       "─────┼───────────────────────────────────────────────────────────────────────────────────────────────────────────────────────────────────────────────────────────────────────────────────────\n",
       "   1 │ 2014-12-30  2014-12-30  3%            00:16:00     :|       Stressful day          72                 0              16           true         false      false       false     false\n",
       "   2 │ 2015-01-01  2015-01-02  72%           06:44:00     :)       Drank coffee           68                 0             404          false          true      false       false     false\n",
       "   3 │ 2015-01-03  2015-01-03  83%           07:12:00     :)       Drank coffee           60                 0             432          false          true      false       false     false\n",
       "   4 │ 2015-01-04  2015-01-05  78%           07:18:00     :)       Ate late               57                 0             438          false         false      false       false      true\n",
       "   5 │ 2015-01-05  2015-01-06  69%           07:27:00     :)       Drank coffee           56                 0             447          false          true      false       false     false"
      ],
      "text/latex": [
       "\\begin{tabular}{r|cccccccccccccc}\n",
       "\t& Start & End & SleepQuality & Time\\_in\\_bed & Wake\\_up & Sleep\\_Notes & Heart\\_rate & Activity\\_(steps) & Minutes\\_in\\_bed & Stressful\\_day & Drank\\_coffee & Drank\\_tea & Worked\\_out & Ate\\_late\\\\\n",
       "\t\\hline\n",
       "\t& Date & Date & String & Time & String & String & Int64 & Int64 & Int64 & Bool & Bool & Bool & Bool & Bool\\\\\n",
       "\t\\hline\n",
       "\t1 & 2014-12-30 & 2014-12-30 & 3\\% & 00:16:00 & :| & Stressful day & 72 & 0 & 16 & 1 & 0 & 0 & 0 & 0 \\\\\n",
       "\t2 & 2015-01-01 & 2015-01-02 & 72\\% & 06:44:00 & :) & Drank coffee & 68 & 0 & 404 & 0 & 1 & 0 & 0 & 0 \\\\\n",
       "\t3 & 2015-01-03 & 2015-01-03 & 83\\% & 07:12:00 & :) & Drank coffee & 60 & 0 & 432 & 0 & 1 & 0 & 0 & 0 \\\\\n",
       "\t4 & 2015-01-04 & 2015-01-05 & 78\\% & 07:18:00 & :) & Ate late & 57 & 0 & 438 & 0 & 0 & 0 & 0 & 1 \\\\\n",
       "\t5 & 2015-01-05 & 2015-01-06 & 69\\% & 07:27:00 & :) & Drank coffee & 56 & 0 & 447 & 0 & 1 & 0 & 0 & 0 \\\\\n",
       "\\end{tabular}\n"
      ],
      "text/html": [
       "<table class=\"data-frame\"><thead><tr><th></th><th>Start</th><th>End</th><th>SleepQuality</th><th>Time_in_bed</th><th>Wake_up</th><th>Sleep_Notes</th><th>Heart_rate</th><th>Activity_(steps)</th><th>Minutes_in_bed</th><th>Stressful_day</th><th>Drank_coffee</th><th>Drank_tea</th><th>Worked_out</th><th>Ate_late</th></tr><tr><th></th><th>Date</th><th>Date</th><th>String</th><th>Time</th><th>String</th><th>String</th><th>Int64</th><th>Int64</th><th>Int64</th><th>Bool</th><th>Bool</th><th>Bool</th><th>Bool</th><th>Bool</th></tr></thead><tbody><p>5 rows × 14 columns</p><tr><th>1</th><td>2014-12-30</td><td>2014-12-30</td><td>3%</td><td>00:16:00</td><td>:|</td><td>Stressful day</td><td>72</td><td>0</td><td>16</td><td>1</td><td>0</td><td>0</td><td>0</td><td>0</td></tr><tr><th>2</th><td>2015-01-01</td><td>2015-01-02</td><td>72%</td><td>06:44:00</td><td>:)</td><td>Drank coffee</td><td>68</td><td>0</td><td>404</td><td>0</td><td>1</td><td>0</td><td>0</td><td>0</td></tr><tr><th>3</th><td>2015-01-03</td><td>2015-01-03</td><td>83%</td><td>07:12:00</td><td>:)</td><td>Drank coffee</td><td>60</td><td>0</td><td>432</td><td>0</td><td>1</td><td>0</td><td>0</td><td>0</td></tr><tr><th>4</th><td>2015-01-04</td><td>2015-01-05</td><td>78%</td><td>07:18:00</td><td>:)</td><td>Ate late</td><td>57</td><td>0</td><td>438</td><td>0</td><td>0</td><td>0</td><td>0</td><td>1</td></tr><tr><th>5</th><td>2015-01-05</td><td>2015-01-06</td><td>69%</td><td>07:27:00</td><td>:)</td><td>Drank coffee</td><td>56</td><td>0</td><td>447</td><td>0</td><td>1</td><td>0</td><td>0</td><td>0</td></tr></tbody></table>"
      ]
     },
     "metadata": {},
     "execution_count": 304
    }
   ],
   "metadata": {}
  },
  {
   "cell_type": "code",
   "execution_count": 336,
   "source": [
    "\r\n",
    "\r\n",
    "a = onehotbatch([\"Ate late\", \"Drank tea\"], [\"Stressful day\", \"Drank coffee\", \"Drank tea\", \"Worked out\", \"Ate late\"])\r\n",
    "\r\n",
    "a = a[:, 1] + a[:, 2]"
   ],
   "outputs": [
    {
     "output_type": "execute_result",
     "data": {
      "text/plain": [
       "5-element Vector{Int64}:\n",
       " 0\n",
       " 0\n",
       " 1\n",
       " 0\n",
       " 1"
      ]
     },
     "metadata": {},
     "execution_count": 336
    }
   ],
   "metadata": {}
  },
  {
   "cell_type": "code",
   "execution_count": 305,
   "source": [
    "sleepnotes = [\"Stressful_day\", \"Drank_coffee\", \"Drank_tea\", \"Worked_out\", \"Ate_late\"]\r\n",
    "\r\n",
    "ohe = onehot(data.Sleep_Notes[1], [\"Stressful day\", \"Drank coffee\", \"Drank tea\", \"Worked out\", \"Ate late\"])\r\n",
    "\r\n",
    "for i in range(2, length = nrow(data) - 1)\r\n",
    "    nextOHE = onehot(data.Sleep_Notes[i], [\"Stressful day\", \"Drank coffee\", \"Drank tea\", \"Worked out\", \"Ate late\"])\r\n",
    "    ohe = hcat(ohe, nextOHE)\r\n",
    "end"
   ],
   "outputs": [
    {
     "output_type": "stream",
     "name": "stdout",
     "text": [
      "Bool[1, 0, 0, 0, 0]"
     ]
    }
   ],
   "metadata": {}
  },
  {
   "cell_type": "code",
   "execution_count": null,
   "source": [
    "oheDF = convert(DataFrame, transpose(ohe))\r\n",
    "\r\n",
    "rename!(oheDF, :\"x1\" => \"Stressful_day\", :\"x2\" => \"Drank_coffee\", \"x3\" => \"Drank_tea\", :\"x4\" => \"Worked_out\", :\"x5\" => \"Ate_late\")\r\n",
    "\r\n",
    "data = hcat(data, oheDF)"
   ],
   "outputs": [],
   "metadata": {}
  },
  {
   "cell_type": "code",
   "execution_count": 317,
   "source": [
    "first(data, 10)\r\n"
   ],
   "outputs": [
    {
     "output_type": "execute_result",
     "data": {
      "text/plain": [
       "\u001b[1m10×14 DataFrame\u001b[0m\n",
       "\u001b[1m Row \u001b[0m│\u001b[1m Start      \u001b[0m\u001b[1m End        \u001b[0m\u001b[1m SleepQuality \u001b[0m\u001b[1m Time_in_bed \u001b[0m\u001b[1m Wake_up \u001b[0m\u001b[1m Sleep_Notes   \u001b[0m\u001b[1m Heart_rate \u001b[0m\u001b[1m Activity_(steps) \u001b[0m\u001b[1m Minutes_in_bed \u001b[0m\u001b[1m Stressful_day \u001b[0m\u001b[1m Drank_coffee \u001b[0m\u001b[1m Drank_tea \u001b[0m\u001b[1m Worked_out \u001b[0m\u001b[1m Ate_late \u001b[0m\n",
       "\u001b[1m     \u001b[0m│\u001b[90m Date       \u001b[0m\u001b[90m Date       \u001b[0m\u001b[90m String       \u001b[0m\u001b[90m Time        \u001b[0m\u001b[90m String  \u001b[0m\u001b[90m String        \u001b[0m\u001b[90m Int64      \u001b[0m\u001b[90m Int64            \u001b[0m\u001b[90m Int64          \u001b[0m\u001b[90m Bool          \u001b[0m\u001b[90m Bool         \u001b[0m\u001b[90m Bool      \u001b[0m\u001b[90m Bool       \u001b[0m\u001b[90m Bool     \u001b[0m\n",
       "─────┼───────────────────────────────────────────────────────────────────────────────────────────────────────────────────────────────────────────────────────────────────────────────────────\n",
       "   1 │ 2014-12-30  2014-12-30  3%            00:16:00     :|       Stressful day          72                 0              16           true         false      false       false     false\n",
       "   2 │ 2015-01-01  2015-01-02  72%           06:44:00     :)       Drank coffee           68                 0             404          false          true      false       false     false\n",
       "   3 │ 2015-01-03  2015-01-03  83%           07:12:00     :)       Drank coffee           60                 0             432          false          true      false       false     false\n",
       "   4 │ 2015-01-04  2015-01-05  78%           07:18:00     :)       Ate late               57                 0             438          false         false      false       false      true\n",
       "   5 │ 2015-01-05  2015-01-06  69%           07:27:00     :)       Drank coffee           56                 0             447          false          true      false       false     false\n",
       "   6 │ 2015-01-06  2015-01-07  74%           07:35:00     :|       Drank tea              64                 0             455          false         false       true       false     false\n",
       "   7 │ 2015-01-07  2015-01-08  81%           09:19:00     :)       Drank coffee           62                 0             559          false          true      false       false     false\n",
       "   8 │ 2015-01-08  2015-01-09  88%           07:16:00     :)       Drank coffee           58                 0             436          false          true      false       false     false\n",
       "   9 │ 2015-01-09  2015-01-10  77%           09:01:00     :|       Drank coffee           65                 0             541          false          true      false       false     false\n",
       "  10 │ 2015-01-10  2015-01-11  89%           08:50:00     :|       Drank coffee           65                 0             530          false          true      false       false     false"
      ],
      "text/latex": [
       "\\begin{tabular}{r|cccccccccccccc}\n",
       "\t& Start & End & SleepQuality & Time\\_in\\_bed & Wake\\_up & Sleep\\_Notes & Heart\\_rate & Activity\\_(steps) & Minutes\\_in\\_bed & Stressful\\_day & Drank\\_coffee & Drank\\_tea & Worked\\_out & Ate\\_late\\\\\n",
       "\t\\hline\n",
       "\t& Date & Date & String & Time & String & String & Int64 & Int64 & Int64 & Bool & Bool & Bool & Bool & Bool\\\\\n",
       "\t\\hline\n",
       "\t1 & 2014-12-30 & 2014-12-30 & 3\\% & 00:16:00 & :| & Stressful day & 72 & 0 & 16 & 1 & 0 & 0 & 0 & 0 \\\\\n",
       "\t2 & 2015-01-01 & 2015-01-02 & 72\\% & 06:44:00 & :) & Drank coffee & 68 & 0 & 404 & 0 & 1 & 0 & 0 & 0 \\\\\n",
       "\t3 & 2015-01-03 & 2015-01-03 & 83\\% & 07:12:00 & :) & Drank coffee & 60 & 0 & 432 & 0 & 1 & 0 & 0 & 0 \\\\\n",
       "\t4 & 2015-01-04 & 2015-01-05 & 78\\% & 07:18:00 & :) & Ate late & 57 & 0 & 438 & 0 & 0 & 0 & 0 & 1 \\\\\n",
       "\t5 & 2015-01-05 & 2015-01-06 & 69\\% & 07:27:00 & :) & Drank coffee & 56 & 0 & 447 & 0 & 1 & 0 & 0 & 0 \\\\\n",
       "\t6 & 2015-01-06 & 2015-01-07 & 74\\% & 07:35:00 & :| & Drank tea & 64 & 0 & 455 & 0 & 0 & 1 & 0 & 0 \\\\\n",
       "\t7 & 2015-01-07 & 2015-01-08 & 81\\% & 09:19:00 & :) & Drank coffee & 62 & 0 & 559 & 0 & 1 & 0 & 0 & 0 \\\\\n",
       "\t8 & 2015-01-08 & 2015-01-09 & 88\\% & 07:16:00 & :) & Drank coffee & 58 & 0 & 436 & 0 & 1 & 0 & 0 & 0 \\\\\n",
       "\t9 & 2015-01-09 & 2015-01-10 & 77\\% & 09:01:00 & :| & Drank coffee & 65 & 0 & 541 & 0 & 1 & 0 & 0 & 0 \\\\\n",
       "\t10 & 2015-01-10 & 2015-01-11 & 89\\% & 08:50:00 & :| & Drank coffee & 65 & 0 & 530 & 0 & 1 & 0 & 0 & 0 \\\\\n",
       "\\end{tabular}\n"
      ],
      "text/html": [
       "<table class=\"data-frame\"><thead><tr><th></th><th>Start</th><th>End</th><th>SleepQuality</th><th>Time_in_bed</th><th>Wake_up</th><th>Sleep_Notes</th><th>Heart_rate</th><th>Activity_(steps)</th><th>Minutes_in_bed</th><th>Stressful_day</th><th>Drank_coffee</th><th>Drank_tea</th><th>Worked_out</th><th>Ate_late</th></tr><tr><th></th><th>Date</th><th>Date</th><th>String</th><th>Time</th><th>String</th><th>String</th><th>Int64</th><th>Int64</th><th>Int64</th><th>Bool</th><th>Bool</th><th>Bool</th><th>Bool</th><th>Bool</th></tr></thead><tbody><p>10 rows × 14 columns</p><tr><th>1</th><td>2014-12-30</td><td>2014-12-30</td><td>3%</td><td>00:16:00</td><td>:|</td><td>Stressful day</td><td>72</td><td>0</td><td>16</td><td>1</td><td>0</td><td>0</td><td>0</td><td>0</td></tr><tr><th>2</th><td>2015-01-01</td><td>2015-01-02</td><td>72%</td><td>06:44:00</td><td>:)</td><td>Drank coffee</td><td>68</td><td>0</td><td>404</td><td>0</td><td>1</td><td>0</td><td>0</td><td>0</td></tr><tr><th>3</th><td>2015-01-03</td><td>2015-01-03</td><td>83%</td><td>07:12:00</td><td>:)</td><td>Drank coffee</td><td>60</td><td>0</td><td>432</td><td>0</td><td>1</td><td>0</td><td>0</td><td>0</td></tr><tr><th>4</th><td>2015-01-04</td><td>2015-01-05</td><td>78%</td><td>07:18:00</td><td>:)</td><td>Ate late</td><td>57</td><td>0</td><td>438</td><td>0</td><td>0</td><td>0</td><td>0</td><td>1</td></tr><tr><th>5</th><td>2015-01-05</td><td>2015-01-06</td><td>69%</td><td>07:27:00</td><td>:)</td><td>Drank coffee</td><td>56</td><td>0</td><td>447</td><td>0</td><td>1</td><td>0</td><td>0</td><td>0</td></tr><tr><th>6</th><td>2015-01-06</td><td>2015-01-07</td><td>74%</td><td>07:35:00</td><td>:|</td><td>Drank tea</td><td>64</td><td>0</td><td>455</td><td>0</td><td>0</td><td>1</td><td>0</td><td>0</td></tr><tr><th>7</th><td>2015-01-07</td><td>2015-01-08</td><td>81%</td><td>09:19:00</td><td>:)</td><td>Drank coffee</td><td>62</td><td>0</td><td>559</td><td>0</td><td>1</td><td>0</td><td>0</td><td>0</td></tr><tr><th>8</th><td>2015-01-08</td><td>2015-01-09</td><td>88%</td><td>07:16:00</td><td>:)</td><td>Drank coffee</td><td>58</td><td>0</td><td>436</td><td>0</td><td>1</td><td>0</td><td>0</td><td>0</td></tr><tr><th>9</th><td>2015-01-09</td><td>2015-01-10</td><td>77%</td><td>09:01:00</td><td>:|</td><td>Drank coffee</td><td>65</td><td>0</td><td>541</td><td>0</td><td>1</td><td>0</td><td>0</td><td>0</td></tr><tr><th>10</th><td>2015-01-10</td><td>2015-01-11</td><td>89%</td><td>08:50:00</td><td>:|</td><td>Drank coffee</td><td>65</td><td>0</td><td>530</td><td>0</td><td>1</td><td>0</td><td>0</td><td>0</td></tr></tbody></table>"
      ]
     },
     "metadata": {},
     "execution_count": 317
    }
   ],
   "metadata": {}
  }
 ],
 "metadata": {
  "orig_nbformat": 4,
  "language_info": {
   "file_extension": ".jl",
   "name": "julia",
   "mimetype": "application/julia",
   "version": "1.6.2"
  },
  "kernelspec": {
   "name": "julia-1.6",
   "display_name": "Julia 1.6.2",
   "language": "julia"
  }
 },
 "nbformat": 4,
 "nbformat_minor": 2
}