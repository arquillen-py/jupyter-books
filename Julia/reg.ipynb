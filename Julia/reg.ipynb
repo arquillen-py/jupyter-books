{
 "cells": [
  {
   "cell_type": "code",
   "execution_count": 219,
   "source": [
    "# Import Packages\r\n",
    "using Pkg  # Package to install new packages\r\n",
    "\r\n",
    "# Install packages \r\n",
    "#Pkg.add(\"DataFrames\")\r\n",
    "#Pkg.add(\"CSV\")\r\n",
    "#Pkg.add(\"Plots\")\r\n",
    "#Pkg.add(\"Lathe\")\r\n",
    "#Pkg.add(\"GLM\")\r\n",
    "#Pkg.add(\"StatsPlots\")\r\n",
    "#Pkg.add(\"MLBase\")\r\n",
    "#Pkg.add(\"flux\")\r\n",
    "#Pkg.add(\"ANOVA\")\r\n",
    "\r\n",
    "\r\n",
    "# Load the installed packages\r\n",
    "using DataFrames\r\n",
    "using CSV\r\n",
    "using Plots\r\n",
    "using Lathe\r\n",
    "using GLM\r\n",
    "using Statistics\r\n",
    "using StatsPlots\r\n",
    "using MLBase\r\n",
    "using Printf\r\n",
    "using Dates\r\n",
    "using Flux: onehot\r\n",
    "using Flux: onehotbatch\r\n",
    "using Query\r\n",
    "using VegaLite\r\n",
    "using DataVoyager\r\n",
    "using FileIO\r\n",
    "using ElectronDisplay\r\n",
    "using Lathe.preprocess: TrainTestSplit\r\n",
    "\r\n",
    "# Enable printing of 1000 columns\r\n",
    "ENV[\"COLUMNS\"] = 1000"
   ],
   "outputs": [
    {
     "output_type": "execute_result",
     "data": {
      "text/plain": [
       "1000"
      ]
     },
     "metadata": {},
     "execution_count": 219
    }
   ],
   "metadata": {}
  },
  {
   "cell_type": "code",
   "execution_count": 220,
   "source": [
    "data = DataFrame(CSV.File(\"../Datasets/sleepdata.csv\"))\r\n",
    "\r\n",
    "rename!(data, :\"Sleep quality\" => \"SleepQuality\", :\"Time in bed\" => \"Time_in_bed\", \"Wake up\" => \"Wake_up\", :\"Sleep Notes\" => \"Sleep_Notes\", :\"Heart rate\" => \"Heart_rate\", :\"Activity (steps)\" => \"Activity_(steps)\")\r\n",
    "\r\n",
    "coalesce.(data.Sleep_Notes, \"None\")\r\n",
    "\r\n",
    "dropmissing!(data)\r\n",
    "\r\n",
    "first(data,5)"
   ],
   "outputs": [
    {
     "output_type": "execute_result",
     "data": {
      "text/plain": [
       "\u001b[1m5×8 DataFrame\u001b[0m\n",
       "\u001b[1m Row \u001b[0m│\u001b[1m Start               \u001b[0m\u001b[1m End                 \u001b[0m\u001b[1m SleepQuality \u001b[0m\u001b[1m Time_in_bed \u001b[0m\u001b[1m Wake_up \u001b[0m\u001b[1m Sleep_Notes                       \u001b[0m\u001b[1m Heart_rate \u001b[0m\u001b[1m Activity_(steps) \u001b[0m\n",
       "\u001b[1m     \u001b[0m│\u001b[90m String              \u001b[0m\u001b[90m String              \u001b[0m\u001b[90m String       \u001b[0m\u001b[90m Time        \u001b[0m\u001b[90m String  \u001b[0m\u001b[90m String                            \u001b[0m\u001b[90m Int64      \u001b[0m\u001b[90m Int64            \u001b[0m\n",
       "─────┼───────────────────────────────────────────────────────────────────────────────────────────────────────────────────────────────────────────────\n",
       "   1 │ 2014-12-30 21:17:50  2014-12-30 21:33:54  3%            00:16:00     :|       Stressful day                              72                 0\n",
       "   2 │ 2015-01-01 22:12:10  2015-01-02 04:56:35  72%           06:44:00     :)       Drank coffee:Drank tea                     68                 0\n",
       "   3 │ 2015-01-03 00:34:57  2015-01-03 07:47:23  83%           07:12:00     :)       Drank coffee:Drank tea                     60                 0\n",
       "   4 │ 2015-01-04 21:34:44  2015-01-05 04:53:34  78%           07:18:00     :)       Ate late:Drank coffee                      57                 0\n",
       "   5 │ 2015-01-05 21:32:25  2015-01-06 05:00:03  69%           07:27:00     :)       Drank coffee:Drank tea:Worked out          56                 0"
      ],
      "text/latex": [
       "\\begin{tabular}{r|cccccccc}\n",
       "\t& Start & End & SleepQuality & Time\\_in\\_bed & Wake\\_up & Sleep\\_Notes & Heart\\_rate & Activity\\_(steps)\\\\\n",
       "\t\\hline\n",
       "\t& String & String & String & Time & String & String & Int64 & Int64\\\\\n",
       "\t\\hline\n",
       "\t1 & 2014-12-30 21:17:50 & 2014-12-30 21:33:54 & 3\\% & 00:16:00 & :| & Stressful day & 72 & 0 \\\\\n",
       "\t2 & 2015-01-01 22:12:10 & 2015-01-02 04:56:35 & 72\\% & 06:44:00 & :) & Drank coffee:Drank tea & 68 & 0 \\\\\n",
       "\t3 & 2015-01-03 00:34:57 & 2015-01-03 07:47:23 & 83\\% & 07:12:00 & :) & Drank coffee:Drank tea & 60 & 0 \\\\\n",
       "\t4 & 2015-01-04 21:34:44 & 2015-01-05 04:53:34 & 78\\% & 07:18:00 & :) & Ate late:Drank coffee & 57 & 0 \\\\\n",
       "\t5 & 2015-01-05 21:32:25 & 2015-01-06 05:00:03 & 69\\% & 07:27:00 & :) & Drank coffee:Drank tea:Worked out & 56 & 0 \\\\\n",
       "\\end{tabular}\n"
      ],
      "text/html": [
       "<table class=\"data-frame\"><thead><tr><th></th><th>Start</th><th>End</th><th>SleepQuality</th><th>Time_in_bed</th><th>Wake_up</th><th>Sleep_Notes</th><th>Heart_rate</th><th>Activity_(steps)</th></tr><tr><th></th><th>String</th><th>String</th><th>String</th><th>Time</th><th>String</th><th>String</th><th>Int64</th><th>Int64</th></tr></thead><tbody><p>5 rows × 8 columns</p><tr><th>1</th><td>2014-12-30 21:17:50</td><td>2014-12-30 21:33:54</td><td>3%</td><td>00:16:00</td><td>:|</td><td>Stressful day</td><td>72</td><td>0</td></tr><tr><th>2</th><td>2015-01-01 22:12:10</td><td>2015-01-02 04:56:35</td><td>72%</td><td>06:44:00</td><td>:)</td><td>Drank coffee:Drank tea</td><td>68</td><td>0</td></tr><tr><th>3</th><td>2015-01-03 00:34:57</td><td>2015-01-03 07:47:23</td><td>83%</td><td>07:12:00</td><td>:)</td><td>Drank coffee:Drank tea</td><td>60</td><td>0</td></tr><tr><th>4</th><td>2015-01-04 21:34:44</td><td>2015-01-05 04:53:34</td><td>78%</td><td>07:18:00</td><td>:)</td><td>Ate late:Drank coffee</td><td>57</td><td>0</td></tr><tr><th>5</th><td>2015-01-05 21:32:25</td><td>2015-01-06 05:00:03</td><td>69%</td><td>07:27:00</td><td>:)</td><td>Drank coffee:Drank tea:Worked out</td><td>56</td><td>0</td></tr></tbody></table>"
      ]
     },
     "metadata": {},
     "execution_count": 220
    }
   ],
   "metadata": {}
  },
  {
   "cell_type": "code",
   "execution_count": 221,
   "source": [
    "data.Start = Date.(data.Start, \"yyyy-mm-dd HH:MM:SS\");\r\n",
    "data.End = Date.(data.End, \"yyyy-mm-dd HH:MM:SS\");\r\n",
    "first(data, 5)"
   ],
   "outputs": [
    {
     "output_type": "execute_result",
     "data": {
      "text/plain": [
       "\u001b[1m5×8 DataFrame\u001b[0m\n",
       "\u001b[1m Row \u001b[0m│\u001b[1m Start      \u001b[0m\u001b[1m End        \u001b[0m\u001b[1m SleepQuality \u001b[0m\u001b[1m Time_in_bed \u001b[0m\u001b[1m Wake_up \u001b[0m\u001b[1m Sleep_Notes                       \u001b[0m\u001b[1m Heart_rate \u001b[0m\u001b[1m Activity_(steps) \u001b[0m\n",
       "\u001b[1m     \u001b[0m│\u001b[90m Date       \u001b[0m\u001b[90m Date       \u001b[0m\u001b[90m String       \u001b[0m\u001b[90m Time        \u001b[0m\u001b[90m String  \u001b[0m\u001b[90m String                            \u001b[0m\u001b[90m Int64      \u001b[0m\u001b[90m Int64            \u001b[0m\n",
       "─────┼─────────────────────────────────────────────────────────────────────────────────────────────────────────────────────────────\n",
       "   1 │ 2014-12-30  2014-12-30  3%            00:16:00     :|       Stressful day                              72                 0\n",
       "   2 │ 2015-01-01  2015-01-02  72%           06:44:00     :)       Drank coffee:Drank tea                     68                 0\n",
       "   3 │ 2015-01-03  2015-01-03  83%           07:12:00     :)       Drank coffee:Drank tea                     60                 0\n",
       "   4 │ 2015-01-04  2015-01-05  78%           07:18:00     :)       Ate late:Drank coffee                      57                 0\n",
       "   5 │ 2015-01-05  2015-01-06  69%           07:27:00     :)       Drank coffee:Drank tea:Worked out          56                 0"
      ],
      "text/latex": [
       "\\begin{tabular}{r|cccccccc}\n",
       "\t& Start & End & SleepQuality & Time\\_in\\_bed & Wake\\_up & Sleep\\_Notes & Heart\\_rate & Activity\\_(steps)\\\\\n",
       "\t\\hline\n",
       "\t& Date & Date & String & Time & String & String & Int64 & Int64\\\\\n",
       "\t\\hline\n",
       "\t1 & 2014-12-30 & 2014-12-30 & 3\\% & 00:16:00 & :| & Stressful day & 72 & 0 \\\\\n",
       "\t2 & 2015-01-01 & 2015-01-02 & 72\\% & 06:44:00 & :) & Drank coffee:Drank tea & 68 & 0 \\\\\n",
       "\t3 & 2015-01-03 & 2015-01-03 & 83\\% & 07:12:00 & :) & Drank coffee:Drank tea & 60 & 0 \\\\\n",
       "\t4 & 2015-01-04 & 2015-01-05 & 78\\% & 07:18:00 & :) & Ate late:Drank coffee & 57 & 0 \\\\\n",
       "\t5 & 2015-01-05 & 2015-01-06 & 69\\% & 07:27:00 & :) & Drank coffee:Drank tea:Worked out & 56 & 0 \\\\\n",
       "\\end{tabular}\n"
      ],
      "text/html": [
       "<table class=\"data-frame\"><thead><tr><th></th><th>Start</th><th>End</th><th>SleepQuality</th><th>Time_in_bed</th><th>Wake_up</th><th>Sleep_Notes</th><th>Heart_rate</th><th>Activity_(steps)</th></tr><tr><th></th><th>Date</th><th>Date</th><th>String</th><th>Time</th><th>String</th><th>String</th><th>Int64</th><th>Int64</th></tr></thead><tbody><p>5 rows × 8 columns</p><tr><th>1</th><td>2014-12-30</td><td>2014-12-30</td><td>3%</td><td>00:16:00</td><td>:|</td><td>Stressful day</td><td>72</td><td>0</td></tr><tr><th>2</th><td>2015-01-01</td><td>2015-01-02</td><td>72%</td><td>06:44:00</td><td>:)</td><td>Drank coffee:Drank tea</td><td>68</td><td>0</td></tr><tr><th>3</th><td>2015-01-03</td><td>2015-01-03</td><td>83%</td><td>07:12:00</td><td>:)</td><td>Drank coffee:Drank tea</td><td>60</td><td>0</td></tr><tr><th>4</th><td>2015-01-04</td><td>2015-01-05</td><td>78%</td><td>07:18:00</td><td>:)</td><td>Ate late:Drank coffee</td><td>57</td><td>0</td></tr><tr><th>5</th><td>2015-01-05</td><td>2015-01-06</td><td>69%</td><td>07:27:00</td><td>:)</td><td>Drank coffee:Drank tea:Worked out</td><td>56</td><td>0</td></tr></tbody></table>"
      ]
     },
     "metadata": {},
     "execution_count": 221
    }
   ],
   "metadata": {}
  },
  {
   "cell_type": "code",
   "execution_count": 222,
   "source": [
    "const nano = 60000000000 # how many nanoseconds are in a minute\r\n",
    "\r\n",
    "insertcols!(data, :Minutes_in_bed => 1)\r\n",
    "for i in range(1, length=nrow(data))\r\n",
    "    data.Minutes_in_bed[i] = Dates.value(data.Time_in_bed[i]) / nano\r\n",
    "end"
   ],
   "outputs": [],
   "metadata": {}
  },
  {
   "cell_type": "code",
   "execution_count": 223,
   "source": [
    "first(data, 5)"
   ],
   "outputs": [
    {
     "output_type": "execute_result",
     "data": {
      "text/plain": [
       "\u001b[1m5×9 DataFrame\u001b[0m\n",
       "\u001b[1m Row \u001b[0m│\u001b[1m Start      \u001b[0m\u001b[1m End        \u001b[0m\u001b[1m SleepQuality \u001b[0m\u001b[1m Time_in_bed \u001b[0m\u001b[1m Wake_up \u001b[0m\u001b[1m Sleep_Notes                       \u001b[0m\u001b[1m Heart_rate \u001b[0m\u001b[1m Activity_(steps) \u001b[0m\u001b[1m Minutes_in_bed \u001b[0m\n",
       "\u001b[1m     \u001b[0m│\u001b[90m Date       \u001b[0m\u001b[90m Date       \u001b[0m\u001b[90m String       \u001b[0m\u001b[90m Time        \u001b[0m\u001b[90m String  \u001b[0m\u001b[90m String                            \u001b[0m\u001b[90m Int64      \u001b[0m\u001b[90m Int64            \u001b[0m\u001b[90m Int64          \u001b[0m\n",
       "─────┼─────────────────────────────────────────────────────────────────────────────────────────────────────────────────────────────────────────────\n",
       "   1 │ 2014-12-30  2014-12-30  3%            00:16:00     :|       Stressful day                              72                 0              16\n",
       "   2 │ 2015-01-01  2015-01-02  72%           06:44:00     :)       Drank coffee:Drank tea                     68                 0             404\n",
       "   3 │ 2015-01-03  2015-01-03  83%           07:12:00     :)       Drank coffee:Drank tea                     60                 0             432\n",
       "   4 │ 2015-01-04  2015-01-05  78%           07:18:00     :)       Ate late:Drank coffee                      57                 0             438\n",
       "   5 │ 2015-01-05  2015-01-06  69%           07:27:00     :)       Drank coffee:Drank tea:Worked out          56                 0             447"
      ],
      "text/latex": [
       "\\begin{tabular}{r|ccccccccc}\n",
       "\t& Start & End & SleepQuality & Time\\_in\\_bed & Wake\\_up & Sleep\\_Notes & Heart\\_rate & Activity\\_(steps) & Minutes\\_in\\_bed\\\\\n",
       "\t\\hline\n",
       "\t& Date & Date & String & Time & String & String & Int64 & Int64 & Int64\\\\\n",
       "\t\\hline\n",
       "\t1 & 2014-12-30 & 2014-12-30 & 3\\% & 00:16:00 & :| & Stressful day & 72 & 0 & 16 \\\\\n",
       "\t2 & 2015-01-01 & 2015-01-02 & 72\\% & 06:44:00 & :) & Drank coffee:Drank tea & 68 & 0 & 404 \\\\\n",
       "\t3 & 2015-01-03 & 2015-01-03 & 83\\% & 07:12:00 & :) & Drank coffee:Drank tea & 60 & 0 & 432 \\\\\n",
       "\t4 & 2015-01-04 & 2015-01-05 & 78\\% & 07:18:00 & :) & Ate late:Drank coffee & 57 & 0 & 438 \\\\\n",
       "\t5 & 2015-01-05 & 2015-01-06 & 69\\% & 07:27:00 & :) & Drank coffee:Drank tea:Worked out & 56 & 0 & 447 \\\\\n",
       "\\end{tabular}\n"
      ],
      "text/html": [
       "<table class=\"data-frame\"><thead><tr><th></th><th>Start</th><th>End</th><th>SleepQuality</th><th>Time_in_bed</th><th>Wake_up</th><th>Sleep_Notes</th><th>Heart_rate</th><th>Activity_(steps)</th><th>Minutes_in_bed</th></tr><tr><th></th><th>Date</th><th>Date</th><th>String</th><th>Time</th><th>String</th><th>String</th><th>Int64</th><th>Int64</th><th>Int64</th></tr></thead><tbody><p>5 rows × 9 columns</p><tr><th>1</th><td>2014-12-30</td><td>2014-12-30</td><td>3%</td><td>00:16:00</td><td>:|</td><td>Stressful day</td><td>72</td><td>0</td><td>16</td></tr><tr><th>2</th><td>2015-01-01</td><td>2015-01-02</td><td>72%</td><td>06:44:00</td><td>:)</td><td>Drank coffee:Drank tea</td><td>68</td><td>0</td><td>404</td></tr><tr><th>3</th><td>2015-01-03</td><td>2015-01-03</td><td>83%</td><td>07:12:00</td><td>:)</td><td>Drank coffee:Drank tea</td><td>60</td><td>0</td><td>432</td></tr><tr><th>4</th><td>2015-01-04</td><td>2015-01-05</td><td>78%</td><td>07:18:00</td><td>:)</td><td>Ate late:Drank coffee</td><td>57</td><td>0</td><td>438</td></tr><tr><th>5</th><td>2015-01-05</td><td>2015-01-06</td><td>69%</td><td>07:27:00</td><td>:)</td><td>Drank coffee:Drank tea:Worked out</td><td>56</td><td>0</td><td>447</td></tr></tbody></table>"
      ]
     },
     "metadata": {},
     "execution_count": 223
    }
   ],
   "metadata": {}
  },
  {
   "cell_type": "code",
   "execution_count": 224,
   "source": [
    "onehotDF = DataFrame(Stressful_day = Bool[], Drank_coffee = Bool[], Drank_tea = Bool[], Worked_out = Bool[], Ate_late = Bool[])\r\n",
    "\r\n",
    "for i in range(1, length = nrow(data))\r\n",
    "    currentSleepNote = data.Sleep_Notes[i]\r\n",
    "    if occursin(\":\", data.Sleep_Notes[i])\r\n",
    "        sleepList = []\r\n",
    "\r\n",
    "        note1 = split(currentSleepNote, \":\")[1]\r\n",
    "        note2 = split(currentSleepNote, \":\")[2]\r\n",
    "\r\n",
    "        push!(sleepList, note1, note2)\r\n",
    "\r\n",
    "        ohb = onehotbatch(sleepList, [\"Stressful day\", \"Drank coffee\", \"Drank tea\", \"Worked out\", \"Ate late\"])\r\n",
    "\r\n",
    "        enc = ohb[:, 1] + ohb[:, 2]\r\n",
    "        \r\n",
    "        push!(onehotDF, enc)\r\n",
    "    else\r\n",
    "        sleepList = []\r\n",
    "\r\n",
    "        push!(sleepList, currentSleepNote)\r\n",
    "\r\n",
    "        enc = onehot(currentSleepNote, [\"Stressful day\", \"Drank coffee\", \"Drank tea\", \"Worked out\", \"Ate late\"])\r\n",
    "\r\n",
    "        push!(onehotDF, enc)\r\n",
    "    end\r\n",
    "end\r\n",
    "\r\n",
    "data = hcat(data, onehotDF)"
   ],
   "outputs": [
    {
     "output_type": "execute_result",
     "data": {
      "text/plain": [
       "\u001b[1m155×14 DataFrame\u001b[0m\n",
       "\u001b[1m Row \u001b[0m│\u001b[1m Start      \u001b[0m\u001b[1m End        \u001b[0m\u001b[1m SleepQuality \u001b[0m\u001b[1m Time_in_bed \u001b[0m\u001b[1m Wake_up \u001b[0m\u001b[1m Sleep_Notes                       \u001b[0m\u001b[1m Heart_rate \u001b[0m\u001b[1m Activity_(steps) \u001b[0m\u001b[1m Minutes_in_bed \u001b[0m\u001b[1m Stressful_day \u001b[0m\u001b[1m Drank_coffee \u001b[0m\u001b[1m Drank_tea \u001b[0m\u001b[1m Worked_out \u001b[0m\u001b[1m Ate_late \u001b[0m\n",
       "\u001b[1m     \u001b[0m│\u001b[90m Date       \u001b[0m\u001b[90m Date       \u001b[0m\u001b[90m String       \u001b[0m\u001b[90m Time        \u001b[0m\u001b[90m String  \u001b[0m\u001b[90m String                            \u001b[0m\u001b[90m Int64      \u001b[0m\u001b[90m Int64            \u001b[0m\u001b[90m Int64          \u001b[0m\u001b[90m Bool          \u001b[0m\u001b[90m Bool         \u001b[0m\u001b[90m Bool      \u001b[0m\u001b[90m Bool       \u001b[0m\u001b[90m Bool     \u001b[0m\n",
       "─────┼───────────────────────────────────────────────────────────────────────────────────────────────────────────────────────────────────────────────────────────────────────────────────────────────────────────\n",
       "   1 │ 2014-12-30  2014-12-30  3%            00:16:00     :|       Stressful day                              72                 0              16           true         false      false       false     false\n",
       "   2 │ 2015-01-01  2015-01-02  72%           06:44:00     :)       Drank coffee:Drank tea                     68                 0             404          false          true       true       false     false\n",
       "   3 │ 2015-01-03  2015-01-03  83%           07:12:00     :)       Drank coffee:Drank tea                     60                 0             432          false          true       true       false     false\n",
       "   4 │ 2015-01-04  2015-01-05  78%           07:18:00     :)       Ate late:Drank coffee                      57                 0             438          false          true      false       false      true\n",
       "   5 │ 2015-01-05  2015-01-06  69%           07:27:00     :)       Drank coffee:Drank tea:Worked out          56                 0             447          false          true       true       false     false\n",
       "   6 │ 2015-01-06  2015-01-07  74%           07:35:00     :|       Drank tea:Worked out                       64                 0             455          false         false       true        true     false\n",
       "   7 │ 2015-01-07  2015-01-08  81%           09:19:00     :)       Drank coffee:Drank tea:Stressful…          62                 0             559          false          true       true       false     false\n",
       "   8 │ 2015-01-08  2015-01-09  88%           07:16:00     :)       Drank coffee:Drank tea                     58                 0             436          false          true       true       false     false\n",
       "   9 │ 2015-01-09  2015-01-10  77%           09:01:00     :|       Drank coffee:Drank tea                     65                 0             541          false          true       true       false     false\n",
       "  10 │ 2015-01-10  2015-01-11  89%           08:50:00     :|       Drank coffee:Drank tea                     65                 0             530          false          true       true       false     false\n",
       "  11 │ 2015-01-11  2015-01-12  78%           08:08:00     :)       Drank tea                                  53                 0             488          false         false       true       false     false\n",
       "  ⋮  │     ⋮           ⋮            ⋮             ⋮          ⋮                     ⋮                      ⋮              ⋮                ⋮               ⋮             ⋮            ⋮          ⋮          ⋮\n",
       " 146 │ 2015-11-19  2015-11-20  73%           06:50:00     :)       Drank coffee:Drank tea:Worked out          62                 0             410          false          true       true       false     false\n",
       " 147 │ 2015-11-28  2015-11-28  58%           06:25:00     :)       Drank coffee:Drank tea:Worked out          59                 0             385          false          true       true       false     false\n",
       " 148 │ 2015-12-01  2015-12-02  84%           07:17:00     :)       Drank coffee:Drank tea:Worked out          57                 0             437          false          true       true       false     false\n",
       " 149 │ 2015-12-06  2015-12-07  86%           07:20:00     :)       Drank coffee:Drank tea                     68                 0             440          false          true       true       false     false\n",
       " 150 │ 2015-12-07  2015-12-08  86%           07:40:00     :)       Drank tea:Stressful day:Worked o…          61                 0             460           true         false       true       false     false\n",
       " 151 │ 2015-12-09  2015-12-10  93%           08:13:00     :)       Drank tea:Stressful day:Worked o…          67                 0             493           true         false       true       false     false\n",
       " 152 │ 2015-12-13  2015-12-14  80%           08:02:00     :)       Drank coffee                               52                 0             482          false          true      false       false     false\n",
       " 153 │ 2015-12-20  2015-12-21  72%           08:00:00     :|       Drank coffee:Drank tea:Worked out          56                 0             480          false          true       true       false     false\n",
       " 154 │ 2016-01-01  2016-01-02  79%           08:33:00     :|       Drank coffee:Drank tea                     71                 0             513          false          true       true       false     false\n",
       " 155 │ 2016-01-02  2016-01-03  85%           08:24:00     :)       Drank coffee:Drank tea                     65                 0             504          false          true       true       false     false\n",
       "\u001b[36m                                                                                                                                                                                                 134 rows omitted\u001b[0m"
      ],
      "text/latex": [
       "\\begin{tabular}{r|cccccccccccccc}\n",
       "\t& Start & End & SleepQuality & Time\\_in\\_bed & Wake\\_up & Sleep\\_Notes & Heart\\_rate & Activity\\_(steps) & Minutes\\_in\\_bed & Stressful\\_day & Drank\\_coffee & Drank\\_tea & Worked\\_out & Ate\\_late\\\\\n",
       "\t\\hline\n",
       "\t& Date & Date & String & Time & String & String & Int64 & Int64 & Int64 & Bool & Bool & Bool & Bool & Bool\\\\\n",
       "\t\\hline\n",
       "\t1 & 2014-12-30 & 2014-12-30 & 3\\% & 00:16:00 & :| & Stressful day & 72 & 0 & 16 & 1 & 0 & 0 & 0 & 0 \\\\\n",
       "\t2 & 2015-01-01 & 2015-01-02 & 72\\% & 06:44:00 & :) & Drank coffee:Drank tea & 68 & 0 & 404 & 0 & 1 & 1 & 0 & 0 \\\\\n",
       "\t3 & 2015-01-03 & 2015-01-03 & 83\\% & 07:12:00 & :) & Drank coffee:Drank tea & 60 & 0 & 432 & 0 & 1 & 1 & 0 & 0 \\\\\n",
       "\t4 & 2015-01-04 & 2015-01-05 & 78\\% & 07:18:00 & :) & Ate late:Drank coffee & 57 & 0 & 438 & 0 & 1 & 0 & 0 & 1 \\\\\n",
       "\t5 & 2015-01-05 & 2015-01-06 & 69\\% & 07:27:00 & :) & Drank coffee:Drank tea:Worked out & 56 & 0 & 447 & 0 & 1 & 1 & 0 & 0 \\\\\n",
       "\t6 & 2015-01-06 & 2015-01-07 & 74\\% & 07:35:00 & :| & Drank tea:Worked out & 64 & 0 & 455 & 0 & 0 & 1 & 1 & 0 \\\\\n",
       "\t7 & 2015-01-07 & 2015-01-08 & 81\\% & 09:19:00 & :) & Drank coffee:Drank tea:Stressful day & 62 & 0 & 559 & 0 & 1 & 1 & 0 & 0 \\\\\n",
       "\t8 & 2015-01-08 & 2015-01-09 & 88\\% & 07:16:00 & :) & Drank coffee:Drank tea & 58 & 0 & 436 & 0 & 1 & 1 & 0 & 0 \\\\\n",
       "\t9 & 2015-01-09 & 2015-01-10 & 77\\% & 09:01:00 & :| & Drank coffee:Drank tea & 65 & 0 & 541 & 0 & 1 & 1 & 0 & 0 \\\\\n",
       "\t10 & 2015-01-10 & 2015-01-11 & 89\\% & 08:50:00 & :| & Drank coffee:Drank tea & 65 & 0 & 530 & 0 & 1 & 1 & 0 & 0 \\\\\n",
       "\t11 & 2015-01-11 & 2015-01-12 & 78\\% & 08:08:00 & :) & Drank tea & 53 & 0 & 488 & 0 & 0 & 1 & 0 & 0 \\\\\n",
       "\t12 & 2015-01-12 & 2015-01-13 & 100\\% & 09:11:00 & :) & Drank tea:Worked out & 65 & 0 & 551 & 0 & 0 & 1 & 1 & 0 \\\\\n",
       "\t13 & 2015-01-13 & 2015-01-14 & 100\\% & 08:06:00 & :) & Drank coffee:Drank tea & 55 & 0 & 486 & 0 & 1 & 1 & 0 & 0 \\\\\n",
       "\t14 & 2015-01-14 & 2015-01-15 & 88\\% & 07:13:00 & :) & Drank coffee:Drank tea:Worked out & 60 & 0 & 433 & 0 & 1 & 1 & 0 & 0 \\\\\n",
       "\t15 & 2015-01-15 & 2015-01-16 & 87\\% & 07:22:00 & :) & Drank tea & 60 & 0 & 442 & 0 & 0 & 1 & 0 & 0 \\\\\n",
       "\t16 & 2015-01-17 & 2015-01-17 & 83\\% & 06:51:00 & :) & Drank coffee:Drank tea & 94 & 0 & 411 & 0 & 1 & 1 & 0 & 0 \\\\\n",
       "\t17 & 2015-01-17 & 2015-01-18 & 93\\% & 07:51:00 & :) & Drank coffee:Drank tea & 57 & 0 & 471 & 0 & 1 & 1 & 0 & 0 \\\\\n",
       "\t18 & 2015-01-18 & 2015-01-19 & 58\\% & 07:12:00 & :) & Drank coffee & 67 & 0 & 432 & 0 & 1 & 0 & 0 & 0 \\\\\n",
       "\t19 & 2015-01-19 & 2015-01-20 & 75\\% & 08:00:00 & :| & Drank coffee:Drank tea:Worked out & 54 & 0 & 480 & 0 & 1 & 1 & 0 & 0 \\\\\n",
       "\t20 & 2015-01-20 & 2015-01-21 & 80\\% & 08:02:00 & :| & Drank coffee:Drank tea:Worked out & 60 & 0 & 482 & 0 & 1 & 1 & 0 & 0 \\\\\n",
       "\t21 & 2015-01-21 & 2015-01-22 & 87\\% & 07:42:00 & :) & Drank coffee:Drank tea:Worked out & 75 & 0 & 462 & 0 & 1 & 1 & 0 & 0 \\\\\n",
       "\t22 & 2015-01-25 & 2015-01-26 & 87\\% & 09:19:00 & :) & Drank coffee & 58 & 0 & 559 & 0 & 1 & 0 & 0 & 0 \\\\\n",
       "\t23 & 2015-01-26 & 2015-01-27 & 83\\% & 07:35:00 & :| & Drank coffee:Drank tea:Stressful day & 66 & 0 & 455 & 0 & 1 & 1 & 0 & 0 \\\\\n",
       "\t24 & 2015-01-28 & 2015-01-29 & 76\\% & 07:37:00 & :) & Drank coffee:Drank tea:Stressful day & 57 & 0 & 457 & 0 & 1 & 1 & 0 & 0 \\\\\n",
       "\t25 & 2015-01-29 & 2015-01-30 & 67\\% & 07:05:00 & :) & Drank coffee:Drank tea:Worked out & 63 & 0 & 425 & 0 & 1 & 1 & 0 & 0 \\\\\n",
       "\t26 & 2015-01-31 & 2015-01-31 & 93\\% & 08:03:00 & :) & Drank coffee:Drank tea:Stressful day & 62 & 0 & 483 & 0 & 1 & 1 & 0 & 0 \\\\\n",
       "\t27 & 2015-02-01 & 2015-02-02 & 64\\% & 07:13:00 & :) & Drank coffee:Drank tea & 56 & 0 & 433 & 0 & 1 & 1 & 0 & 0 \\\\\n",
       "\t28 & 2015-02-02 & 2015-02-03 & 75\\% & 07:49:00 & :) & Drank tea & 61 & 0 & 469 & 0 & 0 & 1 & 0 & 0 \\\\\n",
       "\t29 & 2015-02-03 & 2015-02-04 & 72\\% & 07:32:00 & :) & Drank coffee:Drank tea & 61 & 0 & 452 & 0 & 1 & 1 & 0 & 0 \\\\\n",
       "\t30 & 2015-02-04 & 2015-02-05 & 70\\% & 07:07:00 & :) & Drank tea:Worked out & 57 & 0 & 427 & 0 & 0 & 1 & 1 & 0 \\\\\n",
       "\t$\\dots$ & $\\dots$ & $\\dots$ & $\\dots$ & $\\dots$ & $\\dots$ & $\\dots$ & $\\dots$ & $\\dots$ & $\\dots$ & $\\dots$ & $\\dots$ & $\\dots$ & $\\dots$ & $\\dots$ \\\\\n",
       "\\end{tabular}\n"
      ],
      "text/html": [
       "<table class=\"data-frame\"><thead><tr><th></th><th>Start</th><th>End</th><th>SleepQuality</th><th>Time_in_bed</th><th>Wake_up</th><th>Sleep_Notes</th><th>Heart_rate</th><th>Activity_(steps)</th><th>Minutes_in_bed</th><th>Stressful_day</th><th>Drank_coffee</th><th>Drank_tea</th><th>Worked_out</th><th>Ate_late</th></tr><tr><th></th><th>Date</th><th>Date</th><th>String</th><th>Time</th><th>String</th><th>String</th><th>Int64</th><th>Int64</th><th>Int64</th><th>Bool</th><th>Bool</th><th>Bool</th><th>Bool</th><th>Bool</th></tr></thead><tbody><p>155 rows × 14 columns</p><tr><th>1</th><td>2014-12-30</td><td>2014-12-30</td><td>3%</td><td>00:16:00</td><td>:|</td><td>Stressful day</td><td>72</td><td>0</td><td>16</td><td>1</td><td>0</td><td>0</td><td>0</td><td>0</td></tr><tr><th>2</th><td>2015-01-01</td><td>2015-01-02</td><td>72%</td><td>06:44:00</td><td>:)</td><td>Drank coffee:Drank tea</td><td>68</td><td>0</td><td>404</td><td>0</td><td>1</td><td>1</td><td>0</td><td>0</td></tr><tr><th>3</th><td>2015-01-03</td><td>2015-01-03</td><td>83%</td><td>07:12:00</td><td>:)</td><td>Drank coffee:Drank tea</td><td>60</td><td>0</td><td>432</td><td>0</td><td>1</td><td>1</td><td>0</td><td>0</td></tr><tr><th>4</th><td>2015-01-04</td><td>2015-01-05</td><td>78%</td><td>07:18:00</td><td>:)</td><td>Ate late:Drank coffee</td><td>57</td><td>0</td><td>438</td><td>0</td><td>1</td><td>0</td><td>0</td><td>1</td></tr><tr><th>5</th><td>2015-01-05</td><td>2015-01-06</td><td>69%</td><td>07:27:00</td><td>:)</td><td>Drank coffee:Drank tea:Worked out</td><td>56</td><td>0</td><td>447</td><td>0</td><td>1</td><td>1</td><td>0</td><td>0</td></tr><tr><th>6</th><td>2015-01-06</td><td>2015-01-07</td><td>74%</td><td>07:35:00</td><td>:|</td><td>Drank tea:Worked out</td><td>64</td><td>0</td><td>455</td><td>0</td><td>0</td><td>1</td><td>1</td><td>0</td></tr><tr><th>7</th><td>2015-01-07</td><td>2015-01-08</td><td>81%</td><td>09:19:00</td><td>:)</td><td>Drank coffee:Drank tea:Stressful day</td><td>62</td><td>0</td><td>559</td><td>0</td><td>1</td><td>1</td><td>0</td><td>0</td></tr><tr><th>8</th><td>2015-01-08</td><td>2015-01-09</td><td>88%</td><td>07:16:00</td><td>:)</td><td>Drank coffee:Drank tea</td><td>58</td><td>0</td><td>436</td><td>0</td><td>1</td><td>1</td><td>0</td><td>0</td></tr><tr><th>9</th><td>2015-01-09</td><td>2015-01-10</td><td>77%</td><td>09:01:00</td><td>:|</td><td>Drank coffee:Drank tea</td><td>65</td><td>0</td><td>541</td><td>0</td><td>1</td><td>1</td><td>0</td><td>0</td></tr><tr><th>10</th><td>2015-01-10</td><td>2015-01-11</td><td>89%</td><td>08:50:00</td><td>:|</td><td>Drank coffee:Drank tea</td><td>65</td><td>0</td><td>530</td><td>0</td><td>1</td><td>1</td><td>0</td><td>0</td></tr><tr><th>11</th><td>2015-01-11</td><td>2015-01-12</td><td>78%</td><td>08:08:00</td><td>:)</td><td>Drank tea</td><td>53</td><td>0</td><td>488</td><td>0</td><td>0</td><td>1</td><td>0</td><td>0</td></tr><tr><th>12</th><td>2015-01-12</td><td>2015-01-13</td><td>100%</td><td>09:11:00</td><td>:)</td><td>Drank tea:Worked out</td><td>65</td><td>0</td><td>551</td><td>0</td><td>0</td><td>1</td><td>1</td><td>0</td></tr><tr><th>13</th><td>2015-01-13</td><td>2015-01-14</td><td>100%</td><td>08:06:00</td><td>:)</td><td>Drank coffee:Drank tea</td><td>55</td><td>0</td><td>486</td><td>0</td><td>1</td><td>1</td><td>0</td><td>0</td></tr><tr><th>14</th><td>2015-01-14</td><td>2015-01-15</td><td>88%</td><td>07:13:00</td><td>:)</td><td>Drank coffee:Drank tea:Worked out</td><td>60</td><td>0</td><td>433</td><td>0</td><td>1</td><td>1</td><td>0</td><td>0</td></tr><tr><th>15</th><td>2015-01-15</td><td>2015-01-16</td><td>87%</td><td>07:22:00</td><td>:)</td><td>Drank tea</td><td>60</td><td>0</td><td>442</td><td>0</td><td>0</td><td>1</td><td>0</td><td>0</td></tr><tr><th>16</th><td>2015-01-17</td><td>2015-01-17</td><td>83%</td><td>06:51:00</td><td>:)</td><td>Drank coffee:Drank tea</td><td>94</td><td>0</td><td>411</td><td>0</td><td>1</td><td>1</td><td>0</td><td>0</td></tr><tr><th>17</th><td>2015-01-17</td><td>2015-01-18</td><td>93%</td><td>07:51:00</td><td>:)</td><td>Drank coffee:Drank tea</td><td>57</td><td>0</td><td>471</td><td>0</td><td>1</td><td>1</td><td>0</td><td>0</td></tr><tr><th>18</th><td>2015-01-18</td><td>2015-01-19</td><td>58%</td><td>07:12:00</td><td>:)</td><td>Drank coffee</td><td>67</td><td>0</td><td>432</td><td>0</td><td>1</td><td>0</td><td>0</td><td>0</td></tr><tr><th>19</th><td>2015-01-19</td><td>2015-01-20</td><td>75%</td><td>08:00:00</td><td>:|</td><td>Drank coffee:Drank tea:Worked out</td><td>54</td><td>0</td><td>480</td><td>0</td><td>1</td><td>1</td><td>0</td><td>0</td></tr><tr><th>20</th><td>2015-01-20</td><td>2015-01-21</td><td>80%</td><td>08:02:00</td><td>:|</td><td>Drank coffee:Drank tea:Worked out</td><td>60</td><td>0</td><td>482</td><td>0</td><td>1</td><td>1</td><td>0</td><td>0</td></tr><tr><th>21</th><td>2015-01-21</td><td>2015-01-22</td><td>87%</td><td>07:42:00</td><td>:)</td><td>Drank coffee:Drank tea:Worked out</td><td>75</td><td>0</td><td>462</td><td>0</td><td>1</td><td>1</td><td>0</td><td>0</td></tr><tr><th>22</th><td>2015-01-25</td><td>2015-01-26</td><td>87%</td><td>09:19:00</td><td>:)</td><td>Drank coffee</td><td>58</td><td>0</td><td>559</td><td>0</td><td>1</td><td>0</td><td>0</td><td>0</td></tr><tr><th>23</th><td>2015-01-26</td><td>2015-01-27</td><td>83%</td><td>07:35:00</td><td>:|</td><td>Drank coffee:Drank tea:Stressful day</td><td>66</td><td>0</td><td>455</td><td>0</td><td>1</td><td>1</td><td>0</td><td>0</td></tr><tr><th>24</th><td>2015-01-28</td><td>2015-01-29</td><td>76%</td><td>07:37:00</td><td>:)</td><td>Drank coffee:Drank tea:Stressful day</td><td>57</td><td>0</td><td>457</td><td>0</td><td>1</td><td>1</td><td>0</td><td>0</td></tr><tr><th>25</th><td>2015-01-29</td><td>2015-01-30</td><td>67%</td><td>07:05:00</td><td>:)</td><td>Drank coffee:Drank tea:Worked out</td><td>63</td><td>0</td><td>425</td><td>0</td><td>1</td><td>1</td><td>0</td><td>0</td></tr><tr><th>26</th><td>2015-01-31</td><td>2015-01-31</td><td>93%</td><td>08:03:00</td><td>:)</td><td>Drank coffee:Drank tea:Stressful day</td><td>62</td><td>0</td><td>483</td><td>0</td><td>1</td><td>1</td><td>0</td><td>0</td></tr><tr><th>27</th><td>2015-02-01</td><td>2015-02-02</td><td>64%</td><td>07:13:00</td><td>:)</td><td>Drank coffee:Drank tea</td><td>56</td><td>0</td><td>433</td><td>0</td><td>1</td><td>1</td><td>0</td><td>0</td></tr><tr><th>28</th><td>2015-02-02</td><td>2015-02-03</td><td>75%</td><td>07:49:00</td><td>:)</td><td>Drank tea</td><td>61</td><td>0</td><td>469</td><td>0</td><td>0</td><td>1</td><td>0</td><td>0</td></tr><tr><th>29</th><td>2015-02-03</td><td>2015-02-04</td><td>72%</td><td>07:32:00</td><td>:)</td><td>Drank coffee:Drank tea</td><td>61</td><td>0</td><td>452</td><td>0</td><td>1</td><td>1</td><td>0</td><td>0</td></tr><tr><th>30</th><td>2015-02-04</td><td>2015-02-05</td><td>70%</td><td>07:07:00</td><td>:)</td><td>Drank tea:Worked out</td><td>57</td><td>0</td><td>427</td><td>0</td><td>0</td><td>1</td><td>1</td><td>0</td></tr><tr><th>&vellip;</th><td>&vellip;</td><td>&vellip;</td><td>&vellip;</td><td>&vellip;</td><td>&vellip;</td><td>&vellip;</td><td>&vellip;</td><td>&vellip;</td><td>&vellip;</td><td>&vellip;</td><td>&vellip;</td><td>&vellip;</td><td>&vellip;</td><td>&vellip;</td></tr></tbody></table>"
      ]
     },
     "metadata": {},
     "execution_count": 224
    }
   ],
   "metadata": {}
  },
  {
   "cell_type": "code",
   "execution_count": 225,
   "source": [
    "first(data, 10)"
   ],
   "outputs": [
    {
     "output_type": "execute_result",
     "data": {
      "text/plain": [
       "\u001b[1m10×14 DataFrame\u001b[0m\n",
       "\u001b[1m Row \u001b[0m│\u001b[1m Start      \u001b[0m\u001b[1m End        \u001b[0m\u001b[1m SleepQuality \u001b[0m\u001b[1m Time_in_bed \u001b[0m\u001b[1m Wake_up \u001b[0m\u001b[1m Sleep_Notes                       \u001b[0m\u001b[1m Heart_rate \u001b[0m\u001b[1m Activity_(steps) \u001b[0m\u001b[1m Minutes_in_bed \u001b[0m\u001b[1m Stressful_day \u001b[0m\u001b[1m Drank_coffee \u001b[0m\u001b[1m Drank_tea \u001b[0m\u001b[1m Worked_out \u001b[0m\u001b[1m Ate_late \u001b[0m\n",
       "\u001b[1m     \u001b[0m│\u001b[90m Date       \u001b[0m\u001b[90m Date       \u001b[0m\u001b[90m String       \u001b[0m\u001b[90m Time        \u001b[0m\u001b[90m String  \u001b[0m\u001b[90m String                            \u001b[0m\u001b[90m Int64      \u001b[0m\u001b[90m Int64            \u001b[0m\u001b[90m Int64          \u001b[0m\u001b[90m Bool          \u001b[0m\u001b[90m Bool         \u001b[0m\u001b[90m Bool      \u001b[0m\u001b[90m Bool       \u001b[0m\u001b[90m Bool     \u001b[0m\n",
       "─────┼───────────────────────────────────────────────────────────────────────────────────────────────────────────────────────────────────────────────────────────────────────────────────────────────────────────\n",
       "   1 │ 2014-12-30  2014-12-30  3%            00:16:00     :|       Stressful day                              72                 0              16           true         false      false       false     false\n",
       "   2 │ 2015-01-01  2015-01-02  72%           06:44:00     :)       Drank coffee:Drank tea                     68                 0             404          false          true       true       false     false\n",
       "   3 │ 2015-01-03  2015-01-03  83%           07:12:00     :)       Drank coffee:Drank tea                     60                 0             432          false          true       true       false     false\n",
       "   4 │ 2015-01-04  2015-01-05  78%           07:18:00     :)       Ate late:Drank coffee                      57                 0             438          false          true      false       false      true\n",
       "   5 │ 2015-01-05  2015-01-06  69%           07:27:00     :)       Drank coffee:Drank tea:Worked out          56                 0             447          false          true       true       false     false\n",
       "   6 │ 2015-01-06  2015-01-07  74%           07:35:00     :|       Drank tea:Worked out                       64                 0             455          false         false       true        true     false\n",
       "   7 │ 2015-01-07  2015-01-08  81%           09:19:00     :)       Drank coffee:Drank tea:Stressful…          62                 0             559          false          true       true       false     false\n",
       "   8 │ 2015-01-08  2015-01-09  88%           07:16:00     :)       Drank coffee:Drank tea                     58                 0             436          false          true       true       false     false\n",
       "   9 │ 2015-01-09  2015-01-10  77%           09:01:00     :|       Drank coffee:Drank tea                     65                 0             541          false          true       true       false     false\n",
       "  10 │ 2015-01-10  2015-01-11  89%           08:50:00     :|       Drank coffee:Drank tea                     65                 0             530          false          true       true       false     false"
      ],
      "text/latex": [
       "\\begin{tabular}{r|cccccccccccccc}\n",
       "\t& Start & End & SleepQuality & Time\\_in\\_bed & Wake\\_up & Sleep\\_Notes & Heart\\_rate & Activity\\_(steps) & Minutes\\_in\\_bed & Stressful\\_day & Drank\\_coffee & Drank\\_tea & Worked\\_out & Ate\\_late\\\\\n",
       "\t\\hline\n",
       "\t& Date & Date & String & Time & String & String & Int64 & Int64 & Int64 & Bool & Bool & Bool & Bool & Bool\\\\\n",
       "\t\\hline\n",
       "\t1 & 2014-12-30 & 2014-12-30 & 3\\% & 00:16:00 & :| & Stressful day & 72 & 0 & 16 & 1 & 0 & 0 & 0 & 0 \\\\\n",
       "\t2 & 2015-01-01 & 2015-01-02 & 72\\% & 06:44:00 & :) & Drank coffee:Drank tea & 68 & 0 & 404 & 0 & 1 & 1 & 0 & 0 \\\\\n",
       "\t3 & 2015-01-03 & 2015-01-03 & 83\\% & 07:12:00 & :) & Drank coffee:Drank tea & 60 & 0 & 432 & 0 & 1 & 1 & 0 & 0 \\\\\n",
       "\t4 & 2015-01-04 & 2015-01-05 & 78\\% & 07:18:00 & :) & Ate late:Drank coffee & 57 & 0 & 438 & 0 & 1 & 0 & 0 & 1 \\\\\n",
       "\t5 & 2015-01-05 & 2015-01-06 & 69\\% & 07:27:00 & :) & Drank coffee:Drank tea:Worked out & 56 & 0 & 447 & 0 & 1 & 1 & 0 & 0 \\\\\n",
       "\t6 & 2015-01-06 & 2015-01-07 & 74\\% & 07:35:00 & :| & Drank tea:Worked out & 64 & 0 & 455 & 0 & 0 & 1 & 1 & 0 \\\\\n",
       "\t7 & 2015-01-07 & 2015-01-08 & 81\\% & 09:19:00 & :) & Drank coffee:Drank tea:Stressful day & 62 & 0 & 559 & 0 & 1 & 1 & 0 & 0 \\\\\n",
       "\t8 & 2015-01-08 & 2015-01-09 & 88\\% & 07:16:00 & :) & Drank coffee:Drank tea & 58 & 0 & 436 & 0 & 1 & 1 & 0 & 0 \\\\\n",
       "\t9 & 2015-01-09 & 2015-01-10 & 77\\% & 09:01:00 & :| & Drank coffee:Drank tea & 65 & 0 & 541 & 0 & 1 & 1 & 0 & 0 \\\\\n",
       "\t10 & 2015-01-10 & 2015-01-11 & 89\\% & 08:50:00 & :| & Drank coffee:Drank tea & 65 & 0 & 530 & 0 & 1 & 1 & 0 & 0 \\\\\n",
       "\\end{tabular}\n"
      ],
      "text/html": [
       "<table class=\"data-frame\"><thead><tr><th></th><th>Start</th><th>End</th><th>SleepQuality</th><th>Time_in_bed</th><th>Wake_up</th><th>Sleep_Notes</th><th>Heart_rate</th><th>Activity_(steps)</th><th>Minutes_in_bed</th><th>Stressful_day</th><th>Drank_coffee</th><th>Drank_tea</th><th>Worked_out</th><th>Ate_late</th></tr><tr><th></th><th>Date</th><th>Date</th><th>String</th><th>Time</th><th>String</th><th>String</th><th>Int64</th><th>Int64</th><th>Int64</th><th>Bool</th><th>Bool</th><th>Bool</th><th>Bool</th><th>Bool</th></tr></thead><tbody><p>10 rows × 14 columns</p><tr><th>1</th><td>2014-12-30</td><td>2014-12-30</td><td>3%</td><td>00:16:00</td><td>:|</td><td>Stressful day</td><td>72</td><td>0</td><td>16</td><td>1</td><td>0</td><td>0</td><td>0</td><td>0</td></tr><tr><th>2</th><td>2015-01-01</td><td>2015-01-02</td><td>72%</td><td>06:44:00</td><td>:)</td><td>Drank coffee:Drank tea</td><td>68</td><td>0</td><td>404</td><td>0</td><td>1</td><td>1</td><td>0</td><td>0</td></tr><tr><th>3</th><td>2015-01-03</td><td>2015-01-03</td><td>83%</td><td>07:12:00</td><td>:)</td><td>Drank coffee:Drank tea</td><td>60</td><td>0</td><td>432</td><td>0</td><td>1</td><td>1</td><td>0</td><td>0</td></tr><tr><th>4</th><td>2015-01-04</td><td>2015-01-05</td><td>78%</td><td>07:18:00</td><td>:)</td><td>Ate late:Drank coffee</td><td>57</td><td>0</td><td>438</td><td>0</td><td>1</td><td>0</td><td>0</td><td>1</td></tr><tr><th>5</th><td>2015-01-05</td><td>2015-01-06</td><td>69%</td><td>07:27:00</td><td>:)</td><td>Drank coffee:Drank tea:Worked out</td><td>56</td><td>0</td><td>447</td><td>0</td><td>1</td><td>1</td><td>0</td><td>0</td></tr><tr><th>6</th><td>2015-01-06</td><td>2015-01-07</td><td>74%</td><td>07:35:00</td><td>:|</td><td>Drank tea:Worked out</td><td>64</td><td>0</td><td>455</td><td>0</td><td>0</td><td>1</td><td>1</td><td>0</td></tr><tr><th>7</th><td>2015-01-07</td><td>2015-01-08</td><td>81%</td><td>09:19:00</td><td>:)</td><td>Drank coffee:Drank tea:Stressful day</td><td>62</td><td>0</td><td>559</td><td>0</td><td>1</td><td>1</td><td>0</td><td>0</td></tr><tr><th>8</th><td>2015-01-08</td><td>2015-01-09</td><td>88%</td><td>07:16:00</td><td>:)</td><td>Drank coffee:Drank tea</td><td>58</td><td>0</td><td>436</td><td>0</td><td>1</td><td>1</td><td>0</td><td>0</td></tr><tr><th>9</th><td>2015-01-09</td><td>2015-01-10</td><td>77%</td><td>09:01:00</td><td>:|</td><td>Drank coffee:Drank tea</td><td>65</td><td>0</td><td>541</td><td>0</td><td>1</td><td>1</td><td>0</td><td>0</td></tr><tr><th>10</th><td>2015-01-10</td><td>2015-01-11</td><td>89%</td><td>08:50:00</td><td>:|</td><td>Drank coffee:Drank tea</td><td>65</td><td>0</td><td>530</td><td>0</td><td>1</td><td>1</td><td>0</td><td>0</td></tr></tbody></table>"
      ]
     },
     "metadata": {},
     "execution_count": 225
    }
   ],
   "metadata": {}
  },
  {
   "cell_type": "code",
   "execution_count": 226,
   "source": [
    "insertcols!(data, :\"Wake_up_ord\" => 1)\r\n",
    "\r\n",
    "#data[!, \"Wake_up\"] = convert.(Int, data[:, \"Wake_up\"])"
   ],
   "outputs": [
    {
     "output_type": "execute_result",
     "data": {
      "text/plain": [
       "\u001b[1m155×15 DataFrame\u001b[0m\n",
       "\u001b[1m Row \u001b[0m│\u001b[1m Start      \u001b[0m\u001b[1m End        \u001b[0m\u001b[1m SleepQuality \u001b[0m\u001b[1m Time_in_bed \u001b[0m\u001b[1m Wake_up \u001b[0m\u001b[1m Sleep_Notes                       \u001b[0m\u001b[1m Heart_rate \u001b[0m\u001b[1m Activity_(steps) \u001b[0m\u001b[1m Minutes_in_bed \u001b[0m\u001b[1m Stressful_day \u001b[0m\u001b[1m Drank_coffee \u001b[0m\u001b[1m Drank_tea \u001b[0m\u001b[1m Worked_out \u001b[0m\u001b[1m Ate_late \u001b[0m\u001b[1m Wake_up_ord \u001b[0m\n",
       "\u001b[1m     \u001b[0m│\u001b[90m Date       \u001b[0m\u001b[90m Date       \u001b[0m\u001b[90m String       \u001b[0m\u001b[90m Time        \u001b[0m\u001b[90m String  \u001b[0m\u001b[90m String                            \u001b[0m\u001b[90m Int64      \u001b[0m\u001b[90m Int64            \u001b[0m\u001b[90m Int64          \u001b[0m\u001b[90m Bool          \u001b[0m\u001b[90m Bool         \u001b[0m\u001b[90m Bool      \u001b[0m\u001b[90m Bool       \u001b[0m\u001b[90m Bool     \u001b[0m\u001b[90m Int64       \u001b[0m\n",
       "─────┼────────────────────────────────────────────────────────────────────────────────────────────────────────────────────────────────────────────────────────────────────────────────────────────────────────────────────────\n",
       "   1 │ 2014-12-30  2014-12-30  3%            00:16:00     :|       Stressful day                              72                 0              16           true         false      false       false     false            1\n",
       "   2 │ 2015-01-01  2015-01-02  72%           06:44:00     :)       Drank coffee:Drank tea                     68                 0             404          false          true       true       false     false            1\n",
       "   3 │ 2015-01-03  2015-01-03  83%           07:12:00     :)       Drank coffee:Drank tea                     60                 0             432          false          true       true       false     false            1\n",
       "   4 │ 2015-01-04  2015-01-05  78%           07:18:00     :)       Ate late:Drank coffee                      57                 0             438          false          true      false       false      true            1\n",
       "   5 │ 2015-01-05  2015-01-06  69%           07:27:00     :)       Drank coffee:Drank tea:Worked out          56                 0             447          false          true       true       false     false            1\n",
       "   6 │ 2015-01-06  2015-01-07  74%           07:35:00     :|       Drank tea:Worked out                       64                 0             455          false         false       true        true     false            1\n",
       "   7 │ 2015-01-07  2015-01-08  81%           09:19:00     :)       Drank coffee:Drank tea:Stressful…          62                 0             559          false          true       true       false     false            1\n",
       "   8 │ 2015-01-08  2015-01-09  88%           07:16:00     :)       Drank coffee:Drank tea                     58                 0             436          false          true       true       false     false            1\n",
       "   9 │ 2015-01-09  2015-01-10  77%           09:01:00     :|       Drank coffee:Drank tea                     65                 0             541          false          true       true       false     false            1\n",
       "  10 │ 2015-01-10  2015-01-11  89%           08:50:00     :|       Drank coffee:Drank tea                     65                 0             530          false          true       true       false     false            1\n",
       "  11 │ 2015-01-11  2015-01-12  78%           08:08:00     :)       Drank tea                                  53                 0             488          false         false       true       false     false            1\n",
       "  ⋮  │     ⋮           ⋮            ⋮             ⋮          ⋮                     ⋮                      ⋮              ⋮                ⋮               ⋮             ⋮            ⋮          ⋮          ⋮           ⋮\n",
       " 146 │ 2015-11-19  2015-11-20  73%           06:50:00     :)       Drank coffee:Drank tea:Worked out          62                 0             410          false          true       true       false     false            1\n",
       " 147 │ 2015-11-28  2015-11-28  58%           06:25:00     :)       Drank coffee:Drank tea:Worked out          59                 0             385          false          true       true       false     false            1\n",
       " 148 │ 2015-12-01  2015-12-02  84%           07:17:00     :)       Drank coffee:Drank tea:Worked out          57                 0             437          false          true       true       false     false            1\n",
       " 149 │ 2015-12-06  2015-12-07  86%           07:20:00     :)       Drank coffee:Drank tea                     68                 0             440          false          true       true       false     false            1\n",
       " 150 │ 2015-12-07  2015-12-08  86%           07:40:00     :)       Drank tea:Stressful day:Worked o…          61                 0             460           true         false       true       false     false            1\n",
       " 151 │ 2015-12-09  2015-12-10  93%           08:13:00     :)       Drank tea:Stressful day:Worked o…          67                 0             493           true         false       true       false     false            1\n",
       " 152 │ 2015-12-13  2015-12-14  80%           08:02:00     :)       Drank coffee                               52                 0             482          false          true      false       false     false            1\n",
       " 153 │ 2015-12-20  2015-12-21  72%           08:00:00     :|       Drank coffee:Drank tea:Worked out          56                 0             480          false          true       true       false     false            1\n",
       " 154 │ 2016-01-01  2016-01-02  79%           08:33:00     :|       Drank coffee:Drank tea                     71                 0             513          false          true       true       false     false            1\n",
       " 155 │ 2016-01-02  2016-01-03  85%           08:24:00     :)       Drank coffee:Drank tea                     65                 0             504          false          true       true       false     false            1\n",
       "\u001b[36m                                                                                                                                                                                                              134 rows omitted\u001b[0m"
      ],
      "text/latex": [
       "\\begin{tabular}{r|ccccccccccccccc}\n",
       "\t& Start & End & SleepQuality & Time\\_in\\_bed & Wake\\_up & Sleep\\_Notes & Heart\\_rate & Activity\\_(steps) & Minutes\\_in\\_bed & Stressful\\_day & Drank\\_coffee & Drank\\_tea & Worked\\_out & Ate\\_late & Wake\\_up\\_ord\\\\\n",
       "\t\\hline\n",
       "\t& Date & Date & String & Time & String & String & Int64 & Int64 & Int64 & Bool & Bool & Bool & Bool & Bool & Int64\\\\\n",
       "\t\\hline\n",
       "\t1 & 2014-12-30 & 2014-12-30 & 3\\% & 00:16:00 & :| & Stressful day & 72 & 0 & 16 & 1 & 0 & 0 & 0 & 0 & 1 \\\\\n",
       "\t2 & 2015-01-01 & 2015-01-02 & 72\\% & 06:44:00 & :) & Drank coffee:Drank tea & 68 & 0 & 404 & 0 & 1 & 1 & 0 & 0 & 1 \\\\\n",
       "\t3 & 2015-01-03 & 2015-01-03 & 83\\% & 07:12:00 & :) & Drank coffee:Drank tea & 60 & 0 & 432 & 0 & 1 & 1 & 0 & 0 & 1 \\\\\n",
       "\t4 & 2015-01-04 & 2015-01-05 & 78\\% & 07:18:00 & :) & Ate late:Drank coffee & 57 & 0 & 438 & 0 & 1 & 0 & 0 & 1 & 1 \\\\\n",
       "\t5 & 2015-01-05 & 2015-01-06 & 69\\% & 07:27:00 & :) & Drank coffee:Drank tea:Worked out & 56 & 0 & 447 & 0 & 1 & 1 & 0 & 0 & 1 \\\\\n",
       "\t6 & 2015-01-06 & 2015-01-07 & 74\\% & 07:35:00 & :| & Drank tea:Worked out & 64 & 0 & 455 & 0 & 0 & 1 & 1 & 0 & 1 \\\\\n",
       "\t7 & 2015-01-07 & 2015-01-08 & 81\\% & 09:19:00 & :) & Drank coffee:Drank tea:Stressful day & 62 & 0 & 559 & 0 & 1 & 1 & 0 & 0 & 1 \\\\\n",
       "\t8 & 2015-01-08 & 2015-01-09 & 88\\% & 07:16:00 & :) & Drank coffee:Drank tea & 58 & 0 & 436 & 0 & 1 & 1 & 0 & 0 & 1 \\\\\n",
       "\t9 & 2015-01-09 & 2015-01-10 & 77\\% & 09:01:00 & :| & Drank coffee:Drank tea & 65 & 0 & 541 & 0 & 1 & 1 & 0 & 0 & 1 \\\\\n",
       "\t10 & 2015-01-10 & 2015-01-11 & 89\\% & 08:50:00 & :| & Drank coffee:Drank tea & 65 & 0 & 530 & 0 & 1 & 1 & 0 & 0 & 1 \\\\\n",
       "\t11 & 2015-01-11 & 2015-01-12 & 78\\% & 08:08:00 & :) & Drank tea & 53 & 0 & 488 & 0 & 0 & 1 & 0 & 0 & 1 \\\\\n",
       "\t12 & 2015-01-12 & 2015-01-13 & 100\\% & 09:11:00 & :) & Drank tea:Worked out & 65 & 0 & 551 & 0 & 0 & 1 & 1 & 0 & 1 \\\\\n",
       "\t13 & 2015-01-13 & 2015-01-14 & 100\\% & 08:06:00 & :) & Drank coffee:Drank tea & 55 & 0 & 486 & 0 & 1 & 1 & 0 & 0 & 1 \\\\\n",
       "\t14 & 2015-01-14 & 2015-01-15 & 88\\% & 07:13:00 & :) & Drank coffee:Drank tea:Worked out & 60 & 0 & 433 & 0 & 1 & 1 & 0 & 0 & 1 \\\\\n",
       "\t15 & 2015-01-15 & 2015-01-16 & 87\\% & 07:22:00 & :) & Drank tea & 60 & 0 & 442 & 0 & 0 & 1 & 0 & 0 & 1 \\\\\n",
       "\t16 & 2015-01-17 & 2015-01-17 & 83\\% & 06:51:00 & :) & Drank coffee:Drank tea & 94 & 0 & 411 & 0 & 1 & 1 & 0 & 0 & 1 \\\\\n",
       "\t17 & 2015-01-17 & 2015-01-18 & 93\\% & 07:51:00 & :) & Drank coffee:Drank tea & 57 & 0 & 471 & 0 & 1 & 1 & 0 & 0 & 1 \\\\\n",
       "\t18 & 2015-01-18 & 2015-01-19 & 58\\% & 07:12:00 & :) & Drank coffee & 67 & 0 & 432 & 0 & 1 & 0 & 0 & 0 & 1 \\\\\n",
       "\t19 & 2015-01-19 & 2015-01-20 & 75\\% & 08:00:00 & :| & Drank coffee:Drank tea:Worked out & 54 & 0 & 480 & 0 & 1 & 1 & 0 & 0 & 1 \\\\\n",
       "\t20 & 2015-01-20 & 2015-01-21 & 80\\% & 08:02:00 & :| & Drank coffee:Drank tea:Worked out & 60 & 0 & 482 & 0 & 1 & 1 & 0 & 0 & 1 \\\\\n",
       "\t21 & 2015-01-21 & 2015-01-22 & 87\\% & 07:42:00 & :) & Drank coffee:Drank tea:Worked out & 75 & 0 & 462 & 0 & 1 & 1 & 0 & 0 & 1 \\\\\n",
       "\t22 & 2015-01-25 & 2015-01-26 & 87\\% & 09:19:00 & :) & Drank coffee & 58 & 0 & 559 & 0 & 1 & 0 & 0 & 0 & 1 \\\\\n",
       "\t23 & 2015-01-26 & 2015-01-27 & 83\\% & 07:35:00 & :| & Drank coffee:Drank tea:Stressful day & 66 & 0 & 455 & 0 & 1 & 1 & 0 & 0 & 1 \\\\\n",
       "\t24 & 2015-01-28 & 2015-01-29 & 76\\% & 07:37:00 & :) & Drank coffee:Drank tea:Stressful day & 57 & 0 & 457 & 0 & 1 & 1 & 0 & 0 & 1 \\\\\n",
       "\t25 & 2015-01-29 & 2015-01-30 & 67\\% & 07:05:00 & :) & Drank coffee:Drank tea:Worked out & 63 & 0 & 425 & 0 & 1 & 1 & 0 & 0 & 1 \\\\\n",
       "\t26 & 2015-01-31 & 2015-01-31 & 93\\% & 08:03:00 & :) & Drank coffee:Drank tea:Stressful day & 62 & 0 & 483 & 0 & 1 & 1 & 0 & 0 & 1 \\\\\n",
       "\t27 & 2015-02-01 & 2015-02-02 & 64\\% & 07:13:00 & :) & Drank coffee:Drank tea & 56 & 0 & 433 & 0 & 1 & 1 & 0 & 0 & 1 \\\\\n",
       "\t28 & 2015-02-02 & 2015-02-03 & 75\\% & 07:49:00 & :) & Drank tea & 61 & 0 & 469 & 0 & 0 & 1 & 0 & 0 & 1 \\\\\n",
       "\t29 & 2015-02-03 & 2015-02-04 & 72\\% & 07:32:00 & :) & Drank coffee:Drank tea & 61 & 0 & 452 & 0 & 1 & 1 & 0 & 0 & 1 \\\\\n",
       "\t30 & 2015-02-04 & 2015-02-05 & 70\\% & 07:07:00 & :) & Drank tea:Worked out & 57 & 0 & 427 & 0 & 0 & 1 & 1 & 0 & 1 \\\\\n",
       "\t$\\dots$ & $\\dots$ & $\\dots$ & $\\dots$ & $\\dots$ & $\\dots$ & $\\dots$ & $\\dots$ & $\\dots$ & $\\dots$ & $\\dots$ & $\\dots$ & $\\dots$ & $\\dots$ & $\\dots$ & $\\dots$ \\\\\n",
       "\\end{tabular}\n"
      ],
      "text/html": [
       "<table class=\"data-frame\"><thead><tr><th></th><th>Start</th><th>End</th><th>SleepQuality</th><th>Time_in_bed</th><th>Wake_up</th><th>Sleep_Notes</th><th>Heart_rate</th><th>Activity_(steps)</th><th>Minutes_in_bed</th><th>Stressful_day</th><th>Drank_coffee</th><th>Drank_tea</th><th>Worked_out</th><th>Ate_late</th><th>Wake_up_ord</th></tr><tr><th></th><th>Date</th><th>Date</th><th>String</th><th>Time</th><th>String</th><th>String</th><th>Int64</th><th>Int64</th><th>Int64</th><th>Bool</th><th>Bool</th><th>Bool</th><th>Bool</th><th>Bool</th><th>Int64</th></tr></thead><tbody><p>155 rows × 15 columns</p><tr><th>1</th><td>2014-12-30</td><td>2014-12-30</td><td>3%</td><td>00:16:00</td><td>:|</td><td>Stressful day</td><td>72</td><td>0</td><td>16</td><td>1</td><td>0</td><td>0</td><td>0</td><td>0</td><td>1</td></tr><tr><th>2</th><td>2015-01-01</td><td>2015-01-02</td><td>72%</td><td>06:44:00</td><td>:)</td><td>Drank coffee:Drank tea</td><td>68</td><td>0</td><td>404</td><td>0</td><td>1</td><td>1</td><td>0</td><td>0</td><td>1</td></tr><tr><th>3</th><td>2015-01-03</td><td>2015-01-03</td><td>83%</td><td>07:12:00</td><td>:)</td><td>Drank coffee:Drank tea</td><td>60</td><td>0</td><td>432</td><td>0</td><td>1</td><td>1</td><td>0</td><td>0</td><td>1</td></tr><tr><th>4</th><td>2015-01-04</td><td>2015-01-05</td><td>78%</td><td>07:18:00</td><td>:)</td><td>Ate late:Drank coffee</td><td>57</td><td>0</td><td>438</td><td>0</td><td>1</td><td>0</td><td>0</td><td>1</td><td>1</td></tr><tr><th>5</th><td>2015-01-05</td><td>2015-01-06</td><td>69%</td><td>07:27:00</td><td>:)</td><td>Drank coffee:Drank tea:Worked out</td><td>56</td><td>0</td><td>447</td><td>0</td><td>1</td><td>1</td><td>0</td><td>0</td><td>1</td></tr><tr><th>6</th><td>2015-01-06</td><td>2015-01-07</td><td>74%</td><td>07:35:00</td><td>:|</td><td>Drank tea:Worked out</td><td>64</td><td>0</td><td>455</td><td>0</td><td>0</td><td>1</td><td>1</td><td>0</td><td>1</td></tr><tr><th>7</th><td>2015-01-07</td><td>2015-01-08</td><td>81%</td><td>09:19:00</td><td>:)</td><td>Drank coffee:Drank tea:Stressful day</td><td>62</td><td>0</td><td>559</td><td>0</td><td>1</td><td>1</td><td>0</td><td>0</td><td>1</td></tr><tr><th>8</th><td>2015-01-08</td><td>2015-01-09</td><td>88%</td><td>07:16:00</td><td>:)</td><td>Drank coffee:Drank tea</td><td>58</td><td>0</td><td>436</td><td>0</td><td>1</td><td>1</td><td>0</td><td>0</td><td>1</td></tr><tr><th>9</th><td>2015-01-09</td><td>2015-01-10</td><td>77%</td><td>09:01:00</td><td>:|</td><td>Drank coffee:Drank tea</td><td>65</td><td>0</td><td>541</td><td>0</td><td>1</td><td>1</td><td>0</td><td>0</td><td>1</td></tr><tr><th>10</th><td>2015-01-10</td><td>2015-01-11</td><td>89%</td><td>08:50:00</td><td>:|</td><td>Drank coffee:Drank tea</td><td>65</td><td>0</td><td>530</td><td>0</td><td>1</td><td>1</td><td>0</td><td>0</td><td>1</td></tr><tr><th>11</th><td>2015-01-11</td><td>2015-01-12</td><td>78%</td><td>08:08:00</td><td>:)</td><td>Drank tea</td><td>53</td><td>0</td><td>488</td><td>0</td><td>0</td><td>1</td><td>0</td><td>0</td><td>1</td></tr><tr><th>12</th><td>2015-01-12</td><td>2015-01-13</td><td>100%</td><td>09:11:00</td><td>:)</td><td>Drank tea:Worked out</td><td>65</td><td>0</td><td>551</td><td>0</td><td>0</td><td>1</td><td>1</td><td>0</td><td>1</td></tr><tr><th>13</th><td>2015-01-13</td><td>2015-01-14</td><td>100%</td><td>08:06:00</td><td>:)</td><td>Drank coffee:Drank tea</td><td>55</td><td>0</td><td>486</td><td>0</td><td>1</td><td>1</td><td>0</td><td>0</td><td>1</td></tr><tr><th>14</th><td>2015-01-14</td><td>2015-01-15</td><td>88%</td><td>07:13:00</td><td>:)</td><td>Drank coffee:Drank tea:Worked out</td><td>60</td><td>0</td><td>433</td><td>0</td><td>1</td><td>1</td><td>0</td><td>0</td><td>1</td></tr><tr><th>15</th><td>2015-01-15</td><td>2015-01-16</td><td>87%</td><td>07:22:00</td><td>:)</td><td>Drank tea</td><td>60</td><td>0</td><td>442</td><td>0</td><td>0</td><td>1</td><td>0</td><td>0</td><td>1</td></tr><tr><th>16</th><td>2015-01-17</td><td>2015-01-17</td><td>83%</td><td>06:51:00</td><td>:)</td><td>Drank coffee:Drank tea</td><td>94</td><td>0</td><td>411</td><td>0</td><td>1</td><td>1</td><td>0</td><td>0</td><td>1</td></tr><tr><th>17</th><td>2015-01-17</td><td>2015-01-18</td><td>93%</td><td>07:51:00</td><td>:)</td><td>Drank coffee:Drank tea</td><td>57</td><td>0</td><td>471</td><td>0</td><td>1</td><td>1</td><td>0</td><td>0</td><td>1</td></tr><tr><th>18</th><td>2015-01-18</td><td>2015-01-19</td><td>58%</td><td>07:12:00</td><td>:)</td><td>Drank coffee</td><td>67</td><td>0</td><td>432</td><td>0</td><td>1</td><td>0</td><td>0</td><td>0</td><td>1</td></tr><tr><th>19</th><td>2015-01-19</td><td>2015-01-20</td><td>75%</td><td>08:00:00</td><td>:|</td><td>Drank coffee:Drank tea:Worked out</td><td>54</td><td>0</td><td>480</td><td>0</td><td>1</td><td>1</td><td>0</td><td>0</td><td>1</td></tr><tr><th>20</th><td>2015-01-20</td><td>2015-01-21</td><td>80%</td><td>08:02:00</td><td>:|</td><td>Drank coffee:Drank tea:Worked out</td><td>60</td><td>0</td><td>482</td><td>0</td><td>1</td><td>1</td><td>0</td><td>0</td><td>1</td></tr><tr><th>21</th><td>2015-01-21</td><td>2015-01-22</td><td>87%</td><td>07:42:00</td><td>:)</td><td>Drank coffee:Drank tea:Worked out</td><td>75</td><td>0</td><td>462</td><td>0</td><td>1</td><td>1</td><td>0</td><td>0</td><td>1</td></tr><tr><th>22</th><td>2015-01-25</td><td>2015-01-26</td><td>87%</td><td>09:19:00</td><td>:)</td><td>Drank coffee</td><td>58</td><td>0</td><td>559</td><td>0</td><td>1</td><td>0</td><td>0</td><td>0</td><td>1</td></tr><tr><th>23</th><td>2015-01-26</td><td>2015-01-27</td><td>83%</td><td>07:35:00</td><td>:|</td><td>Drank coffee:Drank tea:Stressful day</td><td>66</td><td>0</td><td>455</td><td>0</td><td>1</td><td>1</td><td>0</td><td>0</td><td>1</td></tr><tr><th>24</th><td>2015-01-28</td><td>2015-01-29</td><td>76%</td><td>07:37:00</td><td>:)</td><td>Drank coffee:Drank tea:Stressful day</td><td>57</td><td>0</td><td>457</td><td>0</td><td>1</td><td>1</td><td>0</td><td>0</td><td>1</td></tr><tr><th>25</th><td>2015-01-29</td><td>2015-01-30</td><td>67%</td><td>07:05:00</td><td>:)</td><td>Drank coffee:Drank tea:Worked out</td><td>63</td><td>0</td><td>425</td><td>0</td><td>1</td><td>1</td><td>0</td><td>0</td><td>1</td></tr><tr><th>26</th><td>2015-01-31</td><td>2015-01-31</td><td>93%</td><td>08:03:00</td><td>:)</td><td>Drank coffee:Drank tea:Stressful day</td><td>62</td><td>0</td><td>483</td><td>0</td><td>1</td><td>1</td><td>0</td><td>0</td><td>1</td></tr><tr><th>27</th><td>2015-02-01</td><td>2015-02-02</td><td>64%</td><td>07:13:00</td><td>:)</td><td>Drank coffee:Drank tea</td><td>56</td><td>0</td><td>433</td><td>0</td><td>1</td><td>1</td><td>0</td><td>0</td><td>1</td></tr><tr><th>28</th><td>2015-02-02</td><td>2015-02-03</td><td>75%</td><td>07:49:00</td><td>:)</td><td>Drank tea</td><td>61</td><td>0</td><td>469</td><td>0</td><td>0</td><td>1</td><td>0</td><td>0</td><td>1</td></tr><tr><th>29</th><td>2015-02-03</td><td>2015-02-04</td><td>72%</td><td>07:32:00</td><td>:)</td><td>Drank coffee:Drank tea</td><td>61</td><td>0</td><td>452</td><td>0</td><td>1</td><td>1</td><td>0</td><td>0</td><td>1</td></tr><tr><th>30</th><td>2015-02-04</td><td>2015-02-05</td><td>70%</td><td>07:07:00</td><td>:)</td><td>Drank tea:Worked out</td><td>57</td><td>0</td><td>427</td><td>0</td><td>0</td><td>1</td><td>1</td><td>0</td><td>1</td></tr><tr><th>&vellip;</th><td>&vellip;</td><td>&vellip;</td><td>&vellip;</td><td>&vellip;</td><td>&vellip;</td><td>&vellip;</td><td>&vellip;</td><td>&vellip;</td><td>&vellip;</td><td>&vellip;</td><td>&vellip;</td><td>&vellip;</td><td>&vellip;</td><td>&vellip;</td><td>&vellip;</td></tr></tbody></table>"
      ]
     },
     "metadata": {},
     "execution_count": 226
    }
   ],
   "metadata": {}
  },
  {
   "cell_type": "code",
   "execution_count": 227,
   "source": [
    "i = 1\r\n",
    "for emoticon in data.Wake_up\r\n",
    "    if occursin(\":)\", emoticon)\r\n",
    "        data[i, \"Wake_up_ord\"] = 2 \r\n",
    "        i += 1\r\n",
    "    elseif occursin(\":|\", emoticon)\r\n",
    "        data[i, \"Wake_up_ord\"] = 1\r\n",
    "        i += 1\r\n",
    "    elseif occursin(\":()\", emoticon)\r\n",
    "        data[i, \"Wake_up_ord\"] = 0\r\n",
    "        i += 1\r\n",
    "    end\r\n",
    "end"
   ],
   "outputs": [],
   "metadata": {}
  },
  {
   "cell_type": "code",
   "execution_count": 228,
   "source": [
    "insertcols!(data, :\"Sleep_quality_num\" => 1.0)\r\n",
    "\r\n",
    "i = 1\r\n",
    "for percentage in data.SleepQuality\r\n",
    "    number = percentage[1:end-1]\r\n",
    "    #println(parse(Float64, number))\r\n",
    "    data[i, \"Sleep_quality_num\"] = parse(Float64, number)\r\n",
    "    i += 1\r\n",
    "end\r\n",
    "\r\n",
    "insertcols!(data, :\"Sleep_quality_ord\" => 1)\r\n",
    "\r\n",
    "i = 1\r\n",
    "for num in data.Sleep_quality_num\r\n",
    "    #println(num)\r\n",
    "    if num >= 0.0 && num < 25.0\r\n",
    "        data[i, \"Sleep_quality_ord\"] = 1\r\n",
    "        i += 1\r\n",
    "    elseif num >= 25.0 && num < 50.0\r\n",
    "        data[i, \"Sleep_quality_ord\"] = 2\r\n",
    "        i += 1\r\n",
    "    elseif num >= 50.0 && num < 75.0\r\n",
    "        data[i, \"Sleep_quality_ord\"] = 3\r\n",
    "        i += 1\r\n",
    "    elseif num >= 75.0\r\n",
    "        data[i, \"Sleep_quality_ord\"] = 4\r\n",
    "        i += 1\r\n",
    "    end\r\n",
    "end"
   ],
   "outputs": [],
   "metadata": {}
  },
  {
   "cell_type": "code",
   "execution_count": 229,
   "source": [
    "first(data, 10)\r\n",
    "#filter(row -> row.Wake_up_ord ∈ [1], data)"
   ],
   "outputs": [
    {
     "output_type": "execute_result",
     "data": {
      "text/plain": [
       "\u001b[1m10×17 DataFrame\u001b[0m\n",
       "\u001b[1m Row \u001b[0m│\u001b[1m Start      \u001b[0m\u001b[1m End        \u001b[0m\u001b[1m SleepQuality \u001b[0m\u001b[1m Time_in_bed \u001b[0m\u001b[1m Wake_up \u001b[0m\u001b[1m Sleep_Notes                       \u001b[0m\u001b[1m Heart_rate \u001b[0m\u001b[1m Activity_(steps) \u001b[0m\u001b[1m Minutes_in_bed \u001b[0m\u001b[1m Stressful_day \u001b[0m\u001b[1m Drank_coffee \u001b[0m\u001b[1m Drank_tea \u001b[0m\u001b[1m Worked_out \u001b[0m\u001b[1m Ate_late \u001b[0m\u001b[1m Wake_up_ord \u001b[0m\u001b[1m Sleep_quality_num \u001b[0m\u001b[1m Sleep_quality_ord \u001b[0m\n",
       "\u001b[1m     \u001b[0m│\u001b[90m Date       \u001b[0m\u001b[90m Date       \u001b[0m\u001b[90m String       \u001b[0m\u001b[90m Time        \u001b[0m\u001b[90m String  \u001b[0m\u001b[90m String                            \u001b[0m\u001b[90m Int64      \u001b[0m\u001b[90m Int64            \u001b[0m\u001b[90m Int64          \u001b[0m\u001b[90m Bool          \u001b[0m\u001b[90m Bool         \u001b[0m\u001b[90m Bool      \u001b[0m\u001b[90m Bool       \u001b[0m\u001b[90m Bool     \u001b[0m\u001b[90m Int64       \u001b[0m\u001b[90m Float64           \u001b[0m\u001b[90m Int64             \u001b[0m\n",
       "─────┼──────────────────────────────────────────────────────────────────────────────────────────────────────────────────────────────────────────────────────────────────────────────────────────────────────────────────────────────────────────────────────────────\n",
       "   1 │ 2014-12-30  2014-12-30  3%            00:16:00     :|       Stressful day                              72                 0              16           true         false      false       false     false            1                3.0                  1\n",
       "   2 │ 2015-01-01  2015-01-02  72%           06:44:00     :)       Drank coffee:Drank tea                     68                 0             404          false          true       true       false     false            2               72.0                  3\n",
       "   3 │ 2015-01-03  2015-01-03  83%           07:12:00     :)       Drank coffee:Drank tea                     60                 0             432          false          true       true       false     false            2               83.0                  4\n",
       "   4 │ 2015-01-04  2015-01-05  78%           07:18:00     :)       Ate late:Drank coffee                      57                 0             438          false          true      false       false      true            2               78.0                  4\n",
       "   5 │ 2015-01-05  2015-01-06  69%           07:27:00     :)       Drank coffee:Drank tea:Worked out          56                 0             447          false          true       true       false     false            2               69.0                  3\n",
       "   6 │ 2015-01-06  2015-01-07  74%           07:35:00     :|       Drank tea:Worked out                       64                 0             455          false         false       true        true     false            1               74.0                  3\n",
       "   7 │ 2015-01-07  2015-01-08  81%           09:19:00     :)       Drank coffee:Drank tea:Stressful…          62                 0             559          false          true       true       false     false            2               81.0                  4\n",
       "   8 │ 2015-01-08  2015-01-09  88%           07:16:00     :)       Drank coffee:Drank tea                     58                 0             436          false          true       true       false     false            2               88.0                  4\n",
       "   9 │ 2015-01-09  2015-01-10  77%           09:01:00     :|       Drank coffee:Drank tea                     65                 0             541          false          true       true       false     false            1               77.0                  4\n",
       "  10 │ 2015-01-10  2015-01-11  89%           08:50:00     :|       Drank coffee:Drank tea                     65                 0             530          false          true       true       false     false            1               89.0                  4"
      ],
      "text/latex": [
       "\\begin{tabular}{r|ccccccccccccccccc}\n",
       "\t& Start & End & SleepQuality & Time\\_in\\_bed & Wake\\_up & Sleep\\_Notes & Heart\\_rate & Activity\\_(steps) & Minutes\\_in\\_bed & Stressful\\_day & Drank\\_coffee & Drank\\_tea & Worked\\_out & Ate\\_late & Wake\\_up\\_ord & Sleep\\_quality\\_num & Sleep\\_quality\\_ord\\\\\n",
       "\t\\hline\n",
       "\t& Date & Date & String & Time & String & String & Int64 & Int64 & Int64 & Bool & Bool & Bool & Bool & Bool & Int64 & Float64 & Int64\\\\\n",
       "\t\\hline\n",
       "\t1 & 2014-12-30 & 2014-12-30 & 3\\% & 00:16:00 & :| & Stressful day & 72 & 0 & 16 & 1 & 0 & 0 & 0 & 0 & 1 & 3.0 & 1 \\\\\n",
       "\t2 & 2015-01-01 & 2015-01-02 & 72\\% & 06:44:00 & :) & Drank coffee:Drank tea & 68 & 0 & 404 & 0 & 1 & 1 & 0 & 0 & 2 & 72.0 & 3 \\\\\n",
       "\t3 & 2015-01-03 & 2015-01-03 & 83\\% & 07:12:00 & :) & Drank coffee:Drank tea & 60 & 0 & 432 & 0 & 1 & 1 & 0 & 0 & 2 & 83.0 & 4 \\\\\n",
       "\t4 & 2015-01-04 & 2015-01-05 & 78\\% & 07:18:00 & :) & Ate late:Drank coffee & 57 & 0 & 438 & 0 & 1 & 0 & 0 & 1 & 2 & 78.0 & 4 \\\\\n",
       "\t5 & 2015-01-05 & 2015-01-06 & 69\\% & 07:27:00 & :) & Drank coffee:Drank tea:Worked out & 56 & 0 & 447 & 0 & 1 & 1 & 0 & 0 & 2 & 69.0 & 3 \\\\\n",
       "\t6 & 2015-01-06 & 2015-01-07 & 74\\% & 07:35:00 & :| & Drank tea:Worked out & 64 & 0 & 455 & 0 & 0 & 1 & 1 & 0 & 1 & 74.0 & 3 \\\\\n",
       "\t7 & 2015-01-07 & 2015-01-08 & 81\\% & 09:19:00 & :) & Drank coffee:Drank tea:Stressful day & 62 & 0 & 559 & 0 & 1 & 1 & 0 & 0 & 2 & 81.0 & 4 \\\\\n",
       "\t8 & 2015-01-08 & 2015-01-09 & 88\\% & 07:16:00 & :) & Drank coffee:Drank tea & 58 & 0 & 436 & 0 & 1 & 1 & 0 & 0 & 2 & 88.0 & 4 \\\\\n",
       "\t9 & 2015-01-09 & 2015-01-10 & 77\\% & 09:01:00 & :| & Drank coffee:Drank tea & 65 & 0 & 541 & 0 & 1 & 1 & 0 & 0 & 1 & 77.0 & 4 \\\\\n",
       "\t10 & 2015-01-10 & 2015-01-11 & 89\\% & 08:50:00 & :| & Drank coffee:Drank tea & 65 & 0 & 530 & 0 & 1 & 1 & 0 & 0 & 1 & 89.0 & 4 \\\\\n",
       "\\end{tabular}\n"
      ],
      "text/html": [
       "<table class=\"data-frame\"><thead><tr><th></th><th>Start</th><th>End</th><th>SleepQuality</th><th>Time_in_bed</th><th>Wake_up</th><th>Sleep_Notes</th><th>Heart_rate</th><th>Activity_(steps)</th><th>Minutes_in_bed</th><th>Stressful_day</th><th>Drank_coffee</th><th>Drank_tea</th><th>Worked_out</th><th>Ate_late</th><th>Wake_up_ord</th><th>Sleep_quality_num</th><th>Sleep_quality_ord</th></tr><tr><th></th><th>Date</th><th>Date</th><th>String</th><th>Time</th><th>String</th><th>String</th><th>Int64</th><th>Int64</th><th>Int64</th><th>Bool</th><th>Bool</th><th>Bool</th><th>Bool</th><th>Bool</th><th>Int64</th><th>Float64</th><th>Int64</th></tr></thead><tbody><p>10 rows × 17 columns</p><tr><th>1</th><td>2014-12-30</td><td>2014-12-30</td><td>3%</td><td>00:16:00</td><td>:|</td><td>Stressful day</td><td>72</td><td>0</td><td>16</td><td>1</td><td>0</td><td>0</td><td>0</td><td>0</td><td>1</td><td>3.0</td><td>1</td></tr><tr><th>2</th><td>2015-01-01</td><td>2015-01-02</td><td>72%</td><td>06:44:00</td><td>:)</td><td>Drank coffee:Drank tea</td><td>68</td><td>0</td><td>404</td><td>0</td><td>1</td><td>1</td><td>0</td><td>0</td><td>2</td><td>72.0</td><td>3</td></tr><tr><th>3</th><td>2015-01-03</td><td>2015-01-03</td><td>83%</td><td>07:12:00</td><td>:)</td><td>Drank coffee:Drank tea</td><td>60</td><td>0</td><td>432</td><td>0</td><td>1</td><td>1</td><td>0</td><td>0</td><td>2</td><td>83.0</td><td>4</td></tr><tr><th>4</th><td>2015-01-04</td><td>2015-01-05</td><td>78%</td><td>07:18:00</td><td>:)</td><td>Ate late:Drank coffee</td><td>57</td><td>0</td><td>438</td><td>0</td><td>1</td><td>0</td><td>0</td><td>1</td><td>2</td><td>78.0</td><td>4</td></tr><tr><th>5</th><td>2015-01-05</td><td>2015-01-06</td><td>69%</td><td>07:27:00</td><td>:)</td><td>Drank coffee:Drank tea:Worked out</td><td>56</td><td>0</td><td>447</td><td>0</td><td>1</td><td>1</td><td>0</td><td>0</td><td>2</td><td>69.0</td><td>3</td></tr><tr><th>6</th><td>2015-01-06</td><td>2015-01-07</td><td>74%</td><td>07:35:00</td><td>:|</td><td>Drank tea:Worked out</td><td>64</td><td>0</td><td>455</td><td>0</td><td>0</td><td>1</td><td>1</td><td>0</td><td>1</td><td>74.0</td><td>3</td></tr><tr><th>7</th><td>2015-01-07</td><td>2015-01-08</td><td>81%</td><td>09:19:00</td><td>:)</td><td>Drank coffee:Drank tea:Stressful day</td><td>62</td><td>0</td><td>559</td><td>0</td><td>1</td><td>1</td><td>0</td><td>0</td><td>2</td><td>81.0</td><td>4</td></tr><tr><th>8</th><td>2015-01-08</td><td>2015-01-09</td><td>88%</td><td>07:16:00</td><td>:)</td><td>Drank coffee:Drank tea</td><td>58</td><td>0</td><td>436</td><td>0</td><td>1</td><td>1</td><td>0</td><td>0</td><td>2</td><td>88.0</td><td>4</td></tr><tr><th>9</th><td>2015-01-09</td><td>2015-01-10</td><td>77%</td><td>09:01:00</td><td>:|</td><td>Drank coffee:Drank tea</td><td>65</td><td>0</td><td>541</td><td>0</td><td>1</td><td>1</td><td>0</td><td>0</td><td>1</td><td>77.0</td><td>4</td></tr><tr><th>10</th><td>2015-01-10</td><td>2015-01-11</td><td>89%</td><td>08:50:00</td><td>:|</td><td>Drank coffee:Drank tea</td><td>65</td><td>0</td><td>530</td><td>0</td><td>1</td><td>1</td><td>0</td><td>0</td><td>1</td><td>89.0</td><td>4</td></tr></tbody></table>"
      ]
     },
     "metadata": {},
     "execution_count": 229
    }
   ],
   "metadata": {}
  },
  {
   "cell_type": "code",
   "execution_count": 230,
   "source": [
    "train, test = TrainTestSplit(data, .75)"
   ],
   "outputs": [
    {
     "output_type": "execute_result",
     "data": {
      "text/plain": [
       "(\u001b[1m114×17 DataFrame\u001b[0m\n",
       "\u001b[1m Row \u001b[0m│\u001b[1m Start      \u001b[0m\u001b[1m End        \u001b[0m\u001b[1m SleepQuality \u001b[0m\u001b[1m Time_in_bed \u001b[0m\u001b[1m Wake_up \u001b[0m\u001b[1m Sleep_Notes                       \u001b[0m\u001b[1m Heart_rate \u001b[0m\u001b[1m Activity_(steps) \u001b[0m\u001b[1m Minutes_in_bed \u001b[0m\u001b[1m Stressful_day \u001b[0m\u001b[1m Drank_coffee \u001b[0m\u001b[1m Drank_tea \u001b[0m\u001b[1m Worked_out \u001b[0m\u001b[1m Ate_late \u001b[0m\u001b[1m Wake_up_ord \u001b[0m\u001b[1m Sleep_quality_num \u001b[0m\u001b[1m Sleep_quality_ord \u001b[0m\n",
       "\u001b[1m     \u001b[0m│\u001b[90m Date       \u001b[0m\u001b[90m Date       \u001b[0m\u001b[90m String       \u001b[0m\u001b[90m Time        \u001b[0m\u001b[90m String  \u001b[0m\u001b[90m String                            \u001b[0m\u001b[90m Int64      \u001b[0m\u001b[90m Int64            \u001b[0m\u001b[90m Int64          \u001b[0m\u001b[90m Bool          \u001b[0m\u001b[90m Bool         \u001b[0m\u001b[90m Bool      \u001b[0m\u001b[90m Bool       \u001b[0m\u001b[90m Bool     \u001b[0m\u001b[90m Int64       \u001b[0m\u001b[90m Float64           \u001b[0m\u001b[90m Int64             \u001b[0m\n",
       "─────┼──────────────────────────────────────────────────────────────────────────────────────────────────────────────────────────────────────────────────────────────────────────────────────────────────────────────────────────────────────────────────────────────\n",
       "   1 │ 2014-12-30  2014-12-30  3%            00:16:00     :|       Stressful day                              72                 0              16           true         false      false       false     false            1                3.0                  1\n",
       "   2 │ 2015-01-01  2015-01-02  72%           06:44:00     :)       Drank coffee:Drank tea                     68                 0             404          false          true       true       false     false            2               72.0                  3\n",
       "   3 │ 2015-01-03  2015-01-03  83%           07:12:00     :)       Drank coffee:Drank tea                     60                 0             432          false          true       true       false     false            2               83.0                  4\n",
       "   4 │ 2015-01-04  2015-01-05  78%           07:18:00     :)       Ate late:Drank coffee                      57                 0             438          false          true      false       false      true            2               78.0                  4\n",
       "   5 │ 2015-01-06  2015-01-07  74%           07:35:00     :|       Drank tea:Worked out                       64                 0             455          false         false       true        true     false            1               74.0                  3\n",
       "   6 │ 2015-01-08  2015-01-09  88%           07:16:00     :)       Drank coffee:Drank tea                     58                 0             436          false          true       true       false     false            2               88.0                  4\n",
       "   7 │ 2015-01-09  2015-01-10  77%           09:01:00     :|       Drank coffee:Drank tea                     65                 0             541          false          true       true       false     false            1               77.0                  4\n",
       "   8 │ 2015-01-10  2015-01-11  89%           08:50:00     :|       Drank coffee:Drank tea                     65                 0             530          false          true       true       false     false            1               89.0                  4\n",
       "   9 │ 2015-01-11  2015-01-12  78%           08:08:00     :)       Drank tea                                  53                 0             488          false         false       true       false     false            2               78.0                  4\n",
       "  10 │ 2015-01-12  2015-01-13  100%          09:11:00     :)       Drank tea:Worked out                       65                 0             551          false         false       true        true     false            2              100.0                  4\n",
       "  11 │ 2015-01-13  2015-01-14  100%          08:06:00     :)       Drank coffee:Drank tea                     55                 0             486          false          true       true       false     false            2              100.0                  4\n",
       "  ⋮  │     ⋮           ⋮            ⋮             ⋮          ⋮                     ⋮                      ⋮              ⋮                ⋮               ⋮             ⋮            ⋮          ⋮          ⋮           ⋮               ⋮                  ⋮\n",
       " 105 │ 2015-11-07  2015-11-07  93%           07:54:00     :)       Drank coffee:Drank tea:Worked out          98                 0             474          false          true       true       false     false            2               93.0                  4\n",
       " 106 │ 2015-11-13  2015-11-14  96%           08:46:00     :)       Drank coffee:Drank tea                     59                 0             526          false          true       true       false     false            2               96.0                  4\n",
       " 107 │ 2015-11-18  2015-11-19  80%           07:23:00     :)       Ate late:Drank coffee:Drank tea:…          63                 0             443          false          true      false       false      true            2               80.0                  4\n",
       " 108 │ 2015-11-28  2015-11-28  58%           06:25:00     :)       Drank coffee:Drank tea:Worked out          59                 0             385          false          true       true       false     false            2               58.0                  3\n",
       " 109 │ 2015-12-01  2015-12-02  84%           07:17:00     :)       Drank coffee:Drank tea:Worked out          57                 0             437          false          true       true       false     false            2               84.0                  4\n",
       " 110 │ 2015-12-06  2015-12-07  86%           07:20:00     :)       Drank coffee:Drank tea                     68                 0             440          false          true       true       false     false            2               86.0                  4\n",
       " 111 │ 2015-12-07  2015-12-08  86%           07:40:00     :)       Drank tea:Stressful day:Worked o…          61                 0             460           true         false       true       false     false            2               86.0                  4\n",
       " 112 │ 2015-12-09  2015-12-10  93%           08:13:00     :)       Drank tea:Stressful day:Worked o…          67                 0             493           true         false       true       false     false            2               93.0                  4\n",
       " 113 │ 2015-12-13  2015-12-14  80%           08:02:00     :)       Drank coffee                               52                 0             482          false          true      false       false     false            2               80.0                  4\n",
       " 114 │ 2015-12-20  2015-12-21  72%           08:00:00     :|       Drank coffee:Drank tea:Worked out          56                 0             480          false          true       true       false     false            1               72.0                  3\n",
       "\u001b[36m                                                                                                                                                                                                                                                     93 rows omitted\u001b[0m, \u001b[1m41×17 DataFrame\u001b[0m\n",
       "\u001b[1m Row \u001b[0m│\u001b[1m Start      \u001b[0m\u001b[1m End        \u001b[0m\u001b[1m SleepQuality \u001b[0m\u001b[1m Time_in_bed \u001b[0m\u001b[1m Wake_up \u001b[0m\u001b[1m Sleep_Notes                       \u001b[0m\u001b[1m Heart_rate \u001b[0m\u001b[1m Activity_(steps) \u001b[0m\u001b[1m Minutes_in_bed \u001b[0m\u001b[1m Stressful_day \u001b[0m\u001b[1m Drank_coffee \u001b[0m\u001b[1m Drank_tea \u001b[0m\u001b[1m Worked_out \u001b[0m\u001b[1m Ate_late \u001b[0m\u001b[1m Wake_up_ord \u001b[0m\u001b[1m Sleep_quality_num \u001b[0m\u001b[1m Sleep_quality_ord \u001b[0m\n",
       "\u001b[1m     \u001b[0m│\u001b[90m Date       \u001b[0m\u001b[90m Date       \u001b[0m\u001b[90m String       \u001b[0m\u001b[90m Time        \u001b[0m\u001b[90m String  \u001b[0m\u001b[90m String                            \u001b[0m\u001b[90m Int64      \u001b[0m\u001b[90m Int64            \u001b[0m\u001b[90m Int64          \u001b[0m\u001b[90m Bool          \u001b[0m\u001b[90m Bool         \u001b[0m\u001b[90m Bool      \u001b[0m\u001b[90m Bool       \u001b[0m\u001b[90m Bool     \u001b[0m\u001b[90m Int64       \u001b[0m\u001b[90m Float64           \u001b[0m\u001b[90m Int64             \u001b[0m\n",
       "─────┼──────────────────────────────────────────────────────────────────────────────────────────────────────────────────────────────────────────────────────────────────────────────────────────────────────────────────────────────────────────────────────────────\n",
       "   1 │ 2015-01-05  2015-01-06  69%           07:27:00     :)       Drank coffee:Drank tea:Worked out          56                 0             447          false          true       true       false     false            2               69.0                  3\n",
       "   2 │ 2015-01-07  2015-01-08  81%           09:19:00     :)       Drank coffee:Drank tea:Stressful…          62                 0             559          false          true       true       false     false            2               81.0                  4\n",
       "   3 │ 2015-01-19  2015-01-20  75%           08:00:00     :|       Drank coffee:Drank tea:Worked out          54                 0             480          false          true       true       false     false            1               75.0                  4\n",
       "   4 │ 2015-01-21  2015-01-22  87%           07:42:00     :)       Drank coffee:Drank tea:Worked out          75                 0             462          false          true       true       false     false            2               87.0                  4\n",
       "   5 │ 2015-02-01  2015-02-02  64%           07:13:00     :)       Drank coffee:Drank tea                     56                 0             433          false          true       true       false     false            2               64.0                  3\n",
       "   6 │ 2015-02-03  2015-02-04  72%           07:32:00     :)       Drank coffee:Drank tea                     61                 0             452          false          true       true       false     false            2               72.0                  3\n",
       "   7 │ 2015-02-21  2015-02-22  92%           08:55:00     :)       Drank coffee:Drank tea                     56                 0             535          false          true       true       false     false            2               92.0                  4\n",
       "   8 │ 2015-03-01  2015-03-02  88%           09:29:00     :)       Drank coffee                               62                 0             569          false          true      false       false     false            2               88.0                  4\n",
       "   9 │ 2015-03-08  2015-03-09  69%           07:25:00     :)       Drank coffee                               61                 0             445          false          true      false       false     false            2               69.0                  3\n",
       "  10 │ 2015-03-11  2015-03-12  77%           07:40:00     :)       Drank coffee:Drank tea                     63                 0             460          false          true       true       false     false            2               77.0                  4\n",
       "  11 │ 2015-03-16  2015-03-17  75%           07:32:00     :)       Drank coffee:Drank tea                     54                 0             452          false          true       true       false     false            2               75.0                  4\n",
       "  ⋮  │     ⋮           ⋮            ⋮             ⋮          ⋮                     ⋮                      ⋮              ⋮                ⋮               ⋮             ⋮            ⋮          ⋮          ⋮           ⋮               ⋮                  ⋮\n",
       "  32 │ 2015-09-23  2015-09-24  77%           07:29:00     :)       Drank coffee:Drank tea:Worked out          49                 0             449          false          true       true       false     false            2               77.0                  4\n",
       "  33 │ 2015-09-27  2015-09-28  82%           08:02:00     :)       Drank tea                                  61                 0             482          false         false       true       false     false            2               82.0                  4\n",
       "  34 │ 2015-09-29  2015-09-30  89%           07:25:00     :)       Ate late:Drank coffee:Drank tea:…          58                 0             445          false          true      false       false      true            2               89.0                  4\n",
       "  35 │ 2015-10-03  2015-10-03  69%           07:17:00     :)       Drank coffee:Worked out                    57                 0             437          false          true      false        true     false            2               69.0                  3\n",
       "  36 │ 2015-10-11  2015-10-11  100%          08:31:00     :)       Drank coffee:Stressful day                 50                 0             511           true          true      false       false     false            2              100.0                  4\n",
       "  37 │ 2015-10-20  2015-10-21  88%           08:42:00     :|       Drank coffee:Drank tea                     62                 0             522          false          true       true       false     false            1               88.0                  4\n",
       "  38 │ 2015-11-15  2015-11-16  72%           08:13:00     :)       Drank coffee:Drank tea                     62                 0             493          false          true       true       false     false            2               72.0                  3\n",
       "  39 │ 2015-11-19  2015-11-20  73%           06:50:00     :)       Drank coffee:Drank tea:Worked out          62                 0             410          false          true       true       false     false            2               73.0                  3\n",
       "  40 │ 2016-01-01  2016-01-02  79%           08:33:00     :|       Drank coffee:Drank tea                     71                 0             513          false          true       true       false     false            1               79.0                  4\n",
       "  41 │ 2016-01-02  2016-01-03  85%           08:24:00     :)       Drank coffee:Drank tea                     65                 0             504          false          true       true       false     false            2               85.0                  4\n",
       "\u001b[36m                                                                                                                                                                                                                                                     20 rows omitted\u001b[0m)"
      ]
     },
     "metadata": {},
     "execution_count": 230
    }
   ],
   "metadata": {}
  },
  {
   "cell_type": "code",
   "execution_count": 239,
   "source": [
    "train.Stressful_day = categorical(train.Stressful_day)\r\n",
    "train.Drank_coffee = categorical(train.Drank_coffee)\r\n",
    "train.Drank_tea = categorical(train.Drank_tea)\r\n",
    "train.Worked_out = categorical(train.Worked_out)\r\n",
    "train.Ate_late = categorical(train.Ate_late)\r\n",
    "train.Wake_up_ord = categorical(train.Wake_up_ord)\r\n",
    "train.Sleep_quality_ord = categorical(train.Sleep_quality_ord)\r\n",
    "\r\n",
    "first(train, 5)\r\n",
    "\r\n",
    "fm = @formula(Minutes_in_bed ~ Sleep_quality_ord + Wake_up_ord)\r\n",
    "linearRegressor = lm(fm, train) \r\n",
    "\r\n",
    "println(r2(linearRegressor))\r\n",
    "\r\n",
    "println(adjr2(linearRegressor))\r\n",
    "\r\n",
    "println(linearRegressor)"
   ],
   "outputs": [
    {
     "output_type": "stream",
     "name": "stdout",
     "text": [
      "0.5345353008121816\n",
      "0.5218408090161502\n",
      "StatsModels.TableRegressionModel{LinearModel{GLM.LmResp{Vector{Float64}}, GLM.DensePredChol{Float64, LinearAlgebra.CholeskyPivoted{Float64, Matrix{Float64}}}}, Matrix{Float64}}\n",
      "\n",
      "Minutes_in_bed ~ 1 + Sleep_quality_ord + Wake_up_ord\n",
      "\n",
      "Coefficients:\n",
      "─────────────────────────────────────────────────────────────────────────────────\n",
      "                         Coef.  Std. Error      t  Pr(>|t|)  Lower 95%  Upper 95%\n",
      "─────────────────────────────────────────────────────────────────────────────────\n",
      "(Intercept)            16.0        42.3056   0.38    0.7060   -67.8397    99.8397\n",
      "Sleep_quality_ord: 3  444.157      45.0952   9.85    <1e-16   354.789    533.525\n",
      "Sleep_quality_ord: 4  475.812      44.6351  10.66    <1e-17   387.356    564.269\n",
      "Wake_up_ord: 2        -22.4698     14.7222  -1.53    0.1298   -51.6457     6.7062\n",
      "─────────────────────────────────────────────────────────────────────────────────\n"
     ]
    }
   ],
   "metadata": {}
  }
 ],
 "metadata": {
  "orig_nbformat": 4,
  "language_info": {
   "file_extension": ".jl",
   "name": "julia",
   "mimetype": "application/julia",
   "version": "1.6.2"
  },
  "kernelspec": {
   "name": "julia-1.6",
   "display_name": "Julia 1.6.2",
   "language": "julia"
  }
 },
 "nbformat": 4,
 "nbformat_minor": 2
}