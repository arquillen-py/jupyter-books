{
 "cells": [
  {
   "cell_type": "markdown",
   "source": [
    "# Video Game Sales with Metacritic Ratings and Comments\r\n",
    "This dataset is a combination of Gregory Smiths's web scrape of VGChartz's video game sales with accompanying variables from a web scrape of Metacritic by Rush Kirubi. VGChartz is a video game sales tracking website, and Metacritic is a review aggregator for movies, TV shows, music albums, and video games. \r\n",
    "\r\n",
    "Sources: https://www.kaggle.com/gregorut/videogamesales  \r\n",
    "&emsp;&emsp;&emsp;&emsp;https://www.kaggle.com/rush4ratio/video-game-sales-with-ratings, accessed on July 26th, 2020. \r\n",
    " \r\n",
    "The Metacritic scraper is based on https://github.com/wtamu-cisresearch/scraper, and the VGChartz scraper is available at https://github.com/GregorUT/vgchartzScrape, and is based on BeautifulSoup.\r\n",
    "\r\n",
    "Not all of the VGChartz observations have accompanying Metacritic data, as Metacritic does not cover all video game platforms. Those that are covered may not have complete Metacritic data.\r\n",
    "There are around 6,900 observations with complete VGChartz and Metacritic data.\r\n",
    "\r\n",
    "The data are through December 22nd, 2016."
   ],
   "metadata": {}
  },
  {
   "cell_type": "code",
   "execution_count": 6,
   "source": [
    "#Import necessary packages\r\n",
    "import pandas as pd\r\n",
    "import numpy as np\r\n",
    "import matplotlib.pyplot as plt\r\n",
    "\r\n",
    "try:\r\n",
    "    import seaborn as sns\r\n",
    "    print(\"Module 'seaborn' is installed\")\r\n",
    "except ModuleNotFoundError:\r\n",
    "    %pip install seaborn\r\n",
    "    import seaborn as sns\r\n",
    "\r\n",
    "import matplotlib.ticker as tick\r\n",
    "\r\n",
    "import datetime"
   ],
   "outputs": [
    {
     "output_type": "stream",
     "name": "stdout",
     "text": [
      "Module 'seaborn' is installed\n"
     ]
    }
   ],
   "metadata": {}
  },
  {
   "cell_type": "code",
   "execution_count": null,
   "source": [
    "#Read in data\r\n",
    "df = pd.read_csv(\"Datasets/Video_Games_Sales_as_at_22_Dec_2016.csv\")"
   ],
   "outputs": [],
   "metadata": {}
  },
  {
   "cell_type": "code",
   "execution_count": null,
   "source": [
    "#Display top 50 rows\r\n",
    "df.head(10)"
   ],
   "outputs": [],
   "metadata": {}
  },
  {
   "cell_type": "code",
   "execution_count": null,
   "source": [
    "#Group by Year and Genre, getting sum totals, and filter to 2000-2011\r\n",
    "\r\n",
    "dfCatYear = df.groupby(by = [\"Year_of_Release\", \"Genre\"]).sum()\r\n",
    "dfCatYear = dfCatYear.reset_index()\r\n",
    "dfCatYear.head(5)\r\n",
    "\r\n",
    "dfCatYear2000s = dfCatYear[dfCatYear[\"Year_of_Release\"].isin([2000, 2001, 2002, 2003, 2004, 2005, 2006, 2007, 2008, 2009, 2010, 2011])]\r\n",
    "dfCatYear2000s.dtypes\r\n",
    "#dfCatYear2000s = pd.to_datetime(dfCatYear2000s[\"Year_of_Release\"])"
   ],
   "outputs": [],
   "metadata": {}
  },
  {
   "cell_type": "code",
   "execution_count": null,
   "source": [
    "#Create arrays for heatmaps by region, and create heatmaps\r\n",
    "arrayJP = dfCatYear2000s.pivot(\"Genre\", \"Year_of_Release\", \"JP_Sales\")\r\n",
    "arrayNA = dfCatYear2000s.pivot(\"Genre\", \"Year_of_Release\", \"NA_Sales\")\r\n",
    "arrayEU = dfCatYear2000s.pivot(\"Genre\", \"Year_of_Release\", \"EU_Sales\")\r\n",
    "\r\n",
    "fig, ax = plt.subplots(1, 3)\r\n",
    "fig.set_figwidth(19.2)\r\n",
    "fig.set_figheight(10.8)\r\n",
    "fig.tight_layout(pad = 10)\r\n",
    "\r\n",
    "xLabels = []\r\n",
    "for i in range(12):\r\n",
    "    if i < 10:\r\n",
    "        xLabels.append(\"200\" + str(i))\r\n",
    "    else:\r\n",
    "        xLabels.append(\"20\" + str(i))\r\n",
    "\r\n",
    "ax1 = sns.heatmap(arrayJP, ax=ax[0], square = True)\r\n",
    "ax1.invert_yaxis()\r\n",
    "ax1.set_title(\"Japanese Game Sales (in millions)\")\r\n",
    "ax1.set(xlabel=\"Year of Release\")\r\n",
    "ax1.set_xticklabels(xLabels)\r\n",
    "\r\n",
    "ax2 = sns.heatmap(arrayNA, ax=ax[1], square = True)\r\n",
    "ax2.invert_yaxis()\r\n",
    "ax2.set_title(\"North American Game Sales (in millions)\")\r\n",
    "ax2.set(xlabel=\"Year of Release\")\r\n",
    "ax2.set_xticklabels(xLabels)\r\n",
    "\r\n",
    "ax3 = sns.heatmap(arrayEU, ax=ax[2], square = True)\r\n",
    "ax3.invert_yaxis()\r\n",
    "ax3.set_title(\"European Game Sales (in millions)\")\r\n",
    "ax3.set(xlabel=\"Year of Release\")\r\n",
    "ax3.set_xticklabels(xLabels)"
   ],
   "outputs": [],
   "metadata": {}
  }
 ],
 "metadata": {
  "orig_nbformat": 4,
  "language_info": {
   "name": "python",
   "version": "3.8.8",
   "mimetype": "text/x-python",
   "codemirror_mode": {
    "name": "ipython",
    "version": 3
   },
   "pygments_lexer": "ipython3",
   "nbconvert_exporter": "python",
   "file_extension": ".py"
  },
  "kernelspec": {
   "name": "python3",
   "display_name": "Python 3.8.8 64-bit ('base': conda)"
  },
  "interpreter": {
   "hash": "b2c5e44d31b875738ed638c71f6d3072afbbc08fcbfca63303afa3e2eb11ddc0"
  }
 },
 "nbformat": 4,
 "nbformat_minor": 2
}