{
 "metadata": {
  "language_info": {
   "codemirror_mode": {
    "name": "ipython",
    "version": 3
   },
   "file_extension": ".py",
   "mimetype": "text/x-python",
   "name": "python",
   "nbconvert_exporter": "python",
   "pygments_lexer": "ipython3",
   "version": "3.8.8"
  },
  "orig_nbformat": 4,
  "kernelspec": {
   "name": "python3",
   "display_name": "Python 3.8.8 64-bit ('base': conda)"
  },
  "interpreter": {
   "hash": "b2c5e44d31b875738ed638c71f6d3072afbbc08fcbfca63303afa3e2eb11ddc0"
  }
 },
 "nbformat": 4,
 "nbformat_minor": 2,
 "cells": [
  {
   "cell_type": "markdown",
   "source": [
    "# COVID-19 in Kentucky"
   ],
   "metadata": {}
  },
  {
   "cell_type": "markdown",
   "source": [
    "## Description\r\n",
    "This dataset, provided by the CDC Case Task Force, contains COVID-19 cases and deaths by state. Updated twice daily, it presents both probable and confirmed cases and deaths as reported by public health jurisidictions. These provisional counts are subject to change as the data are adjusted over time, and because of this negative numbers can occur. Probable cases in particular can fluctuate greatly as they are reclassified to confirmed cases or are determined to be something other than COVID.\r\n",
    "\r\n",
    "60 public health jurisdictions report COVID cases to the CDC: the 50 states, the District of Columbia, New York City, the U.S. territories of American Samoa, Guam, the Commonwealth of the Northern Mariana Islands, Puerto Rico, and the U.S Virgin Islands as well as the Federated States of Micronesia, Republic of the Marshall Islands, and Republic of Palau. New York State does NOT include New York City's data, as they report separately to the CDC.\r\n",
    "\r\n",
    "Source: Centers for Disease Control and Prevention, COVID-19 Response. COVID-19 Case Surveillance Public Data Access, Summary, and Limitations,\r\n",
    "        accessed on ‎Monday, ‎July ‎26, ‎2021, at https://data.cdc.gov/Case-Surveillance/United-States-COVID-19-Cases-and-Deaths-by-State-o/9mfq-cb36\r\n",
    "\r\n",
    "The data are through July of 2021."
   ],
   "metadata": {}
  },
  {
   "cell_type": "markdown",
   "source": [
    "## The Dataset\r\n",
    "Number of Rows | Number of Columns | One Row Represents\r\n",
    "------------- | ------------- | -------------\r\n",
    "33,060 | 15 | One day for a jurisdiction"
   ],
   "metadata": {}
  },
  {
   "cell_type": "markdown",
   "source": [
    "Columns  | Description | Data Type\r\n",
    "------------- | ------------- | -------------\r\n",
    "submission_date  | Date of counts  | Floating Timestamp\r\n",
    "state  | Jurisdiction  | Text\r\n",
    "tot_cases  | Total number of cases  | Number\r\n",
    "conf_cases  | Total confirmed cases  | Number\r\n",
    "prob_cases  | Total probable cases  | Number\r\n",
    "new_case  | Number of new cases  | Number\r\n",
    "pnew_case  | Number of new probable cases  | Number\r\n",
    "tot_death  | Total number of deaths  | Number\r\n",
    "conf_death  | Total number of confirmed cases  | Number\r\n",
    "prob_death  | Total number of probable deaths  | Number\r\n",
    "new_death  | Number of new deaths  | Number\r\n",
    "pnew_death  | Number of new probable deaths  | Number\r\n",
    "created_at  | Date and time record was created  | Floating Timestamp\r\n",
    "consent_cases  | If Agree, then confirmed and probable cases are included. If Not Agree, then only total cases are included | Text\r\n",
    "consent_deaths  | If Agree, then confirmed and probable deaths are included. If Not Agree, then only total deaths are included  | Text"
   ],
   "metadata": {}
  },
  {
   "cell_type": "markdown",
   "source": [
    "## Objective\r\n",
    "This notebook will focus on exploratory data analysis of the data. EDA focuses on summarizing data and gaining insight rather than formal statistical modeling, although statistical modelling can be used. Through this, we seek to understand the data and begin to formulate hypotheses for more quantitative statistical analyses. We will focus only on the data for Kentucky."
   ],
   "metadata": {}
  },
  {
   "cell_type": "markdown",
   "source": [
    "## Libraries\r\n",
    "This analysis will use the python libraries pandas, numpy, matplotlib, and scikit-learn."
   ],
   "metadata": {}
  },
  {
   "cell_type": "code",
   "execution_count": null,
   "source": [
    "# Import packages\r\n",
    "import pandas as pd\r\n",
    "import numpy as np\r\n",
    "import matplotlib.pyplot as plt\r\n",
    "import sklearn as skl"
   ],
   "outputs": [],
   "metadata": {}
  },
  {
   "cell_type": "markdown",
   "source": [
    "## Summarizing the Data"
   ],
   "metadata": {}
  },
  {
   "cell_type": "markdown",
   "source": [
    "### Reading in the Data"
   ],
   "metadata": {}
  },
  {
   "cell_type": "code",
   "execution_count": null,
   "source": [
    "# Read in the Excel file\r\n",
    "df = pd.read_excel(\"Datasets/casesanddeathsbystate.xlsx\", engine = \"openpyxl\") # Uses openpyxl, xlrd no longer supports .xlsx files"
   ],
   "outputs": [],
   "metadata": {}
  },
  {
   "cell_type": "markdown",
   "source": [
    "### First Look\r\n",
    "First, we will get a quick summary look at the data."
   ],
   "metadata": {}
  },
  {
   "cell_type": "code",
   "execution_count": null,
   "source": [
    "print( df.head(5) ) # First rows in the data start on January 22nd of 2020, where no cases or deaths were reported\r\n",
    "print( df.tail(5) )"
   ],
   "outputs": [],
   "metadata": {}
  },
  {
   "cell_type": "code",
   "execution_count": null,
   "source": [
    "df.describe()\r\n",
    "print(df.dtypes)"
   ],
   "outputs": [],
   "metadata": {}
  },
  {
   "cell_type": "markdown",
   "source": [
    "We will use the submission_date field as the index for the DataFrame. This allows us to easily group the data by day, month, or year."
   ],
   "metadata": {}
  },
  {
   "cell_type": "code",
   "execution_count": null,
   "source": [
    "df.index = df[\"submission_date\"]\r\n",
    "print(df.index)"
   ],
   "outputs": [],
   "metadata": {}
  },
  {
   "cell_type": "code",
   "execution_count": null,
   "source": [
    "dfGroupedMonthYearState = df.groupby(by = [df[\"state\"], df.index.month, df.index.year]).sum() # Group by state, month, year, and sum the results\r\n",
    "dfGroupedMonthYearState.index.names = [\"state\", \"month\", \"year\"] # Rename the indices, as they can't be reset if they match an already existing column\r\n",
    "dfGroupedMonthYearState = dfGroupedMonthYearState.reset_index() # Resets the indices to the default. Gives us state, month, and year as 3 new columns\r\n",
    "dfGroupedMonthYearState.head(10)"
   ],
   "outputs": [],
   "metadata": {}
  },
  {
   "cell_type": "code",
   "execution_count": null,
   "source": [
    "# Filter to include only Kentucky, and filter further to include only new cases and deaths, potential and confirmed. Sort by date and create new columns for a cumulative bar graph\r\n",
    "dfKy = dfGroupedMonthYearState[dfGroupedMonthYearState[\"state\"] == \"KY\"]\r\n",
    "dfKy = dfKy.filter(items = [\"state\", \"month\", \"year\", \"new_case\", \"pnew_case\", \"new_death\", \"pnew_death\"])\r\n",
    "dfKy[\"month_year\"] = dfKy[\"month\"].astype(str) + \"/\" + dfKy[\"year\"].astype(str)\r\n",
    "dfKy[\"month_year\"] = pd.to_datetime(dfKy[\"month_year\"])\r\n",
    "dfKy = dfKy.sort_values(by = [\"month_year\"])\r\n",
    "\r\n",
    "new_cols = ['total_new_case', 'total_pnew_case', 'total_new_death', 'total_pnew_death']\r\n",
    "for col in new_cols:\r\n",
    "    dfKy[col] = dfKy['new_case'].cumsum()\r\n",
    "    dfKy[col] = dfKy['pnew_case'].cumsum()\r\n",
    "    dfKy[col] = dfKy['new_death'].cumsum()\r\n",
    "    dfKy[col] = dfKy['pnew_death'].cumsum()\r\n",
    "dfKy['prev_new_case'] = dfKy['new_case'].cumsum() - dfKy[\"new_case\"]\r\n",
    "\r\n",
    "dfKy.head(20)"
   ],
   "outputs": [],
   "metadata": {}
  },
  {
   "cell_type": "code",
   "execution_count": null,
   "source": [
    "# Create cumulative bar graph displaying portion of new cases compared to overall cases per month\r\n",
    "xLabels = dfKy[\"month_year\"]\r\n",
    "fig, ax = plt.subplots()\r\n",
    "\r\n",
    "ax.bar(xLabels, dfKy[\"new_case\"], width = 20, label = \"New Monthly Cases\")\r\n",
    "ax.bar(xLabels, dfKy[\"prev_new_case\"], width = 20, label = \"Cumulative Total Cases\", bottom = dfKy[\"new_case\"])\r\n",
    "\r\n",
    "ax.set_ylabel(\"Cases\")\r\n",
    "ax.legend()\r\n",
    "\r\n",
    "plt.xticks(fontsize = 7)\r\n",
    "plt.show()"
   ],
   "outputs": [],
   "metadata": {}
  }
 ]
}