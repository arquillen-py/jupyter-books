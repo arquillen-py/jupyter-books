{
    "cells": [
        {
            "cell_type": "code",
            "execution_count": null,
            "source": [
                "#%%capture\r\n",
                "# Import packages\r\n",
                "import pandas as pd\r\n",
                "import numpy as np\r\n",
                "import matplotlib.pyplot as plt\r\n",
                "import matplotlib.ticker as tick\r\n",
                "\r\n",
                "#from IPython.core.interactiveshell import InteractiveShell\r\n",
                "#InteractiveShell.ast_node_interactivity = \"all\" # Print multiple output in one cell\r\n",
                "\r\n",
                "#import datetime\r\n",
                "#import random\r\n",
                "#%pip install nbconvert[webpdf]\r\n",
                "#%pip install latex"
            ],
            "outputs": [],
            "metadata": {}
        },
        {
            "cell_type": "code",
            "execution_count": 26,
            "source": [
                "df = pd.read_csv(\"Datasets/sleepdata.csv\", delimiter=\";\", header = 0)"
            ],
            "outputs": [],
            "metadata": {}
        },
        {
            "cell_type": "code",
            "execution_count": null,
            "source": [
                "f\"This dataset has {df.shape[0]} rows and {df.shape[1]} columns.\""
            ],
            "outputs": [],
            "metadata": {}
        },
        {
            "cell_type": "code",
            "execution_count": null,
            "source": [
                "df.describe"
            ],
            "outputs": [],
            "metadata": {}
        },
        {
            "cell_type": "code",
            "execution_count": null,
            "source": [
                "df.head(5)"
            ],
            "outputs": [],
            "metadata": {}
        },
        {
            "cell_type": "code",
            "execution_count": null,
            "source": [
                "df.dtypes"
            ],
            "outputs": [],
            "metadata": {}
        },
        {
            "cell_type": "markdown",
            "source": [
                "We'll change the start and end columns to the datetime data type, and convert time in bed to minutes."
            ],
            "metadata": {}
        },
        {
            "cell_type": "code",
            "execution_count": 27,
            "source": [
                "df[\"Start\"] = pd.to_datetime(df[\"Start\"])\r\n",
                "df[\"End\"] = pd.to_datetime(df[\"End\"])\r\n",
                "\r\n",
                "i = 0\r\n",
                "for time in df[\"Time in bed\"]:\r\n",
                "    #print(time)\r\n",
                "    df[\"Time in bed\"].iloc[i] = int(df[\"Time in bed\"].iloc[i].split(\":\")[0]) * 60 + int(df[\"Time in bed\"].iloc[i].split(\":\")[1])\r\n",
                "    i += 1\r\n",
                "    if i >= df.shape[0]:\r\n",
                "        break\r\n",
                "\r\n",
                "df[\"Time in bed\"] = pd.to_numeric(df[\"Time in bed\"], downcast=\"float\")"
            ],
            "outputs": [
                {
                    "output_type": "stream",
                    "name": "stderr",
                    "text": [
                        "C:\\Users\\arqui\\anaconda3\\lib\\site-packages\\pandas\\core\\indexing.py:1732: SettingWithCopyWarning: \n",
                        "A value is trying to be set on a copy of a slice from a DataFrame\n",
                        "\n",
                        "See the caveats in the documentation: https://pandas.pydata.org/pandas-docs/stable/user_guide/indexing.html#returning-a-view-versus-a-copy\n",
                        "  self._setitem_single_block(indexer, value, name)\n"
                    ]
                }
            ],
            "metadata": {}
        },
        {
            "cell_type": "code",
            "execution_count": null,
            "source": [
                "df.dtypes"
            ],
            "outputs": [],
            "metadata": {}
        },
        {
            "cell_type": "code",
            "execution_count": null,
            "source": [
                "df.head(10)"
            ],
            "outputs": [],
            "metadata": {}
        },
        {
            "cell_type": "markdown",
            "source": [
                "Next, we'll split up the sleep notes into multiple boolean columns.\r\n"
            ],
            "metadata": {}
        },
        {
            "cell_type": "code",
            "execution_count": 28,
            "source": [
                "uniqueSleepNotes = []\r\n",
                "for notes in df[\"Sleep Notes\"]:\r\n",
                "    if pd.notna(notes):\r\n",
                "        if \":\" in notes:\r\n",
                "            #print(notes.split(\":\"))\r\n",
                "            for item in notes.split(\":\"):\r\n",
                "                [uniqueSleepNotes.append(item) for item in notes.split(\":\") if item not in uniqueSleepNotes]\r\n",
                "\r\n",
                "f\"The potential values for Sleep Notes are: {uniqueSleepNotes}\""
            ],
            "outputs": [
                {
                    "output_type": "execute_result",
                    "data": {
                        "text/plain": [
                            "\"The potential values for Sleep Notes are: ['Drank coffee', 'Drank tea', 'Ate late', 'Worked out', 'Stressful day']\""
                        ]
                    },
                    "metadata": {},
                    "execution_count": 28
                }
            ],
            "metadata": {}
        },
        {
            "cell_type": "code",
            "execution_count": 29,
            "source": [
                "df.head(5)"
            ],
            "outputs": [
                {
                    "output_type": "execute_result",
                    "data": {
                        "text/plain": [
                            "                Start                 End Sleep quality  Time in bed Wake up  \\\n",
                            "0 2014-12-29 22:57:49 2014-12-30 07:30:13          100%        512.0      :)   \n",
                            "1 2014-12-30 21:17:50 2014-12-30 21:33:54            3%         16.0      :|   \n",
                            "2 2014-12-30 22:42:49 2014-12-31 07:13:31           98%        510.0      :|   \n",
                            "3 2014-12-31 22:31:01 2015-01-01 06:03:01           65%        452.0     NaN   \n",
                            "4 2015-01-01 22:12:10 2015-01-02 04:56:35           72%        404.0      :)   \n",
                            "\n",
                            "              Sleep Notes  Heart rate  Activity (steps)  \n",
                            "0                     NaN        59.0                 0  \n",
                            "1           Stressful day        72.0                 0  \n",
                            "2                     NaN        57.0                 0  \n",
                            "3                     NaN         NaN                 0  \n",
                            "4  Drank coffee:Drank tea        68.0                 0  "
                        ],
                        "text/html": [
                            "<div>\n",
                            "<style scoped>\n",
                            "    .dataframe tbody tr th:only-of-type {\n",
                            "        vertical-align: middle;\n",
                            "    }\n",
                            "\n",
                            "    .dataframe tbody tr th {\n",
                            "        vertical-align: top;\n",
                            "    }\n",
                            "\n",
                            "    .dataframe thead th {\n",
                            "        text-align: right;\n",
                            "    }\n",
                            "</style>\n",
                            "<table border=\"1\" class=\"dataframe\">\n",
                            "  <thead>\n",
                            "    <tr style=\"text-align: right;\">\n",
                            "      <th></th>\n",
                            "      <th>Start</th>\n",
                            "      <th>End</th>\n",
                            "      <th>Sleep quality</th>\n",
                            "      <th>Time in bed</th>\n",
                            "      <th>Wake up</th>\n",
                            "      <th>Sleep Notes</th>\n",
                            "      <th>Heart rate</th>\n",
                            "      <th>Activity (steps)</th>\n",
                            "    </tr>\n",
                            "  </thead>\n",
                            "  <tbody>\n",
                            "    <tr>\n",
                            "      <th>0</th>\n",
                            "      <td>2014-12-29 22:57:49</td>\n",
                            "      <td>2014-12-30 07:30:13</td>\n",
                            "      <td>100%</td>\n",
                            "      <td>512.0</td>\n",
                            "      <td>:)</td>\n",
                            "      <td>NaN</td>\n",
                            "      <td>59.0</td>\n",
                            "      <td>0</td>\n",
                            "    </tr>\n",
                            "    <tr>\n",
                            "      <th>1</th>\n",
                            "      <td>2014-12-30 21:17:50</td>\n",
                            "      <td>2014-12-30 21:33:54</td>\n",
                            "      <td>3%</td>\n",
                            "      <td>16.0</td>\n",
                            "      <td>:|</td>\n",
                            "      <td>Stressful day</td>\n",
                            "      <td>72.0</td>\n",
                            "      <td>0</td>\n",
                            "    </tr>\n",
                            "    <tr>\n",
                            "      <th>2</th>\n",
                            "      <td>2014-12-30 22:42:49</td>\n",
                            "      <td>2014-12-31 07:13:31</td>\n",
                            "      <td>98%</td>\n",
                            "      <td>510.0</td>\n",
                            "      <td>:|</td>\n",
                            "      <td>NaN</td>\n",
                            "      <td>57.0</td>\n",
                            "      <td>0</td>\n",
                            "    </tr>\n",
                            "    <tr>\n",
                            "      <th>3</th>\n",
                            "      <td>2014-12-31 22:31:01</td>\n",
                            "      <td>2015-01-01 06:03:01</td>\n",
                            "      <td>65%</td>\n",
                            "      <td>452.0</td>\n",
                            "      <td>NaN</td>\n",
                            "      <td>NaN</td>\n",
                            "      <td>NaN</td>\n",
                            "      <td>0</td>\n",
                            "    </tr>\n",
                            "    <tr>\n",
                            "      <th>4</th>\n",
                            "      <td>2015-01-01 22:12:10</td>\n",
                            "      <td>2015-01-02 04:56:35</td>\n",
                            "      <td>72%</td>\n",
                            "      <td>404.0</td>\n",
                            "      <td>:)</td>\n",
                            "      <td>Drank coffee:Drank tea</td>\n",
                            "      <td>68.0</td>\n",
                            "      <td>0</td>\n",
                            "    </tr>\n",
                            "  </tbody>\n",
                            "</table>\n",
                            "</div>"
                        ]
                    },
                    "metadata": {},
                    "execution_count": 29
                }
            ],
            "metadata": {}
        },
        {
            "cell_type": "code",
            "execution_count": 34,
            "source": [
                "for note in uniqueSleepNotes:\r\n",
                "    df[note] = False\r\n",
                "\r\n",
                "i = 0\r\n",
                "for notes in df[\"Sleep Notes\"]:\r\n",
                "    if \"None\" not in notes:\r\n",
                "        i += 1\r\n",
                "    elif \":\" not in notes:\r\n",
                "        #print(notes)\r\n",
                "        df[notes].iloc[i] = True\r\n",
                "         i += 1\r\n",
                "    elif \":\" in notes:\r\n",
                "        for item in notes.split(\":\"):\r\n",
                "            df[item].iloc[i] = True\r\n",
                "        i += 1"
            ],
            "outputs": [
                {
                    "output_type": "error",
                    "ename": "IndentationError",
                    "evalue": "unexpected indent (<ipython-input-34-bfe3fabee7e5>, line 11)",
                    "traceback": [
                        "\u001b[1;36m  File \u001b[1;32m\"<ipython-input-34-bfe3fabee7e5>\"\u001b[1;36m, line \u001b[1;32m11\u001b[0m\n\u001b[1;33m    i += 1\u001b[0m\n\u001b[1;37m    ^\u001b[0m\n\u001b[1;31mIndentationError\u001b[0m\u001b[1;31m:\u001b[0m unexpected indent\n"
                    ]
                }
            ],
            "metadata": {}
        },
        {
            "cell_type": "code",
            "execution_count": null,
            "source": [
                "'''\r\n",
                "    elif \":\" in notes:\r\n",
                "        #print(notes)\r\n",
                "        for item in notes.split(\":\"):\r\n",
                "            #print(currentSleepNotes)\r\n",
                "            [currentSleepNotes.remove(item) for item in notes.split(\":\") if item in currentSleepNotes]\r\n",
                "            #print(currentSleepNotes)\r\n",
                "        for item in notes.split(\":\"):\r\n",
                "            dfNoNAs[item] = True\r\n",
                "        for note in currentSleepNotes:\r\n",
                "            dfNoNAs[item] = False\r\n",
                "        currentSleepNotes.append(currentSleepNotes)"
            ],
            "outputs": [],
            "metadata": {}
        },
        {
            "cell_type": "code",
            "execution_count": null,
            "source": [
                "df.head(5)\r\n",
                "#dfNoNAs.shape[0]"
            ],
            "outputs": [],
            "metadata": {}
        }
    ],
    "metadata": {
        "orig_nbformat": 4,
        "language_info": {
            "name": "python",
            "version": "3.8.11",
            "mimetype": "text/x-python",
            "codemirror_mode": {
                "name": "ipython",
                "version": 3
            },
            "pygments_lexer": "ipython3",
            "nbconvert_exporter": "python",
            "file_extension": ".py"
        },
        "kernelspec": {
            "name": "python3",
            "display_name": "Python 3.8.8 64-bit ('base': conda)"
        },
        "interpreter": {
            "hash": "b2c5e44d31b875738ed638c71f6d3072afbbc08fcbfca63303afa3e2eb11ddc0"
        }
    },
    "nbformat": 4,
    "nbformat_minor": 2
}