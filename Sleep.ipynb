{
    "cells": [
        {
            "cell_type": "markdown",
            "source": [
                "# Sleep Quality Study\r\n",
                "This dataset is from the app Sleep Cycle, between 2014 and 2018, and includes some interesting qualitative variables.\r\n",
                "\r\n",
                "Source: https://www.kaggle.com/danagerous/sleep-data, accessed on August 13th, 2020."
            ],
            "metadata": {}
        },
        {
            "cell_type": "markdown",
            "source": [
                "## The Dataset\r\n",
                "Number of Rows | Number of Columns | One Row Represents\r\n",
                "------------- | ------------- | -------------\r\n",
                "887 | 8 | One app user's night sleep"
            ],
            "metadata": {}
        },
        {
            "cell_type": "markdown",
            "source": [
                "## Data Cleaning\r\n",
                "To start, we'll clean up the data, and split up a column to create some new features."
            ],
            "metadata": {}
        },
        {
            "cell_type": "code",
            "execution_count": 22,
            "source": [
                "#%%capture\r\n",
                "# Import packages\r\n",
                "import pandas as pd\r\n",
                "import numpy as np\r\n",
                "import matplotlib.pyplot as plt\r\n",
                "import matplotlib.ticker as tick\r\n",
                "from sklearn.linear_model import LinearRegression\r\n",
                "from sklearn.metrics import r2_score\r\n",
                "from sklearn.model_selection import train_test_split\r\n",
                "from sklearn import metrics\r\n",
                "\r\n",
                "from scipy import stats\r\n",
                "\r\n",
                "try:\r\n",
                "    import statsmodels.api as sm\r\n",
                "    import statsmodels.formula.api as smf       \r\n",
                "    from statsmodels.nonparametric.smoothers_lowess import lowess\r\n",
                "    from statsmodels.graphics.regressionplots import influence_plot\r\n",
                "    from statsmodels.formula.api import ols\r\n",
                "    print(\"Imported statsmodels successfully\")\r\n",
                "except ModuleNotFoundError:\r\n",
                "    %pip install statsmodels\r\n",
                "    import statsmodels.api as sm\r\n",
                "    import statsmodels.formula.api as smf\r\n",
                "    from statsmodels.nonparametric.smoothers_lowess import lowess\r\n",
                "    from statsmodels.graphics.regressionplots import influence_plot\r\n",
                "    from statsmodels.formula.api import ols\r\n",
                "\r\n",
                "\r\n",
                "import statsmodels.api as sm\r\n",
                "import statsmodels.formula.api as smf\r\n",
                "from statsmodels.nonparametric.smoothers_lowess import lowess\r\n",
                "from statsmodels.graphics.regressionplots import influence_plot\r\n",
                "\r\n",
                "#from IPython.core.interactiveshell import InteractiveShell\r\n",
                "#InteractiveShell.ast_node_interactivity = \"all\" # Print multiple output in one cell\r\n",
                "\r\n",
                "try:\r\n",
                "    import seaborn as sns\r\n",
                "    print(\"Module 'seaborn' is installed\")\r\n",
                "except ModuleNotFoundError:\r\n",
                "    %pip install seaborn\r\n",
                "    import seaborn as sns\r\n",
                "\r\n",
                "try:\r\n",
                "    import plotly.express as px\r\n",
                "except ModuleNotFoundError:\r\n",
                "    !pip install plotly\r\n",
                "    import plotly.express as px"
            ],
            "outputs": [
                {
                    "output_type": "stream",
                    "name": "stdout",
                    "text": [
                        "Imported statsmodels successfully\n",
                        "Module 'seaborn' is installed\n"
                    ]
                }
            ],
            "metadata": {}
        },
        {
            "cell_type": "code",
            "execution_count": null,
            "source": [
                "#Thanks to Jason Sadowski @ towardsdatascience.com for his article on these R-style regression diganostic plots!\r\n",
                "#https://towardsdatascience.com/going-from-r-to-python-linear-regression-diagnostic-plots-144d1c4aa5a\r\n",
                "\r\n",
                "def residuals_vs_fitted_plot(model: \"statsmodels.smf model after .fit()\"):\r\n",
                "    residuals = model.resid\r\n",
                "    fitted = model.fittedvalues\r\n",
                "    smoothed = lowess(residuals,fitted)\r\n",
                "    top3 = abs(residuals).sort_values(ascending = False)[:3]\r\n",
                "\r\n",
                "    fig, ax = plt.subplots()\r\n",
                "    fig.set_figwidth(8)\r\n",
                "    fig.set_figheight(6)\r\n",
                "\r\n",
                "    ax.set_ylabel('Residuals')\r\n",
                "    ax.set_xlabel('Fitted Values')\r\n",
                "    ax.set_title('Residuals vs. Fitted')\r\n",
                "\r\n",
                "    ax.scatter(fitted, residuals, edgecolors = 'k', facecolors = 'none')\r\n",
                "    ax.plot(smoothed[:,0],smoothed[:,1],color = 'r')\r\n",
                "\r\n",
                "    ax.plot([min(fitted),max(fitted)],[0,0],color = 'k',linestyle = ':', alpha = .3)\r\n",
                "\r\n",
                "    for i in top3.index:\r\n",
                "        ax.annotate(\" \" + str(i),xy=(fitted[i],residuals[i]))\r\n",
                "\r\n",
                "    plt.show()\r\n",
                "\r\n",
                "def qq_plot(model: \"statsmodels.smf after .fit()\"):\r\n",
                "    sorted_student_residuals = pd.Series(model.get_influence().resid_studentized_internal)\r\n",
                "    sorted_student_residuals.index = model.resid.index\r\n",
                "    sorted_student_residuals = sorted_student_residuals.sort_values(ascending = True)\r\n",
                "\r\n",
                "    df = pd.DataFrame(sorted_student_residuals)\r\n",
                "    df.columns = ['sorted_student_residuals']\r\n",
                "    df['theoretical_quantiles'] = stats.probplot(df['sorted_student_residuals'], dist = 'norm', fit = False)[0]\r\n",
                "\r\n",
                "    rankings = abs(df['sorted_student_residuals']).sort_values(ascending = False)\r\n",
                "\r\n",
                "    top3 = rankings[:3]\r\n",
                "    print(top3)\r\n",
                "\r\n",
                "    fig, ax = plt.subplots()\r\n",
                "    x = df['theoretical_quantiles']\r\n",
                "    y = df['sorted_student_residuals']\r\n",
                "    ax.scatter(x, y, edgecolor = 'black', facecolor = 'none')\r\n",
                "    ax.set_title('Normal Q-Q')\r\n",
                "    ax.set_ylabel('Standardized Residuals')\r\n",
                "    ax.set_xlabel('Theoretical Quantiles')\r\n",
                "\r\n",
                "    ax.plot([np.min([x,y]), np.max([x,y])], [np.min([x,y]), np.max([x,y])], color = 'red', ls = '--')\r\n",
                "\r\n",
                "    for val in top3.index:\r\n",
                "        ax.annotate(\" \" + str(val), xy = (df['theoretical_quantiles'].loc[val], df['sorted_student_residuals'].loc[val]) )\r\n",
                "    plt.show()\r\n",
                "\r\n",
                "def student_standardized_residuals_vs_fitted(model: \"statsmodels.smf after .fit()\"):\r\n",
                "    student_residuals = model.get_influence().resid_studentized_internal\r\n",
                "    sqrt_student_residuals = pd.Series(np.sqrt(np.abs(student_residuals)))\r\n",
                "    sqrt_student_residuals.index = model.resid.index\r\n",
                "    \r\n",
                "    smoothed = lowess(sqrt_student_residuals, model.fittedvalues)\r\n",
                "    top3 = abs(sqrt_student_residuals).sort_values(ascending = False)[:3]\r\n",
                "\r\n",
                "    fig, ax = plt.subplots()\r\n",
                "    ax.scatter(model.fittedvalues, sqrt_student_residuals, edgecolors = 'black', facecolors = 'none')\r\n",
                "    ax.plot(smoothed[:,0], smoothed[:,1], color = 'red')\r\n",
                "    ax.set_ylabel('$\\sqrt{|Studentized \\ Residuals|}$')\r\n",
                "    ax.set_xlabel('Fitted Values')\r\n",
                "    ax.set_title('Scale-Location')\r\n",
                "    ax.set_ylim(0, max(sqrt_student_residuals) + 0.1)\r\n",
                "\r\n",
                "    for i in top3.index:\r\n",
                "        ax.annotate(i,xy=(model.fittedvalues[i],sqrt_student_residuals[i]))\r\n",
                "    plt.show()\r\n",
                "\r\n",
                "def regression_diagnostic_plots(model: \"statsmodels.smf after .fit()\"):\r\n",
                "    fig, ax = plt.subplots(nrows = 2, ncols = 2, figsize = (8, 12))\r\n",
                "\r\n",
                "    residuals = model.resid\r\n",
                "    fitted = model.fittedvalues\r\n",
                "    smoothed = lowess(residuals,fitted)\r\n",
                "    top3 = abs(residuals).sort_values(ascending = False)[:3]\r\n",
                "\r\n",
                "    ax[0, 0].scatter(fitted, residuals, edgecolors = 'k', facecolors = 'none')\r\n",
                "    ax[0, 0].plot(smoothed[:,0],smoothed[:,1],color = 'r')\r\n",
                "\r\n",
                "    ax[0, 0].plot([min(fitted),max(fitted)],[0,0],color = 'k',linestyle = ':', alpha = .3)\r\n",
                "\r\n",
                "\r\n",
                "    ax[0, 0].set_ylabel('Residuals')\r\n",
                "    ax[0, 0].set_xlabel('Fitted Values')\r\n",
                "    ax[0, 0].set_title('Residuals vs. Fitted')\r\n",
                "\r\n",
                "    for i in top3.index:\r\n",
                "        ax[0, 0].annotate(\" \" + str(i),xy=(fitted[i],residuals[i]))\r\n",
                "\r\n",
                "    #plt.show()\r\n",
                "\r\n",
                "    #------------------------------------------\r\n",
                "\r\n",
                "    sorted_student_residuals = pd.Series(model.get_influence().resid_studentized_internal)\r\n",
                "    sorted_student_residuals.index = model.resid.index\r\n",
                "    sorted_student_residuals = sorted_student_residuals.sort_values(ascending = True)\r\n",
                "\r\n",
                "    dfQQ = pd.DataFrame(sorted_student_residuals)\r\n",
                "    dfQQ.columns = ['sorted_student_residuals']\r\n",
                "    dfQQ['theoretical_quantiles'] = stats.probplot(dfQQ['sorted_student_residuals'], dist = 'norm', fit = False)[0]\r\n",
                "\r\n",
                "    rankings = abs(dfQQ['sorted_student_residuals']).sort_values(ascending = False)\r\n",
                "\r\n",
                "    top3 = rankings[:3]\r\n",
                "    #print(top3)\r\n",
                "\r\n",
                "    x = dfQQ['theoretical_quantiles']\r\n",
                "    y = dfQQ['sorted_student_residuals'] \r\n",
                "    ax[0, 1].scatter(x, y, edgecolor = 'black', facecolor = 'none')\r\n",
                "    ax[0, 1].set_title('Normal Q-Q')\r\n",
                "    ax[0, 1].set_ylabel('Standardized Residuals')\r\n",
                "    ax[0, 1].set_xlabel('Theoretical Quantiles')\r\n",
                "\r\n",
                "    ax[0, 1].plot([np.min([x,y]), np.max([x,y])], [np.min([x,y]), np.max([x,y])], color = 'red', ls = '--')\r\n",
                "\r\n",
                "    for val in top3.index:\r\n",
                "        ax[0, 1].annotate(\" \" + str(val), xy = (dfQQ['theoretical_quantiles'].loc[val], dfQQ['sorted_student_residuals'].loc[val]) )\r\n",
                "\r\n",
                "    #plt.show()\r\n",
                "\r\n",
                "    #------------------------------------------\r\n",
                "\r\n",
                "    student_residuals = model.get_influence().resid_studentized_internal\r\n",
                "    sqrt_student_residuals = pd.Series(np.sqrt(np.abs(student_residuals)))\r\n",
                "    sqrt_student_residuals.index = model.resid.index\r\n",
                "    \r\n",
                "    smoothed = lowess(sqrt_student_residuals, model.fittedvalues)\r\n",
                "    top3 = abs(sqrt_student_residuals).sort_values(ascending = False)[:3]\r\n",
                "\r\n",
                "    ax[1, 0].scatter(model.fittedvalues, sqrt_student_residuals, edgecolors = 'black', facecolors = 'none')\r\n",
                "    ax[1, 0].plot(smoothed[:,0], smoothed[:,1], color = 'red')\r\n",
                "    ax[1, 0].set_ylabel('$\\sqrt{|Studentized \\ Residuals|}$')\r\n",
                "    ax[1, 0].set_xlabel('Fitted Values')\r\n",
                "    ax[1, 0].set_title('Scale-Location')\r\n",
                "    ax[1, 0].set_ylim(0, max(sqrt_student_residuals) + 0.1)\r\n",
                "\r\n",
                "    for i in top3.index:\r\n",
                "        ax[1, 0].annotate(i, xy=(model.fittedvalues[i], sqrt_student_residuals[i]))\r\n",
                "\r\n",
                "    #plt.show()\r\n",
                "\r\n",
                "\r\n",
                "    #------------------------------------------\r\n",
                "\r\n",
                "    influence_plot(model, ax = ax[1, 1])\r\n",
                "    ax[1, 1].set_title(\"Influence Plot\", pad = 20)\r\n",
                "    ax[1, 1].set_xlabel('H Leverage', fontsize = 12)\r\n",
                "    ax[1, 1].set_ylabel('Studentized Residuals', fontsize = 12)\r\n",
                "\r\n",
                "    fig.set_figwidth(12.8)\r\n",
                "    fig.set_figheight(7.2)\r\n",
                "    fig.tight_layout()\r\n",
                "    \r\n",
                "    plt.show(ax.all())"
            ],
            "outputs": [],
            "metadata": {}
        },
        {
            "cell_type": "code",
            "execution_count": null,
            "source": [
                "df = pd.read_csv(\"Datasets/sleepdata.csv\", delimiter=\";\", header = 0)\r\n",
                "df.dropna(inplace=True)\r\n",
                "df.head()"
            ],
            "outputs": [],
            "metadata": {}
        },
        {
            "cell_type": "code",
            "execution_count": null,
            "source": [
                "f\"This dataset has {df.shape[0]} rows and {df.shape[1]} columns.\""
            ],
            "outputs": [],
            "metadata": {}
        },
        {
            "cell_type": "code",
            "execution_count": null,
            "source": [
                "df.head(5)"
            ],
            "outputs": [],
            "metadata": {}
        },
        {
            "cell_type": "code",
            "execution_count": null,
            "source": [
                "df.dtypes"
            ],
            "outputs": [],
            "metadata": {}
        },
        {
            "cell_type": "markdown",
            "source": [
                "We'll change the start and end columns to the datetime data type, and convert time in bed to minutes."
            ],
            "metadata": {}
        },
        {
            "cell_type": "code",
            "execution_count": null,
            "source": [
                "#Convert the dates to datetime, and convert \"time in bed\" to a quantitative variable, measured in minutes\r\n",
                "df[\"Start\"] = pd.to_datetime(df[\"Start\"])\r\n",
                "df[\"End\"] = pd.to_datetime(df[\"End\"])\r\n",
                "\r\n",
                "i = 0\r\n",
                "for time in df[\"Time in bed\"]:\r\n",
                "    #print(time)\r\n",
                "    df[\"Time in bed\"].iloc[i] = int(df[\"Time in bed\"].iloc[i].split(\":\")[0]) * 60 + int(df[\"Time in bed\"].iloc[i].split(\":\")[1])\r\n",
                "    i += 1\r\n",
                "    if i >= df.shape[0]:\r\n",
                "        break\r\n",
                "\r\n",
                "df[\"Time in bed\"] = pd.to_numeric(df[\"Time in bed\"], downcast=\"float\")\r\n",
                "df.head()"
            ],
            "outputs": [],
            "metadata": {}
        },
        {
            "cell_type": "code",
            "execution_count": null,
            "source": [
                "df.dtypes"
            ],
            "outputs": [],
            "metadata": {}
        },
        {
            "cell_type": "markdown",
            "source": [
                "Next, we'll split up the sleep notes into multiple boolean columns.\r\n"
            ],
            "metadata": {}
        },
        {
            "cell_type": "code",
            "execution_count": null,
            "source": [
                "#Get all possible unique vales of the \"sleep notes\" column\r\n",
                "uniqueSleepNotes = []\r\n",
                "for notes in df[\"Sleep Notes\"]:\r\n",
                "    if pd.notna(notes):\r\n",
                "        if \":\" in notes:\r\n",
                "            #print(notes.split(\":\"))\r\n",
                "            for item in notes.split(\":\"):\r\n",
                "                [uniqueSleepNotes.append(item) for item in notes.split(\":\") if item not in uniqueSleepNotes]\r\n",
                "\r\n",
                "f\"The potential values for Sleep Notes are: {uniqueSleepNotes}\""
            ],
            "outputs": [],
            "metadata": {}
        },
        {
            "cell_type": "code",
            "execution_count": null,
            "source": [
                "#This section replaces NaN in the \"sleep notes\" column with None, and codes the new categorical variables as booleans with 0 or 1 values.\r\n",
                "df[\"Sleep Notes\"] = df[\"Sleep Notes\"].fillna(\"None\")\r\n",
                "\r\n",
                "for note in uniqueSleepNotes:\r\n",
                "    df[note] = False\r\n",
                "\r\n",
                "df.head(5)\r\n",
                "\r\n",
                "i = 0\r\n",
                "for notes in df[\"Sleep Notes\"]:\r\n",
                "    if \"None\" in notes:\r\n",
                "        #print(notes)\r\n",
                "        i += 1\r\n",
                "    elif \":\" not in notes:\r\n",
                "        #print(notes)\r\n",
                "        df[notes].iloc[i] = True\r\n",
                "        i += 1\r\n",
                "    elif \":\" in notes:\r\n",
                "        for item in notes.split(\":\"):\r\n",
                "            df[item].iloc[i] = True\r\n",
                "        i += 1\r\n",
                "\r\n",
                "for note in uniqueSleepNotes:\r\n",
                "    df[note] = df[note].astype(\"int\")"
            ],
            "outputs": [],
            "metadata": {}
        },
        {
            "cell_type": "code",
            "execution_count": null,
            "source": [
                "#This section codes the \"wake up column\" as ordinal, with :) being 2 and :( being 0.\r\n",
                "df = df.dropna()\r\n",
                "\r\n",
                "i = 0 \r\n",
                "for emoticon in df[\"Wake up\"]:\r\n",
                "    if \":)\" in emoticon:\r\n",
                "        df[\"Wake up\"].iloc[i] = 2\r\n",
                "        i += 1\r\n",
                "    if \":|\" in emoticon:\r\n",
                "        df[\"Wake up\"].iloc[i] = 1\r\n",
                "        i += 1\r\n",
                "    if \":(\" in emoticon:\r\n",
                "        df[\"Wake up\"].iloc[i] = 0\r\n",
                "        i += 1"
            ],
            "outputs": [],
            "metadata": {}
        },
        {
            "cell_type": "code",
            "execution_count": null,
            "source": [
                "fig = px.box(df[\"Time in bed\"])\r\n",
                "fig.show()"
            ],
            "outputs": [],
            "metadata": {}
        },
        {
            "cell_type": "markdown",
            "source": [
                "We'll remove an egregious outlier:"
            ],
            "metadata": {}
        },
        {
            "cell_type": "code",
            "execution_count": null,
            "source": [
                "df = df.drop(1)"
            ],
            "outputs": [],
            "metadata": {}
        },
        {
            "cell_type": "code",
            "execution_count": null,
            "source": [
                "fig = px.box(df[\"Time in bed\"])\r\n",
                "fig.show()"
            ],
            "outputs": [],
            "metadata": {}
        },
        {
            "cell_type": "code",
            "execution_count": null,
            "source": [
                "df.head()"
            ],
            "outputs": [],
            "metadata": {}
        },
        {
            "cell_type": "markdown",
            "source": [
                "For the analysis, we'll conduct an ANOVA (Analysis of Variance) test, as we have a continuous dependent variable and categorical variables."
            ],
            "metadata": {}
        },
        {
            "cell_type": "code",
            "execution_count": null,
            "source": [
                "#print('Mean Absolute Error:', metrics.mean_absolute_error(y_test, y_pred))  \r\n",
                "#print('Mean Squared Error:', metrics.mean_squared_error(y_test, y_pred))  \r\n",
                "#print('Root Mean Squared Error:', np.sqrt(metrics.mean_squared_error(y_test, y_pred)))\r\n",
                "\r\n",
                "#print(r2_score(y_test, y_pred))\r\n",
                "#df.head(5)"
            ],
            "outputs": [],
            "metadata": {}
        },
        {
            "cell_type": "code",
            "execution_count": null,
            "source": [
                "y = df[\"Time in bed\"]\r\n",
                "x = df[[\"Wake up\", \"Drank coffee\", \"Drank tea\", \"Ate late\", \"Worked out\", \"Stressful day\", \"Heart rate\"]]\r\n",
                "\r\n",
                "x_train, x_test, y_train, y_test = train_test_split(x, y, test_size=0.2, random_state=1)\r\n",
                "\r\n",
                "dfTrain = pd.DataFrame({\r\n",
                "    \"Wake_up\": x_train[\"Wake up\"],\r\n",
                "    \"Drank_coffee\": x_train[\"Drank coffee\"],\r\n",
                "    \"Drank_tea\": x_train[\"Drank tea\"],\r\n",
                "    \"Ate_late\": x_train[\"Ate late\"],\r\n",
                "    \"Worked_out\": x_train[\"Worked out\"],\r\n",
                "    \"Stressful_day\": x_train[\"Stressful day\"],\r\n",
                "    \"Heart_rate\": x_train[\"Heart rate\"],\r\n",
                "    \"Time_in_bed\": y_train\r\n",
                "})"
            ],
            "outputs": [],
            "metadata": {}
        },
        {
            "cell_type": "code",
            "execution_count": null,
            "source": [
                "anova = ols('Time_in_bed ~ C(Drank_coffee) + C(Drank_tea) + C(Wake_up) + C(Ate_late) + C(Worked_out) + C(Stressful_day)', data = dfTrain).fit()"
            ],
            "outputs": [],
            "metadata": {}
        },
        {
            "cell_type": "markdown",
            "source": [
                "We need to check the assumptions of ANOVA to see if the method is appropriate:\r\n",
                "- The residuals should be normally distributed\r\n",
                "- The homoscedasticity of error variances (the error variances are homogenous)\r\n",
                "- The observations are independent of one another\r\n",
                "\r\n",
                "We can use some diagnostic plots to accomplish this.\r\n"
            ],
            "metadata": {}
        },
        {
            "cell_type": "code",
            "execution_count": null,
            "source": [
                "anova = ols('Time_in_bed ~ C(Drank_coffee) + C(Drank_tea) + C(Wake_up) + C(Ate_late) + C(Worked_out) + C(Stressful_day)', data = dfTrain).fit()\r\n",
                "\r\n",
                "regression_diagnostic_plots(anova)"
            ],
            "outputs": [],
            "metadata": {}
        },
        {
            "cell_type": "markdown",
            "source": [
                "The normal Q-Q plot suggests that the dependent variable is normally distributed, and the residuals vs. fitted plot shows that the homogeneity of the errors is met. Without anything to the contrary, we can assume that the observations are independent. Let's take look at the output: "
            ],
            "metadata": {}
        },
        {
            "cell_type": "code",
            "execution_count": null,
            "source": [
                "print(anova.summary())"
            ],
            "outputs": [],
            "metadata": {}
        },
        {
            "cell_type": "markdown",
            "source": [
                "Next, we'll remove the variables that are not significant."
            ],
            "metadata": {}
        },
        {
            "cell_type": "code",
            "execution_count": null,
            "source": [
                "anova = ols('Time_in_bed ~ C(Wake_up) + C(Worked_out)', data = dfTrain).fit()\r\n",
                "\r\n",
                "print(anova.summary())"
            ],
            "outputs": [],
            "metadata": {}
        },
        {
            "cell_type": "markdown",
            "source": [
                "After doing manual stepwise adjustments (removing and adding variables as the p-values dictate), we are left over with only \"Wake up\" and \"Worked out\".\r\n",
                "\r\n",
                "Clearly, using only these categorical variables cannot explain the variance in sleep time on their own. While \"Wake up\" and \"Worked out\" are significant, meaning they do have an effect on the response, the adjusted R-squared is very low. In the future, it may be worth it to consider these 3 variables on other analyses, as they explain something about \"Time in bed\", and may be bolstered by other, new variables."
            ],
            "metadata": {}
        },
        {
            "cell_type": "markdown",
            "source": [],
            "metadata": {}
        }
    ],
    "metadata": {
        "orig_nbformat": 4,
        "language_info": {
            "name": "python",
            "version": "3.8.11",
            "mimetype": "text/x-python",
            "codemirror_mode": {
                "name": "ipython",
                "version": 3
            },
            "pygments_lexer": "ipython3",
            "nbconvert_exporter": "python",
            "file_extension": ".py"
        },
        "kernelspec": {
            "name": "python3",
            "display_name": "Python 3.8.11 64-bit ('base': conda)"
        },
        "interpreter": {
            "hash": "b2c5e44d31b875738ed638c71f6d3072afbbc08fcbfca63303afa3e2eb11ddc0"
        }
    },
    "nbformat": 4,
    "nbformat_minor": 2
}