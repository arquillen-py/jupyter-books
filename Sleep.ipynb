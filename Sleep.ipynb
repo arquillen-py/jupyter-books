{
    "cells": [
        {
            "cell_type": "markdown",
            "source": [
                "# Sleep Quality Study\r\n",
                "This dataset is from the app Sleep Cycle, between 2014 and 2018, and includes some interesting qualitative variables.\r\n",
                "\r\n",
                "Source: https://www.kaggle.com/danagerous/sleep-data, accessed on August 13th, 2020."
            ],
            "metadata": {}
        },
        {
            "cell_type": "markdown",
            "source": [
                "## The Dataset\r\n",
                "Number of Rows | Number of Columns | One Row Represents\r\n",
                "------------- | ------------- | -------------\r\n",
                "887 | 8 | One app user's night sleep"
            ],
            "metadata": {}
        },
        {
            "cell_type": "markdown",
            "source": [
                "## Data Cleaning\r\n",
                "To start, we'll clean up the data, and split up a column to create some new features."
            ],
            "metadata": {}
        },
        {
            "cell_type": "code",
            "execution_count": 22,
            "source": [
                "#%%capture\r\n",
                "# Import packages\r\n",
                "import pandas as pd\r\n",
                "import numpy as np\r\n",
                "import matplotlib.pyplot as plt\r\n",
                "import matplotlib.ticker as tick\r\n",
                "from sklearn.linear_model import LinearRegression\r\n",
                "from sklearn.metrics import r2_score\r\n",
                "from sklearn.model_selection import train_test_split\r\n",
                "from sklearn import metrics\r\n",
                "\r\n",
                "from scipy import stats\r\n",
                "\r\n",
                "try:\r\n",
                "    import statsmodels.api as sm\r\n",
                "    import statsmodels.formula.api as smf       \r\n",
                "    from statsmodels.nonparametric.smoothers_lowess import lowess\r\n",
                "    from statsmodels.graphics.regressionplots import influence_plot\r\n",
                "    from statsmodels.formula.api import ols\r\n",
                "    print(\"Imported statsmodels successfully\")\r\n",
                "except ModuleNotFoundError:\r\n",
                "    %pip install statsmodels\r\n",
                "    import statsmodels.api as sm\r\n",
                "    import statsmodels.formula.api as smf\r\n",
                "    from statsmodels.nonparametric.smoothers_lowess import lowess\r\n",
                "    from statsmodels.graphics.regressionplots import influence_plot\r\n",
                "    from statsmodels.formula.api import ols\r\n",
                "\r\n",
                "\r\n",
                "import statsmodels.api as sm\r\n",
                "import statsmodels.formula.api as smf\r\n",
                "from statsmodels.nonparametric.smoothers_lowess import lowess\r\n",
                "from statsmodels.graphics.regressionplots import influence_plot\r\n",
                "\r\n",
                "#from IPython.core.interactiveshell import InteractiveShell\r\n",
                "#InteractiveShell.ast_node_interactivity = \"all\" # Print multiple output in one cell\r\n",
                "\r\n",
                "try:\r\n",
                "    import seaborn as sns\r\n",
                "    print(\"Module 'seaborn' is installed\")\r\n",
                "except ModuleNotFoundError:\r\n",
                "    %pip install seaborn\r\n",
                "    import seaborn as sns\r\n",
                "\r\n",
                "import plotly.express as px"
            ],
            "outputs": [
                {
                    "output_type": "stream",
                    "name": "stdout",
                    "text": [
                        "Imported statsmodels successfully\n",
                        "Module 'seaborn' is installed\n"
                    ]
                }
            ],
            "metadata": {}
        },
        {
            "cell_type": "code",
            "execution_count": 23,
            "source": [
                "#Thanks to Jason Sadowski @ towardsdatascience.com for his article on these R-style regression diganostic plots!\r\n",
                "#https://towardsdatascience.com/going-from-r-to-python-linear-regression-diagnostic-plots-144d1c4aa5a\r\n",
                "\r\n",
                "def residuals_vs_fitted_plot(model: \"statsmodels.smf model after .fit()\"):\r\n",
                "    residuals = model.resid\r\n",
                "    fitted = model.fittedvalues\r\n",
                "    smoothed = lowess(residuals,fitted)\r\n",
                "    top3 = abs(residuals).sort_values(ascending = False)[:3]\r\n",
                "\r\n",
                "    fig, ax = plt.subplots()\r\n",
                "    fig.set_figwidth(8)\r\n",
                "    fig.set_figheight(6)\r\n",
                "\r\n",
                "    ax.set_ylabel('Residuals')\r\n",
                "    ax.set_xlabel('Fitted Values')\r\n",
                "    ax.set_title('Residuals vs. Fitted')\r\n",
                "\r\n",
                "    ax.scatter(fitted, residuals, edgecolors = 'k', facecolors = 'none')\r\n",
                "    ax.plot(smoothed[:,0],smoothed[:,1],color = 'r')\r\n",
                "\r\n",
                "    ax.plot([min(fitted),max(fitted)],[0,0],color = 'k',linestyle = ':', alpha = .3)\r\n",
                "\r\n",
                "    for i in top3.index:\r\n",
                "        ax.annotate(\" \" + str(i),xy=(fitted[i],residuals[i]))\r\n",
                "\r\n",
                "    plt.show()\r\n",
                "\r\n",
                "def qq_plot(model: \"statsmodels.smf after .fit()\"):\r\n",
                "    sorted_student_residuals = pd.Series(model.get_influence().resid_studentized_internal)\r\n",
                "    sorted_student_residuals.index = model.resid.index\r\n",
                "    sorted_student_residuals = sorted_student_residuals.sort_values(ascending = True)\r\n",
                "\r\n",
                "    df = pd.DataFrame(sorted_student_residuals)\r\n",
                "    df.columns = ['sorted_student_residuals']\r\n",
                "    df['theoretical_quantiles'] = stats.probplot(df['sorted_student_residuals'], dist = 'norm', fit = False)[0]\r\n",
                "\r\n",
                "    rankings = abs(df['sorted_student_residuals']).sort_values(ascending = False)\r\n",
                "\r\n",
                "    top3 = rankings[:3]\r\n",
                "    print(top3)\r\n",
                "\r\n",
                "    fig, ax = plt.subplots()\r\n",
                "    x = df['theoretical_quantiles']\r\n",
                "    y = df['sorted_student_residuals']\r\n",
                "    ax.scatter(x, y, edgecolor = 'black', facecolor = 'none')\r\n",
                "    ax.set_title('Normal Q-Q')\r\n",
                "    ax.set_ylabel('Standardized Residuals')\r\n",
                "    ax.set_xlabel('Theoretical Quantiles')\r\n",
                "\r\n",
                "    ax.plot([np.min([x,y]), np.max([x,y])], [np.min([x,y]), np.max([x,y])], color = 'red', ls = '--')\r\n",
                "\r\n",
                "    for val in top3.index:\r\n",
                "        ax.annotate(\" \" + str(val), xy = (df['theoretical_quantiles'].loc[val], df['sorted_student_residuals'].loc[val]) )\r\n",
                "    plt.show()\r\n",
                "\r\n",
                "def student_standardized_residuals_vs_fitted(model: \"statsmodels.smf after .fit()\"):\r\n",
                "    student_residuals = model.get_influence().resid_studentized_internal\r\n",
                "    sqrt_student_residuals = pd.Series(np.sqrt(np.abs(student_residuals)))\r\n",
                "    sqrt_student_residuals.index = model.resid.index\r\n",
                "    \r\n",
                "    smoothed = lowess(sqrt_student_residuals, model.fittedvalues)\r\n",
                "    top3 = abs(sqrt_student_residuals).sort_values(ascending = False)[:3]\r\n",
                "\r\n",
                "    fig, ax = plt.subplots()\r\n",
                "    ax.scatter(model.fittedvalues, sqrt_student_residuals, edgecolors = 'black', facecolors = 'none')\r\n",
                "    ax.plot(smoothed[:,0], smoothed[:,1], color = 'red')\r\n",
                "    ax.set_ylabel('$\\sqrt{|Studentized \\ Residuals|}$')\r\n",
                "    ax.set_xlabel('Fitted Values')\r\n",
                "    ax.set_title('Scale-Location')\r\n",
                "    ax.set_ylim(0, max(sqrt_student_residuals) + 0.1)\r\n",
                "\r\n",
                "    for i in top3.index:\r\n",
                "        ax.annotate(i,xy=(model.fittedvalues[i],sqrt_student_residuals[i]))\r\n",
                "    plt.show()\r\n",
                "\r\n",
                "def regression_diagnostic_plots(model: \"statsmodels.smf after .fit()\"):\r\n",
                "    fig, ax = plt.subplots(nrows = 2, ncols = 2, figsize = (8, 12))\r\n",
                "\r\n",
                "    residuals = model.resid\r\n",
                "    fitted = model.fittedvalues\r\n",
                "    smoothed = lowess(residuals,fitted)\r\n",
                "    top3 = abs(residuals).sort_values(ascending = False)[:3]\r\n",
                "\r\n",
                "    ax[0, 0].scatter(fitted, residuals, edgecolors = 'k', facecolors = 'none')\r\n",
                "    ax[0, 0].plot(smoothed[:,0],smoothed[:,1],color = 'r')\r\n",
                "\r\n",
                "    ax[0, 0].plot([min(fitted),max(fitted)],[0,0],color = 'k',linestyle = ':', alpha = .3)\r\n",
                "\r\n",
                "\r\n",
                "    ax[0, 0].set_ylabel('Residuals')\r\n",
                "    ax[0, 0].set_xlabel('Fitted Values')\r\n",
                "    ax[0, 0].set_title('Residuals vs. Fitted')\r\n",
                "\r\n",
                "    for i in top3.index:\r\n",
                "        ax[0, 0].annotate(\" \" + str(i),xy=(fitted[i],residuals[i]))\r\n",
                "\r\n",
                "    #plt.show()\r\n",
                "\r\n",
                "    #------------------------------------------\r\n",
                "\r\n",
                "    sorted_student_residuals = pd.Series(model.get_influence().resid_studentized_internal)\r\n",
                "    sorted_student_residuals.index = model.resid.index\r\n",
                "    sorted_student_residuals = sorted_student_residuals.sort_values(ascending = True)\r\n",
                "\r\n",
                "    dfQQ = pd.DataFrame(sorted_student_residuals)\r\n",
                "    dfQQ.columns = ['sorted_student_residuals']\r\n",
                "    dfQQ['theoretical_quantiles'] = stats.probplot(dfQQ['sorted_student_residuals'], dist = 'norm', fit = False)[0]\r\n",
                "\r\n",
                "    rankings = abs(dfQQ['sorted_student_residuals']).sort_values(ascending = False)\r\n",
                "\r\n",
                "    top3 = rankings[:3]\r\n",
                "    #print(top3)\r\n",
                "\r\n",
                "    x = dfQQ['theoretical_quantiles']\r\n",
                "    y = dfQQ['sorted_student_residuals'] \r\n",
                "    ax[0, 1].scatter(x, y, edgecolor = 'black', facecolor = 'none')\r\n",
                "    ax[0, 1].set_title('Normal Q-Q')\r\n",
                "    ax[0, 1].set_ylabel('Standardized Residuals')\r\n",
                "    ax[0, 1].set_xlabel('Theoretical Quantiles')\r\n",
                "\r\n",
                "    ax[0, 1].plot([np.min([x,y]), np.max([x,y])], [np.min([x,y]), np.max([x,y])], color = 'red', ls = '--')\r\n",
                "\r\n",
                "    for val in top3.index:\r\n",
                "        ax[0, 1].annotate(\" \" + str(val), xy = (dfQQ['theoretical_quantiles'].loc[val], dfQQ['sorted_student_residuals'].loc[val]) )\r\n",
                "\r\n",
                "    #plt.show()\r\n",
                "\r\n",
                "    #------------------------------------------\r\n",
                "\r\n",
                "    student_residuals = model.get_influence().resid_studentized_internal\r\n",
                "    sqrt_student_residuals = pd.Series(np.sqrt(np.abs(student_residuals)))\r\n",
                "    sqrt_student_residuals.index = model.resid.index\r\n",
                "    \r\n",
                "    smoothed = lowess(sqrt_student_residuals, model.fittedvalues)\r\n",
                "    top3 = abs(sqrt_student_residuals).sort_values(ascending = False)[:3]\r\n",
                "\r\n",
                "    ax[1, 0].scatter(model.fittedvalues, sqrt_student_residuals, edgecolors = 'black', facecolors = 'none')\r\n",
                "    ax[1, 0].plot(smoothed[:,0], smoothed[:,1], color = 'red')\r\n",
                "    ax[1, 0].set_ylabel('$\\sqrt{|Studentized \\ Residuals|}$')\r\n",
                "    ax[1, 0].set_xlabel('Fitted Values')\r\n",
                "    ax[1, 0].set_title('Scale-Location')\r\n",
                "    ax[1, 0].set_ylim(0, max(sqrt_student_residuals) + 0.1)\r\n",
                "\r\n",
                "    for i in top3.index:\r\n",
                "        ax[1, 0].annotate(i, xy=(model.fittedvalues[i], sqrt_student_residuals[i]))\r\n",
                "\r\n",
                "    #plt.show()\r\n",
                "\r\n",
                "\r\n",
                "    #------------------------------------------\r\n",
                "\r\n",
                "    influence_plot(model, ax = ax[1, 1])\r\n",
                "    ax[1, 1].set_title(\"Influence Plot\", pad = 20)\r\n",
                "    ax[1, 1].set_xlabel('H Leverage', fontsize = 12)\r\n",
                "    ax[1, 1].set_ylabel('Studentized Residuals', fontsize = 12)\r\n",
                "\r\n",
                "    fig.set_figwidth(12.8)\r\n",
                "    fig.set_figheight(7.2)\r\n",
                "    fig.tight_layout()\r\n",
                "    \r\n",
                "    plt.show(ax.all())"
            ],
            "outputs": [],
            "metadata": {}
        },
        {
            "cell_type": "code",
            "execution_count": 24,
            "source": [
                "df = pd.read_csv(\"Datasets/sleepdata.csv\", delimiter=\";\", header = 0)\r\n",
                "df.dropna(inplace=True)\r\n",
                "df.head()"
            ],
            "outputs": [
                {
                    "output_type": "execute_result",
                    "data": {
                        "text/plain": [
                            "                 Start                  End Sleep quality Time in bed Wake up  \\\n",
                            "1  2014-12-30 21:17:50  2014-12-30 21:33:54            3%        0:16      :|   \n",
                            "4  2015-01-01 22:12:10  2015-01-02 04:56:35           72%        6:44      :)   \n",
                            "5  2015-01-03 00:34:57  2015-01-03 07:47:23           83%        7:12      :)   \n",
                            "7  2015-01-04 21:34:44  2015-01-05 04:53:34           78%        7:18      :)   \n",
                            "8  2015-01-05 21:32:25  2015-01-06 05:00:03           69%        7:27      :)   \n",
                            "\n",
                            "                         Sleep Notes  Heart rate  Activity (steps)  \n",
                            "1                      Stressful day        72.0                 0  \n",
                            "4             Drank coffee:Drank tea        68.0                 0  \n",
                            "5             Drank coffee:Drank tea        60.0                 0  \n",
                            "7              Ate late:Drank coffee        57.0                 0  \n",
                            "8  Drank coffee:Drank tea:Worked out        56.0                 0  "
                        ],
                        "text/html": [
                            "<div>\n",
                            "<style scoped>\n",
                            "    .dataframe tbody tr th:only-of-type {\n",
                            "        vertical-align: middle;\n",
                            "    }\n",
                            "\n",
                            "    .dataframe tbody tr th {\n",
                            "        vertical-align: top;\n",
                            "    }\n",
                            "\n",
                            "    .dataframe thead th {\n",
                            "        text-align: right;\n",
                            "    }\n",
                            "</style>\n",
                            "<table border=\"1\" class=\"dataframe\">\n",
                            "  <thead>\n",
                            "    <tr style=\"text-align: right;\">\n",
                            "      <th></th>\n",
                            "      <th>Start</th>\n",
                            "      <th>End</th>\n",
                            "      <th>Sleep quality</th>\n",
                            "      <th>Time in bed</th>\n",
                            "      <th>Wake up</th>\n",
                            "      <th>Sleep Notes</th>\n",
                            "      <th>Heart rate</th>\n",
                            "      <th>Activity (steps)</th>\n",
                            "    </tr>\n",
                            "  </thead>\n",
                            "  <tbody>\n",
                            "    <tr>\n",
                            "      <th>1</th>\n",
                            "      <td>2014-12-30 21:17:50</td>\n",
                            "      <td>2014-12-30 21:33:54</td>\n",
                            "      <td>3%</td>\n",
                            "      <td>0:16</td>\n",
                            "      <td>:|</td>\n",
                            "      <td>Stressful day</td>\n",
                            "      <td>72.0</td>\n",
                            "      <td>0</td>\n",
                            "    </tr>\n",
                            "    <tr>\n",
                            "      <th>4</th>\n",
                            "      <td>2015-01-01 22:12:10</td>\n",
                            "      <td>2015-01-02 04:56:35</td>\n",
                            "      <td>72%</td>\n",
                            "      <td>6:44</td>\n",
                            "      <td>:)</td>\n",
                            "      <td>Drank coffee:Drank tea</td>\n",
                            "      <td>68.0</td>\n",
                            "      <td>0</td>\n",
                            "    </tr>\n",
                            "    <tr>\n",
                            "      <th>5</th>\n",
                            "      <td>2015-01-03 00:34:57</td>\n",
                            "      <td>2015-01-03 07:47:23</td>\n",
                            "      <td>83%</td>\n",
                            "      <td>7:12</td>\n",
                            "      <td>:)</td>\n",
                            "      <td>Drank coffee:Drank tea</td>\n",
                            "      <td>60.0</td>\n",
                            "      <td>0</td>\n",
                            "    </tr>\n",
                            "    <tr>\n",
                            "      <th>7</th>\n",
                            "      <td>2015-01-04 21:34:44</td>\n",
                            "      <td>2015-01-05 04:53:34</td>\n",
                            "      <td>78%</td>\n",
                            "      <td>7:18</td>\n",
                            "      <td>:)</td>\n",
                            "      <td>Ate late:Drank coffee</td>\n",
                            "      <td>57.0</td>\n",
                            "      <td>0</td>\n",
                            "    </tr>\n",
                            "    <tr>\n",
                            "      <th>8</th>\n",
                            "      <td>2015-01-05 21:32:25</td>\n",
                            "      <td>2015-01-06 05:00:03</td>\n",
                            "      <td>69%</td>\n",
                            "      <td>7:27</td>\n",
                            "      <td>:)</td>\n",
                            "      <td>Drank coffee:Drank tea:Worked out</td>\n",
                            "      <td>56.0</td>\n",
                            "      <td>0</td>\n",
                            "    </tr>\n",
                            "  </tbody>\n",
                            "</table>\n",
                            "</div>"
                        ]
                    },
                    "metadata": {},
                    "execution_count": 24
                }
            ],
            "metadata": {}
        },
        {
            "cell_type": "code",
            "execution_count": 25,
            "source": [
                "f\"This dataset has {df.shape[0]} rows and {df.shape[1]} columns.\""
            ],
            "outputs": [
                {
                    "output_type": "execute_result",
                    "data": {
                        "text/plain": [
                            "'This dataset has 155 rows and 8 columns.'"
                        ]
                    },
                    "metadata": {},
                    "execution_count": 25
                }
            ],
            "metadata": {}
        },
        {
            "cell_type": "code",
            "execution_count": 26,
            "source": [
                "df.head(5)"
            ],
            "outputs": [
                {
                    "output_type": "execute_result",
                    "data": {
                        "text/plain": [
                            "                 Start                  End Sleep quality Time in bed Wake up  \\\n",
                            "1  2014-12-30 21:17:50  2014-12-30 21:33:54            3%        0:16      :|   \n",
                            "4  2015-01-01 22:12:10  2015-01-02 04:56:35           72%        6:44      :)   \n",
                            "5  2015-01-03 00:34:57  2015-01-03 07:47:23           83%        7:12      :)   \n",
                            "7  2015-01-04 21:34:44  2015-01-05 04:53:34           78%        7:18      :)   \n",
                            "8  2015-01-05 21:32:25  2015-01-06 05:00:03           69%        7:27      :)   \n",
                            "\n",
                            "                         Sleep Notes  Heart rate  Activity (steps)  \n",
                            "1                      Stressful day        72.0                 0  \n",
                            "4             Drank coffee:Drank tea        68.0                 0  \n",
                            "5             Drank coffee:Drank tea        60.0                 0  \n",
                            "7              Ate late:Drank coffee        57.0                 0  \n",
                            "8  Drank coffee:Drank tea:Worked out        56.0                 0  "
                        ],
                        "text/html": [
                            "<div>\n",
                            "<style scoped>\n",
                            "    .dataframe tbody tr th:only-of-type {\n",
                            "        vertical-align: middle;\n",
                            "    }\n",
                            "\n",
                            "    .dataframe tbody tr th {\n",
                            "        vertical-align: top;\n",
                            "    }\n",
                            "\n",
                            "    .dataframe thead th {\n",
                            "        text-align: right;\n",
                            "    }\n",
                            "</style>\n",
                            "<table border=\"1\" class=\"dataframe\">\n",
                            "  <thead>\n",
                            "    <tr style=\"text-align: right;\">\n",
                            "      <th></th>\n",
                            "      <th>Start</th>\n",
                            "      <th>End</th>\n",
                            "      <th>Sleep quality</th>\n",
                            "      <th>Time in bed</th>\n",
                            "      <th>Wake up</th>\n",
                            "      <th>Sleep Notes</th>\n",
                            "      <th>Heart rate</th>\n",
                            "      <th>Activity (steps)</th>\n",
                            "    </tr>\n",
                            "  </thead>\n",
                            "  <tbody>\n",
                            "    <tr>\n",
                            "      <th>1</th>\n",
                            "      <td>2014-12-30 21:17:50</td>\n",
                            "      <td>2014-12-30 21:33:54</td>\n",
                            "      <td>3%</td>\n",
                            "      <td>0:16</td>\n",
                            "      <td>:|</td>\n",
                            "      <td>Stressful day</td>\n",
                            "      <td>72.0</td>\n",
                            "      <td>0</td>\n",
                            "    </tr>\n",
                            "    <tr>\n",
                            "      <th>4</th>\n",
                            "      <td>2015-01-01 22:12:10</td>\n",
                            "      <td>2015-01-02 04:56:35</td>\n",
                            "      <td>72%</td>\n",
                            "      <td>6:44</td>\n",
                            "      <td>:)</td>\n",
                            "      <td>Drank coffee:Drank tea</td>\n",
                            "      <td>68.0</td>\n",
                            "      <td>0</td>\n",
                            "    </tr>\n",
                            "    <tr>\n",
                            "      <th>5</th>\n",
                            "      <td>2015-01-03 00:34:57</td>\n",
                            "      <td>2015-01-03 07:47:23</td>\n",
                            "      <td>83%</td>\n",
                            "      <td>7:12</td>\n",
                            "      <td>:)</td>\n",
                            "      <td>Drank coffee:Drank tea</td>\n",
                            "      <td>60.0</td>\n",
                            "      <td>0</td>\n",
                            "    </tr>\n",
                            "    <tr>\n",
                            "      <th>7</th>\n",
                            "      <td>2015-01-04 21:34:44</td>\n",
                            "      <td>2015-01-05 04:53:34</td>\n",
                            "      <td>78%</td>\n",
                            "      <td>7:18</td>\n",
                            "      <td>:)</td>\n",
                            "      <td>Ate late:Drank coffee</td>\n",
                            "      <td>57.0</td>\n",
                            "      <td>0</td>\n",
                            "    </tr>\n",
                            "    <tr>\n",
                            "      <th>8</th>\n",
                            "      <td>2015-01-05 21:32:25</td>\n",
                            "      <td>2015-01-06 05:00:03</td>\n",
                            "      <td>69%</td>\n",
                            "      <td>7:27</td>\n",
                            "      <td>:)</td>\n",
                            "      <td>Drank coffee:Drank tea:Worked out</td>\n",
                            "      <td>56.0</td>\n",
                            "      <td>0</td>\n",
                            "    </tr>\n",
                            "  </tbody>\n",
                            "</table>\n",
                            "</div>"
                        ]
                    },
                    "metadata": {},
                    "execution_count": 26
                }
            ],
            "metadata": {}
        },
        {
            "cell_type": "code",
            "execution_count": 27,
            "source": [
                "df.dtypes"
            ],
            "outputs": [
                {
                    "output_type": "execute_result",
                    "data": {
                        "text/plain": [
                            "Start                object\n",
                            "End                  object\n",
                            "Sleep quality        object\n",
                            "Time in bed          object\n",
                            "Wake up              object\n",
                            "Sleep Notes          object\n",
                            "Heart rate          float64\n",
                            "Activity (steps)      int64\n",
                            "dtype: object"
                        ]
                    },
                    "metadata": {},
                    "execution_count": 27
                }
            ],
            "metadata": {}
        },
        {
            "cell_type": "markdown",
            "source": [
                "We'll change the start and end columns to the datetime data type, and convert time in bed to minutes."
            ],
            "metadata": {}
        },
        {
            "cell_type": "code",
            "execution_count": 28,
            "source": [
                "#Convert the dates to datetime, and convert \"time in bed\" to a quantitative variable, measured in minutes\r\n",
                "df[\"Start\"] = pd.to_datetime(df[\"Start\"])\r\n",
                "df[\"End\"] = pd.to_datetime(df[\"End\"])\r\n",
                "\r\n",
                "i = 0\r\n",
                "for time in df[\"Time in bed\"]:\r\n",
                "    #print(time)\r\n",
                "    df[\"Time in bed\"].iloc[i] = int(df[\"Time in bed\"].iloc[i].split(\":\")[0]) * 60 + int(df[\"Time in bed\"].iloc[i].split(\":\")[1])\r\n",
                "    i += 1\r\n",
                "    if i >= df.shape[0]:\r\n",
                "        break\r\n",
                "\r\n",
                "df[\"Time in bed\"] = pd.to_numeric(df[\"Time in bed\"], downcast=\"float\")\r\n",
                "df.head()"
            ],
            "outputs": [
                {
                    "output_type": "stream",
                    "name": "stderr",
                    "text": [
                        "C:\\Users\\arqui\\anaconda3\\lib\\site-packages\\pandas\\core\\indexing.py:1732: SettingWithCopyWarning:\n",
                        "\n",
                        "\n",
                        "A value is trying to be set on a copy of a slice from a DataFrame\n",
                        "\n",
                        "See the caveats in the documentation: https://pandas.pydata.org/pandas-docs/stable/user_guide/indexing.html#returning-a-view-versus-a-copy\n",
                        "\n"
                    ]
                },
                {
                    "output_type": "execute_result",
                    "data": {
                        "text/plain": [
                            "                Start                 End Sleep quality  Time in bed Wake up  \\\n",
                            "1 2014-12-30 21:17:50 2014-12-30 21:33:54            3%         16.0      :|   \n",
                            "4 2015-01-01 22:12:10 2015-01-02 04:56:35           72%        404.0      :)   \n",
                            "5 2015-01-03 00:34:57 2015-01-03 07:47:23           83%        432.0      :)   \n",
                            "7 2015-01-04 21:34:44 2015-01-05 04:53:34           78%        438.0      :)   \n",
                            "8 2015-01-05 21:32:25 2015-01-06 05:00:03           69%        447.0      :)   \n",
                            "\n",
                            "                         Sleep Notes  Heart rate  Activity (steps)  \n",
                            "1                      Stressful day        72.0                 0  \n",
                            "4             Drank coffee:Drank tea        68.0                 0  \n",
                            "5             Drank coffee:Drank tea        60.0                 0  \n",
                            "7              Ate late:Drank coffee        57.0                 0  \n",
                            "8  Drank coffee:Drank tea:Worked out        56.0                 0  "
                        ],
                        "text/html": [
                            "<div>\n",
                            "<style scoped>\n",
                            "    .dataframe tbody tr th:only-of-type {\n",
                            "        vertical-align: middle;\n",
                            "    }\n",
                            "\n",
                            "    .dataframe tbody tr th {\n",
                            "        vertical-align: top;\n",
                            "    }\n",
                            "\n",
                            "    .dataframe thead th {\n",
                            "        text-align: right;\n",
                            "    }\n",
                            "</style>\n",
                            "<table border=\"1\" class=\"dataframe\">\n",
                            "  <thead>\n",
                            "    <tr style=\"text-align: right;\">\n",
                            "      <th></th>\n",
                            "      <th>Start</th>\n",
                            "      <th>End</th>\n",
                            "      <th>Sleep quality</th>\n",
                            "      <th>Time in bed</th>\n",
                            "      <th>Wake up</th>\n",
                            "      <th>Sleep Notes</th>\n",
                            "      <th>Heart rate</th>\n",
                            "      <th>Activity (steps)</th>\n",
                            "    </tr>\n",
                            "  </thead>\n",
                            "  <tbody>\n",
                            "    <tr>\n",
                            "      <th>1</th>\n",
                            "      <td>2014-12-30 21:17:50</td>\n",
                            "      <td>2014-12-30 21:33:54</td>\n",
                            "      <td>3%</td>\n",
                            "      <td>16.0</td>\n",
                            "      <td>:|</td>\n",
                            "      <td>Stressful day</td>\n",
                            "      <td>72.0</td>\n",
                            "      <td>0</td>\n",
                            "    </tr>\n",
                            "    <tr>\n",
                            "      <th>4</th>\n",
                            "      <td>2015-01-01 22:12:10</td>\n",
                            "      <td>2015-01-02 04:56:35</td>\n",
                            "      <td>72%</td>\n",
                            "      <td>404.0</td>\n",
                            "      <td>:)</td>\n",
                            "      <td>Drank coffee:Drank tea</td>\n",
                            "      <td>68.0</td>\n",
                            "      <td>0</td>\n",
                            "    </tr>\n",
                            "    <tr>\n",
                            "      <th>5</th>\n",
                            "      <td>2015-01-03 00:34:57</td>\n",
                            "      <td>2015-01-03 07:47:23</td>\n",
                            "      <td>83%</td>\n",
                            "      <td>432.0</td>\n",
                            "      <td>:)</td>\n",
                            "      <td>Drank coffee:Drank tea</td>\n",
                            "      <td>60.0</td>\n",
                            "      <td>0</td>\n",
                            "    </tr>\n",
                            "    <tr>\n",
                            "      <th>7</th>\n",
                            "      <td>2015-01-04 21:34:44</td>\n",
                            "      <td>2015-01-05 04:53:34</td>\n",
                            "      <td>78%</td>\n",
                            "      <td>438.0</td>\n",
                            "      <td>:)</td>\n",
                            "      <td>Ate late:Drank coffee</td>\n",
                            "      <td>57.0</td>\n",
                            "      <td>0</td>\n",
                            "    </tr>\n",
                            "    <tr>\n",
                            "      <th>8</th>\n",
                            "      <td>2015-01-05 21:32:25</td>\n",
                            "      <td>2015-01-06 05:00:03</td>\n",
                            "      <td>69%</td>\n",
                            "      <td>447.0</td>\n",
                            "      <td>:)</td>\n",
                            "      <td>Drank coffee:Drank tea:Worked out</td>\n",
                            "      <td>56.0</td>\n",
                            "      <td>0</td>\n",
                            "    </tr>\n",
                            "  </tbody>\n",
                            "</table>\n",
                            "</div>"
                        ]
                    },
                    "metadata": {},
                    "execution_count": 28
                }
            ],
            "metadata": {}
        },
        {
            "cell_type": "code",
            "execution_count": 29,
            "source": [
                "df.dtypes"
            ],
            "outputs": [
                {
                    "output_type": "execute_result",
                    "data": {
                        "text/plain": [
                            "Start               datetime64[ns]\n",
                            "End                 datetime64[ns]\n",
                            "Sleep quality               object\n",
                            "Time in bed                float32\n",
                            "Wake up                     object\n",
                            "Sleep Notes                 object\n",
                            "Heart rate                 float64\n",
                            "Activity (steps)             int64\n",
                            "dtype: object"
                        ]
                    },
                    "metadata": {},
                    "execution_count": 29
                }
            ],
            "metadata": {}
        },
        {
            "cell_type": "markdown",
            "source": [
                "Next, we'll split up the sleep notes into multiple boolean columns.\r\n"
            ],
            "metadata": {}
        },
        {
            "cell_type": "code",
            "execution_count": 30,
            "source": [
                "#Get all possible unique vales of the \"sleep notes\" column\r\n",
                "uniqueSleepNotes = []\r\n",
                "for notes in df[\"Sleep Notes\"]:\r\n",
                "    if pd.notna(notes):\r\n",
                "        if \":\" in notes:\r\n",
                "            #print(notes.split(\":\"))\r\n",
                "            for item in notes.split(\":\"):\r\n",
                "                [uniqueSleepNotes.append(item) for item in notes.split(\":\") if item not in uniqueSleepNotes]\r\n",
                "\r\n",
                "f\"The potential values for Sleep Notes are: {uniqueSleepNotes}\""
            ],
            "outputs": [
                {
                    "output_type": "execute_result",
                    "data": {
                        "text/plain": [
                            "\"The potential values for Sleep Notes are: ['Drank coffee', 'Drank tea', 'Ate late', 'Worked out', 'Stressful day']\""
                        ]
                    },
                    "metadata": {},
                    "execution_count": 30
                }
            ],
            "metadata": {}
        },
        {
            "cell_type": "code",
            "execution_count": 31,
            "source": [
                "#This section replaces NaN in the \"sleep notes\" column with None, and codes the new categorical variables as booleans with 0 or 1 values.\r\n",
                "df[\"Sleep Notes\"] = df[\"Sleep Notes\"].fillna(\"None\")\r\n",
                "\r\n",
                "for note in uniqueSleepNotes:\r\n",
                "    df[note] = False\r\n",
                "\r\n",
                "df.head(5)\r\n",
                "\r\n",
                "i = 0\r\n",
                "for notes in df[\"Sleep Notes\"]:\r\n",
                "    if \"None\" in notes:\r\n",
                "        #print(notes)\r\n",
                "        i += 1\r\n",
                "    elif \":\" not in notes:\r\n",
                "        #print(notes)\r\n",
                "        df[notes].iloc[i] = True\r\n",
                "        i += 1\r\n",
                "    elif \":\" in notes:\r\n",
                "        for item in notes.split(\":\"):\r\n",
                "            df[item].iloc[i] = True\r\n",
                "        i += 1\r\n",
                "\r\n",
                "for note in uniqueSleepNotes:\r\n",
                "    df[note] = df[note].astype(\"int\")"
            ],
            "outputs": [
                {
                    "output_type": "stream",
                    "name": "stderr",
                    "text": [
                        "C:\\Users\\arqui\\anaconda3\\lib\\site-packages\\pandas\\core\\indexing.py:1732: SettingWithCopyWarning:\n",
                        "\n",
                        "\n",
                        "A value is trying to be set on a copy of a slice from a DataFrame\n",
                        "\n",
                        "See the caveats in the documentation: https://pandas.pydata.org/pandas-docs/stable/user_guide/indexing.html#returning-a-view-versus-a-copy\n",
                        "\n"
                    ]
                }
            ],
            "metadata": {}
        },
        {
            "cell_type": "code",
            "execution_count": 32,
            "source": [
                "#This section codes the \"wake up column\" as ordinal, with :) being 2 and :( being 0.\r\n",
                "df = df.dropna()\r\n",
                "\r\n",
                "i = 0 \r\n",
                "for emoticon in df[\"Wake up\"]:\r\n",
                "    if \":)\" in emoticon:\r\n",
                "        df[\"Wake up\"].iloc[i] = 2\r\n",
                "        i += 1\r\n",
                "    if \":|\" in emoticon:\r\n",
                "        df[\"Wake up\"].iloc[i] = 1\r\n",
                "        i += 1\r\n",
                "    if \":(\" in emoticon:\r\n",
                "        df[\"Wake up\"].iloc[i] = 0\r\n",
                "        i += 1"
            ],
            "outputs": [
                {
                    "output_type": "stream",
                    "name": "stderr",
                    "text": [
                        "C:\\Users\\arqui\\anaconda3\\lib\\site-packages\\pandas\\core\\indexing.py:1732: SettingWithCopyWarning:\n",
                        "\n",
                        "\n",
                        "A value is trying to be set on a copy of a slice from a DataFrame\n",
                        "\n",
                        "See the caveats in the documentation: https://pandas.pydata.org/pandas-docs/stable/user_guide/indexing.html#returning-a-view-versus-a-copy\n",
                        "\n"
                    ]
                }
            ],
            "metadata": {}
        },
        {
            "cell_type": "code",
            "execution_count": 33,
            "source": [
                "fig = px.box(df[\"Time in bed\"])\r\n",
                "fig.show()"
            ],
            "outputs": [
                {
                    "output_type": "display_data",
                    "data": {
                        "application/vnd.plotly.v1+json": {
                            "config": {
                                "plotlyServerURL": "https://plot.ly"
                            },
                            "data": [
                                {
                                    "alignmentgroup": "True",
                                    "hovertemplate": "variable=%{x}<br>value=%{y}<extra></extra>",
                                    "legendgroup": "",
                                    "marker": {
                                        "color": "#636efa"
                                    },
                                    "name": "",
                                    "notched": false,
                                    "offsetgroup": "",
                                    "orientation": "v",
                                    "showlegend": false,
                                    "type": "box",
                                    "x": [
                                        "Time in bed",
                                        "Time in bed",
                                        "Time in bed",
                                        "Time in bed",
                                        "Time in bed",
                                        "Time in bed",
                                        "Time in bed",
                                        "Time in bed",
                                        "Time in bed",
                                        "Time in bed",
                                        "Time in bed",
                                        "Time in bed",
                                        "Time in bed",
                                        "Time in bed",
                                        "Time in bed",
                                        "Time in bed",
                                        "Time in bed",
                                        "Time in bed",
                                        "Time in bed",
                                        "Time in bed",
                                        "Time in bed",
                                        "Time in bed",
                                        "Time in bed",
                                        "Time in bed",
                                        "Time in bed",
                                        "Time in bed",
                                        "Time in bed",
                                        "Time in bed",
                                        "Time in bed",
                                        "Time in bed",
                                        "Time in bed",
                                        "Time in bed",
                                        "Time in bed",
                                        "Time in bed",
                                        "Time in bed",
                                        "Time in bed",
                                        "Time in bed",
                                        "Time in bed",
                                        "Time in bed",
                                        "Time in bed",
                                        "Time in bed",
                                        "Time in bed",
                                        "Time in bed",
                                        "Time in bed",
                                        "Time in bed",
                                        "Time in bed",
                                        "Time in bed",
                                        "Time in bed",
                                        "Time in bed",
                                        "Time in bed",
                                        "Time in bed",
                                        "Time in bed",
                                        "Time in bed",
                                        "Time in bed",
                                        "Time in bed",
                                        "Time in bed",
                                        "Time in bed",
                                        "Time in bed",
                                        "Time in bed",
                                        "Time in bed",
                                        "Time in bed",
                                        "Time in bed",
                                        "Time in bed",
                                        "Time in bed",
                                        "Time in bed",
                                        "Time in bed",
                                        "Time in bed",
                                        "Time in bed",
                                        "Time in bed",
                                        "Time in bed",
                                        "Time in bed",
                                        "Time in bed",
                                        "Time in bed",
                                        "Time in bed",
                                        "Time in bed",
                                        "Time in bed",
                                        "Time in bed",
                                        "Time in bed",
                                        "Time in bed",
                                        "Time in bed",
                                        "Time in bed",
                                        "Time in bed",
                                        "Time in bed",
                                        "Time in bed",
                                        "Time in bed",
                                        "Time in bed",
                                        "Time in bed",
                                        "Time in bed",
                                        "Time in bed",
                                        "Time in bed",
                                        "Time in bed",
                                        "Time in bed",
                                        "Time in bed",
                                        "Time in bed",
                                        "Time in bed",
                                        "Time in bed",
                                        "Time in bed",
                                        "Time in bed",
                                        "Time in bed",
                                        "Time in bed",
                                        "Time in bed",
                                        "Time in bed",
                                        "Time in bed",
                                        "Time in bed",
                                        "Time in bed",
                                        "Time in bed",
                                        "Time in bed",
                                        "Time in bed",
                                        "Time in bed",
                                        "Time in bed",
                                        "Time in bed",
                                        "Time in bed",
                                        "Time in bed",
                                        "Time in bed",
                                        "Time in bed",
                                        "Time in bed",
                                        "Time in bed",
                                        "Time in bed",
                                        "Time in bed",
                                        "Time in bed",
                                        "Time in bed",
                                        "Time in bed",
                                        "Time in bed",
                                        "Time in bed",
                                        "Time in bed",
                                        "Time in bed",
                                        "Time in bed",
                                        "Time in bed",
                                        "Time in bed",
                                        "Time in bed",
                                        "Time in bed",
                                        "Time in bed",
                                        "Time in bed",
                                        "Time in bed",
                                        "Time in bed",
                                        "Time in bed",
                                        "Time in bed",
                                        "Time in bed",
                                        "Time in bed",
                                        "Time in bed",
                                        "Time in bed",
                                        "Time in bed",
                                        "Time in bed",
                                        "Time in bed",
                                        "Time in bed",
                                        "Time in bed",
                                        "Time in bed",
                                        "Time in bed",
                                        "Time in bed",
                                        "Time in bed",
                                        "Time in bed",
                                        "Time in bed",
                                        "Time in bed",
                                        "Time in bed",
                                        "Time in bed"
                                    ],
                                    "x0": " ",
                                    "xaxis": "x",
                                    "y": [
                                        16,
                                        404,
                                        432,
                                        438,
                                        447,
                                        455,
                                        559,
                                        436,
                                        541,
                                        530,
                                        488,
                                        551,
                                        486,
                                        433,
                                        442,
                                        411,
                                        471,
                                        432,
                                        480,
                                        482,
                                        462,
                                        559,
                                        455,
                                        457,
                                        425,
                                        483,
                                        433,
                                        469,
                                        452,
                                        427,
                                        497,
                                        497,
                                        480,
                                        456,
                                        409,
                                        424,
                                        373,
                                        405,
                                        460,
                                        420,
                                        535,
                                        482,
                                        469,
                                        474,
                                        569,
                                        463,
                                        559,
                                        470,
                                        445,
                                        530,
                                        481,
                                        460,
                                        456,
                                        452,
                                        483,
                                        409,
                                        502,
                                        487,
                                        483,
                                        417,
                                        452,
                                        533,
                                        541,
                                        412,
                                        456,
                                        456,
                                        445,
                                        421,
                                        419,
                                        452,
                                        460,
                                        459,
                                        540,
                                        427,
                                        441,
                                        438,
                                        412,
                                        466,
                                        474,
                                        454,
                                        454,
                                        303,
                                        408,
                                        423,
                                        407,
                                        448,
                                        646,
                                        422,
                                        398,
                                        467,
                                        469,
                                        423,
                                        479,
                                        420,
                                        459,
                                        544,
                                        468,
                                        463,
                                        571,
                                        511,
                                        462,
                                        470,
                                        487,
                                        394,
                                        480,
                                        409,
                                        419,
                                        439,
                                        457,
                                        538,
                                        420,
                                        492,
                                        492,
                                        443,
                                        469,
                                        450,
                                        479,
                                        480,
                                        479,
                                        453,
                                        447,
                                        500,
                                        442,
                                        488,
                                        521,
                                        449,
                                        482,
                                        482,
                                        445,
                                        376,
                                        437,
                                        511,
                                        460,
                                        488,
                                        522,
                                        459,
                                        464,
                                        415,
                                        471,
                                        460,
                                        489,
                                        474,
                                        526,
                                        493,
                                        443,
                                        410,
                                        385,
                                        437,
                                        440,
                                        460,
                                        493,
                                        482,
                                        480,
                                        513,
                                        504
                                    ],
                                    "y0": " ",
                                    "yaxis": "y"
                                }
                            ],
                            "layout": {
                                "boxmode": "group",
                                "legend": {
                                    "tracegroupgap": 0
                                },
                                "margin": {
                                    "t": 60
                                },
                                "template": {
                                    "data": {
                                        "bar": [
                                            {
                                                "error_x": {
                                                    "color": "#2a3f5f"
                                                },
                                                "error_y": {
                                                    "color": "#2a3f5f"
                                                },
                                                "marker": {
                                                    "line": {
                                                        "color": "#E5ECF6",
                                                        "width": 0.5
                                                    },
                                                    "pattern": {
                                                        "fillmode": "overlay",
                                                        "size": 10,
                                                        "solidity": 0.2
                                                    }
                                                },
                                                "type": "bar"
                                            }
                                        ],
                                        "barpolar": [
                                            {
                                                "marker": {
                                                    "line": {
                                                        "color": "#E5ECF6",
                                                        "width": 0.5
                                                    },
                                                    "pattern": {
                                                        "fillmode": "overlay",
                                                        "size": 10,
                                                        "solidity": 0.2
                                                    }
                                                },
                                                "type": "barpolar"
                                            }
                                        ],
                                        "carpet": [
                                            {
                                                "aaxis": {
                                                    "endlinecolor": "#2a3f5f",
                                                    "gridcolor": "white",
                                                    "linecolor": "white",
                                                    "minorgridcolor": "white",
                                                    "startlinecolor": "#2a3f5f"
                                                },
                                                "baxis": {
                                                    "endlinecolor": "#2a3f5f",
                                                    "gridcolor": "white",
                                                    "linecolor": "white",
                                                    "minorgridcolor": "white",
                                                    "startlinecolor": "#2a3f5f"
                                                },
                                                "type": "carpet"
                                            }
                                        ],
                                        "choropleth": [
                                            {
                                                "colorbar": {
                                                    "outlinewidth": 0,
                                                    "ticks": ""
                                                },
                                                "type": "choropleth"
                                            }
                                        ],
                                        "contour": [
                                            {
                                                "colorbar": {
                                                    "outlinewidth": 0,
                                                    "ticks": ""
                                                },
                                                "colorscale": [
                                                    [
                                                        0,
                                                        "#0d0887"
                                                    ],
                                                    [
                                                        0.1111111111111111,
                                                        "#46039f"
                                                    ],
                                                    [
                                                        0.2222222222222222,
                                                        "#7201a8"
                                                    ],
                                                    [
                                                        0.3333333333333333,
                                                        "#9c179e"
                                                    ],
                                                    [
                                                        0.4444444444444444,
                                                        "#bd3786"
                                                    ],
                                                    [
                                                        0.5555555555555556,
                                                        "#d8576b"
                                                    ],
                                                    [
                                                        0.6666666666666666,
                                                        "#ed7953"
                                                    ],
                                                    [
                                                        0.7777777777777778,
                                                        "#fb9f3a"
                                                    ],
                                                    [
                                                        0.8888888888888888,
                                                        "#fdca26"
                                                    ],
                                                    [
                                                        1,
                                                        "#f0f921"
                                                    ]
                                                ],
                                                "type": "contour"
                                            }
                                        ],
                                        "contourcarpet": [
                                            {
                                                "colorbar": {
                                                    "outlinewidth": 0,
                                                    "ticks": ""
                                                },
                                                "type": "contourcarpet"
                                            }
                                        ],
                                        "heatmap": [
                                            {
                                                "colorbar": {
                                                    "outlinewidth": 0,
                                                    "ticks": ""
                                                },
                                                "colorscale": [
                                                    [
                                                        0,
                                                        "#0d0887"
                                                    ],
                                                    [
                                                        0.1111111111111111,
                                                        "#46039f"
                                                    ],
                                                    [
                                                        0.2222222222222222,
                                                        "#7201a8"
                                                    ],
                                                    [
                                                        0.3333333333333333,
                                                        "#9c179e"
                                                    ],
                                                    [
                                                        0.4444444444444444,
                                                        "#bd3786"
                                                    ],
                                                    [
                                                        0.5555555555555556,
                                                        "#d8576b"
                                                    ],
                                                    [
                                                        0.6666666666666666,
                                                        "#ed7953"
                                                    ],
                                                    [
                                                        0.7777777777777778,
                                                        "#fb9f3a"
                                                    ],
                                                    [
                                                        0.8888888888888888,
                                                        "#fdca26"
                                                    ],
                                                    [
                                                        1,
                                                        "#f0f921"
                                                    ]
                                                ],
                                                "type": "heatmap"
                                            }
                                        ],
                                        "heatmapgl": [
                                            {
                                                "colorbar": {
                                                    "outlinewidth": 0,
                                                    "ticks": ""
                                                },
                                                "colorscale": [
                                                    [
                                                        0,
                                                        "#0d0887"
                                                    ],
                                                    [
                                                        0.1111111111111111,
                                                        "#46039f"
                                                    ],
                                                    [
                                                        0.2222222222222222,
                                                        "#7201a8"
                                                    ],
                                                    [
                                                        0.3333333333333333,
                                                        "#9c179e"
                                                    ],
                                                    [
                                                        0.4444444444444444,
                                                        "#bd3786"
                                                    ],
                                                    [
                                                        0.5555555555555556,
                                                        "#d8576b"
                                                    ],
                                                    [
                                                        0.6666666666666666,
                                                        "#ed7953"
                                                    ],
                                                    [
                                                        0.7777777777777778,
                                                        "#fb9f3a"
                                                    ],
                                                    [
                                                        0.8888888888888888,
                                                        "#fdca26"
                                                    ],
                                                    [
                                                        1,
                                                        "#f0f921"
                                                    ]
                                                ],
                                                "type": "heatmapgl"
                                            }
                                        ],
                                        "histogram": [
                                            {
                                                "marker": {
                                                    "pattern": {
                                                        "fillmode": "overlay",
                                                        "size": 10,
                                                        "solidity": 0.2
                                                    }
                                                },
                                                "type": "histogram"
                                            }
                                        ],
                                        "histogram2d": [
                                            {
                                                "colorbar": {
                                                    "outlinewidth": 0,
                                                    "ticks": ""
                                                },
                                                "colorscale": [
                                                    [
                                                        0,
                                                        "#0d0887"
                                                    ],
                                                    [
                                                        0.1111111111111111,
                                                        "#46039f"
                                                    ],
                                                    [
                                                        0.2222222222222222,
                                                        "#7201a8"
                                                    ],
                                                    [
                                                        0.3333333333333333,
                                                        "#9c179e"
                                                    ],
                                                    [
                                                        0.4444444444444444,
                                                        "#bd3786"
                                                    ],
                                                    [
                                                        0.5555555555555556,
                                                        "#d8576b"
                                                    ],
                                                    [
                                                        0.6666666666666666,
                                                        "#ed7953"
                                                    ],
                                                    [
                                                        0.7777777777777778,
                                                        "#fb9f3a"
                                                    ],
                                                    [
                                                        0.8888888888888888,
                                                        "#fdca26"
                                                    ],
                                                    [
                                                        1,
                                                        "#f0f921"
                                                    ]
                                                ],
                                                "type": "histogram2d"
                                            }
                                        ],
                                        "histogram2dcontour": [
                                            {
                                                "colorbar": {
                                                    "outlinewidth": 0,
                                                    "ticks": ""
                                                },
                                                "colorscale": [
                                                    [
                                                        0,
                                                        "#0d0887"
                                                    ],
                                                    [
                                                        0.1111111111111111,
                                                        "#46039f"
                                                    ],
                                                    [
                                                        0.2222222222222222,
                                                        "#7201a8"
                                                    ],
                                                    [
                                                        0.3333333333333333,
                                                        "#9c179e"
                                                    ],
                                                    [
                                                        0.4444444444444444,
                                                        "#bd3786"
                                                    ],
                                                    [
                                                        0.5555555555555556,
                                                        "#d8576b"
                                                    ],
                                                    [
                                                        0.6666666666666666,
                                                        "#ed7953"
                                                    ],
                                                    [
                                                        0.7777777777777778,
                                                        "#fb9f3a"
                                                    ],
                                                    [
                                                        0.8888888888888888,
                                                        "#fdca26"
                                                    ],
                                                    [
                                                        1,
                                                        "#f0f921"
                                                    ]
                                                ],
                                                "type": "histogram2dcontour"
                                            }
                                        ],
                                        "mesh3d": [
                                            {
                                                "colorbar": {
                                                    "outlinewidth": 0,
                                                    "ticks": ""
                                                },
                                                "type": "mesh3d"
                                            }
                                        ],
                                        "parcoords": [
                                            {
                                                "line": {
                                                    "colorbar": {
                                                        "outlinewidth": 0,
                                                        "ticks": ""
                                                    }
                                                },
                                                "type": "parcoords"
                                            }
                                        ],
                                        "pie": [
                                            {
                                                "automargin": true,
                                                "type": "pie"
                                            }
                                        ],
                                        "scatter": [
                                            {
                                                "marker": {
                                                    "colorbar": {
                                                        "outlinewidth": 0,
                                                        "ticks": ""
                                                    }
                                                },
                                                "type": "scatter"
                                            }
                                        ],
                                        "scatter3d": [
                                            {
                                                "line": {
                                                    "colorbar": {
                                                        "outlinewidth": 0,
                                                        "ticks": ""
                                                    }
                                                },
                                                "marker": {
                                                    "colorbar": {
                                                        "outlinewidth": 0,
                                                        "ticks": ""
                                                    }
                                                },
                                                "type": "scatter3d"
                                            }
                                        ],
                                        "scattercarpet": [
                                            {
                                                "marker": {
                                                    "colorbar": {
                                                        "outlinewidth": 0,
                                                        "ticks": ""
                                                    }
                                                },
                                                "type": "scattercarpet"
                                            }
                                        ],
                                        "scattergeo": [
                                            {
                                                "marker": {
                                                    "colorbar": {
                                                        "outlinewidth": 0,
                                                        "ticks": ""
                                                    }
                                                },
                                                "type": "scattergeo"
                                            }
                                        ],
                                        "scattergl": [
                                            {
                                                "marker": {
                                                    "colorbar": {
                                                        "outlinewidth": 0,
                                                        "ticks": ""
                                                    }
                                                },
                                                "type": "scattergl"
                                            }
                                        ],
                                        "scattermapbox": [
                                            {
                                                "marker": {
                                                    "colorbar": {
                                                        "outlinewidth": 0,
                                                        "ticks": ""
                                                    }
                                                },
                                                "type": "scattermapbox"
                                            }
                                        ],
                                        "scatterpolar": [
                                            {
                                                "marker": {
                                                    "colorbar": {
                                                        "outlinewidth": 0,
                                                        "ticks": ""
                                                    }
                                                },
                                                "type": "scatterpolar"
                                            }
                                        ],
                                        "scatterpolargl": [
                                            {
                                                "marker": {
                                                    "colorbar": {
                                                        "outlinewidth": 0,
                                                        "ticks": ""
                                                    }
                                                },
                                                "type": "scatterpolargl"
                                            }
                                        ],
                                        "scatterternary": [
                                            {
                                                "marker": {
                                                    "colorbar": {
                                                        "outlinewidth": 0,
                                                        "ticks": ""
                                                    }
                                                },
                                                "type": "scatterternary"
                                            }
                                        ],
                                        "surface": [
                                            {
                                                "colorbar": {
                                                    "outlinewidth": 0,
                                                    "ticks": ""
                                                },
                                                "colorscale": [
                                                    [
                                                        0,
                                                        "#0d0887"
                                                    ],
                                                    [
                                                        0.1111111111111111,
                                                        "#46039f"
                                                    ],
                                                    [
                                                        0.2222222222222222,
                                                        "#7201a8"
                                                    ],
                                                    [
                                                        0.3333333333333333,
                                                        "#9c179e"
                                                    ],
                                                    [
                                                        0.4444444444444444,
                                                        "#bd3786"
                                                    ],
                                                    [
                                                        0.5555555555555556,
                                                        "#d8576b"
                                                    ],
                                                    [
                                                        0.6666666666666666,
                                                        "#ed7953"
                                                    ],
                                                    [
                                                        0.7777777777777778,
                                                        "#fb9f3a"
                                                    ],
                                                    [
                                                        0.8888888888888888,
                                                        "#fdca26"
                                                    ],
                                                    [
                                                        1,
                                                        "#f0f921"
                                                    ]
                                                ],
                                                "type": "surface"
                                            }
                                        ],
                                        "table": [
                                            {
                                                "cells": {
                                                    "fill": {
                                                        "color": "#EBF0F8"
                                                    },
                                                    "line": {
                                                        "color": "white"
                                                    }
                                                },
                                                "header": {
                                                    "fill": {
                                                        "color": "#C8D4E3"
                                                    },
                                                    "line": {
                                                        "color": "white"
                                                    }
                                                },
                                                "type": "table"
                                            }
                                        ]
                                    },
                                    "layout": {
                                        "annotationdefaults": {
                                            "arrowcolor": "#2a3f5f",
                                            "arrowhead": 0,
                                            "arrowwidth": 1
                                        },
                                        "autotypenumbers": "strict",
                                        "coloraxis": {
                                            "colorbar": {
                                                "outlinewidth": 0,
                                                "ticks": ""
                                            }
                                        },
                                        "colorscale": {
                                            "diverging": [
                                                [
                                                    0,
                                                    "#8e0152"
                                                ],
                                                [
                                                    0.1,
                                                    "#c51b7d"
                                                ],
                                                [
                                                    0.2,
                                                    "#de77ae"
                                                ],
                                                [
                                                    0.3,
                                                    "#f1b6da"
                                                ],
                                                [
                                                    0.4,
                                                    "#fde0ef"
                                                ],
                                                [
                                                    0.5,
                                                    "#f7f7f7"
                                                ],
                                                [
                                                    0.6,
                                                    "#e6f5d0"
                                                ],
                                                [
                                                    0.7,
                                                    "#b8e186"
                                                ],
                                                [
                                                    0.8,
                                                    "#7fbc41"
                                                ],
                                                [
                                                    0.9,
                                                    "#4d9221"
                                                ],
                                                [
                                                    1,
                                                    "#276419"
                                                ]
                                            ],
                                            "sequential": [
                                                [
                                                    0,
                                                    "#0d0887"
                                                ],
                                                [
                                                    0.1111111111111111,
                                                    "#46039f"
                                                ],
                                                [
                                                    0.2222222222222222,
                                                    "#7201a8"
                                                ],
                                                [
                                                    0.3333333333333333,
                                                    "#9c179e"
                                                ],
                                                [
                                                    0.4444444444444444,
                                                    "#bd3786"
                                                ],
                                                [
                                                    0.5555555555555556,
                                                    "#d8576b"
                                                ],
                                                [
                                                    0.6666666666666666,
                                                    "#ed7953"
                                                ],
                                                [
                                                    0.7777777777777778,
                                                    "#fb9f3a"
                                                ],
                                                [
                                                    0.8888888888888888,
                                                    "#fdca26"
                                                ],
                                                [
                                                    1,
                                                    "#f0f921"
                                                ]
                                            ],
                                            "sequentialminus": [
                                                [
                                                    0,
                                                    "#0d0887"
                                                ],
                                                [
                                                    0.1111111111111111,
                                                    "#46039f"
                                                ],
                                                [
                                                    0.2222222222222222,
                                                    "#7201a8"
                                                ],
                                                [
                                                    0.3333333333333333,
                                                    "#9c179e"
                                                ],
                                                [
                                                    0.4444444444444444,
                                                    "#bd3786"
                                                ],
                                                [
                                                    0.5555555555555556,
                                                    "#d8576b"
                                                ],
                                                [
                                                    0.6666666666666666,
                                                    "#ed7953"
                                                ],
                                                [
                                                    0.7777777777777778,
                                                    "#fb9f3a"
                                                ],
                                                [
                                                    0.8888888888888888,
                                                    "#fdca26"
                                                ],
                                                [
                                                    1,
                                                    "#f0f921"
                                                ]
                                            ]
                                        },
                                        "colorway": [
                                            "#636efa",
                                            "#EF553B",
                                            "#00cc96",
                                            "#ab63fa",
                                            "#FFA15A",
                                            "#19d3f3",
                                            "#FF6692",
                                            "#B6E880",
                                            "#FF97FF",
                                            "#FECB52"
                                        ],
                                        "font": {
                                            "color": "#2a3f5f"
                                        },
                                        "geo": {
                                            "bgcolor": "white",
                                            "lakecolor": "white",
                                            "landcolor": "#E5ECF6",
                                            "showlakes": true,
                                            "showland": true,
                                            "subunitcolor": "white"
                                        },
                                        "hoverlabel": {
                                            "align": "left"
                                        },
                                        "hovermode": "closest",
                                        "mapbox": {
                                            "style": "light"
                                        },
                                        "paper_bgcolor": "white",
                                        "plot_bgcolor": "#E5ECF6",
                                        "polar": {
                                            "angularaxis": {
                                                "gridcolor": "white",
                                                "linecolor": "white",
                                                "ticks": ""
                                            },
                                            "bgcolor": "#E5ECF6",
                                            "radialaxis": {
                                                "gridcolor": "white",
                                                "linecolor": "white",
                                                "ticks": ""
                                            }
                                        },
                                        "scene": {
                                            "xaxis": {
                                                "backgroundcolor": "#E5ECF6",
                                                "gridcolor": "white",
                                                "gridwidth": 2,
                                                "linecolor": "white",
                                                "showbackground": true,
                                                "ticks": "",
                                                "zerolinecolor": "white"
                                            },
                                            "yaxis": {
                                                "backgroundcolor": "#E5ECF6",
                                                "gridcolor": "white",
                                                "gridwidth": 2,
                                                "linecolor": "white",
                                                "showbackground": true,
                                                "ticks": "",
                                                "zerolinecolor": "white"
                                            },
                                            "zaxis": {
                                                "backgroundcolor": "#E5ECF6",
                                                "gridcolor": "white",
                                                "gridwidth": 2,
                                                "linecolor": "white",
                                                "showbackground": true,
                                                "ticks": "",
                                                "zerolinecolor": "white"
                                            }
                                        },
                                        "shapedefaults": {
                                            "line": {
                                                "color": "#2a3f5f"
                                            }
                                        },
                                        "ternary": {
                                            "aaxis": {
                                                "gridcolor": "white",
                                                "linecolor": "white",
                                                "ticks": ""
                                            },
                                            "baxis": {
                                                "gridcolor": "white",
                                                "linecolor": "white",
                                                "ticks": ""
                                            },
                                            "bgcolor": "#E5ECF6",
                                            "caxis": {
                                                "gridcolor": "white",
                                                "linecolor": "white",
                                                "ticks": ""
                                            }
                                        },
                                        "title": {
                                            "x": 0.05
                                        },
                                        "xaxis": {
                                            "automargin": true,
                                            "gridcolor": "white",
                                            "linecolor": "white",
                                            "ticks": "",
                                            "title": {
                                                "standoff": 15
                                            },
                                            "zerolinecolor": "white",
                                            "zerolinewidth": 2
                                        },
                                        "yaxis": {
                                            "automargin": true,
                                            "gridcolor": "white",
                                            "linecolor": "white",
                                            "ticks": "",
                                            "title": {
                                                "standoff": 15
                                            },
                                            "zerolinecolor": "white",
                                            "zerolinewidth": 2
                                        }
                                    }
                                },
                                "xaxis": {
                                    "anchor": "y",
                                    "domain": [
                                        0,
                                        1
                                    ],
                                    "title": {
                                        "text": "variable"
                                    }
                                },
                                "yaxis": {
                                    "anchor": "x",
                                    "domain": [
                                        0,
                                        1
                                    ],
                                    "title": {
                                        "text": "value"
                                    }
                                }
                            }
                        }
                    },
                    "metadata": {}
                }
            ],
            "metadata": {}
        },
        {
            "cell_type": "markdown",
            "source": [
                "We'll remove an egregious outlier:"
            ],
            "metadata": {}
        },
        {
            "cell_type": "code",
            "execution_count": 34,
            "source": [
                "df = df.drop(1)"
            ],
            "outputs": [],
            "metadata": {}
        },
        {
            "cell_type": "code",
            "execution_count": 35,
            "source": [
                "fig = px.box(df[\"Time in bed\"])\r\n",
                "fig.show()"
            ],
            "outputs": [
                {
                    "output_type": "display_data",
                    "data": {
                        "application/vnd.plotly.v1+json": {
                            "config": {
                                "plotlyServerURL": "https://plot.ly"
                            },
                            "data": [
                                {
                                    "alignmentgroup": "True",
                                    "hovertemplate": "variable=%{x}<br>value=%{y}<extra></extra>",
                                    "legendgroup": "",
                                    "marker": {
                                        "color": "#636efa"
                                    },
                                    "name": "",
                                    "notched": false,
                                    "offsetgroup": "",
                                    "orientation": "v",
                                    "showlegend": false,
                                    "type": "box",
                                    "x": [
                                        "Time in bed",
                                        "Time in bed",
                                        "Time in bed",
                                        "Time in bed",
                                        "Time in bed",
                                        "Time in bed",
                                        "Time in bed",
                                        "Time in bed",
                                        "Time in bed",
                                        "Time in bed",
                                        "Time in bed",
                                        "Time in bed",
                                        "Time in bed",
                                        "Time in bed",
                                        "Time in bed",
                                        "Time in bed",
                                        "Time in bed",
                                        "Time in bed",
                                        "Time in bed",
                                        "Time in bed",
                                        "Time in bed",
                                        "Time in bed",
                                        "Time in bed",
                                        "Time in bed",
                                        "Time in bed",
                                        "Time in bed",
                                        "Time in bed",
                                        "Time in bed",
                                        "Time in bed",
                                        "Time in bed",
                                        "Time in bed",
                                        "Time in bed",
                                        "Time in bed",
                                        "Time in bed",
                                        "Time in bed",
                                        "Time in bed",
                                        "Time in bed",
                                        "Time in bed",
                                        "Time in bed",
                                        "Time in bed",
                                        "Time in bed",
                                        "Time in bed",
                                        "Time in bed",
                                        "Time in bed",
                                        "Time in bed",
                                        "Time in bed",
                                        "Time in bed",
                                        "Time in bed",
                                        "Time in bed",
                                        "Time in bed",
                                        "Time in bed",
                                        "Time in bed",
                                        "Time in bed",
                                        "Time in bed",
                                        "Time in bed",
                                        "Time in bed",
                                        "Time in bed",
                                        "Time in bed",
                                        "Time in bed",
                                        "Time in bed",
                                        "Time in bed",
                                        "Time in bed",
                                        "Time in bed",
                                        "Time in bed",
                                        "Time in bed",
                                        "Time in bed",
                                        "Time in bed",
                                        "Time in bed",
                                        "Time in bed",
                                        "Time in bed",
                                        "Time in bed",
                                        "Time in bed",
                                        "Time in bed",
                                        "Time in bed",
                                        "Time in bed",
                                        "Time in bed",
                                        "Time in bed",
                                        "Time in bed",
                                        "Time in bed",
                                        "Time in bed",
                                        "Time in bed",
                                        "Time in bed",
                                        "Time in bed",
                                        "Time in bed",
                                        "Time in bed",
                                        "Time in bed",
                                        "Time in bed",
                                        "Time in bed",
                                        "Time in bed",
                                        "Time in bed",
                                        "Time in bed",
                                        "Time in bed",
                                        "Time in bed",
                                        "Time in bed",
                                        "Time in bed",
                                        "Time in bed",
                                        "Time in bed",
                                        "Time in bed",
                                        "Time in bed",
                                        "Time in bed",
                                        "Time in bed",
                                        "Time in bed",
                                        "Time in bed",
                                        "Time in bed",
                                        "Time in bed",
                                        "Time in bed",
                                        "Time in bed",
                                        "Time in bed",
                                        "Time in bed",
                                        "Time in bed",
                                        "Time in bed",
                                        "Time in bed",
                                        "Time in bed",
                                        "Time in bed",
                                        "Time in bed",
                                        "Time in bed",
                                        "Time in bed",
                                        "Time in bed",
                                        "Time in bed",
                                        "Time in bed",
                                        "Time in bed",
                                        "Time in bed",
                                        "Time in bed",
                                        "Time in bed",
                                        "Time in bed",
                                        "Time in bed",
                                        "Time in bed",
                                        "Time in bed",
                                        "Time in bed",
                                        "Time in bed",
                                        "Time in bed",
                                        "Time in bed",
                                        "Time in bed",
                                        "Time in bed",
                                        "Time in bed",
                                        "Time in bed",
                                        "Time in bed",
                                        "Time in bed",
                                        "Time in bed",
                                        "Time in bed",
                                        "Time in bed",
                                        "Time in bed",
                                        "Time in bed",
                                        "Time in bed",
                                        "Time in bed",
                                        "Time in bed",
                                        "Time in bed",
                                        "Time in bed",
                                        "Time in bed",
                                        "Time in bed",
                                        "Time in bed",
                                        "Time in bed",
                                        "Time in bed",
                                        "Time in bed"
                                    ],
                                    "x0": " ",
                                    "xaxis": "x",
                                    "y": [
                                        404,
                                        432,
                                        438,
                                        447,
                                        455,
                                        559,
                                        436,
                                        541,
                                        530,
                                        488,
                                        551,
                                        486,
                                        433,
                                        442,
                                        411,
                                        471,
                                        432,
                                        480,
                                        482,
                                        462,
                                        559,
                                        455,
                                        457,
                                        425,
                                        483,
                                        433,
                                        469,
                                        452,
                                        427,
                                        497,
                                        497,
                                        480,
                                        456,
                                        409,
                                        424,
                                        373,
                                        405,
                                        460,
                                        420,
                                        535,
                                        482,
                                        469,
                                        474,
                                        569,
                                        463,
                                        559,
                                        470,
                                        445,
                                        530,
                                        481,
                                        460,
                                        456,
                                        452,
                                        483,
                                        409,
                                        502,
                                        487,
                                        483,
                                        417,
                                        452,
                                        533,
                                        541,
                                        412,
                                        456,
                                        456,
                                        445,
                                        421,
                                        419,
                                        452,
                                        460,
                                        459,
                                        540,
                                        427,
                                        441,
                                        438,
                                        412,
                                        466,
                                        474,
                                        454,
                                        454,
                                        303,
                                        408,
                                        423,
                                        407,
                                        448,
                                        646,
                                        422,
                                        398,
                                        467,
                                        469,
                                        423,
                                        479,
                                        420,
                                        459,
                                        544,
                                        468,
                                        463,
                                        571,
                                        511,
                                        462,
                                        470,
                                        487,
                                        394,
                                        480,
                                        409,
                                        419,
                                        439,
                                        457,
                                        538,
                                        420,
                                        492,
                                        492,
                                        443,
                                        469,
                                        450,
                                        479,
                                        480,
                                        479,
                                        453,
                                        447,
                                        500,
                                        442,
                                        488,
                                        521,
                                        449,
                                        482,
                                        482,
                                        445,
                                        376,
                                        437,
                                        511,
                                        460,
                                        488,
                                        522,
                                        459,
                                        464,
                                        415,
                                        471,
                                        460,
                                        489,
                                        474,
                                        526,
                                        493,
                                        443,
                                        410,
                                        385,
                                        437,
                                        440,
                                        460,
                                        493,
                                        482,
                                        480,
                                        513,
                                        504
                                    ],
                                    "y0": " ",
                                    "yaxis": "y"
                                }
                            ],
                            "layout": {
                                "boxmode": "group",
                                "legend": {
                                    "tracegroupgap": 0
                                },
                                "margin": {
                                    "t": 60
                                },
                                "template": {
                                    "data": {
                                        "bar": [
                                            {
                                                "error_x": {
                                                    "color": "#2a3f5f"
                                                },
                                                "error_y": {
                                                    "color": "#2a3f5f"
                                                },
                                                "marker": {
                                                    "line": {
                                                        "color": "#E5ECF6",
                                                        "width": 0.5
                                                    },
                                                    "pattern": {
                                                        "fillmode": "overlay",
                                                        "size": 10,
                                                        "solidity": 0.2
                                                    }
                                                },
                                                "type": "bar"
                                            }
                                        ],
                                        "barpolar": [
                                            {
                                                "marker": {
                                                    "line": {
                                                        "color": "#E5ECF6",
                                                        "width": 0.5
                                                    },
                                                    "pattern": {
                                                        "fillmode": "overlay",
                                                        "size": 10,
                                                        "solidity": 0.2
                                                    }
                                                },
                                                "type": "barpolar"
                                            }
                                        ],
                                        "carpet": [
                                            {
                                                "aaxis": {
                                                    "endlinecolor": "#2a3f5f",
                                                    "gridcolor": "white",
                                                    "linecolor": "white",
                                                    "minorgridcolor": "white",
                                                    "startlinecolor": "#2a3f5f"
                                                },
                                                "baxis": {
                                                    "endlinecolor": "#2a3f5f",
                                                    "gridcolor": "white",
                                                    "linecolor": "white",
                                                    "minorgridcolor": "white",
                                                    "startlinecolor": "#2a3f5f"
                                                },
                                                "type": "carpet"
                                            }
                                        ],
                                        "choropleth": [
                                            {
                                                "colorbar": {
                                                    "outlinewidth": 0,
                                                    "ticks": ""
                                                },
                                                "type": "choropleth"
                                            }
                                        ],
                                        "contour": [
                                            {
                                                "colorbar": {
                                                    "outlinewidth": 0,
                                                    "ticks": ""
                                                },
                                                "colorscale": [
                                                    [
                                                        0,
                                                        "#0d0887"
                                                    ],
                                                    [
                                                        0.1111111111111111,
                                                        "#46039f"
                                                    ],
                                                    [
                                                        0.2222222222222222,
                                                        "#7201a8"
                                                    ],
                                                    [
                                                        0.3333333333333333,
                                                        "#9c179e"
                                                    ],
                                                    [
                                                        0.4444444444444444,
                                                        "#bd3786"
                                                    ],
                                                    [
                                                        0.5555555555555556,
                                                        "#d8576b"
                                                    ],
                                                    [
                                                        0.6666666666666666,
                                                        "#ed7953"
                                                    ],
                                                    [
                                                        0.7777777777777778,
                                                        "#fb9f3a"
                                                    ],
                                                    [
                                                        0.8888888888888888,
                                                        "#fdca26"
                                                    ],
                                                    [
                                                        1,
                                                        "#f0f921"
                                                    ]
                                                ],
                                                "type": "contour"
                                            }
                                        ],
                                        "contourcarpet": [
                                            {
                                                "colorbar": {
                                                    "outlinewidth": 0,
                                                    "ticks": ""
                                                },
                                                "type": "contourcarpet"
                                            }
                                        ],
                                        "heatmap": [
                                            {
                                                "colorbar": {
                                                    "outlinewidth": 0,
                                                    "ticks": ""
                                                },
                                                "colorscale": [
                                                    [
                                                        0,
                                                        "#0d0887"
                                                    ],
                                                    [
                                                        0.1111111111111111,
                                                        "#46039f"
                                                    ],
                                                    [
                                                        0.2222222222222222,
                                                        "#7201a8"
                                                    ],
                                                    [
                                                        0.3333333333333333,
                                                        "#9c179e"
                                                    ],
                                                    [
                                                        0.4444444444444444,
                                                        "#bd3786"
                                                    ],
                                                    [
                                                        0.5555555555555556,
                                                        "#d8576b"
                                                    ],
                                                    [
                                                        0.6666666666666666,
                                                        "#ed7953"
                                                    ],
                                                    [
                                                        0.7777777777777778,
                                                        "#fb9f3a"
                                                    ],
                                                    [
                                                        0.8888888888888888,
                                                        "#fdca26"
                                                    ],
                                                    [
                                                        1,
                                                        "#f0f921"
                                                    ]
                                                ],
                                                "type": "heatmap"
                                            }
                                        ],
                                        "heatmapgl": [
                                            {
                                                "colorbar": {
                                                    "outlinewidth": 0,
                                                    "ticks": ""
                                                },
                                                "colorscale": [
                                                    [
                                                        0,
                                                        "#0d0887"
                                                    ],
                                                    [
                                                        0.1111111111111111,
                                                        "#46039f"
                                                    ],
                                                    [
                                                        0.2222222222222222,
                                                        "#7201a8"
                                                    ],
                                                    [
                                                        0.3333333333333333,
                                                        "#9c179e"
                                                    ],
                                                    [
                                                        0.4444444444444444,
                                                        "#bd3786"
                                                    ],
                                                    [
                                                        0.5555555555555556,
                                                        "#d8576b"
                                                    ],
                                                    [
                                                        0.6666666666666666,
                                                        "#ed7953"
                                                    ],
                                                    [
                                                        0.7777777777777778,
                                                        "#fb9f3a"
                                                    ],
                                                    [
                                                        0.8888888888888888,
                                                        "#fdca26"
                                                    ],
                                                    [
                                                        1,
                                                        "#f0f921"
                                                    ]
                                                ],
                                                "type": "heatmapgl"
                                            }
                                        ],
                                        "histogram": [
                                            {
                                                "marker": {
                                                    "pattern": {
                                                        "fillmode": "overlay",
                                                        "size": 10,
                                                        "solidity": 0.2
                                                    }
                                                },
                                                "type": "histogram"
                                            }
                                        ],
                                        "histogram2d": [
                                            {
                                                "colorbar": {
                                                    "outlinewidth": 0,
                                                    "ticks": ""
                                                },
                                                "colorscale": [
                                                    [
                                                        0,
                                                        "#0d0887"
                                                    ],
                                                    [
                                                        0.1111111111111111,
                                                        "#46039f"
                                                    ],
                                                    [
                                                        0.2222222222222222,
                                                        "#7201a8"
                                                    ],
                                                    [
                                                        0.3333333333333333,
                                                        "#9c179e"
                                                    ],
                                                    [
                                                        0.4444444444444444,
                                                        "#bd3786"
                                                    ],
                                                    [
                                                        0.5555555555555556,
                                                        "#d8576b"
                                                    ],
                                                    [
                                                        0.6666666666666666,
                                                        "#ed7953"
                                                    ],
                                                    [
                                                        0.7777777777777778,
                                                        "#fb9f3a"
                                                    ],
                                                    [
                                                        0.8888888888888888,
                                                        "#fdca26"
                                                    ],
                                                    [
                                                        1,
                                                        "#f0f921"
                                                    ]
                                                ],
                                                "type": "histogram2d"
                                            }
                                        ],
                                        "histogram2dcontour": [
                                            {
                                                "colorbar": {
                                                    "outlinewidth": 0,
                                                    "ticks": ""
                                                },
                                                "colorscale": [
                                                    [
                                                        0,
                                                        "#0d0887"
                                                    ],
                                                    [
                                                        0.1111111111111111,
                                                        "#46039f"
                                                    ],
                                                    [
                                                        0.2222222222222222,
                                                        "#7201a8"
                                                    ],
                                                    [
                                                        0.3333333333333333,
                                                        "#9c179e"
                                                    ],
                                                    [
                                                        0.4444444444444444,
                                                        "#bd3786"
                                                    ],
                                                    [
                                                        0.5555555555555556,
                                                        "#d8576b"
                                                    ],
                                                    [
                                                        0.6666666666666666,
                                                        "#ed7953"
                                                    ],
                                                    [
                                                        0.7777777777777778,
                                                        "#fb9f3a"
                                                    ],
                                                    [
                                                        0.8888888888888888,
                                                        "#fdca26"
                                                    ],
                                                    [
                                                        1,
                                                        "#f0f921"
                                                    ]
                                                ],
                                                "type": "histogram2dcontour"
                                            }
                                        ],
                                        "mesh3d": [
                                            {
                                                "colorbar": {
                                                    "outlinewidth": 0,
                                                    "ticks": ""
                                                },
                                                "type": "mesh3d"
                                            }
                                        ],
                                        "parcoords": [
                                            {
                                                "line": {
                                                    "colorbar": {
                                                        "outlinewidth": 0,
                                                        "ticks": ""
                                                    }
                                                },
                                                "type": "parcoords"
                                            }
                                        ],
                                        "pie": [
                                            {
                                                "automargin": true,
                                                "type": "pie"
                                            }
                                        ],
                                        "scatter": [
                                            {
                                                "marker": {
                                                    "colorbar": {
                                                        "outlinewidth": 0,
                                                        "ticks": ""
                                                    }
                                                },
                                                "type": "scatter"
                                            }
                                        ],
                                        "scatter3d": [
                                            {
                                                "line": {
                                                    "colorbar": {
                                                        "outlinewidth": 0,
                                                        "ticks": ""
                                                    }
                                                },
                                                "marker": {
                                                    "colorbar": {
                                                        "outlinewidth": 0,
                                                        "ticks": ""
                                                    }
                                                },
                                                "type": "scatter3d"
                                            }
                                        ],
                                        "scattercarpet": [
                                            {
                                                "marker": {
                                                    "colorbar": {
                                                        "outlinewidth": 0,
                                                        "ticks": ""
                                                    }
                                                },
                                                "type": "scattercarpet"
                                            }
                                        ],
                                        "scattergeo": [
                                            {
                                                "marker": {
                                                    "colorbar": {
                                                        "outlinewidth": 0,
                                                        "ticks": ""
                                                    }
                                                },
                                                "type": "scattergeo"
                                            }
                                        ],
                                        "scattergl": [
                                            {
                                                "marker": {
                                                    "colorbar": {
                                                        "outlinewidth": 0,
                                                        "ticks": ""
                                                    }
                                                },
                                                "type": "scattergl"
                                            }
                                        ],
                                        "scattermapbox": [
                                            {
                                                "marker": {
                                                    "colorbar": {
                                                        "outlinewidth": 0,
                                                        "ticks": ""
                                                    }
                                                },
                                                "type": "scattermapbox"
                                            }
                                        ],
                                        "scatterpolar": [
                                            {
                                                "marker": {
                                                    "colorbar": {
                                                        "outlinewidth": 0,
                                                        "ticks": ""
                                                    }
                                                },
                                                "type": "scatterpolar"
                                            }
                                        ],
                                        "scatterpolargl": [
                                            {
                                                "marker": {
                                                    "colorbar": {
                                                        "outlinewidth": 0,
                                                        "ticks": ""
                                                    }
                                                },
                                                "type": "scatterpolargl"
                                            }
                                        ],
                                        "scatterternary": [
                                            {
                                                "marker": {
                                                    "colorbar": {
                                                        "outlinewidth": 0,
                                                        "ticks": ""
                                                    }
                                                },
                                                "type": "scatterternary"
                                            }
                                        ],
                                        "surface": [
                                            {
                                                "colorbar": {
                                                    "outlinewidth": 0,
                                                    "ticks": ""
                                                },
                                                "colorscale": [
                                                    [
                                                        0,
                                                        "#0d0887"
                                                    ],
                                                    [
                                                        0.1111111111111111,
                                                        "#46039f"
                                                    ],
                                                    [
                                                        0.2222222222222222,
                                                        "#7201a8"
                                                    ],
                                                    [
                                                        0.3333333333333333,
                                                        "#9c179e"
                                                    ],
                                                    [
                                                        0.4444444444444444,
                                                        "#bd3786"
                                                    ],
                                                    [
                                                        0.5555555555555556,
                                                        "#d8576b"
                                                    ],
                                                    [
                                                        0.6666666666666666,
                                                        "#ed7953"
                                                    ],
                                                    [
                                                        0.7777777777777778,
                                                        "#fb9f3a"
                                                    ],
                                                    [
                                                        0.8888888888888888,
                                                        "#fdca26"
                                                    ],
                                                    [
                                                        1,
                                                        "#f0f921"
                                                    ]
                                                ],
                                                "type": "surface"
                                            }
                                        ],
                                        "table": [
                                            {
                                                "cells": {
                                                    "fill": {
                                                        "color": "#EBF0F8"
                                                    },
                                                    "line": {
                                                        "color": "white"
                                                    }
                                                },
                                                "header": {
                                                    "fill": {
                                                        "color": "#C8D4E3"
                                                    },
                                                    "line": {
                                                        "color": "white"
                                                    }
                                                },
                                                "type": "table"
                                            }
                                        ]
                                    },
                                    "layout": {
                                        "annotationdefaults": {
                                            "arrowcolor": "#2a3f5f",
                                            "arrowhead": 0,
                                            "arrowwidth": 1
                                        },
                                        "autotypenumbers": "strict",
                                        "coloraxis": {
                                            "colorbar": {
                                                "outlinewidth": 0,
                                                "ticks": ""
                                            }
                                        },
                                        "colorscale": {
                                            "diverging": [
                                                [
                                                    0,
                                                    "#8e0152"
                                                ],
                                                [
                                                    0.1,
                                                    "#c51b7d"
                                                ],
                                                [
                                                    0.2,
                                                    "#de77ae"
                                                ],
                                                [
                                                    0.3,
                                                    "#f1b6da"
                                                ],
                                                [
                                                    0.4,
                                                    "#fde0ef"
                                                ],
                                                [
                                                    0.5,
                                                    "#f7f7f7"
                                                ],
                                                [
                                                    0.6,
                                                    "#e6f5d0"
                                                ],
                                                [
                                                    0.7,
                                                    "#b8e186"
                                                ],
                                                [
                                                    0.8,
                                                    "#7fbc41"
                                                ],
                                                [
                                                    0.9,
                                                    "#4d9221"
                                                ],
                                                [
                                                    1,
                                                    "#276419"
                                                ]
                                            ],
                                            "sequential": [
                                                [
                                                    0,
                                                    "#0d0887"
                                                ],
                                                [
                                                    0.1111111111111111,
                                                    "#46039f"
                                                ],
                                                [
                                                    0.2222222222222222,
                                                    "#7201a8"
                                                ],
                                                [
                                                    0.3333333333333333,
                                                    "#9c179e"
                                                ],
                                                [
                                                    0.4444444444444444,
                                                    "#bd3786"
                                                ],
                                                [
                                                    0.5555555555555556,
                                                    "#d8576b"
                                                ],
                                                [
                                                    0.6666666666666666,
                                                    "#ed7953"
                                                ],
                                                [
                                                    0.7777777777777778,
                                                    "#fb9f3a"
                                                ],
                                                [
                                                    0.8888888888888888,
                                                    "#fdca26"
                                                ],
                                                [
                                                    1,
                                                    "#f0f921"
                                                ]
                                            ],
                                            "sequentialminus": [
                                                [
                                                    0,
                                                    "#0d0887"
                                                ],
                                                [
                                                    0.1111111111111111,
                                                    "#46039f"
                                                ],
                                                [
                                                    0.2222222222222222,
                                                    "#7201a8"
                                                ],
                                                [
                                                    0.3333333333333333,
                                                    "#9c179e"
                                                ],
                                                [
                                                    0.4444444444444444,
                                                    "#bd3786"
                                                ],
                                                [
                                                    0.5555555555555556,
                                                    "#d8576b"
                                                ],
                                                [
                                                    0.6666666666666666,
                                                    "#ed7953"
                                                ],
                                                [
                                                    0.7777777777777778,
                                                    "#fb9f3a"
                                                ],
                                                [
                                                    0.8888888888888888,
                                                    "#fdca26"
                                                ],
                                                [
                                                    1,
                                                    "#f0f921"
                                                ]
                                            ]
                                        },
                                        "colorway": [
                                            "#636efa",
                                            "#EF553B",
                                            "#00cc96",
                                            "#ab63fa",
                                            "#FFA15A",
                                            "#19d3f3",
                                            "#FF6692",
                                            "#B6E880",
                                            "#FF97FF",
                                            "#FECB52"
                                        ],
                                        "font": {
                                            "color": "#2a3f5f"
                                        },
                                        "geo": {
                                            "bgcolor": "white",
                                            "lakecolor": "white",
                                            "landcolor": "#E5ECF6",
                                            "showlakes": true,
                                            "showland": true,
                                            "subunitcolor": "white"
                                        },
                                        "hoverlabel": {
                                            "align": "left"
                                        },
                                        "hovermode": "closest",
                                        "mapbox": {
                                            "style": "light"
                                        },
                                        "paper_bgcolor": "white",
                                        "plot_bgcolor": "#E5ECF6",
                                        "polar": {
                                            "angularaxis": {
                                                "gridcolor": "white",
                                                "linecolor": "white",
                                                "ticks": ""
                                            },
                                            "bgcolor": "#E5ECF6",
                                            "radialaxis": {
                                                "gridcolor": "white",
                                                "linecolor": "white",
                                                "ticks": ""
                                            }
                                        },
                                        "scene": {
                                            "xaxis": {
                                                "backgroundcolor": "#E5ECF6",
                                                "gridcolor": "white",
                                                "gridwidth": 2,
                                                "linecolor": "white",
                                                "showbackground": true,
                                                "ticks": "",
                                                "zerolinecolor": "white"
                                            },
                                            "yaxis": {
                                                "backgroundcolor": "#E5ECF6",
                                                "gridcolor": "white",
                                                "gridwidth": 2,
                                                "linecolor": "white",
                                                "showbackground": true,
                                                "ticks": "",
                                                "zerolinecolor": "white"
                                            },
                                            "zaxis": {
                                                "backgroundcolor": "#E5ECF6",
                                                "gridcolor": "white",
                                                "gridwidth": 2,
                                                "linecolor": "white",
                                                "showbackground": true,
                                                "ticks": "",
                                                "zerolinecolor": "white"
                                            }
                                        },
                                        "shapedefaults": {
                                            "line": {
                                                "color": "#2a3f5f"
                                            }
                                        },
                                        "ternary": {
                                            "aaxis": {
                                                "gridcolor": "white",
                                                "linecolor": "white",
                                                "ticks": ""
                                            },
                                            "baxis": {
                                                "gridcolor": "white",
                                                "linecolor": "white",
                                                "ticks": ""
                                            },
                                            "bgcolor": "#E5ECF6",
                                            "caxis": {
                                                "gridcolor": "white",
                                                "linecolor": "white",
                                                "ticks": ""
                                            }
                                        },
                                        "title": {
                                            "x": 0.05
                                        },
                                        "xaxis": {
                                            "automargin": true,
                                            "gridcolor": "white",
                                            "linecolor": "white",
                                            "ticks": "",
                                            "title": {
                                                "standoff": 15
                                            },
                                            "zerolinecolor": "white",
                                            "zerolinewidth": 2
                                        },
                                        "yaxis": {
                                            "automargin": true,
                                            "gridcolor": "white",
                                            "linecolor": "white",
                                            "ticks": "",
                                            "title": {
                                                "standoff": 15
                                            },
                                            "zerolinecolor": "white",
                                            "zerolinewidth": 2
                                        }
                                    }
                                },
                                "xaxis": {
                                    "anchor": "y",
                                    "domain": [
                                        0,
                                        1
                                    ],
                                    "title": {
                                        "text": "variable"
                                    }
                                },
                                "yaxis": {
                                    "anchor": "x",
                                    "domain": [
                                        0,
                                        1
                                    ],
                                    "title": {
                                        "text": "value"
                                    }
                                }
                            }
                        }
                    },
                    "metadata": {}
                }
            ],
            "metadata": {}
        },
        {
            "cell_type": "code",
            "execution_count": 36,
            "source": [
                "df.head()"
            ],
            "outputs": [
                {
                    "output_type": "execute_result",
                    "data": {
                        "text/plain": [
                            "                Start                 End Sleep quality  Time in bed Wake up  \\\n",
                            "4 2015-01-01 22:12:10 2015-01-02 04:56:35           72%        404.0       2   \n",
                            "5 2015-01-03 00:34:57 2015-01-03 07:47:23           83%        432.0       2   \n",
                            "7 2015-01-04 21:34:44 2015-01-05 04:53:34           78%        438.0       2   \n",
                            "8 2015-01-05 21:32:25 2015-01-06 05:00:03           69%        447.0       2   \n",
                            "9 2015-01-06 21:24:56 2015-01-07 05:00:02           74%        455.0       1   \n",
                            "\n",
                            "                         Sleep Notes  Heart rate  Activity (steps)  \\\n",
                            "4             Drank coffee:Drank tea        68.0                 0   \n",
                            "5             Drank coffee:Drank tea        60.0                 0   \n",
                            "7              Ate late:Drank coffee        57.0                 0   \n",
                            "8  Drank coffee:Drank tea:Worked out        56.0                 0   \n",
                            "9               Drank tea:Worked out        64.0                 0   \n",
                            "\n",
                            "   Drank coffee  Drank tea  Ate late  Worked out  Stressful day  \n",
                            "4             1          1         0           0              0  \n",
                            "5             1          1         0           0              0  \n",
                            "7             1          0         1           0              0  \n",
                            "8             1          1         0           1              0  \n",
                            "9             0          1         0           1              0  "
                        ],
                        "text/html": [
                            "<div>\n",
                            "<style scoped>\n",
                            "    .dataframe tbody tr th:only-of-type {\n",
                            "        vertical-align: middle;\n",
                            "    }\n",
                            "\n",
                            "    .dataframe tbody tr th {\n",
                            "        vertical-align: top;\n",
                            "    }\n",
                            "\n",
                            "    .dataframe thead th {\n",
                            "        text-align: right;\n",
                            "    }\n",
                            "</style>\n",
                            "<table border=\"1\" class=\"dataframe\">\n",
                            "  <thead>\n",
                            "    <tr style=\"text-align: right;\">\n",
                            "      <th></th>\n",
                            "      <th>Start</th>\n",
                            "      <th>End</th>\n",
                            "      <th>Sleep quality</th>\n",
                            "      <th>Time in bed</th>\n",
                            "      <th>Wake up</th>\n",
                            "      <th>Sleep Notes</th>\n",
                            "      <th>Heart rate</th>\n",
                            "      <th>Activity (steps)</th>\n",
                            "      <th>Drank coffee</th>\n",
                            "      <th>Drank tea</th>\n",
                            "      <th>Ate late</th>\n",
                            "      <th>Worked out</th>\n",
                            "      <th>Stressful day</th>\n",
                            "    </tr>\n",
                            "  </thead>\n",
                            "  <tbody>\n",
                            "    <tr>\n",
                            "      <th>4</th>\n",
                            "      <td>2015-01-01 22:12:10</td>\n",
                            "      <td>2015-01-02 04:56:35</td>\n",
                            "      <td>72%</td>\n",
                            "      <td>404.0</td>\n",
                            "      <td>2</td>\n",
                            "      <td>Drank coffee:Drank tea</td>\n",
                            "      <td>68.0</td>\n",
                            "      <td>0</td>\n",
                            "      <td>1</td>\n",
                            "      <td>1</td>\n",
                            "      <td>0</td>\n",
                            "      <td>0</td>\n",
                            "      <td>0</td>\n",
                            "    </tr>\n",
                            "    <tr>\n",
                            "      <th>5</th>\n",
                            "      <td>2015-01-03 00:34:57</td>\n",
                            "      <td>2015-01-03 07:47:23</td>\n",
                            "      <td>83%</td>\n",
                            "      <td>432.0</td>\n",
                            "      <td>2</td>\n",
                            "      <td>Drank coffee:Drank tea</td>\n",
                            "      <td>60.0</td>\n",
                            "      <td>0</td>\n",
                            "      <td>1</td>\n",
                            "      <td>1</td>\n",
                            "      <td>0</td>\n",
                            "      <td>0</td>\n",
                            "      <td>0</td>\n",
                            "    </tr>\n",
                            "    <tr>\n",
                            "      <th>7</th>\n",
                            "      <td>2015-01-04 21:34:44</td>\n",
                            "      <td>2015-01-05 04:53:34</td>\n",
                            "      <td>78%</td>\n",
                            "      <td>438.0</td>\n",
                            "      <td>2</td>\n",
                            "      <td>Ate late:Drank coffee</td>\n",
                            "      <td>57.0</td>\n",
                            "      <td>0</td>\n",
                            "      <td>1</td>\n",
                            "      <td>0</td>\n",
                            "      <td>1</td>\n",
                            "      <td>0</td>\n",
                            "      <td>0</td>\n",
                            "    </tr>\n",
                            "    <tr>\n",
                            "      <th>8</th>\n",
                            "      <td>2015-01-05 21:32:25</td>\n",
                            "      <td>2015-01-06 05:00:03</td>\n",
                            "      <td>69%</td>\n",
                            "      <td>447.0</td>\n",
                            "      <td>2</td>\n",
                            "      <td>Drank coffee:Drank tea:Worked out</td>\n",
                            "      <td>56.0</td>\n",
                            "      <td>0</td>\n",
                            "      <td>1</td>\n",
                            "      <td>1</td>\n",
                            "      <td>0</td>\n",
                            "      <td>1</td>\n",
                            "      <td>0</td>\n",
                            "    </tr>\n",
                            "    <tr>\n",
                            "      <th>9</th>\n",
                            "      <td>2015-01-06 21:24:56</td>\n",
                            "      <td>2015-01-07 05:00:02</td>\n",
                            "      <td>74%</td>\n",
                            "      <td>455.0</td>\n",
                            "      <td>1</td>\n",
                            "      <td>Drank tea:Worked out</td>\n",
                            "      <td>64.0</td>\n",
                            "      <td>0</td>\n",
                            "      <td>0</td>\n",
                            "      <td>1</td>\n",
                            "      <td>0</td>\n",
                            "      <td>1</td>\n",
                            "      <td>0</td>\n",
                            "    </tr>\n",
                            "  </tbody>\n",
                            "</table>\n",
                            "</div>"
                        ]
                    },
                    "metadata": {},
                    "execution_count": 36
                }
            ],
            "metadata": {}
        },
        {
            "cell_type": "markdown",
            "source": [
                "For the analysis, we'll conduct an ANOVA (Analysis of Variance) test, as we have a continuous dependent variable and categorical variables."
            ],
            "metadata": {}
        },
        {
            "cell_type": "code",
            "execution_count": 37,
            "source": [
                "#print('Mean Absolute Error:', metrics.mean_absolute_error(y_test, y_pred))  \r\n",
                "#print('Mean Squared Error:', metrics.mean_squared_error(y_test, y_pred))  \r\n",
                "#print('Root Mean Squared Error:', np.sqrt(metrics.mean_squared_error(y_test, y_pred)))\r\n",
                "\r\n",
                "#print(r2_score(y_test, y_pred))\r\n",
                "#df.head(5)"
            ],
            "outputs": [],
            "metadata": {}
        },
        {
            "cell_type": "code",
            "execution_count": 38,
            "source": [
                "y = df[\"Time in bed\"]\r\n",
                "x = df[[\"Wake up\", \"Drank coffee\", \"Drank tea\", \"Ate late\", \"Worked out\", \"Stressful day\", \"Heart rate\"]]\r\n",
                "\r\n",
                "x_train, x_test, y_train, y_test = train_test_split(x, y, test_size=0.2, random_state=1)\r\n",
                "\r\n",
                "dfTrain = pd.DataFrame({\r\n",
                "    \"Wake_up\": x_train[\"Wake up\"],\r\n",
                "    \"Drank_coffee\": x_train[\"Drank coffee\"],\r\n",
                "    \"Drank_tea\": x_train[\"Drank tea\"],\r\n",
                "    \"Ate_late\": x_train[\"Ate late\"],\r\n",
                "    \"Worked_out\": x_train[\"Worked out\"],\r\n",
                "    \"Stressful_day\": x_train[\"Stressful day\"],\r\n",
                "    \"Heart_rate\": x_train[\"Heart rate\"],\r\n",
                "    \"Time_in_bed\": y_train\r\n",
                "})"
            ],
            "outputs": [],
            "metadata": {}
        },
        {
            "cell_type": "code",
            "execution_count": 39,
            "source": [
                "anova = ols('Time_in_bed ~ C(Drank_coffee) + C(Drank_tea) + C(Wake_up) + C(Ate_late) + C(Worked_out) + C(Stressful_day)', data = dfTrain).fit()"
            ],
            "outputs": [],
            "metadata": {}
        },
        {
            "cell_type": "markdown",
            "source": [
                "We need to check the assumptions of ANOVA to see if the method is appropriate:\r\n",
                "- The residuals should be normally distributed\r\n",
                "- The homoscedasticity of error variances (the error variances are homogenous)\r\n",
                "- The observations are independent of one another\r\n",
                "\r\n",
                "We can use some diagnostic plots to accomplish this.\r\n"
            ],
            "metadata": {}
        },
        {
            "cell_type": "code",
            "execution_count": 40,
            "source": [
                "anova = ols('Time_in_bed ~ C(Drank_coffee) + C(Drank_tea) + C(Wake_up) + C(Ate_late) + C(Worked_out) + C(Stressful_day)', data = dfTrain).fit()\r\n",
                "\r\n",
                "regression_diagnostic_plots(anova)"
            ],
            "outputs": [
                {
                    "output_type": "display_data",
                    "data": {
                        "text/plain": [
                            "<Figure size 1280x720 with 4 Axes>"
                        ],
                        "image/svg+xml": "<?xml version=\"1.0\" encoding=\"utf-8\" standalone=\"no\"?>\r\n<!DOCTYPE svg PUBLIC \"-//W3C//DTD SVG 1.1//EN\"\r\n  \"http://www.w3.org/Graphics/SVG/1.1/DTD/svg11.dtd\">\r\n<svg height=\"512.09pt\" version=\"1.1\" viewBox=\"0 0 911.84502 512.09\" width=\"911.84502pt\" xmlns=\"http://www.w3.org/2000/svg\" xmlns:xlink=\"http://www.w3.org/1999/xlink\">\r\n <metadata>\r\n  <rdf:RDF xmlns:cc=\"http://creativecommons.org/ns#\" xmlns:dc=\"http://purl.org/dc/elements/1.1/\" xmlns:rdf=\"http://www.w3.org/1999/02/22-rdf-syntax-ns#\">\r\n   <cc:Work>\r\n    <dc:type rdf:resource=\"http://purl.org/dc/dcmitype/StillImage\"/>\r\n    <dc:date>2021-08-21T20:21:09.401213</dc:date>\r\n    <dc:format>image/svg+xml</dc:format>\r\n    <dc:creator>\r\n     <cc:Agent>\r\n      <dc:title>Matplotlib v3.4.2, https://matplotlib.org/</dc:title>\r\n     </cc:Agent>\r\n    </dc:creator>\r\n   </cc:Work>\r\n  </rdf:RDF>\r\n </metadata>\r\n <defs>\r\n  <style type=\"text/css\">*{stroke-linecap:butt;stroke-linejoin:round;}</style>\r\n </defs>\r\n <g id=\"figure_1\">\r\n  <g id=\"patch_1\">\r\n   <path d=\"M 0 512.09 \r\nL 911.84502 512.09 \r\nL 911.84502 0 \r\nL 0 0 \r\nz\r\n\" style=\"fill:#ffffff;\"/>\r\n  </g>\r\n  <g id=\"axes_1\">\r\n   <g id=\"patch_2\">\r\n    <path d=\"M 55.345313 212.158125 \r\nL 451.532753 212.158125 \r\nL 451.532753 22.318125 \r\nL 55.345313 22.318125 \r\nz\r\n\" style=\"fill:#ffffff;\"/>\r\n   </g>\r\n   <g id=\"PathCollection_1\">\r\n    <defs>\r\n     <path d=\"M 0 3 \r\nC 0.795609 3 1.55874 2.683901 2.12132 2.12132 \r\nC 2.683901 1.55874 3 0.795609 3 -0 \r\nC 3 -0.795609 2.683901 -1.55874 2.12132 -2.12132 \r\nC 1.55874 -2.683901 0.795609 -3 0 -3 \r\nC -0.795609 -3 -1.55874 -2.683901 -2.12132 -2.12132 \r\nC -2.683901 -1.55874 -3 -0.795609 -3 0 \r\nC -3 0.795609 -2.683901 1.55874 -2.12132 2.12132 \r\nC -1.55874 2.683901 -0.795609 3 0 3 \r\nz\r\n\" id=\"C0_0_ded5e0ba00\"/>\r\n    </defs>\r\n    <g clip-path=\"url(#p18f14c32f4)\">\r\n     <use style=\"fill:none;stroke:#000000;\" x=\"157.813377\" xlink:href=\"#C0_0_ded5e0ba00\" y=\"91.575173\"/>\r\n    </g>\r\n    <g clip-path=\"url(#p18f14c32f4)\">\r\n     <use style=\"fill:none;stroke:#000000;\" x=\"166.099018\" xlink:href=\"#C0_0_ded5e0ba00\" y=\"100.856593\"/>\r\n    </g>\r\n    <g clip-path=\"url(#p18f14c32f4)\">\r\n     <use style=\"fill:none;stroke:#000000;\" x=\"157.813377\" xlink:href=\"#C0_0_ded5e0ba00\" y=\"127.305003\"/>\r\n    </g>\r\n    <g clip-path=\"url(#p18f14c32f4)\">\r\n     <use style=\"fill:none;stroke:#000000;\" x=\"157.813377\" xlink:href=\"#C0_0_ded5e0ba00\" y=\"83.485401\"/>\r\n    </g>\r\n    <g clip-path=\"url(#p18f14c32f4)\">\r\n     <use style=\"fill:none;stroke:#000000;\" x=\"322.387148\" xlink:href=\"#C0_0_ded5e0ba00\" y=\"82.211048\"/>\r\n    </g>\r\n    <g clip-path=\"url(#p18f14c32f4)\">\r\n     <use style=\"fill:none;stroke:#000000;\" x=\"196.514794\" xlink:href=\"#C0_0_ded5e0ba00\" y=\"127.477885\"/>\r\n    </g>\r\n    <g clip-path=\"url(#p18f14c32f4)\">\r\n     <use style=\"fill:none;stroke:#000000;\" x=\"157.813377\" xlink:href=\"#C0_0_ded5e0ba00\" y=\"74.047332\"/>\r\n    </g>\r\n    <g clip-path=\"url(#p18f14c32f4)\">\r\n     <use style=\"fill:none;stroke:#000000;\" x=\"289.259979\" xlink:href=\"#C0_0_ded5e0ba00\" y=\"93.626221\"/>\r\n    </g>\r\n    <g clip-path=\"url(#p18f14c32f4)\">\r\n     <use style=\"fill:none;stroke:#000000;\" x=\"206.424233\" xlink:href=\"#C0_0_ded5e0ba00\" y=\"122.161591\"/>\r\n    </g>\r\n    <g clip-path=\"url(#p18f14c32f4)\">\r\n     <use style=\"fill:none;stroke:#000000;\" x=\"157.813377\" xlink:href=\"#C0_0_ded5e0ba00\" y=\"95.62006\"/>\r\n    </g>\r\n    <g clip-path=\"url(#p18f14c32f4)\">\r\n     <use style=\"fill:none;stroke:#000000;\" x=\"157.813377\" xlink:href=\"#C0_0_ded5e0ba00\" y=\"71.350741\"/>\r\n    </g>\r\n    <g clip-path=\"url(#p18f14c32f4)\">\r\n     <use style=\"fill:none;stroke:#000000;\" x=\"157.813377\" xlink:href=\"#C0_0_ded5e0ba00\" y=\"119.21523\"/>\r\n    </g>\r\n    <g clip-path=\"url(#p18f14c32f4)\">\r\n     <use style=\"fill:none;stroke:#000000;\" x=\"307.651879\" xlink:href=\"#C0_0_ded5e0ba00\" y=\"100.990391\"/>\r\n    </g>\r\n    <g clip-path=\"url(#p18f14c32f4)\">\r\n     <use style=\"fill:none;stroke:#000000;\" x=\"157.813377\" xlink:href=\"#C0_0_ded5e0ba00\" y=\"65.95756\"/>\r\n    </g>\r\n    <g clip-path=\"url(#p18f14c32f4)\">\r\n     <use style=\"fill:none;stroke:#000000;\" x=\"73.353833\" xlink:href=\"#C0_0_ded5e0ba00\" y=\"90.888655\"/>\r\n    </g>\r\n    <g clip-path=\"url(#p18f14c32f4)\">\r\n     <use style=\"fill:none;stroke:#000000;\" x=\"239.551402\" xlink:href=\"#C0_0_ded5e0ba00\" y=\"82.432213\"/>\r\n    </g>\r\n    <g clip-path=\"url(#p18f14c32f4)\">\r\n     <use style=\"fill:none;stroke:#000000;\" x=\"206.424233\" xlink:href=\"#C0_0_ded5e0ba00\" y=\"112.723522\"/>\r\n    </g>\r\n    <g clip-path=\"url(#p18f14c32f4)\">\r\n     <use style=\"fill:none;stroke:#000000;\" x=\"307.651879\" xlink:href=\"#C0_0_ded5e0ba00\" y=\"99.642095\"/>\r\n    </g>\r\n    <g clip-path=\"url(#p18f14c32f4)\">\r\n     <use style=\"fill:none;stroke:#000000;\" x=\"250.558562\" xlink:href=\"#C0_0_ded5e0ba00\" y=\"59.071804\"/>\r\n    </g>\r\n    <g clip-path=\"url(#p18f14c32f4)\">\r\n     <use style=\"fill:none;stroke:#000000;\" x=\"356.262735\" xlink:href=\"#C0_0_ded5e0ba00\" y=\"124.835331\"/>\r\n    </g>\r\n    <g clip-path=\"url(#p18f14c32f4)\">\r\n     <use style=\"fill:none;stroke:#000000;\" x=\"190.940545\" xlink:href=\"#C0_0_ded5e0ba00\" y=\"30.947216\"/>\r\n    </g>\r\n    <g clip-path=\"url(#p18f14c32f4)\">\r\n     <use style=\"fill:none;stroke:#000000;\" x=\"283.685731\" xlink:href=\"#C0_0_ded5e0ba00\" y=\"143.385608\"/>\r\n    </g>\r\n    <g clip-path=\"url(#p18f14c32f4)\">\r\n     <use style=\"fill:none;stroke:#000000;\" x=\"250.558562\" xlink:href=\"#C0_0_ded5e0ba00\" y=\"55.701066\"/>\r\n    </g>\r\n    <g clip-path=\"url(#p18f14c32f4)\">\r\n     <use style=\"fill:none;stroke:#000000;\" x=\"250.558562\" xlink:href=\"#C0_0_ded5e0ba00\" y=\"143.34027\"/>\r\n    </g>\r\n    <g clip-path=\"url(#p18f14c32f4)\">\r\n     <use style=\"fill:none;stroke:#000000;\" x=\"250.558562\" xlink:href=\"#C0_0_ded5e0ba00\" y=\"115.026066\"/>\r\n    </g>\r\n    <g clip-path=\"url(#p18f14c32f4)\">\r\n     <use style=\"fill:none;stroke:#000000;\" x=\"250.558562\" xlink:href=\"#C0_0_ded5e0ba00\" y=\"84.01527\"/>\r\n    </g>\r\n    <g clip-path=\"url(#p18f14c32f4)\">\r\n     <use style=\"fill:none;stroke:#000000;\" x=\"289.259979\" xlink:href=\"#C0_0_ded5e0ba00\" y=\"138.794119\"/>\r\n    </g>\r\n    <g clip-path=\"url(#p18f14c32f4)\">\r\n     <use style=\"fill:none;stroke:#000000;\" x=\"157.813377\" xlink:href=\"#C0_0_ded5e0ba00\" y=\"111.125457\"/>\r\n    </g>\r\n    <g clip-path=\"url(#p18f14c32f4)\">\r\n     <use style=\"fill:none;stroke:#000000;\" x=\"250.558562\" xlink:href=\"#C0_0_ded5e0ba00\" y=\"119.7451\"/>\r\n    </g>\r\n    <g clip-path=\"url(#p18f14c32f4)\">\r\n     <use style=\"fill:none;stroke:#000000;\" x=\"250.558562\" xlink:href=\"#C0_0_ded5e0ba00\" y=\"114.351918\"/>\r\n    </g>\r\n    <g clip-path=\"url(#p18f14c32f4)\">\r\n     <use style=\"fill:none;stroke:#000000;\" x=\"157.813377\" xlink:href=\"#C0_0_ded5e0ba00\" y=\"100.339094\"/>\r\n    </g>\r\n    <g clip-path=\"url(#p18f14c32f4)\">\r\n     <use style=\"fill:none;stroke:#000000;\" x=\"289.259979\" xlink:href=\"#C0_0_ded5e0ba00\" y=\"96.99696\"/>\r\n    </g>\r\n    <g clip-path=\"url(#p18f14c32f4)\">\r\n     <use style=\"fill:none;stroke:#000000;\" x=\"250.558562\" xlink:href=\"#C0_0_ded5e0ba00\" y=\"88.734304\"/>\r\n    </g>\r\n    <g clip-path=\"url(#p18f14c32f4)\">\r\n     <use style=\"fill:none;stroke:#000000;\" x=\"157.813377\" xlink:href=\"#C0_0_ded5e0ba00\" y=\"51.800457\"/>\r\n    </g>\r\n    <g clip-path=\"url(#p18f14c32f4)\">\r\n     <use style=\"fill:none;stroke:#000000;\" x=\"204.800435\" xlink:href=\"#C0_0_ded5e0ba00\" y=\"114.51243\"/>\r\n    </g>\r\n    <g clip-path=\"url(#p18f14c32f4)\">\r\n     <use style=\"fill:none;stroke:#000000;\" x=\"157.813377\" xlink:href=\"#C0_0_ded5e0ba00\" y=\"105.058128\"/>\r\n    </g>\r\n    <g clip-path=\"url(#p18f14c32f4)\">\r\n     <use style=\"fill:none;stroke:#000000;\" x=\"250.558562\" xlink:href=\"#C0_0_ded5e0ba00\" y=\"122.441691\"/>\r\n    </g>\r\n    <g clip-path=\"url(#p18f14c32f4)\">\r\n     <use style=\"fill:none;stroke:#000000;\" x=\"250.558562\" xlink:href=\"#C0_0_ded5e0ba00\" y=\"144.014418\"/>\r\n    </g>\r\n    <g clip-path=\"url(#p18f14c32f4)\">\r\n     <use style=\"fill:none;stroke:#000000;\" x=\"289.259979\" xlink:href=\"#C0_0_ded5e0ba00\" y=\"123.288721\"/>\r\n    </g>\r\n    <g clip-path=\"url(#p18f14c32f4)\">\r\n     <use style=\"fill:none;stroke:#000000;\" x=\"206.424233\" xlink:href=\"#C0_0_ded5e0ba00\" y=\"110.026931\"/>\r\n    </g>\r\n    <g clip-path=\"url(#p18f14c32f4)\">\r\n     <use style=\"fill:none;stroke:#000000;\" x=\"250.558562\" xlink:href=\"#C0_0_ded5e0ba00\" y=\"77.947941\"/>\r\n    </g>\r\n    <g clip-path=\"url(#p18f14c32f4)\">\r\n     <use style=\"fill:none;stroke:#000000;\" x=\"196.514794\" xlink:href=\"#C0_0_ded5e0ba00\" y=\"126.12959\"/>\r\n    </g>\r\n    <g clip-path=\"url(#p18f14c32f4)\">\r\n     <use style=\"fill:none;stroke:#000000;\" x=\"250.558562\" xlink:href=\"#C0_0_ded5e0ba00\" y=\"136.598793\"/>\r\n    </g>\r\n    <g clip-path=\"url(#p18f14c32f4)\">\r\n     <use style=\"fill:none;stroke:#000000;\" x=\"250.558562\" xlink:href=\"#C0_0_ded5e0ba00\" y=\"99.520668\"/>\r\n    </g>\r\n    <g clip-path=\"url(#p18f14c32f4)\">\r\n     <use style=\"fill:none;stroke:#000000;\" x=\"299.169419\" xlink:href=\"#C0_0_ded5e0ba00\" y=\"145.612483\"/>\r\n    </g>\r\n    <g clip-path=\"url(#p18f14c32f4)\">\r\n     <use style=\"fill:none;stroke:#000000;\" x=\"196.514794\" xlink:href=\"#C0_0_ded5e0ba00\" y=\"113.320783\"/>\r\n    </g>\r\n    <g clip-path=\"url(#p18f14c32f4)\">\r\n     <use style=\"fill:none;stroke:#000000;\" x=\"289.259979\" xlink:href=\"#C0_0_ded5e0ba00\" y=\"116.547244\"/>\r\n    </g>\r\n    <g clip-path=\"url(#p18f14c32f4)\">\r\n     <use style=\"fill:none;stroke:#000000;\" x=\"239.551402\" xlink:href=\"#C0_0_ded5e0ba00\" y=\"48.050679\"/>\r\n    </g>\r\n    <g clip-path=\"url(#p18f14c32f4)\">\r\n     <use style=\"fill:none;stroke:#000000;\" x=\"157.813377\" xlink:href=\"#C0_0_ded5e0ba00\" y=\"137.417219\"/>\r\n    </g>\r\n    <g clip-path=\"url(#p18f14c32f4)\">\r\n     <use style=\"fill:none;stroke:#000000;\" x=\"289.259979\" xlink:href=\"#C0_0_ded5e0ba00\" y=\"136.771676\"/>\r\n    </g>\r\n    <g clip-path=\"url(#p18f14c32f4)\">\r\n     <use style=\"fill:none;stroke:#000000;\" x=\"206.424233\" xlink:href=\"#C0_0_ded5e0ba00\" y=\"38.567272\"/>\r\n    </g>\r\n    <g clip-path=\"url(#p18f14c32f4)\">\r\n     <use style=\"fill:none;stroke:#000000;\" x=\"289.259979\" xlink:href=\"#C0_0_ded5e0ba00\" y=\"136.097528\"/>\r\n    </g>\r\n    <g clip-path=\"url(#p18f14c32f4)\">\r\n     <use style=\"fill:none;stroke:#000000;\" x=\"157.813377\" xlink:href=\"#C0_0_ded5e0ba00\" y=\"95.62006\"/>\r\n    </g>\r\n    <g clip-path=\"url(#p18f14c32f4)\">\r\n     <use style=\"fill:none;stroke:#000000;\" x=\"206.424233\" xlink:href=\"#C0_0_ded5e0ba00\" y=\"85.083466\"/>\r\n    </g>\r\n    <g clip-path=\"url(#p18f14c32f4)\">\r\n     <use style=\"fill:none;stroke:#000000;\" x=\"157.813377\" xlink:href=\"#C0_0_ded5e0ba00\" y=\"119.889378\"/>\r\n    </g>\r\n    <g clip-path=\"url(#p18f14c32f4)\">\r\n     <use style=\"fill:none;stroke:#000000;\" x=\"206.424233\" xlink:href=\"#C0_0_ded5e0ba00\" y=\"135.644545\"/>\r\n    </g>\r\n    <g clip-path=\"url(#p18f14c32f4)\">\r\n     <use style=\"fill:none;stroke:#000000;\" x=\"289.259979\" xlink:href=\"#C0_0_ded5e0ba00\" y=\"105.76088\"/>\r\n    </g>\r\n    <g clip-path=\"url(#p18f14c32f4)\">\r\n     <use style=\"fill:none;stroke:#000000;\" x=\"250.558562\" xlink:href=\"#C0_0_ded5e0ba00\" y=\"76.599645\"/>\r\n    </g>\r\n    <g clip-path=\"url(#p18f14c32f4)\">\r\n     <use style=\"fill:none;stroke:#000000;\" x=\"250.558562\" xlink:href=\"#C0_0_ded5e0ba00\" y=\"111.655327\"/>\r\n    </g>\r\n    <g clip-path=\"url(#p18f14c32f4)\">\r\n     <use style=\"fill:none;stroke:#000000;\" x=\"157.813377\" xlink:href=\"#C0_0_ded5e0ba00\" y=\"116.518639\"/>\r\n    </g>\r\n    <g clip-path=\"url(#p18f14c32f4)\">\r\n     <use style=\"fill:none;stroke:#000000;\" x=\"250.558562\" xlink:href=\"#C0_0_ded5e0ba00\" y=\"133.902202\"/>\r\n    </g>\r\n    <g clip-path=\"url(#p18f14c32f4)\">\r\n     <use style=\"fill:none;stroke:#000000;\" x=\"299.169419\" xlink:href=\"#C0_0_ded5e0ba00\" y=\"94.377256\"/>\r\n    </g>\r\n    <g clip-path=\"url(#p18f14c32f4)\">\r\n     <use style=\"fill:none;stroke:#000000;\" x=\"157.813377\" xlink:href=\"#C0_0_ded5e0ba00\" y=\"74.047332\"/>\r\n    </g>\r\n    <g clip-path=\"url(#p18f14c32f4)\">\r\n     <use style=\"fill:none;stroke:#000000;\" x=\"157.813377\" xlink:href=\"#C0_0_ded5e0ba00\" y=\"91.575173\"/>\r\n    </g>\r\n    <g clip-path=\"url(#p18f14c32f4)\">\r\n     <use style=\"fill:none;stroke:#000000;\" x=\"196.514794\" xlink:href=\"#C0_0_ded5e0ba00\" y=\"100.511976\"/>\r\n    </g>\r\n    <g clip-path=\"url(#p18f14c32f4)\">\r\n     <use style=\"fill:none;stroke:#000000;\" x=\"157.813377\" xlink:href=\"#C0_0_ded5e0ba00\" y=\"90.226878\"/>\r\n    </g>\r\n    <g clip-path=\"url(#p18f14c32f4)\">\r\n     <use style=\"fill:none;stroke:#000000;\" x=\"157.813377\" xlink:href=\"#C0_0_ded5e0ba00\" y=\"134.720628\"/>\r\n    </g>\r\n    <g clip-path=\"url(#p18f14c32f4)\">\r\n     <use style=\"fill:none;stroke:#000000;\" x=\"289.259979\" xlink:href=\"#C0_0_ded5e0ba00\" y=\"77.446676\"/>\r\n    </g>\r\n    <g clip-path=\"url(#p18f14c32f4)\">\r\n     <use style=\"fill:none;stroke:#000000;\" x=\"73.353833\" xlink:href=\"#C0_0_ded5e0ba00\" y=\"92.23695\"/>\r\n    </g>\r\n    <g clip-path=\"url(#p18f14c32f4)\">\r\n     <use style=\"fill:none;stroke:#000000;\" x=\"196.514794\" xlink:href=\"#C0_0_ded5e0ba00\" y=\"76.916806\"/>\r\n    </g>\r\n    <g clip-path=\"url(#p18f14c32f4)\">\r\n     <use style=\"fill:none;stroke:#000000;\" x=\"250.558562\" xlink:href=\"#C0_0_ded5e0ba00\" y=\"108.958736\"/>\r\n    </g>\r\n    <g clip-path=\"url(#p18f14c32f4)\">\r\n     <use style=\"fill:none;stroke:#000000;\" x=\"250.558562\" xlink:href=\"#C0_0_ded5e0ba00\" y=\"98.84652\"/>\r\n    </g>\r\n    <g clip-path=\"url(#p18f14c32f4)\">\r\n     <use style=\"fill:none;stroke:#000000;\" x=\"206.424233\" xlink:href=\"#C0_0_ded5e0ba00\" y=\"124.858181\"/>\r\n    </g>\r\n    <g clip-path=\"url(#p18f14c32f4)\">\r\n     <use style=\"fill:none;stroke:#000000;\" x=\"250.558562\" xlink:href=\"#C0_0_ded5e0ba00\" y=\"100.194816\"/>\r\n    </g>\r\n    <g clip-path=\"url(#p18f14c32f4)\">\r\n     <use style=\"fill:none;stroke:#000000;\" x=\"190.940545\" xlink:href=\"#C0_0_ded5e0ba00\" y=\"203.529034\"/>\r\n    </g>\r\n    <g clip-path=\"url(#p18f14c32f4)\">\r\n     <use style=\"fill:none;stroke:#000000;\" x=\"250.558562\" xlink:href=\"#C0_0_ded5e0ba00\" y=\"111.655327\"/>\r\n    </g>\r\n    <g clip-path=\"url(#p18f14c32f4)\">\r\n     <use style=\"fill:none;stroke:#000000;\" x=\"299.169419\" xlink:href=\"#C0_0_ded5e0ba00\" y=\"107.186062\"/>\r\n    </g>\r\n    <g clip-path=\"url(#p18f14c32f4)\">\r\n     <use style=\"fill:none;stroke:#000000;\" x=\"196.514794\" xlink:href=\"#C0_0_ded5e0ba00\" y=\"94.444647\"/>\r\n    </g>\r\n    <g clip-path=\"url(#p18f14c32f4)\">\r\n     <use style=\"fill:none;stroke:#000000;\" x=\"289.259979\" xlink:href=\"#C0_0_ded5e0ba00\" y=\"38.346107\"/>\r\n    </g>\r\n    <g clip-path=\"url(#p18f14c32f4)\">\r\n     <use style=\"fill:none;stroke:#000000;\" x=\"283.685731\" xlink:href=\"#C0_0_ded5e0ba00\" y=\"95.52112\"/>\r\n    </g>\r\n    <g clip-path=\"url(#p18f14c32f4)\">\r\n     <use style=\"fill:none;stroke:#000000;\" x=\"356.262735\" xlink:href=\"#C0_0_ded5e0ba00\" y=\"121.464592\"/>\r\n    </g>\r\n    <g clip-path=\"url(#p18f14c32f4)\">\r\n     <use style=\"fill:none;stroke:#000000;\" x=\"299.169419\" xlink:href=\"#C0_0_ded5e0ba00\" y=\"100.444585\"/>\r\n    </g>\r\n    <g clip-path=\"url(#p18f14c32f4)\">\r\n     <use style=\"fill:none;stroke:#000000;\" x=\"206.424233\" xlink:href=\"#C0_0_ded5e0ba00\" y=\"99.914716\"/>\r\n    </g>\r\n    <g clip-path=\"url(#p18f14c32f4)\">\r\n     <use style=\"fill:none;stroke:#000000;\" x=\"250.558562\" xlink:href=\"#C0_0_ded5e0ba00\" y=\"92.105043\"/>\r\n    </g>\r\n    <g clip-path=\"url(#p18f14c32f4)\">\r\n     <use style=\"fill:none;stroke:#000000;\" x=\"433.524233\" xlink:href=\"#C0_0_ded5e0ba00\" y=\"135.947133\"/>\r\n    </g>\r\n    <g clip-path=\"url(#p18f14c32f4)\">\r\n     <use style=\"fill:none;stroke:#000000;\" x=\"283.685731\" xlink:href=\"#C0_0_ded5e0ba00\" y=\"111.700665\"/>\r\n    </g>\r\n    <g clip-path=\"url(#p18f14c32f4)\">\r\n     <use style=\"fill:none;stroke:#000000;\" x=\"157.813377\" xlink:href=\"#C0_0_ded5e0ba00\" y=\"101.687389\"/>\r\n    </g>\r\n    <g clip-path=\"url(#p18f14c32f4)\">\r\n     <use style=\"fill:none;stroke:#000000;\" x=\"157.813377\" xlink:href=\"#C0_0_ded5e0ba00\" y=\"143.484548\"/>\r\n    </g>\r\n    <g clip-path=\"url(#p18f14c32f4)\">\r\n     <use style=\"fill:none;stroke:#000000;\" x=\"289.259979\" xlink:href=\"#C0_0_ded5e0ba00\" y=\"86.884744\"/>\r\n    </g>\r\n    <g clip-path=\"url(#p18f14c32f4)\">\r\n     <use style=\"fill:none;stroke:#000000;\" x=\"307.651879\" xlink:href=\"#C0_0_ded5e0ba00\" y=\"100.990391\"/>\r\n    </g>\r\n    <g clip-path=\"url(#p18f14c32f4)\">\r\n     <use style=\"fill:none;stroke:#000000;\" x=\"157.813377\" xlink:href=\"#C0_0_ded5e0ba00\" y=\"107.080571\"/>\r\n    </g>\r\n    <g clip-path=\"url(#p18f14c32f4)\">\r\n     <use style=\"fill:none;stroke:#000000;\" x=\"289.259979\" xlink:href=\"#C0_0_ded5e0ba00\" y=\"121.940426\"/>\r\n    </g>\r\n    <g clip-path=\"url(#p18f14c32f4)\">\r\n     <use style=\"fill:none;stroke:#000000;\" x=\"250.558562\" xlink:href=\"#C0_0_ded5e0ba00\" y=\"93.453338\"/>\r\n    </g>\r\n    <g clip-path=\"url(#p18f14c32f4)\">\r\n     <use style=\"fill:none;stroke:#000000;\" x=\"299.169419\" xlink:href=\"#C0_0_ded5e0ba00\" y=\"125.388051\"/>\r\n    </g>\r\n    <g clip-path=\"url(#p18f14c32f4)\">\r\n     <use style=\"fill:none;stroke:#000000;\" x=\"250.558562\" xlink:href=\"#C0_0_ded5e0ba00\" y=\"101.543111\"/>\r\n    </g>\r\n    <g clip-path=\"url(#p18f14c32f4)\">\r\n     <use style=\"fill:none;stroke:#000000;\" x=\"400.397064\" xlink:href=\"#C0_0_ded5e0ba00\" y=\"80.621681\"/>\r\n    </g>\r\n    <g clip-path=\"url(#p18f14c32f4)\">\r\n     <use style=\"fill:none;stroke:#000000;\" x=\"157.813377\" xlink:href=\"#C0_0_ded5e0ba00\" y=\"127.979151\"/>\r\n    </g>\r\n    <g clip-path=\"url(#p18f14c32f4)\">\r\n     <use style=\"fill:none;stroke:#000000;\" x=\"250.558562\" xlink:href=\"#C0_0_ded5e0ba00\" y=\"57.049361\"/>\r\n    </g>\r\n    <g clip-path=\"url(#p18f14c32f4)\">\r\n     <use style=\"fill:none;stroke:#000000;\" x=\"157.813377\" xlink:href=\"#C0_0_ded5e0ba00\" y=\"149.551878\"/>\r\n    </g>\r\n    <g clip-path=\"url(#p18f14c32f4)\">\r\n     <use style=\"fill:none;stroke:#000000;\" x=\"250.558562\" xlink:href=\"#C0_0_ded5e0ba00\" y=\"125.138282\"/>\r\n    </g>\r\n    <g clip-path=\"url(#p18f14c32f4)\">\r\n     <use style=\"fill:none;stroke:#000000;\" x=\"206.424233\" xlink:href=\"#C0_0_ded5e0ba00\" y=\"84.409318\"/>\r\n    </g>\r\n    <g clip-path=\"url(#p18f14c32f4)\">\r\n     <use style=\"fill:none;stroke:#000000;\" x=\"283.685731\" xlink:href=\"#C0_0_ded5e0ba00\" y=\"113.048961\"/>\r\n    </g>\r\n    <g clip-path=\"url(#p18f14c32f4)\">\r\n     <use style=\"fill:none;stroke:#000000;\" x=\"299.169419\" xlink:href=\"#C0_0_ded5e0ba00\" y=\"58.647426\"/>\r\n    </g>\r\n    <g clip-path=\"url(#p18f14c32f4)\">\r\n     <use style=\"fill:none;stroke:#000000;\" x=\"250.558562\" xlink:href=\"#C0_0_ded5e0ba00\" y=\"108.958736\"/>\r\n    </g>\r\n    <g clip-path=\"url(#p18f14c32f4)\">\r\n     <use style=\"fill:none;stroke:#000000;\" x=\"400.397064\" xlink:href=\"#C0_0_ded5e0ba00\" y=\"73.206056\"/>\r\n    </g>\r\n    <g clip-path=\"url(#p18f14c32f4)\">\r\n     <use style=\"fill:none;stroke:#000000;\" x=\"206.424233\" xlink:href=\"#C0_0_ded5e0ba00\" y=\"125.532329\"/>\r\n    </g>\r\n    <g clip-path=\"url(#p18f14c32f4)\">\r\n     <use style=\"fill:none;stroke:#000000;\" x=\"229.641962\" xlink:href=\"#C0_0_ded5e0ba00\" y=\"101.231462\"/>\r\n    </g>\r\n    <g clip-path=\"url(#p18f14c32f4)\">\r\n     <use style=\"fill:none;stroke:#000000;\" x=\"190.940545\" xlink:href=\"#C0_0_ded5e0ba00\" y=\"103.081023\"/>\r\n    </g>\r\n    <g clip-path=\"url(#p18f14c32f4)\">\r\n     <use style=\"fill:none;stroke:#000000;\" x=\"250.558562\" xlink:href=\"#C0_0_ded5e0ba00\" y=\"106.262145\"/>\r\n    </g>\r\n    <g clip-path=\"url(#p18f14c32f4)\">\r\n     <use style=\"fill:none;stroke:#000000;\" x=\"307.651879\" xlink:href=\"#C0_0_ded5e0ba00\" y=\"94.923061\"/>\r\n    </g>\r\n    <g clip-path=\"url(#p18f14c32f4)\">\r\n     <use style=\"fill:none;stroke:#000000;\" x=\"190.940545\" xlink:href=\"#C0_0_ded5e0ba00\" y=\"79.485852\"/>\r\n    </g>\r\n    <g clip-path=\"url(#p18f14c32f4)\">\r\n     <use style=\"fill:none;stroke:#000000;\" x=\"289.259979\" xlink:href=\"#C0_0_ded5e0ba00\" y=\"45.087585\"/>\r\n    </g>\r\n    <g clip-path=\"url(#p18f14c32f4)\">\r\n     <use style=\"fill:none;stroke:#000000;\" x=\"250.558562\" xlink:href=\"#C0_0_ded5e0ba00\" y=\"124.464134\"/>\r\n    </g>\r\n    <g clip-path=\"url(#p18f14c32f4)\">\r\n     <use style=\"fill:none;stroke:#000000;\" x=\"250.558562\" xlink:href=\"#C0_0_ded5e0ba00\" y=\"106.936293\"/>\r\n    </g>\r\n    <g clip-path=\"url(#p18f14c32f4)\">\r\n     <use style=\"fill:none;stroke:#000000;\" x=\"250.558562\" xlink:href=\"#C0_0_ded5e0ba00\" y=\"52.330327\"/>\r\n    </g>\r\n    <g clip-path=\"url(#p18f14c32f4)\">\r\n     <use style=\"fill:none;stroke:#000000;\" x=\"196.514794\" xlink:href=\"#C0_0_ded5e0ba00\" y=\"113.994931\"/>\r\n    </g>\r\n    <g clip-path=\"url(#p18f14c32f4)\">\r\n     <use style=\"fill:none;stroke:#000000;\" x=\"157.813377\" xlink:href=\"#C0_0_ded5e0ba00\" y=\"126.630855\"/>\r\n    </g>\r\n    <g clip-path=\"url(#p18f14c32f4)\">\r\n     <use style=\"fill:none;stroke:#000000;\" x=\"206.424233\" xlink:href=\"#C0_0_ded5e0ba00\" y=\"103.959602\"/>\r\n    </g>\r\n    <g clip-path=\"url(#p18f14c32f4)\">\r\n     <use style=\"fill:none;stroke:#000000;\" x=\"400.397064\" xlink:href=\"#C0_0_ded5e0ba00\" y=\"86.014863\"/>\r\n    </g>\r\n    <g clip-path=\"url(#p18f14c32f4)\">\r\n     <use style=\"fill:none;stroke:#000000;\" x=\"356.262735\" xlink:href=\"#C0_0_ded5e0ba00\" y=\"114.048967\"/>\r\n    </g>\r\n    <g clip-path=\"url(#p18f14c32f4)\">\r\n     <use style=\"fill:none;stroke:#000000;\" x=\"166.099018\" xlink:href=\"#C0_0_ded5e0ba00\" y=\"116.36199\"/>\r\n    </g>\r\n    <g clip-path=\"url(#p18f14c32f4)\">\r\n     <use style=\"fill:none;stroke:#000000;\" x=\"157.813377\" xlink:href=\"#C0_0_ded5e0ba00\" y=\"83.485401\"/>\r\n    </g>\r\n    <g clip-path=\"url(#p18f14c32f4)\">\r\n     <use style=\"fill:none;stroke:#000000;\" x=\"283.685731\" xlink:href=\"#C0_0_ded5e0ba00\" y=\"111.026517\"/>\r\n    </g>\r\n   </g>\r\n   <g id=\"matplotlib.axis_1\">\r\n    <g id=\"xtick_1\">\r\n     <g id=\"line2d_1\">\r\n      <defs>\r\n       <path d=\"M 0 0 \r\nL 0 3.5 \r\n\" id=\"mc6b15bdab7\" style=\"stroke:#000000;stroke-width:0.8;\"/>\r\n      </defs>\r\n      <g>\r\n       <use style=\"stroke:#000000;stroke-width:0.8;\" x=\"87.054593\" xlink:href=\"#mc6b15bdab7\" y=\"212.158125\"/>\r\n      </g>\r\n     </g>\r\n     <g id=\"text_1\">\r\n      <!-- 430 -->\r\n      <g transform=\"translate(77.510843 226.756562)scale(0.1 -0.1)\">\r\n       <defs>\r\n        <path d=\"M 2419 4116 \r\nL 825 1625 \r\nL 2419 1625 \r\nL 2419 4116 \r\nz\r\nM 2253 4666 \r\nL 3047 4666 \r\nL 3047 1625 \r\nL 3713 1625 \r\nL 3713 1100 \r\nL 3047 1100 \r\nL 3047 0 \r\nL 2419 0 \r\nL 2419 1100 \r\nL 313 1100 \r\nL 313 1709 \r\nL 2253 4666 \r\nz\r\n\" id=\"DejaVuSans-34\" transform=\"scale(0.015625)\"/>\r\n        <path d=\"M 2597 2516 \r\nQ 3050 2419 3304 2112 \r\nQ 3559 1806 3559 1356 \r\nQ 3559 666 3084 287 \r\nQ 2609 -91 1734 -91 \r\nQ 1441 -91 1130 -33 \r\nQ 819 25 488 141 \r\nL 488 750 \r\nQ 750 597 1062 519 \r\nQ 1375 441 1716 441 \r\nQ 2309 441 2620 675 \r\nQ 2931 909 2931 1356 \r\nQ 2931 1769 2642 2001 \r\nQ 2353 2234 1838 2234 \r\nL 1294 2234 \r\nL 1294 2753 \r\nL 1863 2753 \r\nQ 2328 2753 2575 2939 \r\nQ 2822 3125 2822 3475 \r\nQ 2822 3834 2567 4026 \r\nQ 2313 4219 1838 4219 \r\nQ 1578 4219 1281 4162 \r\nQ 984 4106 628 3988 \r\nL 628 4550 \r\nQ 988 4650 1302 4700 \r\nQ 1616 4750 1894 4750 \r\nQ 2613 4750 3031 4423 \r\nQ 3450 4097 3450 3541 \r\nQ 3450 3153 3228 2886 \r\nQ 3006 2619 2597 2516 \r\nz\r\n\" id=\"DejaVuSans-33\" transform=\"scale(0.015625)\"/>\r\n        <path d=\"M 2034 4250 \r\nQ 1547 4250 1301 3770 \r\nQ 1056 3291 1056 2328 \r\nQ 1056 1369 1301 889 \r\nQ 1547 409 2034 409 \r\nQ 2525 409 2770 889 \r\nQ 3016 1369 3016 2328 \r\nQ 3016 3291 2770 3770 \r\nQ 2525 4250 2034 4250 \r\nz\r\nM 2034 4750 \r\nQ 2819 4750 3233 4129 \r\nQ 3647 3509 3647 2328 \r\nQ 3647 1150 3233 529 \r\nQ 2819 -91 2034 -91 \r\nQ 1250 -91 836 529 \r\nQ 422 1150 422 2328 \r\nQ 422 3509 836 4129 \r\nQ 1250 4750 2034 4750 \r\nz\r\n\" id=\"DejaVuSans-30\" transform=\"scale(0.015625)\"/>\r\n       </defs>\r\n       <use xlink:href=\"#DejaVuSans-34\"/>\r\n       <use x=\"63.623047\" xlink:href=\"#DejaVuSans-33\"/>\r\n       <use x=\"127.246094\" xlink:href=\"#DejaVuSans-30\"/>\r\n      </g>\r\n     </g>\r\n    </g>\r\n    <g id=\"xtick_2\">\r\n     <g id=\"line2d_2\">\r\n      <g>\r\n       <use style=\"stroke:#000000;stroke-width:0.8;\" x=\"133.928776\" xlink:href=\"#mc6b15bdab7\" y=\"212.158125\"/>\r\n      </g>\r\n     </g>\r\n     <g id=\"text_2\">\r\n      <!-- 440 -->\r\n      <g transform=\"translate(124.385026 226.756562)scale(0.1 -0.1)\">\r\n       <use xlink:href=\"#DejaVuSans-34\"/>\r\n       <use x=\"63.623047\" xlink:href=\"#DejaVuSans-34\"/>\r\n       <use x=\"127.246094\" xlink:href=\"#DejaVuSans-30\"/>\r\n      </g>\r\n     </g>\r\n    </g>\r\n    <g id=\"xtick_3\">\r\n     <g id=\"line2d_3\">\r\n      <g>\r\n       <use style=\"stroke:#000000;stroke-width:0.8;\" x=\"180.802959\" xlink:href=\"#mc6b15bdab7\" y=\"212.158125\"/>\r\n      </g>\r\n     </g>\r\n     <g id=\"text_3\">\r\n      <!-- 450 -->\r\n      <g transform=\"translate(171.259209 226.756562)scale(0.1 -0.1)\">\r\n       <defs>\r\n        <path d=\"M 691 4666 \r\nL 3169 4666 \r\nL 3169 4134 \r\nL 1269 4134 \r\nL 1269 2991 \r\nQ 1406 3038 1543 3061 \r\nQ 1681 3084 1819 3084 \r\nQ 2600 3084 3056 2656 \r\nQ 3513 2228 3513 1497 \r\nQ 3513 744 3044 326 \r\nQ 2575 -91 1722 -91 \r\nQ 1428 -91 1123 -41 \r\nQ 819 9 494 109 \r\nL 494 744 \r\nQ 775 591 1075 516 \r\nQ 1375 441 1709 441 \r\nQ 2250 441 2565 725 \r\nQ 2881 1009 2881 1497 \r\nQ 2881 1984 2565 2268 \r\nQ 2250 2553 1709 2553 \r\nQ 1456 2553 1204 2497 \r\nQ 953 2441 691 2322 \r\nL 691 4666 \r\nz\r\n\" id=\"DejaVuSans-35\" transform=\"scale(0.015625)\"/>\r\n       </defs>\r\n       <use xlink:href=\"#DejaVuSans-34\"/>\r\n       <use x=\"63.623047\" xlink:href=\"#DejaVuSans-35\"/>\r\n       <use x=\"127.246094\" xlink:href=\"#DejaVuSans-30\"/>\r\n      </g>\r\n     </g>\r\n    </g>\r\n    <g id=\"xtick_4\">\r\n     <g id=\"line2d_4\">\r\n      <g>\r\n       <use style=\"stroke:#000000;stroke-width:0.8;\" x=\"227.677142\" xlink:href=\"#mc6b15bdab7\" y=\"212.158125\"/>\r\n      </g>\r\n     </g>\r\n     <g id=\"text_4\">\r\n      <!-- 460 -->\r\n      <g transform=\"translate(218.133392 226.756562)scale(0.1 -0.1)\">\r\n       <defs>\r\n        <path d=\"M 2113 2584 \r\nQ 1688 2584 1439 2293 \r\nQ 1191 2003 1191 1497 \r\nQ 1191 994 1439 701 \r\nQ 1688 409 2113 409 \r\nQ 2538 409 2786 701 \r\nQ 3034 994 3034 1497 \r\nQ 3034 2003 2786 2293 \r\nQ 2538 2584 2113 2584 \r\nz\r\nM 3366 4563 \r\nL 3366 3988 \r\nQ 3128 4100 2886 4159 \r\nQ 2644 4219 2406 4219 \r\nQ 1781 4219 1451 3797 \r\nQ 1122 3375 1075 2522 \r\nQ 1259 2794 1537 2939 \r\nQ 1816 3084 2150 3084 \r\nQ 2853 3084 3261 2657 \r\nQ 3669 2231 3669 1497 \r\nQ 3669 778 3244 343 \r\nQ 2819 -91 2113 -91 \r\nQ 1303 -91 875 529 \r\nQ 447 1150 447 2328 \r\nQ 447 3434 972 4092 \r\nQ 1497 4750 2381 4750 \r\nQ 2619 4750 2861 4703 \r\nQ 3103 4656 3366 4563 \r\nz\r\n\" id=\"DejaVuSans-36\" transform=\"scale(0.015625)\"/>\r\n       </defs>\r\n       <use xlink:href=\"#DejaVuSans-34\"/>\r\n       <use x=\"63.623047\" xlink:href=\"#DejaVuSans-36\"/>\r\n       <use x=\"127.246094\" xlink:href=\"#DejaVuSans-30\"/>\r\n      </g>\r\n     </g>\r\n    </g>\r\n    <g id=\"xtick_5\">\r\n     <g id=\"line2d_5\">\r\n      <g>\r\n       <use style=\"stroke:#000000;stroke-width:0.8;\" x=\"274.551325\" xlink:href=\"#mc6b15bdab7\" y=\"212.158125\"/>\r\n      </g>\r\n     </g>\r\n     <g id=\"text_5\">\r\n      <!-- 470 -->\r\n      <g transform=\"translate(265.007575 226.756562)scale(0.1 -0.1)\">\r\n       <defs>\r\n        <path d=\"M 525 4666 \r\nL 3525 4666 \r\nL 3525 4397 \r\nL 1831 0 \r\nL 1172 0 \r\nL 2766 4134 \r\nL 525 4134 \r\nL 525 4666 \r\nz\r\n\" id=\"DejaVuSans-37\" transform=\"scale(0.015625)\"/>\r\n       </defs>\r\n       <use xlink:href=\"#DejaVuSans-34\"/>\r\n       <use x=\"63.623047\" xlink:href=\"#DejaVuSans-37\"/>\r\n       <use x=\"127.246094\" xlink:href=\"#DejaVuSans-30\"/>\r\n      </g>\r\n     </g>\r\n    </g>\r\n    <g id=\"xtick_6\">\r\n     <g id=\"line2d_6\">\r\n      <g>\r\n       <use style=\"stroke:#000000;stroke-width:0.8;\" x=\"321.425508\" xlink:href=\"#mc6b15bdab7\" y=\"212.158125\"/>\r\n      </g>\r\n     </g>\r\n     <g id=\"text_6\">\r\n      <!-- 480 -->\r\n      <g transform=\"translate(311.881758 226.756562)scale(0.1 -0.1)\">\r\n       <defs>\r\n        <path d=\"M 2034 2216 \r\nQ 1584 2216 1326 1975 \r\nQ 1069 1734 1069 1313 \r\nQ 1069 891 1326 650 \r\nQ 1584 409 2034 409 \r\nQ 2484 409 2743 651 \r\nQ 3003 894 3003 1313 \r\nQ 3003 1734 2745 1975 \r\nQ 2488 2216 2034 2216 \r\nz\r\nM 1403 2484 \r\nQ 997 2584 770 2862 \r\nQ 544 3141 544 3541 \r\nQ 544 4100 942 4425 \r\nQ 1341 4750 2034 4750 \r\nQ 2731 4750 3128 4425 \r\nQ 3525 4100 3525 3541 \r\nQ 3525 3141 3298 2862 \r\nQ 3072 2584 2669 2484 \r\nQ 3125 2378 3379 2068 \r\nQ 3634 1759 3634 1313 \r\nQ 3634 634 3220 271 \r\nQ 2806 -91 2034 -91 \r\nQ 1263 -91 848 271 \r\nQ 434 634 434 1313 \r\nQ 434 1759 690 2068 \r\nQ 947 2378 1403 2484 \r\nz\r\nM 1172 3481 \r\nQ 1172 3119 1398 2916 \r\nQ 1625 2713 2034 2713 \r\nQ 2441 2713 2670 2916 \r\nQ 2900 3119 2900 3481 \r\nQ 2900 3844 2670 4047 \r\nQ 2441 4250 2034 4250 \r\nQ 1625 4250 1398 4047 \r\nQ 1172 3844 1172 3481 \r\nz\r\n\" id=\"DejaVuSans-38\" transform=\"scale(0.015625)\"/>\r\n       </defs>\r\n       <use xlink:href=\"#DejaVuSans-34\"/>\r\n       <use x=\"63.623047\" xlink:href=\"#DejaVuSans-38\"/>\r\n       <use x=\"127.246094\" xlink:href=\"#DejaVuSans-30\"/>\r\n      </g>\r\n     </g>\r\n    </g>\r\n    <g id=\"xtick_7\">\r\n     <g id=\"line2d_7\">\r\n      <g>\r\n       <use style=\"stroke:#000000;stroke-width:0.8;\" x=\"368.299691\" xlink:href=\"#mc6b15bdab7\" y=\"212.158125\"/>\r\n      </g>\r\n     </g>\r\n     <g id=\"text_7\">\r\n      <!-- 490 -->\r\n      <g transform=\"translate(358.755941 226.756562)scale(0.1 -0.1)\">\r\n       <defs>\r\n        <path d=\"M 703 97 \r\nL 703 672 \r\nQ 941 559 1184 500 \r\nQ 1428 441 1663 441 \r\nQ 2288 441 2617 861 \r\nQ 2947 1281 2994 2138 \r\nQ 2813 1869 2534 1725 \r\nQ 2256 1581 1919 1581 \r\nQ 1219 1581 811 2004 \r\nQ 403 2428 403 3163 \r\nQ 403 3881 828 4315 \r\nQ 1253 4750 1959 4750 \r\nQ 2769 4750 3195 4129 \r\nQ 3622 3509 3622 2328 \r\nQ 3622 1225 3098 567 \r\nQ 2575 -91 1691 -91 \r\nQ 1453 -91 1209 -44 \r\nQ 966 3 703 97 \r\nz\r\nM 1959 2075 \r\nQ 2384 2075 2632 2365 \r\nQ 2881 2656 2881 3163 \r\nQ 2881 3666 2632 3958 \r\nQ 2384 4250 1959 4250 \r\nQ 1534 4250 1286 3958 \r\nQ 1038 3666 1038 3163 \r\nQ 1038 2656 1286 2365 \r\nQ 1534 2075 1959 2075 \r\nz\r\n\" id=\"DejaVuSans-39\" transform=\"scale(0.015625)\"/>\r\n       </defs>\r\n       <use xlink:href=\"#DejaVuSans-34\"/>\r\n       <use x=\"63.623047\" xlink:href=\"#DejaVuSans-39\"/>\r\n       <use x=\"127.246094\" xlink:href=\"#DejaVuSans-30\"/>\r\n      </g>\r\n     </g>\r\n    </g>\r\n    <g id=\"xtick_8\">\r\n     <g id=\"line2d_8\">\r\n      <g>\r\n       <use style=\"stroke:#000000;stroke-width:0.8;\" x=\"415.173874\" xlink:href=\"#mc6b15bdab7\" y=\"212.158125\"/>\r\n      </g>\r\n     </g>\r\n     <g id=\"text_8\">\r\n      <!-- 500 -->\r\n      <g transform=\"translate(405.630124 226.756562)scale(0.1 -0.1)\">\r\n       <use xlink:href=\"#DejaVuSans-35\"/>\r\n       <use x=\"63.623047\" xlink:href=\"#DejaVuSans-30\"/>\r\n       <use x=\"127.246094\" xlink:href=\"#DejaVuSans-30\"/>\r\n      </g>\r\n     </g>\r\n    </g>\r\n    <g id=\"text_9\">\r\n     <!-- Fitted Values -->\r\n     <g transform=\"translate(221.440595 240.434687)scale(0.1 -0.1)\">\r\n      <defs>\r\n       <path d=\"M 628 4666 \r\nL 3309 4666 \r\nL 3309 4134 \r\nL 1259 4134 \r\nL 1259 2759 \r\nL 3109 2759 \r\nL 3109 2228 \r\nL 1259 2228 \r\nL 1259 0 \r\nL 628 0 \r\nL 628 4666 \r\nz\r\n\" id=\"DejaVuSans-46\" transform=\"scale(0.015625)\"/>\r\n       <path d=\"M 603 3500 \r\nL 1178 3500 \r\nL 1178 0 \r\nL 603 0 \r\nL 603 3500 \r\nz\r\nM 603 4863 \r\nL 1178 4863 \r\nL 1178 4134 \r\nL 603 4134 \r\nL 603 4863 \r\nz\r\n\" id=\"DejaVuSans-69\" transform=\"scale(0.015625)\"/>\r\n       <path d=\"M 1172 4494 \r\nL 1172 3500 \r\nL 2356 3500 \r\nL 2356 3053 \r\nL 1172 3053 \r\nL 1172 1153 \r\nQ 1172 725 1289 603 \r\nQ 1406 481 1766 481 \r\nL 2356 481 \r\nL 2356 0 \r\nL 1766 0 \r\nQ 1100 0 847 248 \r\nQ 594 497 594 1153 \r\nL 594 3053 \r\nL 172 3053 \r\nL 172 3500 \r\nL 594 3500 \r\nL 594 4494 \r\nL 1172 4494 \r\nz\r\n\" id=\"DejaVuSans-74\" transform=\"scale(0.015625)\"/>\r\n       <path d=\"M 3597 1894 \r\nL 3597 1613 \r\nL 953 1613 \r\nQ 991 1019 1311 708 \r\nQ 1631 397 2203 397 \r\nQ 2534 397 2845 478 \r\nQ 3156 559 3463 722 \r\nL 3463 178 \r\nQ 3153 47 2828 -22 \r\nQ 2503 -91 2169 -91 \r\nQ 1331 -91 842 396 \r\nQ 353 884 353 1716 \r\nQ 353 2575 817 3079 \r\nQ 1281 3584 2069 3584 \r\nQ 2775 3584 3186 3129 \r\nQ 3597 2675 3597 1894 \r\nz\r\nM 3022 2063 \r\nQ 3016 2534 2758 2815 \r\nQ 2500 3097 2075 3097 \r\nQ 1594 3097 1305 2825 \r\nQ 1016 2553 972 2059 \r\nL 3022 2063 \r\nz\r\n\" id=\"DejaVuSans-65\" transform=\"scale(0.015625)\"/>\r\n       <path d=\"M 2906 2969 \r\nL 2906 4863 \r\nL 3481 4863 \r\nL 3481 0 \r\nL 2906 0 \r\nL 2906 525 \r\nQ 2725 213 2448 61 \r\nQ 2172 -91 1784 -91 \r\nQ 1150 -91 751 415 \r\nQ 353 922 353 1747 \r\nQ 353 2572 751 3078 \r\nQ 1150 3584 1784 3584 \r\nQ 2172 3584 2448 3432 \r\nQ 2725 3281 2906 2969 \r\nz\r\nM 947 1747 \r\nQ 947 1113 1208 752 \r\nQ 1469 391 1925 391 \r\nQ 2381 391 2643 752 \r\nQ 2906 1113 2906 1747 \r\nQ 2906 2381 2643 2742 \r\nQ 2381 3103 1925 3103 \r\nQ 1469 3103 1208 2742 \r\nQ 947 2381 947 1747 \r\nz\r\n\" id=\"DejaVuSans-64\" transform=\"scale(0.015625)\"/>\r\n       <path id=\"DejaVuSans-20\" transform=\"scale(0.015625)\"/>\r\n       <path d=\"M 1831 0 \r\nL 50 4666 \r\nL 709 4666 \r\nL 2188 738 \r\nL 3669 4666 \r\nL 4325 4666 \r\nL 2547 0 \r\nL 1831 0 \r\nz\r\n\" id=\"DejaVuSans-56\" transform=\"scale(0.015625)\"/>\r\n       <path d=\"M 2194 1759 \r\nQ 1497 1759 1228 1600 \r\nQ 959 1441 959 1056 \r\nQ 959 750 1161 570 \r\nQ 1363 391 1709 391 \r\nQ 2188 391 2477 730 \r\nQ 2766 1069 2766 1631 \r\nL 2766 1759 \r\nL 2194 1759 \r\nz\r\nM 3341 1997 \r\nL 3341 0 \r\nL 2766 0 \r\nL 2766 531 \r\nQ 2569 213 2275 61 \r\nQ 1981 -91 1556 -91 \r\nQ 1019 -91 701 211 \r\nQ 384 513 384 1019 \r\nQ 384 1609 779 1909 \r\nQ 1175 2209 1959 2209 \r\nL 2766 2209 \r\nL 2766 2266 \r\nQ 2766 2663 2505 2880 \r\nQ 2244 3097 1772 3097 \r\nQ 1472 3097 1187 3025 \r\nQ 903 2953 641 2809 \r\nL 641 3341 \r\nQ 956 3463 1253 3523 \r\nQ 1550 3584 1831 3584 \r\nQ 2591 3584 2966 3190 \r\nQ 3341 2797 3341 1997 \r\nz\r\n\" id=\"DejaVuSans-61\" transform=\"scale(0.015625)\"/>\r\n       <path d=\"M 603 4863 \r\nL 1178 4863 \r\nL 1178 0 \r\nL 603 0 \r\nL 603 4863 \r\nz\r\n\" id=\"DejaVuSans-6c\" transform=\"scale(0.015625)\"/>\r\n       <path d=\"M 544 1381 \r\nL 544 3500 \r\nL 1119 3500 \r\nL 1119 1403 \r\nQ 1119 906 1312 657 \r\nQ 1506 409 1894 409 \r\nQ 2359 409 2629 706 \r\nQ 2900 1003 2900 1516 \r\nL 2900 3500 \r\nL 3475 3500 \r\nL 3475 0 \r\nL 2900 0 \r\nL 2900 538 \r\nQ 2691 219 2414 64 \r\nQ 2138 -91 1772 -91 \r\nQ 1169 -91 856 284 \r\nQ 544 659 544 1381 \r\nz\r\nM 1991 3584 \r\nL 1991 3584 \r\nz\r\n\" id=\"DejaVuSans-75\" transform=\"scale(0.015625)\"/>\r\n       <path d=\"M 2834 3397 \r\nL 2834 2853 \r\nQ 2591 2978 2328 3040 \r\nQ 2066 3103 1784 3103 \r\nQ 1356 3103 1142 2972 \r\nQ 928 2841 928 2578 \r\nQ 928 2378 1081 2264 \r\nQ 1234 2150 1697 2047 \r\nL 1894 2003 \r\nQ 2506 1872 2764 1633 \r\nQ 3022 1394 3022 966 \r\nQ 3022 478 2636 193 \r\nQ 2250 -91 1575 -91 \r\nQ 1294 -91 989 -36 \r\nQ 684 19 347 128 \r\nL 347 722 \r\nQ 666 556 975 473 \r\nQ 1284 391 1588 391 \r\nQ 1994 391 2212 530 \r\nQ 2431 669 2431 922 \r\nQ 2431 1156 2273 1281 \r\nQ 2116 1406 1581 1522 \r\nL 1381 1569 \r\nQ 847 1681 609 1914 \r\nQ 372 2147 372 2553 \r\nQ 372 3047 722 3315 \r\nQ 1072 3584 1716 3584 \r\nQ 2034 3584 2315 3537 \r\nQ 2597 3491 2834 3397 \r\nz\r\n\" id=\"DejaVuSans-73\" transform=\"scale(0.015625)\"/>\r\n      </defs>\r\n      <use xlink:href=\"#DejaVuSans-46\"/>\r\n      <use x=\"50.269531\" xlink:href=\"#DejaVuSans-69\"/>\r\n      <use x=\"78.052734\" xlink:href=\"#DejaVuSans-74\"/>\r\n      <use x=\"117.261719\" xlink:href=\"#DejaVuSans-74\"/>\r\n      <use x=\"156.470703\" xlink:href=\"#DejaVuSans-65\"/>\r\n      <use x=\"217.994141\" xlink:href=\"#DejaVuSans-64\"/>\r\n      <use x=\"281.470703\" xlink:href=\"#DejaVuSans-20\"/>\r\n      <use x=\"313.257812\" xlink:href=\"#DejaVuSans-56\"/>\r\n      <use x=\"373.916016\" xlink:href=\"#DejaVuSans-61\"/>\r\n      <use x=\"435.195312\" xlink:href=\"#DejaVuSans-6c\"/>\r\n      <use x=\"462.978516\" xlink:href=\"#DejaVuSans-75\"/>\r\n      <use x=\"526.357422\" xlink:href=\"#DejaVuSans-65\"/>\r\n      <use x=\"587.880859\" xlink:href=\"#DejaVuSans-73\"/>\r\n     </g>\r\n    </g>\r\n   </g>\r\n   <g id=\"matplotlib.axis_2\">\r\n    <g id=\"ytick_1\">\r\n     <g id=\"line2d_9\">\r\n      <defs>\r\n       <path d=\"M 0 0 \r\nL -3.5 0 \r\n\" id=\"m836ed1b8e9\" style=\"stroke:#000000;stroke-width:0.8;\"/>\r\n      </defs>\r\n      <g>\r\n       <use style=\"stroke:#000000;stroke-width:0.8;\" x=\"55.345313\" xlink:href=\"#m836ed1b8e9\" y=\"204.093483\"/>\r\n      </g>\r\n     </g>\r\n     <g id=\"text_10\">\r\n      <!-- −150 -->\r\n      <g transform=\"translate(20.878125 207.892701)scale(0.1 -0.1)\">\r\n       <defs>\r\n        <path d=\"M 678 2272 \r\nL 4684 2272 \r\nL 4684 1741 \r\nL 678 1741 \r\nL 678 2272 \r\nz\r\n\" id=\"DejaVuSans-2212\" transform=\"scale(0.015625)\"/>\r\n        <path d=\"M 794 531 \r\nL 1825 531 \r\nL 1825 4091 \r\nL 703 3866 \r\nL 703 4441 \r\nL 1819 4666 \r\nL 2450 4666 \r\nL 2450 531 \r\nL 3481 531 \r\nL 3481 0 \r\nL 794 0 \r\nL 794 531 \r\nz\r\n\" id=\"DejaVuSans-31\" transform=\"scale(0.015625)\"/>\r\n       </defs>\r\n       <use xlink:href=\"#DejaVuSans-2212\"/>\r\n       <use x=\"83.789062\" xlink:href=\"#DejaVuSans-31\"/>\r\n       <use x=\"147.412109\" xlink:href=\"#DejaVuSans-35\"/>\r\n       <use x=\"211.035156\" xlink:href=\"#DejaVuSans-30\"/>\r\n      </g>\r\n     </g>\r\n    </g>\r\n    <g id=\"ytick_2\">\r\n     <g id=\"line2d_10\">\r\n      <g>\r\n       <use style=\"stroke:#000000;stroke-width:0.8;\" x=\"55.345313\" xlink:href=\"#m836ed1b8e9\" y=\"170.386096\"/>\r\n      </g>\r\n     </g>\r\n     <g id=\"text_11\">\r\n      <!-- −100 -->\r\n      <g transform=\"translate(20.878125 174.185315)scale(0.1 -0.1)\">\r\n       <use xlink:href=\"#DejaVuSans-2212\"/>\r\n       <use x=\"83.789062\" xlink:href=\"#DejaVuSans-31\"/>\r\n       <use x=\"147.412109\" xlink:href=\"#DejaVuSans-30\"/>\r\n       <use x=\"211.035156\" xlink:href=\"#DejaVuSans-30\"/>\r\n      </g>\r\n     </g>\r\n    </g>\r\n    <g id=\"ytick_3\">\r\n     <g id=\"line2d_11\">\r\n      <g>\r\n       <use style=\"stroke:#000000;stroke-width:0.8;\" x=\"55.345313\" xlink:href=\"#m836ed1b8e9\" y=\"136.67871\"/>\r\n      </g>\r\n     </g>\r\n     <g id=\"text_12\">\r\n      <!-- −50 -->\r\n      <g transform=\"translate(27.240625 140.477929)scale(0.1 -0.1)\">\r\n       <use xlink:href=\"#DejaVuSans-2212\"/>\r\n       <use x=\"83.789062\" xlink:href=\"#DejaVuSans-35\"/>\r\n       <use x=\"147.412109\" xlink:href=\"#DejaVuSans-30\"/>\r\n      </g>\r\n     </g>\r\n    </g>\r\n    <g id=\"ytick_4\">\r\n     <g id=\"line2d_12\">\r\n      <g>\r\n       <use style=\"stroke:#000000;stroke-width:0.8;\" x=\"55.345313\" xlink:href=\"#m836ed1b8e9\" y=\"102.971324\"/>\r\n      </g>\r\n     </g>\r\n     <g id=\"text_13\">\r\n      <!-- 0 -->\r\n      <g transform=\"translate(41.982813 106.770542)scale(0.1 -0.1)\">\r\n       <use xlink:href=\"#DejaVuSans-30\"/>\r\n      </g>\r\n     </g>\r\n    </g>\r\n    <g id=\"ytick_5\">\r\n     <g id=\"line2d_13\">\r\n      <g>\r\n       <use style=\"stroke:#000000;stroke-width:0.8;\" x=\"55.345313\" xlink:href=\"#m836ed1b8e9\" y=\"69.263937\"/>\r\n      </g>\r\n     </g>\r\n     <g id=\"text_14\">\r\n      <!-- 50 -->\r\n      <g transform=\"translate(35.620313 73.063156)scale(0.1 -0.1)\">\r\n       <use xlink:href=\"#DejaVuSans-35\"/>\r\n       <use x=\"63.623047\" xlink:href=\"#DejaVuSans-30\"/>\r\n      </g>\r\n     </g>\r\n    </g>\r\n    <g id=\"ytick_6\">\r\n     <g id=\"line2d_14\">\r\n      <g>\r\n       <use style=\"stroke:#000000;stroke-width:0.8;\" x=\"55.345313\" xlink:href=\"#m836ed1b8e9\" y=\"35.556551\"/>\r\n      </g>\r\n     </g>\r\n     <g id=\"text_15\">\r\n      <!-- 100 -->\r\n      <g transform=\"translate(29.257813 39.35577)scale(0.1 -0.1)\">\r\n       <use xlink:href=\"#DejaVuSans-31\"/>\r\n       <use x=\"63.623047\" xlink:href=\"#DejaVuSans-30\"/>\r\n       <use x=\"127.246094\" xlink:href=\"#DejaVuSans-30\"/>\r\n      </g>\r\n     </g>\r\n    </g>\r\n    <g id=\"text_16\">\r\n     <!-- Residuals -->\r\n     <g transform=\"translate(14.798438 140.958437)rotate(-90)scale(0.1 -0.1)\">\r\n      <defs>\r\n       <path d=\"M 2841 2188 \r\nQ 3044 2119 3236 1894 \r\nQ 3428 1669 3622 1275 \r\nL 4263 0 \r\nL 3584 0 \r\nL 2988 1197 \r\nQ 2756 1666 2539 1819 \r\nQ 2322 1972 1947 1972 \r\nL 1259 1972 \r\nL 1259 0 \r\nL 628 0 \r\nL 628 4666 \r\nL 2053 4666 \r\nQ 2853 4666 3247 4331 \r\nQ 3641 3997 3641 3322 \r\nQ 3641 2881 3436 2590 \r\nQ 3231 2300 2841 2188 \r\nz\r\nM 1259 4147 \r\nL 1259 2491 \r\nL 2053 2491 \r\nQ 2509 2491 2742 2702 \r\nQ 2975 2913 2975 3322 \r\nQ 2975 3731 2742 3939 \r\nQ 2509 4147 2053 4147 \r\nL 1259 4147 \r\nz\r\n\" id=\"DejaVuSans-52\" transform=\"scale(0.015625)\"/>\r\n      </defs>\r\n      <use xlink:href=\"#DejaVuSans-52\"/>\r\n      <use x=\"64.982422\" xlink:href=\"#DejaVuSans-65\"/>\r\n      <use x=\"126.505859\" xlink:href=\"#DejaVuSans-73\"/>\r\n      <use x=\"178.605469\" xlink:href=\"#DejaVuSans-69\"/>\r\n      <use x=\"206.388672\" xlink:href=\"#DejaVuSans-64\"/>\r\n      <use x=\"269.865234\" xlink:href=\"#DejaVuSans-75\"/>\r\n      <use x=\"333.244141\" xlink:href=\"#DejaVuSans-61\"/>\r\n      <use x=\"394.523438\" xlink:href=\"#DejaVuSans-6c\"/>\r\n      <use x=\"422.306641\" xlink:href=\"#DejaVuSans-73\"/>\r\n     </g>\r\n    </g>\r\n   </g>\r\n   <g id=\"line2d_15\">\r\n    <path clip-path=\"url(#p18f14c32f4)\" d=\"M 73.353833 94.042002 \r\nL 73.353833 94.042002 \r\nL 157.813377 103.712702 \r\nL 157.813377 103.712702 \r\nL 157.813377 103.712702 \r\nL 157.813377 103.712702 \r\nL 157.813377 103.712702 \r\nL 157.813377 103.712702 \r\nL 157.813377 103.712702 \r\nL 157.813377 103.712702 \r\nL 157.813377 103.712702 \r\nL 157.813377 103.712702 \r\nL 157.813377 103.712702 \r\nL 157.813377 103.712702 \r\nL 157.813377 103.712702 \r\nL 157.813377 103.712702 \r\nL 157.813377 103.712702 \r\nL 157.813377 103.712702 \r\nL 157.813377 103.712702 \r\nL 157.813377 103.712702 \r\nL 157.813377 103.712702 \r\nL 157.813377 103.712702 \r\nL 157.813377 103.712702 \r\nL 157.813377 103.712702 \r\nL 157.813377 103.712702 \r\nL 157.813377 103.712702 \r\nL 157.813377 103.712702 \r\nL 157.813377 103.712702 \r\nL 157.813377 103.712702 \r\nL 166.099018 104.108631 \r\nL 166.099018 104.108631 \r\nL 190.940545 105.187139 \r\nL 190.940545 105.187139 \r\nL 190.940545 105.187139 \r\nL 190.940545 105.187139 \r\nL 196.514794 105.321387 \r\nL 196.514794 105.321387 \r\nL 196.514794 105.321387 \r\nL 196.514794 105.321387 \r\nL 196.514794 105.321387 \r\nL 196.514794 105.321387 \r\nL 196.514794 105.321387 \r\nL 204.800435 105.230779 \r\nL 206.424233 104.776374 \r\nL 206.424233 104.776374 \r\nL 206.424233 104.776374 \r\nL 206.424233 104.776374 \r\nL 206.424233 104.776374 \r\nL 206.424233 104.776374 \r\nL 206.424233 104.776374 \r\nL 206.424233 104.776374 \r\nL 206.424233 104.776374 \r\nL 206.424233 104.776374 \r\nL 206.424233 104.776374 \r\nL 229.641962 103.929318 \r\nL 239.551402 104.033392 \r\nL 239.551402 104.033392 \r\nL 250.558562 103.482306 \r\nL 250.558562 103.482306 \r\nL 250.558562 103.482306 \r\nL 250.558562 103.482306 \r\nL 250.558562 103.482306 \r\nL 250.558562 103.482306 \r\nL 250.558562 103.482306 \r\nL 250.558562 103.482306 \r\nL 250.558562 103.482306 \r\nL 250.558562 103.482306 \r\nL 250.558562 103.482306 \r\nL 250.558562 103.482306 \r\nL 250.558562 103.482306 \r\nL 250.558562 103.482306 \r\nL 250.558562 103.482306 \r\nL 250.558562 103.482306 \r\nL 250.558562 103.482306 \r\nL 250.558562 103.482306 \r\nL 250.558562 103.482306 \r\nL 250.558562 103.482306 \r\nL 250.558562 103.482306 \r\nL 250.558562 103.482306 \r\nL 250.558562 103.482306 \r\nL 250.558562 103.482306 \r\nL 250.558562 103.482306 \r\nL 250.558562 103.482306 \r\nL 250.558562 103.482306 \r\nL 250.558562 103.482306 \r\nL 250.558562 103.482306 \r\nL 250.558562 103.482306 \r\nL 283.685731 104.946146 \r\nL 283.685731 104.946146 \r\nL 283.685731 104.946146 \r\nL 283.685731 104.946146 \r\nL 283.685731 104.946146 \r\nL 289.259979 105.397409 \r\nL 289.259979 105.397409 \r\nL 289.259979 105.397409 \r\nL 289.259979 105.397409 \r\nL 289.259979 105.397409 \r\nL 289.259979 105.397409 \r\nL 289.259979 105.397409 \r\nL 289.259979 105.397409 \r\nL 289.259979 105.397409 \r\nL 289.259979 105.397409 \r\nL 289.259979 105.397409 \r\nL 289.259979 105.397409 \r\nL 289.259979 105.397409 \r\nL 299.169419 106.487751 \r\nL 299.169419 106.487751 \r\nL 299.169419 106.487751 \r\nL 299.169419 106.487751 \r\nL 299.169419 106.487751 \r\nL 299.169419 106.487751 \r\nL 307.651879 106.728588 \r\nL 307.651879 106.728588 \r\nL 307.651879 106.728588 \r\nL 307.651879 106.728588 \r\nL 322.387148 104.714638 \r\nL 356.262735 103.128278 \r\nL 356.262735 103.128278 \r\nL 356.262735 103.128278 \r\nL 400.397064 102.56919 \r\nL 400.397064 102.56919 \r\nL 400.397064 102.56919 \r\nL 433.524233 101.469204 \r\n\" style=\"fill:none;stroke:#ff0000;stroke-linecap:square;stroke-width:1.5;\"/>\r\n   </g>\r\n   <g id=\"line2d_16\">\r\n    <path clip-path=\"url(#p18f14c32f4)\" d=\"M 73.353833 102.971324 \r\nL 433.524233 102.971324 \r\n\" style=\"fill:none;stroke:#000000;stroke-dasharray:1.5,2.475;stroke-dashoffset:0;stroke-opacity:0.3;stroke-width:1.5;\"/>\r\n   </g>\r\n   <g id=\"patch_3\">\r\n    <path d=\"M 55.345313 212.158125 \r\nL 55.345313 22.318125 \r\n\" style=\"fill:none;stroke:#000000;stroke-linecap:square;stroke-linejoin:miter;stroke-width:0.8;\"/>\r\n   </g>\r\n   <g id=\"patch_4\">\r\n    <path d=\"M 451.532753 212.158125 \r\nL 451.532753 22.318125 \r\n\" style=\"fill:none;stroke:#000000;stroke-linecap:square;stroke-linejoin:miter;stroke-width:0.8;\"/>\r\n   </g>\r\n   <g id=\"patch_5\">\r\n    <path d=\"M 55.345312 212.158125 \r\nL 451.532753 212.158125 \r\n\" style=\"fill:none;stroke:#000000;stroke-linecap:square;stroke-linejoin:miter;stroke-width:0.8;\"/>\r\n   </g>\r\n   <g id=\"patch_6\">\r\n    <path d=\"M 55.345312 22.318125 \r\nL 451.532753 22.318125 \r\n\" style=\"fill:none;stroke:#000000;stroke-linecap:square;stroke-linejoin:miter;stroke-width:0.8;\"/>\r\n   </g>\r\n   <g id=\"text_17\">\r\n    <!--  93 -->\r\n    <g transform=\"translate(190.940545 203.529034)scale(0.1 -0.1)\">\r\n     <use xlink:href=\"#DejaVuSans-20\"/>\r\n     <use x=\"31.787109\" xlink:href=\"#DejaVuSans-39\"/>\r\n     <use x=\"95.410156\" xlink:href=\"#DejaVuSans-33\"/>\r\n    </g>\r\n   </g>\r\n   <g id=\"text_18\">\r\n    <!--  52 -->\r\n    <g transform=\"translate(190.940545 30.947216)scale(0.1 -0.1)\">\r\n     <defs>\r\n      <path d=\"M 1228 531 \r\nL 3431 531 \r\nL 3431 0 \r\nL 469 0 \r\nL 469 531 \r\nQ 828 903 1448 1529 \r\nQ 2069 2156 2228 2338 \r\nQ 2531 2678 2651 2914 \r\nQ 2772 3150 2772 3378 \r\nQ 2772 3750 2511 3984 \r\nQ 2250 4219 1831 4219 \r\nQ 1534 4219 1204 4116 \r\nQ 875 4013 500 3803 \r\nL 500 4441 \r\nQ 881 4594 1212 4672 \r\nQ 1544 4750 1819 4750 \r\nQ 2544 4750 2975 4387 \r\nQ 3406 4025 3406 3419 \r\nQ 3406 3131 3298 2873 \r\nQ 3191 2616 2906 2266 \r\nQ 2828 2175 2409 1742 \r\nQ 1991 1309 1228 531 \r\nz\r\n\" id=\"DejaVuSans-32\" transform=\"scale(0.015625)\"/>\r\n     </defs>\r\n     <use xlink:href=\"#DejaVuSans-20\"/>\r\n     <use x=\"31.787109\" xlink:href=\"#DejaVuSans-35\"/>\r\n     <use x=\"95.410156\" xlink:href=\"#DejaVuSans-32\"/>\r\n    </g>\r\n   </g>\r\n   <g id=\"text_19\">\r\n    <!--  50 -->\r\n    <g transform=\"translate(289.259979 38.346107)scale(0.1 -0.1)\">\r\n     <use xlink:href=\"#DejaVuSans-20\"/>\r\n     <use x=\"31.787109\" xlink:href=\"#DejaVuSans-35\"/>\r\n     <use x=\"95.410156\" xlink:href=\"#DejaVuSans-30\"/>\r\n    </g>\r\n   </g>\r\n   <g id=\"text_20\">\r\n    <!-- Residuals vs. Fitted -->\r\n    <g transform=\"translate(195.689033 16.318125)scale(0.12 -0.12)\">\r\n     <defs>\r\n      <path d=\"M 191 3500 \r\nL 800 3500 \r\nL 1894 563 \r\nL 2988 3500 \r\nL 3597 3500 \r\nL 2284 0 \r\nL 1503 0 \r\nL 191 3500 \r\nz\r\n\" id=\"DejaVuSans-76\" transform=\"scale(0.015625)\"/>\r\n      <path d=\"M 684 794 \r\nL 1344 794 \r\nL 1344 0 \r\nL 684 0 \r\nL 684 794 \r\nz\r\n\" id=\"DejaVuSans-2e\" transform=\"scale(0.015625)\"/>\r\n     </defs>\r\n     <use xlink:href=\"#DejaVuSans-52\"/>\r\n     <use x=\"64.982422\" xlink:href=\"#DejaVuSans-65\"/>\r\n     <use x=\"126.505859\" xlink:href=\"#DejaVuSans-73\"/>\r\n     <use x=\"178.605469\" xlink:href=\"#DejaVuSans-69\"/>\r\n     <use x=\"206.388672\" xlink:href=\"#DejaVuSans-64\"/>\r\n     <use x=\"269.865234\" xlink:href=\"#DejaVuSans-75\"/>\r\n     <use x=\"333.244141\" xlink:href=\"#DejaVuSans-61\"/>\r\n     <use x=\"394.523438\" xlink:href=\"#DejaVuSans-6c\"/>\r\n     <use x=\"422.306641\" xlink:href=\"#DejaVuSans-73\"/>\r\n     <use x=\"474.40625\" xlink:href=\"#DejaVuSans-20\"/>\r\n     <use x=\"506.193359\" xlink:href=\"#DejaVuSans-76\"/>\r\n     <use x=\"565.373047\" xlink:href=\"#DejaVuSans-73\"/>\r\n     <use x=\"617.472656\" xlink:href=\"#DejaVuSans-2e\"/>\r\n     <use x=\"649.259766\" xlink:href=\"#DejaVuSans-20\"/>\r\n     <use x=\"681.046875\" xlink:href=\"#DejaVuSans-46\"/>\r\n     <use x=\"731.316406\" xlink:href=\"#DejaVuSans-69\"/>\r\n     <use x=\"759.099609\" xlink:href=\"#DejaVuSans-74\"/>\r\n     <use x=\"798.308594\" xlink:href=\"#DejaVuSans-74\"/>\r\n     <use x=\"837.517578\" xlink:href=\"#DejaVuSans-65\"/>\r\n     <use x=\"899.041016\" xlink:href=\"#DejaVuSans-64\"/>\r\n    </g>\r\n   </g>\r\n  </g>\r\n  <g id=\"axes_2\">\r\n   <g id=\"patch_7\">\r\n    <path d=\"M 498.892753 212.158125 \r\nL 895.080193 212.158125 \r\nL 895.080193 22.318125 \r\nL 498.892753 22.318125 \r\nz\r\n\" style=\"fill:#ffffff;\"/>\r\n   </g>\r\n   <g id=\"PathCollection_2\">\r\n    <defs>\r\n     <path d=\"M 0 3 \r\nC 0.795609 3 1.55874 2.683901 2.12132 2.12132 \r\nC 2.683901 1.55874 3 0.795609 3 -0 \r\nC 3 -0.795609 2.683901 -1.55874 2.12132 -2.12132 \r\nC 1.55874 -2.683901 0.795609 -3 0 -3 \r\nC -0.795609 -3 -1.55874 -2.683901 -2.12132 -2.12132 \r\nC -2.683901 -1.55874 -3 -0.795609 -3 0 \r\nC -3 0.795609 -2.683901 1.55874 -2.12132 2.12132 \r\nC -1.55874 2.683901 -0.795609 3 0 3 \r\nz\r\n\" id=\"C1_0_7de487cf31\"/>\r\n    </defs>\r\n    <g clip-path=\"url(#p3355c1a610)\">\r\n     <use style=\"fill:none;stroke:#000000;\" x=\"587.307663\" xlink:href=\"#C1_0_7de487cf31\" y=\"203.529034\"/>\r\n    </g>\r\n    <g clip-path=\"url(#p3355c1a610)\">\r\n     <use style=\"fill:none;stroke:#000000;\" x=\"605.330486\" xlink:href=\"#C1_0_7de487cf31\" y=\"148.129652\"/>\r\n    </g>\r\n    <g clip-path=\"url(#p3355c1a610)\">\r\n     <use style=\"fill:none;stroke:#000000;\" x=\"615.702054\" xlink:href=\"#C1_0_7de487cf31\" y=\"145.178387\"/>\r\n    </g>\r\n    <g clip-path=\"url(#p3355c1a610)\">\r\n     <use style=\"fill:none;stroke:#000000;\" x=\"623.182383\" xlink:href=\"#C1_0_7de487cf31\" y=\"143.345667\"/>\r\n    </g>\r\n    <g clip-path=\"url(#p3355c1a610)\">\r\n     <use style=\"fill:none;stroke:#000000;\" x=\"629.127959\" xlink:href=\"#C1_0_7de487cf31\" y=\"142.711532\"/>\r\n    </g>\r\n    <g clip-path=\"url(#p3355c1a610)\">\r\n     <use style=\"fill:none;stroke:#000000;\" x=\"634.11246\" xlink:href=\"#C1_0_7de487cf31\" y=\"142.247574\"/>\r\n    </g>\r\n    <g clip-path=\"url(#p3355c1a610)\">\r\n     <use style=\"fill:none;stroke:#000000;\" x=\"638.434956\" xlink:href=\"#C1_0_7de487cf31\" y=\"142.058785\"/>\r\n    </g>\r\n    <g clip-path=\"url(#p3355c1a610)\">\r\n     <use style=\"fill:none;stroke:#000000;\" x=\"642.272058\" xlink:href=\"#C1_0_7de487cf31\" y=\"138.113424\"/>\r\n    </g>\r\n    <g clip-path=\"url(#p3355c1a610)\">\r\n     <use style=\"fill:none;stroke:#000000;\" x=\"645.737169\" xlink:href=\"#C1_0_7de487cf31\" y=\"137.653012\"/>\r\n    </g>\r\n    <g clip-path=\"url(#p3355c1a610)\">\r\n     <use style=\"fill:none;stroke:#000000;\" x=\"648.907638\" xlink:href=\"#C1_0_7de487cf31\" y=\"136.365496\"/>\r\n    </g>\r\n    <g clip-path=\"url(#p3355c1a610)\">\r\n     <use style=\"fill:none;stroke:#000000;\" x=\"651.838698\" xlink:href=\"#C1_0_7de487cf31\" y=\"136.129411\"/>\r\n    </g>\r\n    <g clip-path=\"url(#p3355c1a610)\">\r\n     <use style=\"fill:none;stroke:#000000;\" x=\"654.571228\" xlink:href=\"#C1_0_7de487cf31\" y=\"135.531311\"/>\r\n    </g>\r\n    <g clip-path=\"url(#p3355c1a610)\">\r\n     <use style=\"fill:none;stroke:#000000;\" x=\"657.136376\" xlink:href=\"#C1_0_7de487cf31\" y=\"135.468073\"/>\r\n    </g>\r\n    <g clip-path=\"url(#p3355c1a610)\">\r\n     <use style=\"fill:none;stroke:#000000;\" x=\"659.558449\" xlink:href=\"#C1_0_7de487cf31\" y=\"135.060647\"/>\r\n    </g>\r\n    <g clip-path=\"url(#p3355c1a610)\">\r\n     <use style=\"fill:none;stroke:#000000;\" x=\"661.8568\" xlink:href=\"#C1_0_7de487cf31\" y=\"133.751239\"/>\r\n    </g>\r\n    <g clip-path=\"url(#p3355c1a610)\">\r\n     <use style=\"fill:none;stroke:#000000;\" x=\"664.047102\" xlink:href=\"#C1_0_7de487cf31\" y=\"132.920322\"/>\r\n    </g>\r\n    <g clip-path=\"url(#p3355c1a610)\">\r\n     <use style=\"fill:none;stroke:#000000;\" x=\"666.14224\" xlink:href=\"#C1_0_7de487cf31\" y=\"127.215597\"/>\r\n    </g>\r\n    <g clip-path=\"url(#p3355c1a610)\">\r\n     <use style=\"fill:none;stroke:#000000;\" x=\"668.15294\" xlink:href=\"#C1_0_7de487cf31\" y=\"127.145449\"/>\r\n    </g>\r\n    <g clip-path=\"url(#p3355c1a610)\">\r\n     <use style=\"fill:none;stroke:#000000;\" x=\"670.088235\" xlink:href=\"#C1_0_7de487cf31\" y=\"126.562032\"/>\r\n    </g>\r\n    <g clip-path=\"url(#p3355c1a610)\">\r\n     <use style=\"fill:none;stroke:#000000;\" x=\"671.955806\" xlink:href=\"#C1_0_7de487cf31\" y=\"125.908468\"/>\r\n    </g>\r\n    <g clip-path=\"url(#p3355c1a610)\">\r\n     <use style=\"fill:none;stroke:#000000;\" x=\"673.76225\" xlink:href=\"#C1_0_7de487cf31\" y=\"125.815443\"/>\r\n    </g>\r\n    <g clip-path=\"url(#p3355c1a610)\">\r\n     <use style=\"fill:none;stroke:#000000;\" x=\"675.51327\" xlink:href=\"#C1_0_7de487cf31\" y=\"125.315851\"/>\r\n    </g>\r\n    <g clip-path=\"url(#p3355c1a610)\">\r\n     <use style=\"fill:none;stroke:#000000;\" x=\"677.213841\" xlink:href=\"#C1_0_7de487cf31\" y=\"125.159844\"/>\r\n    </g>\r\n    <g clip-path=\"url(#p3355c1a610)\">\r\n     <use style=\"fill:none;stroke:#000000;\" x=\"678.868327\" xlink:href=\"#C1_0_7de487cf31\" y=\"125.129145\"/>\r\n    </g>\r\n    <g clip-path=\"url(#p3355c1a610)\">\r\n     <use style=\"fill:none;stroke:#000000;\" x=\"680.48058\" xlink:href=\"#C1_0_7de487cf31\" y=\"124.467045\"/>\r\n    </g>\r\n    <g clip-path=\"url(#p3355c1a610)\">\r\n     <use style=\"fill:none;stroke:#000000;\" x=\"682.054023\" xlink:href=\"#C1_0_7de487cf31\" y=\"124.434606\"/>\r\n    </g>\r\n    <g clip-path=\"url(#p3355c1a610)\">\r\n     <use style=\"fill:none;stroke:#000000;\" x=\"683.591709\" xlink:href=\"#C1_0_7de487cf31\" y=\"123.781859\"/>\r\n    </g>\r\n    <g clip-path=\"url(#p3355c1a610)\">\r\n     <use style=\"fill:none;stroke:#000000;\" x=\"685.096378\" xlink:href=\"#C1_0_7de487cf31\" y=\"122.902655\"/>\r\n    </g>\r\n    <g clip-path=\"url(#p3355c1a610)\">\r\n     <use style=\"fill:none;stroke:#000000;\" x=\"686.570497\" xlink:href=\"#C1_0_7de487cf31\" y=\"121.871031\"/>\r\n    </g>\r\n    <g clip-path=\"url(#p3355c1a610)\">\r\n     <use style=\"fill:none;stroke:#000000;\" x=\"688.016302\" xlink:href=\"#C1_0_7de487cf31\" y=\"121.823617\"/>\r\n    </g>\r\n    <g clip-path=\"url(#p3355c1a610)\">\r\n     <use style=\"fill:none;stroke:#000000;\" x=\"689.435822\" xlink:href=\"#C1_0_7de487cf31\" y=\"121.818644\"/>\r\n    </g>\r\n    <g clip-path=\"url(#p3355c1a610)\">\r\n     <use style=\"fill:none;stroke:#000000;\" x=\"690.830909\" xlink:href=\"#C1_0_7de487cf31\" y=\"121.57998\"/>\r\n    </g>\r\n    <g clip-path=\"url(#p3355c1a610)\">\r\n     <use style=\"fill:none;stroke:#000000;\" x=\"692.203257\" xlink:href=\"#C1_0_7de487cf31\" y=\"119.372826\"/>\r\n    </g>\r\n    <g clip-path=\"url(#p3355c1a610)\">\r\n     <use style=\"fill:none;stroke:#000000;\" x=\"693.554424\" xlink:href=\"#C1_0_7de487cf31\" y=\"119.212627\"/>\r\n    </g>\r\n    <g clip-path=\"url(#p3355c1a610)\">\r\n     <use style=\"fill:none;stroke:#000000;\" x=\"694.885846\" xlink:href=\"#C1_0_7de487cf31\" y=\"118.719261\"/>\r\n    </g>\r\n    <g clip-path=\"url(#p3355c1a610)\">\r\n     <use style=\"fill:none;stroke:#000000;\" x=\"696.198848\" xlink:href=\"#C1_0_7de487cf31\" y=\"117.372021\"/>\r\n    </g>\r\n    <g clip-path=\"url(#p3355c1a610)\">\r\n     <use style=\"fill:none;stroke:#000000;\" x=\"697.494663\" xlink:href=\"#C1_0_7de487cf31\" y=\"116.289278\"/>\r\n    </g>\r\n    <g clip-path=\"url(#p3355c1a610)\">\r\n     <use style=\"fill:none;stroke:#000000;\" x=\"698.774435\" xlink:href=\"#C1_0_7de487cf31\" y=\"116.105004\"/>\r\n    </g>\r\n    <g clip-path=\"url(#p3355c1a610)\">\r\n     <use style=\"fill:none;stroke:#000000;\" x=\"700.039234\" xlink:href=\"#C1_0_7de487cf31\" y=\"115.638547\"/>\r\n    </g>\r\n    <g clip-path=\"url(#p3355c1a610)\">\r\n     <use style=\"fill:none;stroke:#000000;\" x=\"701.29006\" xlink:href=\"#C1_0_7de487cf31\" y=\"114.643396\"/>\r\n    </g>\r\n    <g clip-path=\"url(#p3355c1a610)\">\r\n     <use style=\"fill:none;stroke:#000000;\" x=\"702.527851\" xlink:href=\"#C1_0_7de487cf31\" y=\"114.292428\"/>\r\n    </g>\r\n    <g clip-path=\"url(#p3355c1a610)\">\r\n     <use style=\"fill:none;stroke:#000000;\" x=\"703.75349\" xlink:href=\"#C1_0_7de487cf31\" y=\"113.990648\"/>\r\n    </g>\r\n    <g clip-path=\"url(#p3355c1a610)\">\r\n     <use style=\"fill:none;stroke:#000000;\" x=\"704.967811\" xlink:href=\"#C1_0_7de487cf31\" y=\"113.845393\"/>\r\n    </g>\r\n    <g clip-path=\"url(#p3355c1a610)\">\r\n     <use style=\"fill:none;stroke:#000000;\" x=\"706.171602\" xlink:href=\"#C1_0_7de487cf31\" y=\"113.180391\"/>\r\n    </g>\r\n    <g clip-path=\"url(#p3355c1a610)\">\r\n     <use style=\"fill:none;stroke:#000000;\" x=\"707.365612\" xlink:href=\"#C1_0_7de487cf31\" y=\"113.039001\"/>\r\n    </g>\r\n    <g clip-path=\"url(#p3355c1a610)\">\r\n     <use style=\"fill:none;stroke:#000000;\" x=\"708.550552\" xlink:href=\"#C1_0_7de487cf31\" y=\"112.549242\"/>\r\n    </g>\r\n    <g clip-path=\"url(#p3355c1a610)\">\r\n     <use style=\"fill:none;stroke:#000000;\" x=\"709.7271\" xlink:href=\"#C1_0_7de487cf31\" y=\"111.692038\"/>\r\n    </g>\r\n    <g clip-path=\"url(#p3355c1a610)\">\r\n     <use style=\"fill:none;stroke:#000000;\" x=\"710.895906\" xlink:href=\"#C1_0_7de487cf31\" y=\"111.379659\"/>\r\n    </g>\r\n    <g clip-path=\"url(#p3355c1a610)\">\r\n     <use style=\"fill:none;stroke:#000000;\" x=\"712.057592\" xlink:href=\"#C1_0_7de487cf31\" y=\"111.379659\"/>\r\n    </g>\r\n    <g clip-path=\"url(#p3355c1a610)\">\r\n     <use style=\"fill:none;stroke:#000000;\" x=\"713.212757\" xlink:href=\"#C1_0_7de487cf31\" y=\"111.018556\"/>\r\n    </g>\r\n    <g clip-path=\"url(#p3355c1a610)\">\r\n     <use style=\"fill:none;stroke:#000000;\" x=\"714.361977\" xlink:href=\"#C1_0_7de487cf31\" y=\"110.87649\"/>\r\n    </g>\r\n    <g clip-path=\"url(#p3355c1a610)\">\r\n     <use style=\"fill:none;stroke:#000000;\" x=\"715.50581\" xlink:href=\"#C1_0_7de487cf31\" y=\"109.900842\"/>\r\n    </g>\r\n    <g clip-path=\"url(#p3355c1a610)\">\r\n     <use style=\"fill:none;stroke:#000000;\" x=\"716.644796\" xlink:href=\"#C1_0_7de487cf31\" y=\"108.76867\"/>\r\n    </g>\r\n    <g clip-path=\"url(#p3355c1a610)\">\r\n     <use style=\"fill:none;stroke:#000000;\" x=\"717.779461\" xlink:href=\"#C1_0_7de487cf31\" y=\"108.76867\"/>\r\n    </g>\r\n    <g clip-path=\"url(#p3355c1a610)\">\r\n     <use style=\"fill:none;stroke:#000000;\" x=\"718.910318\" xlink:href=\"#C1_0_7de487cf31\" y=\"107.143156\"/>\r\n    </g>\r\n    <g clip-path=\"url(#p3355c1a610)\">\r\n     <use style=\"fill:none;stroke:#000000;\" x=\"720.037865\" xlink:href=\"#C1_0_7de487cf31\" y=\"106.955105\"/>\r\n    </g>\r\n    <g clip-path=\"url(#p3355c1a610)\">\r\n     <use style=\"fill:none;stroke:#000000;\" x=\"721.162595\" xlink:href=\"#C1_0_7de487cf31\" y=\"106.810428\"/>\r\n    </g>\r\n    <g clip-path=\"url(#p3355c1a610)\">\r\n     <use style=\"fill:none;stroke:#000000;\" x=\"722.284989\" xlink:href=\"#C1_0_7de487cf31\" y=\"106.15768\"/>\r\n    </g>\r\n    <g clip-path=\"url(#p3355c1a610)\">\r\n     <use style=\"fill:none;stroke:#000000;\" x=\"723.405522\" xlink:href=\"#C1_0_7de487cf31\" y=\"105.707874\"/>\r\n    </g>\r\n    <g clip-path=\"url(#p3355c1a610)\">\r\n     <use style=\"fill:none;stroke:#000000;\" x=\"724.524665\" xlink:href=\"#C1_0_7de487cf31\" y=\"104.994412\"/>\r\n    </g>\r\n    <g clip-path=\"url(#p3355c1a610)\">\r\n     <use style=\"fill:none;stroke:#000000;\" x=\"725.642882\" xlink:href=\"#C1_0_7de487cf31\" y=\"103.941941\"/>\r\n    </g>\r\n    <g clip-path=\"url(#p3355c1a610)\">\r\n     <use style=\"fill:none;stroke:#000000;\" x=\"726.760638\" xlink:href=\"#C1_0_7de487cf31\" y=\"103.081023\"/>\r\n    </g>\r\n    <g clip-path=\"url(#p3355c1a610)\">\r\n     <use style=\"fill:none;stroke:#000000;\" x=\"727.878394\" xlink:href=\"#C1_0_7de487cf31\" y=\"101.726591\"/>\r\n    </g>\r\n    <g clip-path=\"url(#p3355c1a610)\">\r\n     <use style=\"fill:none;stroke:#000000;\" x=\"728.996612\" xlink:href=\"#C1_0_7de487cf31\" y=\"101.588449\"/>\r\n    </g>\r\n    <g clip-path=\"url(#p3355c1a610)\">\r\n     <use style=\"fill:none;stroke:#000000;\" x=\"730.115755\" xlink:href=\"#C1_0_7de487cf31\" y=\"101.191514\"/>\r\n    </g>\r\n    <g clip-path=\"url(#p3355c1a610)\">\r\n     <use style=\"fill:none;stroke:#000000;\" x=\"731.236288\" xlink:href=\"#C1_0_7de487cf31\" y=\"100.970609\"/>\r\n    </g>\r\n    <g clip-path=\"url(#p3355c1a610)\">\r\n     <use style=\"fill:none;stroke:#000000;\" x=\"732.358682\" xlink:href=\"#C1_0_7de487cf31\" y=\"100.970609\"/>\r\n    </g>\r\n    <g clip-path=\"url(#p3355c1a610)\">\r\n     <use style=\"fill:none;stroke:#000000;\" x=\"733.483412\" xlink:href=\"#C1_0_7de487cf31\" y=\"100.697083\"/>\r\n    </g>\r\n    <g clip-path=\"url(#p3355c1a610)\">\r\n     <use style=\"fill:none;stroke:#000000;\" x=\"734.610959\" xlink:href=\"#C1_0_7de487cf31\" y=\"100.545338\"/>\r\n    </g>\r\n    <g clip-path=\"url(#p3355c1a610)\">\r\n     <use style=\"fill:none;stroke:#000000;\" x=\"735.741816\" xlink:href=\"#C1_0_7de487cf31\" y=\"100.470308\"/>\r\n    </g>\r\n    <g clip-path=\"url(#p3355c1a610)\">\r\n     <use style=\"fill:none;stroke:#000000;\" x=\"736.876481\" xlink:href=\"#C1_0_7de487cf31\" y=\"100.419463\"/>\r\n    </g>\r\n    <g clip-path=\"url(#p3355c1a610)\">\r\n     <use style=\"fill:none;stroke:#000000;\" x=\"738.015467\" xlink:href=\"#C1_0_7de487cf31\" y=\"100.282954\"/>\r\n    </g>\r\n    <g clip-path=\"url(#p3355c1a610)\">\r\n     <use style=\"fill:none;stroke:#000000;\" x=\"739.1593\" xlink:href=\"#C1_0_7de487cf31\" y=\"99.96934\"/>\r\n    </g>\r\n    <g clip-path=\"url(#p3355c1a610)\">\r\n     <use style=\"fill:none;stroke:#000000;\" x=\"740.30852\" xlink:href=\"#C1_0_7de487cf31\" y=\"99.630207\"/>\r\n    </g>\r\n    <g clip-path=\"url(#p3355c1a610)\">\r\n     <use style=\"fill:none;stroke:#000000;\" x=\"741.463685\" xlink:href=\"#C1_0_7de487cf31\" y=\"99.60885\"/>\r\n    </g>\r\n    <g clip-path=\"url(#p3355c1a610)\">\r\n     <use style=\"fill:none;stroke:#000000;\" x=\"742.625371\" xlink:href=\"#C1_0_7de487cf31\" y=\"98.977459\"/>\r\n    </g>\r\n    <g clip-path=\"url(#p3355c1a610)\">\r\n     <use style=\"fill:none;stroke:#000000;\" x=\"743.794177\" xlink:href=\"#C1_0_7de487cf31\" y=\"97.110483\"/>\r\n    </g>\r\n    <g clip-path=\"url(#p3355c1a610)\">\r\n     <use style=\"fill:none;stroke:#000000;\" x=\"744.970725\" xlink:href=\"#C1_0_7de487cf31\" y=\"95.844513\"/>\r\n    </g>\r\n    <g clip-path=\"url(#p3355c1a610)\">\r\n     <use style=\"fill:none;stroke:#000000;\" x=\"746.155665\" xlink:href=\"#C1_0_7de487cf31\" y=\"95.844513\"/>\r\n    </g>\r\n    <g clip-path=\"url(#p3355c1a610)\">\r\n     <use style=\"fill:none;stroke:#000000;\" x=\"747.349675\" xlink:href=\"#C1_0_7de487cf31\" y=\"95.528483\"/>\r\n    </g>\r\n    <g clip-path=\"url(#p3355c1a610)\">\r\n     <use style=\"fill:none;stroke:#000000;\" x=\"748.553466\" xlink:href=\"#C1_0_7de487cf31\" y=\"94.842692\"/>\r\n    </g>\r\n    <g clip-path=\"url(#p3355c1a610)\">\r\n     <use style=\"fill:none;stroke:#000000;\" x=\"749.767787\" xlink:href=\"#C1_0_7de487cf31\" y=\"94.560313\"/>\r\n    </g>\r\n    <g clip-path=\"url(#p3355c1a610)\">\r\n     <use style=\"fill:none;stroke:#000000;\" x=\"750.993426\" xlink:href=\"#C1_0_7de487cf31\" y=\"94.464745\"/>\r\n    </g>\r\n    <g clip-path=\"url(#p3355c1a610)\">\r\n     <use style=\"fill:none;stroke:#000000;\" x=\"752.231217\" xlink:href=\"#C1_0_7de487cf31\" y=\"93.803794\"/>\r\n    </g>\r\n    <g clip-path=\"url(#p3355c1a610)\">\r\n     <use style=\"fill:none;stroke:#000000;\" x=\"753.482043\" xlink:href=\"#C1_0_7de487cf31\" y=\"93.75548\"/>\r\n    </g>\r\n    <g clip-path=\"url(#p3355c1a610)\">\r\n     <use style=\"fill:none;stroke:#000000;\" x=\"754.746842\" xlink:href=\"#C1_0_7de487cf31\" y=\"92.449986\"/>\r\n    </g>\r\n    <g clip-path=\"url(#p3355c1a610)\">\r\n     <use style=\"fill:none;stroke:#000000;\" x=\"756.026614\" xlink:href=\"#C1_0_7de487cf31\" y=\"91.923127\"/>\r\n    </g>\r\n    <g clip-path=\"url(#p3355c1a610)\">\r\n     <use style=\"fill:none;stroke:#000000;\" x=\"757.322429\" xlink:href=\"#C1_0_7de487cf31\" y=\"91.923127\"/>\r\n    </g>\r\n    <g clip-path=\"url(#p3355c1a610)\">\r\n     <use style=\"fill:none;stroke:#000000;\" x=\"758.635431\" xlink:href=\"#C1_0_7de487cf31\" y=\"91.38833\"/>\r\n    </g>\r\n    <g clip-path=\"url(#p3355c1a610)\">\r\n     <use style=\"fill:none;stroke:#000000;\" x=\"759.966852\" xlink:href=\"#C1_0_7de487cf31\" y=\"90.615999\"/>\r\n    </g>\r\n    <g clip-path=\"url(#p3355c1a610)\">\r\n     <use style=\"fill:none;stroke:#000000;\" x=\"761.31802\" xlink:href=\"#C1_0_7de487cf31\" y=\"89.933443\"/>\r\n    </g>\r\n    <g clip-path=\"url(#p3355c1a610)\">\r\n     <use style=\"fill:none;stroke:#000000;\" x=\"762.690368\" xlink:href=\"#C1_0_7de487cf31\" y=\"89.186249\"/>\r\n    </g>\r\n    <g clip-path=\"url(#p3355c1a610)\">\r\n     <use style=\"fill:none;stroke:#000000;\" x=\"764.085454\" xlink:href=\"#C1_0_7de487cf31\" y=\"87.190416\"/>\r\n    </g>\r\n    <g clip-path=\"url(#p3355c1a610)\">\r\n     <use style=\"fill:none;stroke:#000000;\" x=\"765.504975\" xlink:href=\"#C1_0_7de487cf31\" y=\"85.800475\"/>\r\n    </g>\r\n    <g clip-path=\"url(#p3355c1a610)\">\r\n     <use style=\"fill:none;stroke:#000000;\" x=\"766.95078\" xlink:href=\"#C1_0_7de487cf31\" y=\"85.403137\"/>\r\n    </g>\r\n    <g clip-path=\"url(#p3355c1a610)\">\r\n     <use style=\"fill:none;stroke:#000000;\" x=\"768.424899\" xlink:href=\"#C1_0_7de487cf31\" y=\"84.741037\"/>\r\n    </g>\r\n    <g clip-path=\"url(#p3355c1a610)\">\r\n     <use style=\"fill:none;stroke:#000000;\" x=\"769.929568\" xlink:href=\"#C1_0_7de487cf31\" y=\"84.617017\"/>\r\n    </g>\r\n    <g clip-path=\"url(#p3355c1a610)\">\r\n     <use style=\"fill:none;stroke:#000000;\" x=\"771.467254\" xlink:href=\"#C1_0_7de487cf31\" y=\"84.080356\"/>\r\n    </g>\r\n    <g clip-path=\"url(#p3355c1a610)\">\r\n     <use style=\"fill:none;stroke:#000000;\" x=\"773.040697\" xlink:href=\"#C1_0_7de487cf31\" y=\"84.080356\"/>\r\n    </g>\r\n    <g clip-path=\"url(#p3355c1a610)\">\r\n     <use style=\"fill:none;stroke:#000000;\" x=\"774.65295\" xlink:href=\"#C1_0_7de487cf31\" y=\"82.062735\"/>\r\n    </g>\r\n    <g clip-path=\"url(#p3355c1a610)\">\r\n     <use style=\"fill:none;stroke:#000000;\" x=\"776.307436\" xlink:href=\"#C1_0_7de487cf31\" y=\"81.852685\"/>\r\n    </g>\r\n    <g clip-path=\"url(#p3355c1a610)\">\r\n     <use style=\"fill:none;stroke:#000000;\" x=\"778.008007\" xlink:href=\"#C1_0_7de487cf31\" y=\"80.339104\"/>\r\n    </g>\r\n    <g clip-path=\"url(#p3355c1a610)\">\r\n     <use style=\"fill:none;stroke:#000000;\" x=\"779.759027\" xlink:href=\"#C1_0_7de487cf31\" y=\"79.485852\"/>\r\n    </g>\r\n    <g clip-path=\"url(#p3355c1a610)\">\r\n     <use style=\"fill:none;stroke:#000000;\" x=\"781.565471\" xlink:href=\"#C1_0_7de487cf31\" y=\"78.742291\"/>\r\n    </g>\r\n    <g clip-path=\"url(#p3355c1a610)\">\r\n     <use style=\"fill:none;stroke:#000000;\" x=\"783.433042\" xlink:href=\"#C1_0_7de487cf31\" y=\"77.931688\"/>\r\n    </g>\r\n    <g clip-path=\"url(#p3355c1a610)\">\r\n     <use style=\"fill:none;stroke:#000000;\" x=\"785.368337\" xlink:href=\"#C1_0_7de487cf31\" y=\"77.436797\"/>\r\n    </g>\r\n    <g clip-path=\"url(#p3355c1a610)\">\r\n     <use style=\"fill:none;stroke:#000000;\" x=\"787.379037\" xlink:href=\"#C1_0_7de487cf31\" y=\"77.270241\"/>\r\n    </g>\r\n    <g clip-path=\"url(#p3355c1a610)\">\r\n     <use style=\"fill:none;stroke:#000000;\" x=\"789.474175\" xlink:href=\"#C1_0_7de487cf31\" y=\"74.930457\"/>\r\n    </g>\r\n    <g clip-path=\"url(#p3355c1a610)\">\r\n     <use style=\"fill:none;stroke:#000000;\" x=\"791.664477\" xlink:href=\"#C1_0_7de487cf31\" y=\"74.930457\"/>\r\n    </g>\r\n    <g clip-path=\"url(#p3355c1a610)\">\r\n     <use style=\"fill:none;stroke:#000000;\" x=\"793.962828\" xlink:href=\"#C1_0_7de487cf31\" y=\"72.82972\"/>\r\n    </g>\r\n    <g clip-path=\"url(#p3355c1a610)\">\r\n     <use style=\"fill:none;stroke:#000000;\" x=\"796.384901\" xlink:href=\"#C1_0_7de487cf31\" y=\"72.3162\"/>\r\n    </g>\r\n    <g clip-path=\"url(#p3355c1a610)\">\r\n     <use style=\"fill:none;stroke:#000000;\" x=\"798.950049\" xlink:href=\"#C1_0_7de487cf31\" y=\"67.087686\"/>\r\n    </g>\r\n    <g clip-path=\"url(#p3355c1a610)\">\r\n     <use style=\"fill:none;stroke:#000000;\" x=\"801.682579\" xlink:href=\"#C1_0_7de487cf31\" y=\"60.465365\"/>\r\n    </g>\r\n    <g clip-path=\"url(#p3355c1a610)\">\r\n     <use style=\"fill:none;stroke:#000000;\" x=\"804.613639\" xlink:href=\"#C1_0_7de487cf31\" y=\"59.098653\"/>\r\n    </g>\r\n    <g clip-path=\"url(#p3355c1a610)\">\r\n     <use style=\"fill:none;stroke:#000000;\" x=\"807.784108\" xlink:href=\"#C1_0_7de487cf31\" y=\"58.507123\"/>\r\n    </g>\r\n    <g clip-path=\"url(#p3355c1a610)\">\r\n     <use style=\"fill:none;stroke:#000000;\" x=\"811.249219\" xlink:href=\"#C1_0_7de487cf31\" y=\"57.201629\"/>\r\n    </g>\r\n    <g clip-path=\"url(#p3355c1a610)\">\r\n     <use style=\"fill:none;stroke:#000000;\" x=\"815.086321\" xlink:href=\"#C1_0_7de487cf31\" y=\"53.937892\"/>\r\n    </g>\r\n    <g clip-path=\"url(#p3355c1a610)\">\r\n     <use style=\"fill:none;stroke:#000000;\" x=\"819.408817\" xlink:href=\"#C1_0_7de487cf31\" y=\"53.362837\"/>\r\n    </g>\r\n    <g clip-path=\"url(#p3355c1a610)\">\r\n     <use style=\"fill:none;stroke:#000000;\" x=\"824.393318\" xlink:href=\"#C1_0_7de487cf31\" y=\"47.062713\"/>\r\n    </g>\r\n    <g clip-path=\"url(#p3355c1a610)\">\r\n     <use style=\"fill:none;stroke:#000000;\" x=\"830.338894\" xlink:href=\"#C1_0_7de487cf31\" y=\"46.187475\"/>\r\n    </g>\r\n    <g clip-path=\"url(#p3355c1a610)\">\r\n     <use style=\"fill:none;stroke:#000000;\" x=\"837.819223\" xlink:href=\"#C1_0_7de487cf31\" y=\"39.718228\"/>\r\n    </g>\r\n    <g clip-path=\"url(#p3355c1a610)\">\r\n     <use style=\"fill:none;stroke:#000000;\" x=\"848.190791\" xlink:href=\"#C1_0_7de487cf31\" y=\"39.574098\"/>\r\n    </g>\r\n    <g clip-path=\"url(#p3355c1a610)\">\r\n     <use style=\"fill:none;stroke:#000000;\" x=\"866.213613\" xlink:href=\"#C1_0_7de487cf31\" y=\"30.947216\"/>\r\n    </g>\r\n   </g>\r\n   <g id=\"matplotlib.axis_3\">\r\n    <g id=\"xtick_9\">\r\n     <g id=\"line2d_17\">\r\n      <g>\r\n       <use style=\"stroke:#000000;stroke-width:0.8;\" x=\"506.732032\" xlink:href=\"#mc6b15bdab7\" y=\"212.158125\"/>\r\n      </g>\r\n     </g>\r\n     <g id=\"text_21\">\r\n      <!-- −4 -->\r\n      <g transform=\"translate(499.360938 226.756562)scale(0.1 -0.1)\">\r\n       <use xlink:href=\"#DejaVuSans-2212\"/>\r\n       <use x=\"83.789062\" xlink:href=\"#DejaVuSans-34\"/>\r\n      </g>\r\n     </g>\r\n    </g>\r\n    <g id=\"xtick_10\">\r\n     <g id=\"line2d_18\">\r\n      <g>\r\n       <use style=\"stroke:#000000;stroke-width:0.8;\" x=\"561.739184\" xlink:href=\"#mc6b15bdab7\" y=\"212.158125\"/>\r\n      </g>\r\n     </g>\r\n     <g id=\"text_22\">\r\n      <!-- −3 -->\r\n      <g transform=\"translate(554.36809 226.756562)scale(0.1 -0.1)\">\r\n       <use xlink:href=\"#DejaVuSans-2212\"/>\r\n       <use x=\"83.789062\" xlink:href=\"#DejaVuSans-33\"/>\r\n      </g>\r\n     </g>\r\n    </g>\r\n    <g id=\"xtick_11\">\r\n     <g id=\"line2d_19\">\r\n      <g>\r\n       <use style=\"stroke:#000000;stroke-width:0.8;\" x=\"616.746335\" xlink:href=\"#mc6b15bdab7\" y=\"212.158125\"/>\r\n      </g>\r\n     </g>\r\n     <g id=\"text_23\">\r\n      <!-- −2 -->\r\n      <g transform=\"translate(609.375242 226.756562)scale(0.1 -0.1)\">\r\n       <use xlink:href=\"#DejaVuSans-2212\"/>\r\n       <use x=\"83.789062\" xlink:href=\"#DejaVuSans-32\"/>\r\n      </g>\r\n     </g>\r\n    </g>\r\n    <g id=\"xtick_12\">\r\n     <g id=\"line2d_20\">\r\n      <g>\r\n       <use style=\"stroke:#000000;stroke-width:0.8;\" x=\"671.753487\" xlink:href=\"#mc6b15bdab7\" y=\"212.158125\"/>\r\n      </g>\r\n     </g>\r\n     <g id=\"text_24\">\r\n      <!-- −1 -->\r\n      <g transform=\"translate(664.382393 226.756562)scale(0.1 -0.1)\">\r\n       <use xlink:href=\"#DejaVuSans-2212\"/>\r\n       <use x=\"83.789062\" xlink:href=\"#DejaVuSans-31\"/>\r\n      </g>\r\n     </g>\r\n    </g>\r\n    <g id=\"xtick_13\">\r\n     <g id=\"line2d_21\">\r\n      <g>\r\n       <use style=\"stroke:#000000;stroke-width:0.8;\" x=\"726.760638\" xlink:href=\"#mc6b15bdab7\" y=\"212.158125\"/>\r\n      </g>\r\n     </g>\r\n     <g id=\"text_25\">\r\n      <!-- 0 -->\r\n      <g transform=\"translate(723.579388 226.756562)scale(0.1 -0.1)\">\r\n       <use xlink:href=\"#DejaVuSans-30\"/>\r\n      </g>\r\n     </g>\r\n    </g>\r\n    <g id=\"xtick_14\">\r\n     <g id=\"line2d_22\">\r\n      <g>\r\n       <use style=\"stroke:#000000;stroke-width:0.8;\" x=\"781.76779\" xlink:href=\"#mc6b15bdab7\" y=\"212.158125\"/>\r\n      </g>\r\n     </g>\r\n     <g id=\"text_26\">\r\n      <!-- 1 -->\r\n      <g transform=\"translate(778.58654 226.756562)scale(0.1 -0.1)\">\r\n       <use xlink:href=\"#DejaVuSans-31\"/>\r\n      </g>\r\n     </g>\r\n    </g>\r\n    <g id=\"xtick_15\">\r\n     <g id=\"line2d_23\">\r\n      <g>\r\n       <use style=\"stroke:#000000;stroke-width:0.8;\" x=\"836.774942\" xlink:href=\"#mc6b15bdab7\" y=\"212.158125\"/>\r\n      </g>\r\n     </g>\r\n     <g id=\"text_27\">\r\n      <!-- 2 -->\r\n      <g transform=\"translate(833.593692 226.756562)scale(0.1 -0.1)\">\r\n       <use xlink:href=\"#DejaVuSans-32\"/>\r\n      </g>\r\n     </g>\r\n    </g>\r\n    <g id=\"xtick_16\">\r\n     <g id=\"line2d_24\">\r\n      <g>\r\n       <use style=\"stroke:#000000;stroke-width:0.8;\" x=\"891.782093\" xlink:href=\"#mc6b15bdab7\" y=\"212.158125\"/>\r\n      </g>\r\n     </g>\r\n     <g id=\"text_28\">\r\n      <!-- 3 -->\r\n      <g transform=\"translate(888.600843 226.756562)scale(0.1 -0.1)\">\r\n       <use xlink:href=\"#DejaVuSans-33\"/>\r\n      </g>\r\n     </g>\r\n    </g>\r\n    <g id=\"text_29\">\r\n     <!-- Theoretical Quantiles -->\r\n     <g transform=\"translate(643.710692 240.434687)scale(0.1 -0.1)\">\r\n      <defs>\r\n       <path d=\"M -19 4666 \r\nL 3928 4666 \r\nL 3928 4134 \r\nL 2272 4134 \r\nL 2272 0 \r\nL 1638 0 \r\nL 1638 4134 \r\nL -19 4134 \r\nL -19 4666 \r\nz\r\n\" id=\"DejaVuSans-54\" transform=\"scale(0.015625)\"/>\r\n       <path d=\"M 3513 2113 \r\nL 3513 0 \r\nL 2938 0 \r\nL 2938 2094 \r\nQ 2938 2591 2744 2837 \r\nQ 2550 3084 2163 3084 \r\nQ 1697 3084 1428 2787 \r\nQ 1159 2491 1159 1978 \r\nL 1159 0 \r\nL 581 0 \r\nL 581 4863 \r\nL 1159 4863 \r\nL 1159 2956 \r\nQ 1366 3272 1645 3428 \r\nQ 1925 3584 2291 3584 \r\nQ 2894 3584 3203 3211 \r\nQ 3513 2838 3513 2113 \r\nz\r\n\" id=\"DejaVuSans-68\" transform=\"scale(0.015625)\"/>\r\n       <path d=\"M 1959 3097 \r\nQ 1497 3097 1228 2736 \r\nQ 959 2375 959 1747 \r\nQ 959 1119 1226 758 \r\nQ 1494 397 1959 397 \r\nQ 2419 397 2687 759 \r\nQ 2956 1122 2956 1747 \r\nQ 2956 2369 2687 2733 \r\nQ 2419 3097 1959 3097 \r\nz\r\nM 1959 3584 \r\nQ 2709 3584 3137 3096 \r\nQ 3566 2609 3566 1747 \r\nQ 3566 888 3137 398 \r\nQ 2709 -91 1959 -91 \r\nQ 1206 -91 779 398 \r\nQ 353 888 353 1747 \r\nQ 353 2609 779 3096 \r\nQ 1206 3584 1959 3584 \r\nz\r\n\" id=\"DejaVuSans-6f\" transform=\"scale(0.015625)\"/>\r\n       <path d=\"M 2631 2963 \r\nQ 2534 3019 2420 3045 \r\nQ 2306 3072 2169 3072 \r\nQ 1681 3072 1420 2755 \r\nQ 1159 2438 1159 1844 \r\nL 1159 0 \r\nL 581 0 \r\nL 581 3500 \r\nL 1159 3500 \r\nL 1159 2956 \r\nQ 1341 3275 1631 3429 \r\nQ 1922 3584 2338 3584 \r\nQ 2397 3584 2469 3576 \r\nQ 2541 3569 2628 3553 \r\nL 2631 2963 \r\nz\r\n\" id=\"DejaVuSans-72\" transform=\"scale(0.015625)\"/>\r\n       <path d=\"M 3122 3366 \r\nL 3122 2828 \r\nQ 2878 2963 2633 3030 \r\nQ 2388 3097 2138 3097 \r\nQ 1578 3097 1268 2742 \r\nQ 959 2388 959 1747 \r\nQ 959 1106 1268 751 \r\nQ 1578 397 2138 397 \r\nQ 2388 397 2633 464 \r\nQ 2878 531 3122 666 \r\nL 3122 134 \r\nQ 2881 22 2623 -34 \r\nQ 2366 -91 2075 -91 \r\nQ 1284 -91 818 406 \r\nQ 353 903 353 1747 \r\nQ 353 2603 823 3093 \r\nQ 1294 3584 2113 3584 \r\nQ 2378 3584 2631 3529 \r\nQ 2884 3475 3122 3366 \r\nz\r\n\" id=\"DejaVuSans-63\" transform=\"scale(0.015625)\"/>\r\n       <path d=\"M 2522 4238 \r\nQ 1834 4238 1429 3725 \r\nQ 1025 3213 1025 2328 \r\nQ 1025 1447 1429 934 \r\nQ 1834 422 2522 422 \r\nQ 3209 422 3611 934 \r\nQ 4013 1447 4013 2328 \r\nQ 4013 3213 3611 3725 \r\nQ 3209 4238 2522 4238 \r\nz\r\nM 3406 84 \r\nL 4238 -825 \r\nL 3475 -825 \r\nL 2784 -78 \r\nQ 2681 -84 2626 -87 \r\nQ 2572 -91 2522 -91 \r\nQ 1538 -91 948 567 \r\nQ 359 1225 359 2328 \r\nQ 359 3434 948 4092 \r\nQ 1538 4750 2522 4750 \r\nQ 3503 4750 4090 4092 \r\nQ 4678 3434 4678 2328 \r\nQ 4678 1516 4351 937 \r\nQ 4025 359 3406 84 \r\nz\r\n\" id=\"DejaVuSans-51\" transform=\"scale(0.015625)\"/>\r\n       <path d=\"M 3513 2113 \r\nL 3513 0 \r\nL 2938 0 \r\nL 2938 2094 \r\nQ 2938 2591 2744 2837 \r\nQ 2550 3084 2163 3084 \r\nQ 1697 3084 1428 2787 \r\nQ 1159 2491 1159 1978 \r\nL 1159 0 \r\nL 581 0 \r\nL 581 3500 \r\nL 1159 3500 \r\nL 1159 2956 \r\nQ 1366 3272 1645 3428 \r\nQ 1925 3584 2291 3584 \r\nQ 2894 3584 3203 3211 \r\nQ 3513 2838 3513 2113 \r\nz\r\n\" id=\"DejaVuSans-6e\" transform=\"scale(0.015625)\"/>\r\n      </defs>\r\n      <use xlink:href=\"#DejaVuSans-54\"/>\r\n      <use x=\"61.083984\" xlink:href=\"#DejaVuSans-68\"/>\r\n      <use x=\"124.462891\" xlink:href=\"#DejaVuSans-65\"/>\r\n      <use x=\"185.986328\" xlink:href=\"#DejaVuSans-6f\"/>\r\n      <use x=\"247.167969\" xlink:href=\"#DejaVuSans-72\"/>\r\n      <use x=\"286.03125\" xlink:href=\"#DejaVuSans-65\"/>\r\n      <use x=\"347.554688\" xlink:href=\"#DejaVuSans-74\"/>\r\n      <use x=\"386.763672\" xlink:href=\"#DejaVuSans-69\"/>\r\n      <use x=\"414.546875\" xlink:href=\"#DejaVuSans-63\"/>\r\n      <use x=\"469.527344\" xlink:href=\"#DejaVuSans-61\"/>\r\n      <use x=\"530.806641\" xlink:href=\"#DejaVuSans-6c\"/>\r\n      <use x=\"558.589844\" xlink:href=\"#DejaVuSans-20\"/>\r\n      <use x=\"590.376953\" xlink:href=\"#DejaVuSans-51\"/>\r\n      <use x=\"669.087891\" xlink:href=\"#DejaVuSans-75\"/>\r\n      <use x=\"732.466797\" xlink:href=\"#DejaVuSans-61\"/>\r\n      <use x=\"793.746094\" xlink:href=\"#DejaVuSans-6e\"/>\r\n      <use x=\"857.125\" xlink:href=\"#DejaVuSans-74\"/>\r\n      <use x=\"896.333984\" xlink:href=\"#DejaVuSans-69\"/>\r\n      <use x=\"924.117188\" xlink:href=\"#DejaVuSans-6c\"/>\r\n      <use x=\"951.900391\" xlink:href=\"#DejaVuSans-65\"/>\r\n      <use x=\"1013.423828\" xlink:href=\"#DejaVuSans-73\"/>\r\n     </g>\r\n    </g>\r\n   </g>\r\n   <g id=\"matplotlib.axis_4\">\r\n    <g id=\"ytick_7\">\r\n     <g id=\"line2d_25\">\r\n      <g>\r\n       <use style=\"stroke:#000000;stroke-width:0.8;\" x=\"498.892753\" xlink:href=\"#m836ed1b8e9\" y=\"208.4018\"/>\r\n      </g>\r\n     </g>\r\n     <g id=\"text_30\">\r\n      <!-- −4 -->\r\n      <g transform=\"translate(477.150565 212.201019)scale(0.1 -0.1)\">\r\n       <use xlink:href=\"#DejaVuSans-2212\"/>\r\n       <use x=\"83.789062\" xlink:href=\"#DejaVuSans-34\"/>\r\n      </g>\r\n     </g>\r\n    </g>\r\n    <g id=\"ytick_8\">\r\n     <g id=\"line2d_26\">\r\n      <g>\r\n       <use style=\"stroke:#000000;stroke-width:0.8;\" x=\"498.892753\" xlink:href=\"#m836ed1b8e9\" y=\"182.044181\"/>\r\n      </g>\r\n     </g>\r\n     <g id=\"text_31\">\r\n      <!-- −3 -->\r\n      <g transform=\"translate(477.150565 185.8434)scale(0.1 -0.1)\">\r\n       <use xlink:href=\"#DejaVuSans-2212\"/>\r\n       <use x=\"83.789062\" xlink:href=\"#DejaVuSans-33\"/>\r\n      </g>\r\n     </g>\r\n    </g>\r\n    <g id=\"ytick_9\">\r\n     <g id=\"line2d_27\">\r\n      <g>\r\n       <use style=\"stroke:#000000;stroke-width:0.8;\" x=\"498.892753\" xlink:href=\"#m836ed1b8e9\" y=\"155.686562\"/>\r\n      </g>\r\n     </g>\r\n     <g id=\"text_32\">\r\n      <!-- −2 -->\r\n      <g transform=\"translate(477.150565 159.485781)scale(0.1 -0.1)\">\r\n       <use xlink:href=\"#DejaVuSans-2212\"/>\r\n       <use x=\"83.789062\" xlink:href=\"#DejaVuSans-32\"/>\r\n      </g>\r\n     </g>\r\n    </g>\r\n    <g id=\"ytick_10\">\r\n     <g id=\"line2d_28\">\r\n      <g>\r\n       <use style=\"stroke:#000000;stroke-width:0.8;\" x=\"498.892753\" xlink:href=\"#m836ed1b8e9\" y=\"129.328943\"/>\r\n      </g>\r\n     </g>\r\n     <g id=\"text_33\">\r\n      <!-- −1 -->\r\n      <g transform=\"translate(477.150565 133.128161)scale(0.1 -0.1)\">\r\n       <use xlink:href=\"#DejaVuSans-2212\"/>\r\n       <use x=\"83.789062\" xlink:href=\"#DejaVuSans-31\"/>\r\n      </g>\r\n     </g>\r\n    </g>\r\n    <g id=\"ytick_11\">\r\n     <g id=\"line2d_29\">\r\n      <g>\r\n       <use style=\"stroke:#000000;stroke-width:0.8;\" x=\"498.892753\" xlink:href=\"#m836ed1b8e9\" y=\"102.971324\"/>\r\n      </g>\r\n     </g>\r\n     <g id=\"text_34\">\r\n      <!-- 0 -->\r\n      <g transform=\"translate(485.530253 106.770542)scale(0.1 -0.1)\">\r\n       <use xlink:href=\"#DejaVuSans-30\"/>\r\n      </g>\r\n     </g>\r\n    </g>\r\n    <g id=\"ytick_12\">\r\n     <g id=\"line2d_30\">\r\n      <g>\r\n       <use style=\"stroke:#000000;stroke-width:0.8;\" x=\"498.892753\" xlink:href=\"#m836ed1b8e9\" y=\"76.613704\"/>\r\n      </g>\r\n     </g>\r\n     <g id=\"text_35\">\r\n      <!-- 1 -->\r\n      <g transform=\"translate(485.530253 80.412923)scale(0.1 -0.1)\">\r\n       <use xlink:href=\"#DejaVuSans-31\"/>\r\n      </g>\r\n     </g>\r\n    </g>\r\n    <g id=\"ytick_13\">\r\n     <g id=\"line2d_31\">\r\n      <g>\r\n       <use style=\"stroke:#000000;stroke-width:0.8;\" x=\"498.892753\" xlink:href=\"#m836ed1b8e9\" y=\"50.256085\"/>\r\n      </g>\r\n     </g>\r\n     <g id=\"text_36\">\r\n      <!-- 2 -->\r\n      <g transform=\"translate(485.530253 54.055304)scale(0.1 -0.1)\">\r\n       <use xlink:href=\"#DejaVuSans-32\"/>\r\n      </g>\r\n     </g>\r\n    </g>\r\n    <g id=\"ytick_14\">\r\n     <g id=\"line2d_32\">\r\n      <g>\r\n       <use style=\"stroke:#000000;stroke-width:0.8;\" x=\"498.892753\" xlink:href=\"#m836ed1b8e9\" y=\"23.898466\"/>\r\n      </g>\r\n     </g>\r\n     <g id=\"text_37\">\r\n      <!-- 3 -->\r\n      <g transform=\"translate(485.530253 27.697685)scale(0.1 -0.1)\">\r\n       <use xlink:href=\"#DejaVuSans-33\"/>\r\n      </g>\r\n     </g>\r\n    </g>\r\n    <g id=\"text_38\">\r\n     <!-- Standardized Residuals -->\r\n     <g transform=\"translate(471.070878 175.559219)rotate(-90)scale(0.1 -0.1)\">\r\n      <defs>\r\n       <path d=\"M 3425 4513 \r\nL 3425 3897 \r\nQ 3066 4069 2747 4153 \r\nQ 2428 4238 2131 4238 \r\nQ 1616 4238 1336 4038 \r\nQ 1056 3838 1056 3469 \r\nQ 1056 3159 1242 3001 \r\nQ 1428 2844 1947 2747 \r\nL 2328 2669 \r\nQ 3034 2534 3370 2195 \r\nQ 3706 1856 3706 1288 \r\nQ 3706 609 3251 259 \r\nQ 2797 -91 1919 -91 \r\nQ 1588 -91 1214 -16 \r\nQ 841 59 441 206 \r\nL 441 856 \r\nQ 825 641 1194 531 \r\nQ 1563 422 1919 422 \r\nQ 2459 422 2753 634 \r\nQ 3047 847 3047 1241 \r\nQ 3047 1584 2836 1778 \r\nQ 2625 1972 2144 2069 \r\nL 1759 2144 \r\nQ 1053 2284 737 2584 \r\nQ 422 2884 422 3419 \r\nQ 422 4038 858 4394 \r\nQ 1294 4750 2059 4750 \r\nQ 2388 4750 2728 4690 \r\nQ 3069 4631 3425 4513 \r\nz\r\n\" id=\"DejaVuSans-53\" transform=\"scale(0.015625)\"/>\r\n       <path d=\"M 353 3500 \r\nL 3084 3500 \r\nL 3084 2975 \r\nL 922 459 \r\nL 3084 459 \r\nL 3084 0 \r\nL 275 0 \r\nL 275 525 \r\nL 2438 3041 \r\nL 353 3041 \r\nL 353 3500 \r\nz\r\n\" id=\"DejaVuSans-7a\" transform=\"scale(0.015625)\"/>\r\n      </defs>\r\n      <use xlink:href=\"#DejaVuSans-53\"/>\r\n      <use x=\"63.476562\" xlink:href=\"#DejaVuSans-74\"/>\r\n      <use x=\"102.685547\" xlink:href=\"#DejaVuSans-61\"/>\r\n      <use x=\"163.964844\" xlink:href=\"#DejaVuSans-6e\"/>\r\n      <use x=\"227.34375\" xlink:href=\"#DejaVuSans-64\"/>\r\n      <use x=\"290.820312\" xlink:href=\"#DejaVuSans-61\"/>\r\n      <use x=\"352.099609\" xlink:href=\"#DejaVuSans-72\"/>\r\n      <use x=\"391.462891\" xlink:href=\"#DejaVuSans-64\"/>\r\n      <use x=\"454.939453\" xlink:href=\"#DejaVuSans-69\"/>\r\n      <use x=\"482.722656\" xlink:href=\"#DejaVuSans-7a\"/>\r\n      <use x=\"535.212891\" xlink:href=\"#DejaVuSans-65\"/>\r\n      <use x=\"596.736328\" xlink:href=\"#DejaVuSans-64\"/>\r\n      <use x=\"660.212891\" xlink:href=\"#DejaVuSans-20\"/>\r\n      <use x=\"692\" xlink:href=\"#DejaVuSans-52\"/>\r\n      <use x=\"756.982422\" xlink:href=\"#DejaVuSans-65\"/>\r\n      <use x=\"818.505859\" xlink:href=\"#DejaVuSans-73\"/>\r\n      <use x=\"870.605469\" xlink:href=\"#DejaVuSans-69\"/>\r\n      <use x=\"898.388672\" xlink:href=\"#DejaVuSans-64\"/>\r\n      <use x=\"961.865234\" xlink:href=\"#DejaVuSans-75\"/>\r\n      <use x=\"1025.244141\" xlink:href=\"#DejaVuSans-61\"/>\r\n      <use x=\"1086.523438\" xlink:href=\"#DejaVuSans-6c\"/>\r\n      <use x=\"1114.306641\" xlink:href=\"#DejaVuSans-73\"/>\r\n     </g>\r\n    </g>\r\n   </g>\r\n   <g id=\"line2d_33\">\r\n    <path clip-path=\"url(#p3355c1a610)\" d=\"M 516.901273 203.529034 \r\nL 877.071673 30.947216 \r\n\" style=\"fill:none;stroke:#ff0000;stroke-dasharray:5.55,2.4;stroke-dashoffset:0;stroke-width:1.5;\"/>\r\n   </g>\r\n   <g id=\"patch_8\">\r\n    <path d=\"M 498.892753 212.158125 \r\nL 498.892753 22.318125 \r\n\" style=\"fill:none;stroke:#000000;stroke-linecap:square;stroke-linejoin:miter;stroke-width:0.8;\"/>\r\n   </g>\r\n   <g id=\"patch_9\">\r\n    <path d=\"M 895.080193 212.158125 \r\nL 895.080193 22.318125 \r\n\" style=\"fill:none;stroke:#000000;stroke-linecap:square;stroke-linejoin:miter;stroke-width:0.8;\"/>\r\n   </g>\r\n   <g id=\"patch_10\">\r\n    <path d=\"M 498.892753 212.158125 \r\nL 895.080193 212.158125 \r\n\" style=\"fill:none;stroke:#000000;stroke-linecap:square;stroke-linejoin:miter;stroke-width:0.8;\"/>\r\n   </g>\r\n   <g id=\"patch_11\">\r\n    <path d=\"M 498.892753 22.318125 \r\nL 895.080193 22.318125 \r\n\" style=\"fill:none;stroke:#000000;stroke-linecap:square;stroke-linejoin:miter;stroke-width:0.8;\"/>\r\n   </g>\r\n   <g id=\"text_39\">\r\n    <!--  93 -->\r\n    <g transform=\"translate(587.307663 203.529034)scale(0.1 -0.1)\">\r\n     <use xlink:href=\"#DejaVuSans-20\"/>\r\n     <use x=\"31.787109\" xlink:href=\"#DejaVuSans-39\"/>\r\n     <use x=\"95.410156\" xlink:href=\"#DejaVuSans-33\"/>\r\n    </g>\r\n   </g>\r\n   <g id=\"text_40\">\r\n    <!--  52 -->\r\n    <g transform=\"translate(866.213613 30.947216)scale(0.1 -0.1)\">\r\n     <use xlink:href=\"#DejaVuSans-20\"/>\r\n     <use x=\"31.787109\" xlink:href=\"#DejaVuSans-35\"/>\r\n     <use x=\"95.410156\" xlink:href=\"#DejaVuSans-32\"/>\r\n    </g>\r\n   </g>\r\n   <g id=\"text_41\">\r\n    <!--  50 -->\r\n    <g transform=\"translate(848.190791 39.574098)scale(0.1 -0.1)\">\r\n     <use xlink:href=\"#DejaVuSans-20\"/>\r\n     <use x=\"31.787109\" xlink:href=\"#DejaVuSans-35\"/>\r\n     <use x=\"95.410156\" xlink:href=\"#DejaVuSans-30\"/>\r\n    </g>\r\n   </g>\r\n   <g id=\"text_42\">\r\n    <!-- Normal Q-Q -->\r\n    <g transform=\"translate(661.376473 16.318125)scale(0.12 -0.12)\">\r\n     <defs>\r\n      <path d=\"M 628 4666 \r\nL 1478 4666 \r\nL 3547 763 \r\nL 3547 4666 \r\nL 4159 4666 \r\nL 4159 0 \r\nL 3309 0 \r\nL 1241 3903 \r\nL 1241 0 \r\nL 628 0 \r\nL 628 4666 \r\nz\r\n\" id=\"DejaVuSans-4e\" transform=\"scale(0.015625)\"/>\r\n      <path d=\"M 3328 2828 \r\nQ 3544 3216 3844 3400 \r\nQ 4144 3584 4550 3584 \r\nQ 5097 3584 5394 3201 \r\nQ 5691 2819 5691 2113 \r\nL 5691 0 \r\nL 5113 0 \r\nL 5113 2094 \r\nQ 5113 2597 4934 2840 \r\nQ 4756 3084 4391 3084 \r\nQ 3944 3084 3684 2787 \r\nQ 3425 2491 3425 1978 \r\nL 3425 0 \r\nL 2847 0 \r\nL 2847 2094 \r\nQ 2847 2600 2669 2842 \r\nQ 2491 3084 2119 3084 \r\nQ 1678 3084 1418 2786 \r\nQ 1159 2488 1159 1978 \r\nL 1159 0 \r\nL 581 0 \r\nL 581 3500 \r\nL 1159 3500 \r\nL 1159 2956 \r\nQ 1356 3278 1631 3431 \r\nQ 1906 3584 2284 3584 \r\nQ 2666 3584 2933 3390 \r\nQ 3200 3197 3328 2828 \r\nz\r\n\" id=\"DejaVuSans-6d\" transform=\"scale(0.015625)\"/>\r\n      <path d=\"M 313 2009 \r\nL 1997 2009 \r\nL 1997 1497 \r\nL 313 1497 \r\nL 313 2009 \r\nz\r\n\" id=\"DejaVuSans-2d\" transform=\"scale(0.015625)\"/>\r\n     </defs>\r\n     <use xlink:href=\"#DejaVuSans-4e\"/>\r\n     <use x=\"74.804688\" xlink:href=\"#DejaVuSans-6f\"/>\r\n     <use x=\"135.986328\" xlink:href=\"#DejaVuSans-72\"/>\r\n     <use x=\"175.349609\" xlink:href=\"#DejaVuSans-6d\"/>\r\n     <use x=\"272.761719\" xlink:href=\"#DejaVuSans-61\"/>\r\n     <use x=\"334.041016\" xlink:href=\"#DejaVuSans-6c\"/>\r\n     <use x=\"361.824219\" xlink:href=\"#DejaVuSans-20\"/>\r\n     <use x=\"393.611328\" xlink:href=\"#DejaVuSans-51\"/>\r\n     <use x=\"475.072266\" xlink:href=\"#DejaVuSans-2d\"/>\r\n     <use x=\"514.78125\" xlink:href=\"#DejaVuSans-51\"/>\r\n    </g>\r\n   </g>\r\n  </g>\r\n  <g id=\"axes_3\">\r\n   <g id=\"patch_12\">\r\n    <path d=\"M 55.345313 472.598125 \r\nL 451.532753 472.598125 \r\nL 451.532753 282.758125 \r\nL 55.345313 282.758125 \r\nz\r\n\" style=\"fill:#ffffff;\"/>\r\n   </g>\r\n   <g id=\"PathCollection_3\">\r\n    <defs>\r\n     <path d=\"M 0 3 \r\nC 0.795609 3 1.55874 2.683901 2.12132 2.12132 \r\nC 2.683901 1.55874 3 0.795609 3 -0 \r\nC 3 -0.795609 2.683901 -1.55874 2.12132 -2.12132 \r\nC 1.55874 -2.683901 0.795609 -3 0 -3 \r\nC -0.795609 -3 -1.55874 -2.683901 -2.12132 -2.12132 \r\nC -2.683901 -1.55874 -3 -0.795609 -3 0 \r\nC -3 0.795609 -2.683901 1.55874 -2.12132 2.12132 \r\nC -1.55874 2.683901 -0.795609 3 0 3 \r\nz\r\n\" id=\"C2_0_c0385a61c9\"/>\r\n    </defs>\r\n    <g clip-path=\"url(#p2fffa20350)\">\r\n     <use style=\"fill:none;stroke:#000000;\" x=\"157.813377\" xlink:href=\"#C2_0_c0385a61c9\" y=\"412.737455\"/>\r\n    </g>\r\n    <g clip-path=\"url(#p2fffa20350)\">\r\n     <use style=\"fill:none;stroke:#000000;\" x=\"166.099018\" xlink:href=\"#C2_0_c0385a61c9\" y=\"445.439105\"/>\r\n    </g>\r\n    <g clip-path=\"url(#p2fffa20350)\">\r\n     <use style=\"fill:none;stroke:#000000;\" x=\"157.813377\" xlink:href=\"#C2_0_c0385a61c9\" y=\"385.126665\"/>\r\n    </g>\r\n    <g clip-path=\"url(#p2fffa20350)\">\r\n     <use style=\"fill:none;stroke:#000000;\" x=\"157.813377\" xlink:href=\"#C2_0_c0385a61c9\" y=\"394.323143\"/>\r\n    </g>\r\n    <g clip-path=\"url(#p2fffa20350)\">\r\n     <use style=\"fill:none;stroke:#000000;\" x=\"322.387148\" xlink:href=\"#C2_0_c0385a61c9\" y=\"389.836532\"/>\r\n    </g>\r\n    <g clip-path=\"url(#p2fffa20350)\">\r\n     <use style=\"fill:none;stroke:#000000;\" x=\"196.514794\" xlink:href=\"#C2_0_c0385a61c9\" y=\"384.051653\"/>\r\n    </g>\r\n    <g clip-path=\"url(#p2fffa20350)\">\r\n     <use style=\"fill:none;stroke:#000000;\" x=\"157.813377\" xlink:href=\"#C2_0_c0385a61c9\" y=\"377.232558\"/>\r\n    </g>\r\n    <g clip-path=\"url(#p2fffa20350)\">\r\n     <use style=\"fill:none;stroke:#000000;\" x=\"289.259979\" xlink:href=\"#C2_0_c0385a61c9\" y=\"418.069815\"/>\r\n    </g>\r\n    <g clip-path=\"url(#p2fffa20350)\">\r\n     <use style=\"fill:none;stroke:#000000;\" x=\"206.424233\" xlink:href=\"#C2_0_c0385a61c9\" y=\"394.413621\"/>\r\n    </g>\r\n    <g clip-path=\"url(#p2fffa20350)\">\r\n     <use style=\"fill:none;stroke:#000000;\" x=\"157.813377\" xlink:href=\"#C2_0_c0385a61c9\" y=\"424.520446\"/>\r\n    </g>\r\n    <g clip-path=\"url(#p2fffa20350)\">\r\n     <use style=\"fill:none;stroke:#000000;\" x=\"157.813377\" xlink:href=\"#C2_0_c0385a61c9\" y=\"372.886127\"/>\r\n    </g>\r\n    <g clip-path=\"url(#p2fffa20350)\">\r\n     <use style=\"fill:none;stroke:#000000;\" x=\"157.813377\" xlink:href=\"#C2_0_c0385a61c9\" y=\"401.130767\"/>\r\n    </g>\r\n    <g clip-path=\"url(#p2fffa20350)\">\r\n     <use style=\"fill:none;stroke:#000000;\" x=\"307.651879\" xlink:href=\"#C2_0_c0385a61c9\" y=\"447.124637\"/>\r\n    </g>\r\n    <g clip-path=\"url(#p2fffa20350)\">\r\n     <use style=\"fill:none;stroke:#000000;\" x=\"157.813377\" xlink:href=\"#C2_0_c0385a61c9\" y=\"364.717337\"/>\r\n    </g>\r\n    <g clip-path=\"url(#p2fffa20350)\">\r\n     <use style=\"fill:none;stroke:#000000;\" x=\"73.353833\" xlink:href=\"#C2_0_c0385a61c9\" y=\"407.570277\"/>\r\n    </g>\r\n    <g clip-path=\"url(#p2fffa20350)\">\r\n     <use style=\"fill:none;stroke:#000000;\" x=\"239.551402\" xlink:href=\"#C2_0_c0385a61c9\" y=\"390.249143\"/>\r\n    </g>\r\n    <g clip-path=\"url(#p2fffa20350)\">\r\n     <use style=\"fill:none;stroke:#000000;\" x=\"206.424233\" xlink:href=\"#C2_0_c0385a61c9\" y=\"416.862683\"/>\r\n    </g>\r\n    <g clip-path=\"url(#p2fffa20350)\">\r\n     <use style=\"fill:none;stroke:#000000;\" x=\"307.651879\" xlink:href=\"#C2_0_c0385a61c9\" y=\"439.574456\"/>\r\n    </g>\r\n    <g clip-path=\"url(#p2fffa20350)\">\r\n     <use style=\"fill:none;stroke:#000000;\" x=\"250.558562\" xlink:href=\"#C2_0_c0385a61c9\" y=\"355.183881\"/>\r\n    </g>\r\n    <g clip-path=\"url(#p2fffa20350)\">\r\n     <use style=\"fill:none;stroke:#000000;\" x=\"356.262735\" xlink:href=\"#C2_0_c0385a61c9\" y=\"387.468354\"/>\r\n    </g>\r\n    <g clip-path=\"url(#p2fffa20350)\">\r\n     <use style=\"fill:none;stroke:#000000;\" x=\"190.940545\" xlink:href=\"#C2_0_c0385a61c9\" y=\"319.758901\"/>\r\n    </g>\r\n    <g clip-path=\"url(#p2fffa20350)\">\r\n     <use style=\"fill:none;stroke:#000000;\" x=\"283.685731\" xlink:href=\"#C2_0_c0385a61c9\" y=\"358.165827\"/>\r\n    </g>\r\n    <g clip-path=\"url(#p2fffa20350)\">\r\n     <use style=\"fill:none;stroke:#000000;\" x=\"250.558562\" xlink:href=\"#C2_0_c0385a61c9\" y=\"350.759528\"/>\r\n    </g>\r\n    <g clip-path=\"url(#p2fffa20350)\">\r\n     <use style=\"fill:none;stroke:#000000;\" x=\"250.558562\" xlink:href=\"#C2_0_c0385a61c9\" y=\"360.00429\"/>\r\n    </g>\r\n    <g clip-path=\"url(#p2fffa20350)\">\r\n     <use style=\"fill:none;stroke:#000000;\" x=\"250.558562\" xlink:href=\"#C2_0_c0385a61c9\" y=\"411.070541\"/>\r\n    </g>\r\n    <g clip-path=\"url(#p2fffa20350)\">\r\n     <use style=\"fill:none;stroke:#000000;\" x=\"250.558562\" xlink:href=\"#C2_0_c0385a61c9\" y=\"395.442985\"/>\r\n    </g>\r\n    <g clip-path=\"url(#p2fffa20350)\">\r\n     <use style=\"fill:none;stroke:#000000;\" x=\"289.259979\" xlink:href=\"#C2_0_c0385a61c9\" y=\"365.837837\"/>\r\n    </g>\r\n    <g clip-path=\"url(#p2fffa20350)\">\r\n     <use style=\"fill:none;stroke:#000000;\" x=\"157.813377\" xlink:href=\"#C2_0_c0385a61c9\" y=\"421.963056\"/>\r\n    </g>\r\n    <g clip-path=\"url(#p2fffa20350)\">\r\n     <use style=\"fill:none;stroke:#000000;\" x=\"250.558562\" xlink:href=\"#C2_0_c0385a61c9\" y=\"400.019903\"/>\r\n    </g>\r\n    <g clip-path=\"url(#p2fffa20350)\">\r\n     <use style=\"fill:none;stroke:#000000;\" x=\"250.558562\" xlink:href=\"#C2_0_c0385a61c9\" y=\"412.815721\"/>\r\n    </g>\r\n    <g clip-path=\"url(#p2fffa20350)\">\r\n     <use style=\"fill:none;stroke:#000000;\" x=\"157.813377\" xlink:href=\"#C2_0_c0385a61c9\" y=\"443.82915\"/>\r\n    </g>\r\n    <g clip-path=\"url(#p2fffa20350)\">\r\n     <use style=\"fill:none;stroke:#000000;\" x=\"289.259979\" xlink:href=\"#C2_0_c0385a61c9\" y=\"428.999194\"/>\r\n    </g>\r\n    <g clip-path=\"url(#p2fffa20350)\">\r\n     <use style=\"fill:none;stroke:#000000;\" x=\"250.558562\" xlink:href=\"#C2_0_c0385a61c9\" y=\"405.73288\"/>\r\n    </g>\r\n    <g clip-path=\"url(#p2fffa20350)\">\r\n     <use style=\"fill:none;stroke:#000000;\" x=\"157.813377\" xlink:href=\"#C2_0_c0385a61c9\" y=\"345.752974\"/>\r\n    </g>\r\n    <g clip-path=\"url(#p2fffa20350)\">\r\n     <use style=\"fill:none;stroke:#000000;\" x=\"204.800435\" xlink:href=\"#C2_0_c0385a61c9\" y=\"408.501288\"/>\r\n    </g>\r\n    <g clip-path=\"url(#p2fffa20350)\">\r\n     <use style=\"fill:none;stroke:#000000;\" x=\"157.813377\" xlink:href=\"#C2_0_c0385a61c9\" y=\"446.982595\"/>\r\n    </g>\r\n    <g clip-path=\"url(#p2fffa20350)\">\r\n     <use style=\"fill:none;stroke:#000000;\" x=\"250.558562\" xlink:href=\"#C2_0_c0385a61c9\" y=\"394.403307\"/>\r\n    </g>\r\n    <g clip-path=\"url(#p2fffa20350)\">\r\n     <use style=\"fill:none;stroke:#000000;\" x=\"250.558562\" xlink:href=\"#C2_0_c0385a61c9\" y=\"359.068043\"/>\r\n    </g>\r\n    <g clip-path=\"url(#p2fffa20350)\">\r\n     <use style=\"fill:none;stroke:#000000;\" x=\"289.259979\" xlink:href=\"#C2_0_c0385a61c9\" y=\"392.196645\"/>\r\n    </g>\r\n    <g clip-path=\"url(#p2fffa20350)\">\r\n     <use style=\"fill:none;stroke:#000000;\" x=\"206.424233\" xlink:href=\"#C2_0_c0385a61c9\" y=\"425.190587\"/>\r\n    </g>\r\n    <g clip-path=\"url(#p2fffa20350)\">\r\n     <use style=\"fill:none;stroke:#000000;\" x=\"250.558562\" xlink:href=\"#C2_0_c0385a61c9\" y=\"383.951151\"/>\r\n    </g>\r\n    <g clip-path=\"url(#p2fffa20350)\">\r\n     <use style=\"fill:none;stroke:#000000;\" x=\"196.514794\" xlink:href=\"#C2_0_c0385a61c9\" y=\"386.521924\"/>\r\n    </g>\r\n    <g clip-path=\"url(#p2fffa20350)\">\r\n     <use style=\"fill:none;stroke:#000000;\" x=\"250.558562\" xlink:href=\"#C2_0_c0385a61c9\" y=\"369.834836\"/>\r\n    </g>\r\n    <g clip-path=\"url(#p2fffa20350)\">\r\n     <use style=\"fill:none;stroke:#000000;\" x=\"250.558562\" xlink:href=\"#C2_0_c0385a61c9\" y=\"439.679498\"/>\r\n    </g>\r\n    <g clip-path=\"url(#p2fffa20350)\">\r\n     <use style=\"fill:none;stroke:#000000;\" x=\"299.169419\" xlink:href=\"#C2_0_c0385a61c9\" y=\"355.597428\"/>\r\n    </g>\r\n    <g clip-path=\"url(#p2fffa20350)\">\r\n     <use style=\"fill:none;stroke:#000000;\" x=\"196.514794\" xlink:href=\"#C2_0_c0385a61c9\" y=\"415.055601\"/>\r\n    </g>\r\n    <g clip-path=\"url(#p2fffa20350)\">\r\n     <use style=\"fill:none;stroke:#000000;\" x=\"289.259979\" xlink:href=\"#C2_0_c0385a61c9\" y=\"406.87554\"/>\r\n    </g>\r\n    <g clip-path=\"url(#p2fffa20350)\">\r\n     <use style=\"fill:none;stroke:#000000;\" x=\"239.551402\" xlink:href=\"#C2_0_c0385a61c9\" y=\"337.939173\"/>\r\n    </g>\r\n    <g clip-path=\"url(#p2fffa20350)\">\r\n     <use style=\"fill:none;stroke:#000000;\" x=\"157.813377\" xlink:href=\"#C2_0_c0385a61c9\" y=\"368.526766\"/>\r\n    </g>\r\n    <g clip-path=\"url(#p2fffa20350)\">\r\n     <use style=\"fill:none;stroke:#000000;\" x=\"289.259979\" xlink:href=\"#C2_0_c0385a61c9\" y=\"368.895294\"/>\r\n    </g>\r\n    <g clip-path=\"url(#p2fffa20350)\">\r\n     <use style=\"fill:none;stroke:#000000;\" x=\"206.424233\" xlink:href=\"#C2_0_c0385a61c9\" y=\"329.367208\"/>\r\n    </g>\r\n    <g clip-path=\"url(#p2fffa20350)\">\r\n     <use style=\"fill:none;stroke:#000000;\" x=\"289.259979\" xlink:href=\"#C2_0_c0385a61c9\" y=\"369.934678\"/>\r\n    </g>\r\n    <g clip-path=\"url(#p2fffa20350)\">\r\n     <use style=\"fill:none;stroke:#000000;\" x=\"157.813377\" xlink:href=\"#C2_0_c0385a61c9\" y=\"424.520446\"/>\r\n    </g>\r\n    <g clip-path=\"url(#p2fffa20350)\">\r\n     <use style=\"fill:none;stroke:#000000;\" x=\"206.424233\" xlink:href=\"#C2_0_c0385a61c9\" y=\"397.113353\"/>\r\n    </g>\r\n    <g clip-path=\"url(#p2fffa20350)\">\r\n     <use style=\"fill:none;stroke:#000000;\" x=\"157.813377\" xlink:href=\"#C2_0_c0385a61c9\" y=\"399.662839\"/>\r\n    </g>\r\n    <g clip-path=\"url(#p2fffa20350)\">\r\n     <use style=\"fill:none;stroke:#000000;\" x=\"206.424233\" xlink:href=\"#C2_0_c0385a61c9\" y=\"370.580277\"/>\r\n    </g>\r\n    <g clip-path=\"url(#p2fffa20350)\">\r\n     <use style=\"fill:none;stroke:#000000;\" x=\"289.259979\" xlink:href=\"#C2_0_c0385a61c9\" y=\"442.806267\"/>\r\n    </g>\r\n    <g clip-path=\"url(#p2fffa20350)\">\r\n     <use style=\"fill:none;stroke:#000000;\" x=\"250.558562\" xlink:href=\"#C2_0_c0385a61c9\" y=\"381.59427\"/>\r\n    </g>\r\n    <g clip-path=\"url(#p2fffa20350)\">\r\n     <use style=\"fill:none;stroke:#000000;\" x=\"250.558562\" xlink:href=\"#C2_0_c0385a61c9\" y=\"420.376438\"/>\r\n    </g>\r\n    <g clip-path=\"url(#p2fffa20350)\">\r\n     <use style=\"fill:none;stroke:#000000;\" x=\"157.813377\" xlink:href=\"#C2_0_c0385a61c9\" y=\"407.331807\"/>\r\n    </g>\r\n    <g clip-path=\"url(#p2fffa20350)\">\r\n     <use style=\"fill:none;stroke:#000000;\" x=\"250.558562\" xlink:href=\"#C2_0_c0385a61c9\" y=\"374.041226\"/>\r\n    </g>\r\n    <g clip-path=\"url(#p2fffa20350)\">\r\n     <use style=\"fill:none;stroke:#000000;\" x=\"299.169419\" xlink:href=\"#C2_0_c0385a61c9\" y=\"420.072245\"/>\r\n    </g>\r\n    <g clip-path=\"url(#p2fffa20350)\">\r\n     <use style=\"fill:none;stroke:#000000;\" x=\"157.813377\" xlink:href=\"#C2_0_c0385a61c9\" y=\"377.232558\"/>\r\n    </g>\r\n    <g clip-path=\"url(#p2fffa20350)\">\r\n     <use style=\"fill:none;stroke:#000000;\" x=\"157.813377\" xlink:href=\"#C2_0_c0385a61c9\" y=\"412.737455\"/>\r\n    </g>\r\n    <g clip-path=\"url(#p2fffa20350)\">\r\n     <use style=\"fill:none;stroke:#000000;\" x=\"196.514794\" xlink:href=\"#C2_0_c0385a61c9\" y=\"444.547664\"/>\r\n    </g>\r\n    <g clip-path=\"url(#p2fffa20350)\">\r\n     <use style=\"fill:none;stroke:#000000;\" x=\"157.813377\" xlink:href=\"#C2_0_c0385a61c9\" y=\"409.295319\"/>\r\n    </g>\r\n    <g clip-path=\"url(#p2fffa20350)\">\r\n     <use style=\"fill:none;stroke:#000000;\" x=\"157.813377\" xlink:href=\"#C2_0_c0385a61c9\" y=\"372.683378\"/>\r\n    </g>\r\n    <g clip-path=\"url(#p2fffa20350)\">\r\n     <use style=\"fill:none;stroke:#000000;\" x=\"289.259979\" xlink:href=\"#C2_0_c0385a61c9\" y=\"382.48047\"/>\r\n    </g>\r\n    <g clip-path=\"url(#p2fffa20350)\">\r\n     <use style=\"fill:none;stroke:#000000;\" x=\"73.353833\" xlink:href=\"#C2_0_c0385a61c9\" y=\"411.305772\"/>\r\n    </g>\r\n    <g clip-path=\"url(#p2fffa20350)\">\r\n     <use style=\"fill:none;stroke:#000000;\" x=\"196.514794\" xlink:href=\"#C2_0_c0385a61c9\" y=\"381.297954\"/>\r\n    </g>\r\n    <g clip-path=\"url(#p2fffa20350)\">\r\n     <use style=\"fill:none;stroke:#000000;\" x=\"250.558562\" xlink:href=\"#C2_0_c0385a61c9\" y=\"429.236006\"/>\r\n    </g>\r\n    <g clip-path=\"url(#p2fffa20350)\">\r\n     <use style=\"fill:none;stroke:#000000;\" x=\"250.558562\" xlink:href=\"#C2_0_c0385a61c9\" y=\"436.60724\"/>\r\n    </g>\r\n    <g clip-path=\"url(#p2fffa20350)\">\r\n     <use style=\"fill:none;stroke:#000000;\" x=\"206.424233\" xlink:href=\"#C2_0_c0385a61c9\" y=\"389.100929\"/>\r\n    </g>\r\n    <g clip-path=\"url(#p2fffa20350)\">\r\n     <use style=\"fill:none;stroke:#000000;\" x=\"250.558562\" xlink:href=\"#C2_0_c0385a61c9\" y=\"443.069694\"/>\r\n    </g>\r\n    <g clip-path=\"url(#p2fffa20350)\">\r\n     <use style=\"fill:none;stroke:#000000;\" x=\"190.940545\" xlink:href=\"#C2_0_c0385a61c9\" y=\"292.00402\"/>\r\n    </g>\r\n    <g clip-path=\"url(#p2fffa20350)\">\r\n     <use style=\"fill:none;stroke:#000000;\" x=\"250.558562\" xlink:href=\"#C2_0_c0385a61c9\" y=\"420.376438\"/>\r\n    </g>\r\n    <g clip-path=\"url(#p2fffa20350)\">\r\n     <use style=\"fill:none;stroke:#000000;\" x=\"299.169419\" xlink:href=\"#C2_0_c0385a61c9\" y=\"435.814097\"/>\r\n    </g>\r\n    <g clip-path=\"url(#p2fffa20350)\">\r\n     <use style=\"fill:none;stroke:#000000;\" x=\"196.514794\" xlink:href=\"#C2_0_c0385a61c9\" y=\"420.368132\"/>\r\n    </g>\r\n    <g clip-path=\"url(#p2fffa20350)\">\r\n     <use style=\"fill:none;stroke:#000000;\" x=\"289.259979\" xlink:href=\"#C2_0_c0385a61c9\" y=\"329.204116\"/>\r\n    </g>\r\n    <g clip-path=\"url(#p2fffa20350)\">\r\n     <use style=\"fill:none;stroke:#000000;\" x=\"283.685731\" xlink:href=\"#C2_0_c0385a61c9\" y=\"423.466034\"/>\r\n    </g>\r\n    <g clip-path=\"url(#p2fffa20350)\">\r\n     <use style=\"fill:none;stroke:#000000;\" x=\"356.262735\" xlink:href=\"#C2_0_c0385a61c9\" y=\"394.305037\"/>\r\n    </g>\r\n    <g clip-path=\"url(#p2fffa20350)\">\r\n     <use style=\"fill:none;stroke:#000000;\" x=\"299.169419\" xlink:href=\"#C2_0_c0385a61c9\" y=\"444.117201\"/>\r\n    </g>\r\n    <g clip-path=\"url(#p2fffa20350)\">\r\n     <use style=\"fill:none;stroke:#000000;\" x=\"206.424233\" xlink:href=\"#C2_0_c0385a61c9\" y=\"441.394859\"/>\r\n    </g>\r\n    <g clip-path=\"url(#p2fffa20350)\">\r\n     <use style=\"fill:none;stroke:#000000;\" x=\"250.558562\" xlink:href=\"#C2_0_c0385a61c9\" y=\"414.182186\"/>\r\n    </g>\r\n    <g clip-path=\"url(#p2fffa20350)\">\r\n     <use style=\"fill:none;stroke:#000000;\" x=\"433.524233\" xlink:href=\"#C2_0_c0385a61c9\" y=\"366.539499\"/>\r\n    </g>\r\n    <g clip-path=\"url(#p2fffa20350)\">\r\n     <use style=\"fill:none;stroke:#000000;\" x=\"283.685731\" xlink:href=\"#C2_0_c0385a61c9\" y=\"419.415238\"/>\r\n    </g>\r\n    <g clip-path=\"url(#p2fffa20350)\">\r\n     <use style=\"fill:none;stroke:#000000;\" x=\"157.813377\" xlink:href=\"#C2_0_c0385a61c9\" y=\"452.505628\"/>\r\n    </g>\r\n    <g clip-path=\"url(#p2fffa20350)\">\r\n     <use style=\"fill:none;stroke:#000000;\" x=\"157.813377\" xlink:href=\"#C2_0_c0385a61c9\" y=\"359.732707\"/>\r\n    </g>\r\n    <g clip-path=\"url(#p2fffa20350)\">\r\n     <use style=\"fill:none;stroke:#000000;\" x=\"289.259979\" xlink:href=\"#C2_0_c0385a61c9\" y=\"401.055996\"/>\r\n    </g>\r\n    <g clip-path=\"url(#p2fffa20350)\">\r\n     <use style=\"fill:none;stroke:#000000;\" x=\"307.651879\" xlink:href=\"#C2_0_c0385a61c9\" y=\"447.124637\"/>\r\n    </g>\r\n    <g clip-path=\"url(#p2fffa20350)\">\r\n     <use style=\"fill:none;stroke:#000000;\" x=\"157.813377\" xlink:href=\"#C2_0_c0385a61c9\" y=\"436.652699\"/>\r\n    </g>\r\n    <g clip-path=\"url(#p2fffa20350)\">\r\n     <use style=\"fill:none;stroke:#000000;\" x=\"289.259979\" xlink:href=\"#C2_0_c0385a61c9\" y=\"394.910224\"/>\r\n    </g>\r\n    <g clip-path=\"url(#p2fffa20350)\">\r\n     <use style=\"fill:none;stroke:#000000;\" x=\"250.558562\" xlink:href=\"#C2_0_c0385a61c9\" y=\"417.926319\"/>\r\n    </g>\r\n    <g clip-path=\"url(#p2fffa20350)\">\r\n     <use style=\"fill:none;stroke:#000000;\" x=\"299.169419\" xlink:href=\"#C2_0_c0385a61c9\" y=\"387.766057\"/>\r\n    </g>\r\n    <g clip-path=\"url(#p2fffa20350)\">\r\n     <use style=\"fill:none;stroke:#000000;\" x=\"250.558562\" xlink:href=\"#C2_0_c0385a61c9\" y=\"451.420009\"/>\r\n    </g>\r\n    <g clip-path=\"url(#p2fffa20350)\">\r\n     <use style=\"fill:none;stroke:#000000;\" x=\"400.397064\" xlink:href=\"#C2_0_c0385a61c9\" y=\"386.922072\"/>\r\n    </g>\r\n    <g clip-path=\"url(#p2fffa20350)\">\r\n     <use style=\"fill:none;stroke:#000000;\" x=\"157.813377\" xlink:href=\"#C2_0_c0385a61c9\" y=\"383.923275\"/>\r\n    </g>\r\n    <g clip-path=\"url(#p2fffa20350)\">\r\n     <use style=\"fill:none;stroke:#000000;\" x=\"250.558562\" xlink:href=\"#C2_0_c0385a61c9\" y=\"352.509707\"/>\r\n    </g>\r\n    <g clip-path=\"url(#p2fffa20350)\">\r\n     <use style=\"fill:none;stroke:#000000;\" x=\"157.813377\" xlink:href=\"#C2_0_c0385a61c9\" y=\"351.575989\"/>\r\n    </g>\r\n    <g clip-path=\"url(#p2fffa20350)\">\r\n     <use style=\"fill:none;stroke:#000000;\" x=\"250.558562\" xlink:href=\"#C2_0_c0385a61c9\" y=\"389.163954\"/>\r\n    </g>\r\n    <g clip-path=\"url(#p2fffa20350)\">\r\n     <use style=\"fill:none;stroke:#000000;\" x=\"206.424233\" xlink:href=\"#C2_0_c0385a61c9\" y=\"395.704094\"/>\r\n    </g>\r\n    <g clip-path=\"url(#p2fffa20350)\">\r\n     <use style=\"fill:none;stroke:#000000;\" x=\"283.685731\" xlink:href=\"#C2_0_c0385a61c9\" y=\"415.455456\"/>\r\n    </g>\r\n    <g clip-path=\"url(#p2fffa20350)\">\r\n     <use style=\"fill:none;stroke:#000000;\" x=\"299.169419\" xlink:href=\"#C2_0_c0385a61c9\" y=\"353.31118\"/>\r\n    </g>\r\n    <g clip-path=\"url(#p2fffa20350)\">\r\n     <use style=\"fill:none;stroke:#000000;\" x=\"250.558562\" xlink:href=\"#C2_0_c0385a61c9\" y=\"429.236006\"/>\r\n    </g>\r\n    <g clip-path=\"url(#p2fffa20350)\">\r\n     <use style=\"fill:none;stroke:#000000;\" x=\"400.397064\" xlink:href=\"#C2_0_c0385a61c9\" y=\"373.724819\"/>\r\n    </g>\r\n    <g clip-path=\"url(#p2fffa20350)\">\r\n     <use style=\"fill:none;stroke:#000000;\" x=\"206.424233\" xlink:href=\"#C2_0_c0385a61c9\" y=\"387.824763\"/>\r\n    </g>\r\n    <g clip-path=\"url(#p2fffa20350)\">\r\n     <use style=\"fill:none;stroke:#000000;\" x=\"229.641962\" xlink:href=\"#C2_0_c0385a61c9\" y=\"448.572057\"/>\r\n    </g>\r\n    <g clip-path=\"url(#p2fffa20350)\">\r\n     <use style=\"fill:none;stroke:#000000;\" x=\"190.940545\" xlink:href=\"#C2_0_c0385a61c9\" y=\"466.633302\"/>\r\n    </g>\r\n    <g clip-path=\"url(#p2fffa20350)\">\r\n     <use style=\"fill:none;stroke:#000000;\" x=\"250.558562\" xlink:href=\"#C2_0_c0385a61c9\" y=\"440.450931\"/>\r\n    </g>\r\n    <g clip-path=\"url(#p2fffa20350)\">\r\n     <use style=\"fill:none;stroke:#000000;\" x=\"307.651879\" xlink:href=\"#C2_0_c0385a61c9\" y=\"421.252364\"/>\r\n    </g>\r\n    <g clip-path=\"url(#p2fffa20350)\">\r\n     <use style=\"fill:none;stroke:#000000;\" x=\"190.940545\" xlink:href=\"#C2_0_c0385a61c9\" y=\"385.321987\"/>\r\n    </g>\r\n    <g clip-path=\"url(#p2fffa20350)\">\r\n     <use style=\"fill:none;stroke:#000000;\" x=\"289.259979\" xlink:href=\"#C2_0_c0385a61c9\" y=\"336.889237\"/>\r\n    </g>\r\n    <g clip-path=\"url(#p2fffa20350)\">\r\n     <use style=\"fill:none;stroke:#000000;\" x=\"250.558562\" xlink:href=\"#C2_0_c0385a61c9\" y=\"390.442462\"/>\r\n    </g>\r\n    <g clip-path=\"url(#p2fffa20350)\">\r\n     <use style=\"fill:none;stroke:#000000;\" x=\"250.558562\" xlink:href=\"#C2_0_c0385a61c9\" y=\"437.311443\"/>\r\n    </g>\r\n    <g clip-path=\"url(#p2fffa20350)\">\r\n     <use style=\"fill:none;stroke:#000000;\" x=\"250.558562\" xlink:href=\"#C2_0_c0385a61c9\" y=\"346.490303\"/>\r\n    </g>\r\n    <g clip-path=\"url(#p2fffa20350)\">\r\n     <use style=\"fill:none;stroke:#000000;\" x=\"196.514794\" xlink:href=\"#C2_0_c0385a61c9\" y=\"413.21105\"/>\r\n    </g>\r\n    <g clip-path=\"url(#p2fffa20350)\">\r\n     <use style=\"fill:none;stroke:#000000;\" x=\"157.813377\" xlink:href=\"#C2_0_c0385a61c9\" y=\"386.346843\"/>\r\n    </g>\r\n    <g clip-path=\"url(#p2fffa20350)\">\r\n     <use style=\"fill:none;stroke:#000000;\" x=\"206.424233\" xlink:href=\"#C2_0_c0385a61c9\" y=\"454.85542\"/>\r\n    </g>\r\n    <g clip-path=\"url(#p2fffa20350)\">\r\n     <use style=\"fill:none;stroke:#000000;\" x=\"400.397064\" xlink:href=\"#C2_0_c0385a61c9\" y=\"397.97185\"/>\r\n    </g>\r\n    <g clip-path=\"url(#p2fffa20350)\">\r\n     <use style=\"fill:none;stroke:#000000;\" x=\"356.262735\" xlink:href=\"#C2_0_c0385a61c9\" y=\"412.002638\"/>\r\n    </g>\r\n    <g clip-path=\"url(#p2fffa20350)\">\r\n     <use style=\"fill:none;stroke:#000000;\" x=\"166.099018\" xlink:href=\"#C2_0_c0385a61c9\" y=\"404.256131\"/>\r\n    </g>\r\n    <g clip-path=\"url(#p2fffa20350)\">\r\n     <use style=\"fill:none;stroke:#000000;\" x=\"157.813377\" xlink:href=\"#C2_0_c0385a61c9\" y=\"394.323143\"/>\r\n    </g>\r\n    <g clip-path=\"url(#p2fffa20350)\">\r\n     <use style=\"fill:none;stroke:#000000;\" x=\"283.685731\" xlink:href=\"#C2_0_c0385a61c9\" y=\"421.510094\"/>\r\n    </g>\r\n   </g>\r\n   <g id=\"matplotlib.axis_5\">\r\n    <g id=\"xtick_17\">\r\n     <g id=\"line2d_34\">\r\n      <g>\r\n       <use style=\"stroke:#000000;stroke-width:0.8;\" x=\"87.054593\" xlink:href=\"#mc6b15bdab7\" y=\"472.598125\"/>\r\n      </g>\r\n     </g>\r\n     <g id=\"text_43\">\r\n      <!-- 430 -->\r\n      <g transform=\"translate(77.510843 487.196562)scale(0.1 -0.1)\">\r\n       <use xlink:href=\"#DejaVuSans-34\"/>\r\n       <use x=\"63.623047\" xlink:href=\"#DejaVuSans-33\"/>\r\n       <use x=\"127.246094\" xlink:href=\"#DejaVuSans-30\"/>\r\n      </g>\r\n     </g>\r\n    </g>\r\n    <g id=\"xtick_18\">\r\n     <g id=\"line2d_35\">\r\n      <g>\r\n       <use style=\"stroke:#000000;stroke-width:0.8;\" x=\"133.928776\" xlink:href=\"#mc6b15bdab7\" y=\"472.598125\"/>\r\n      </g>\r\n     </g>\r\n     <g id=\"text_44\">\r\n      <!-- 440 -->\r\n      <g transform=\"translate(124.385026 487.196562)scale(0.1 -0.1)\">\r\n       <use xlink:href=\"#DejaVuSans-34\"/>\r\n       <use x=\"63.623047\" xlink:href=\"#DejaVuSans-34\"/>\r\n       <use x=\"127.246094\" xlink:href=\"#DejaVuSans-30\"/>\r\n      </g>\r\n     </g>\r\n    </g>\r\n    <g id=\"xtick_19\">\r\n     <g id=\"line2d_36\">\r\n      <g>\r\n       <use style=\"stroke:#000000;stroke-width:0.8;\" x=\"180.802959\" xlink:href=\"#mc6b15bdab7\" y=\"472.598125\"/>\r\n      </g>\r\n     </g>\r\n     <g id=\"text_45\">\r\n      <!-- 450 -->\r\n      <g transform=\"translate(171.259209 487.196562)scale(0.1 -0.1)\">\r\n       <use xlink:href=\"#DejaVuSans-34\"/>\r\n       <use x=\"63.623047\" xlink:href=\"#DejaVuSans-35\"/>\r\n       <use x=\"127.246094\" xlink:href=\"#DejaVuSans-30\"/>\r\n      </g>\r\n     </g>\r\n    </g>\r\n    <g id=\"xtick_20\">\r\n     <g id=\"line2d_37\">\r\n      <g>\r\n       <use style=\"stroke:#000000;stroke-width:0.8;\" x=\"227.677142\" xlink:href=\"#mc6b15bdab7\" y=\"472.598125\"/>\r\n      </g>\r\n     </g>\r\n     <g id=\"text_46\">\r\n      <!-- 460 -->\r\n      <g transform=\"translate(218.133392 487.196562)scale(0.1 -0.1)\">\r\n       <use xlink:href=\"#DejaVuSans-34\"/>\r\n       <use x=\"63.623047\" xlink:href=\"#DejaVuSans-36\"/>\r\n       <use x=\"127.246094\" xlink:href=\"#DejaVuSans-30\"/>\r\n      </g>\r\n     </g>\r\n    </g>\r\n    <g id=\"xtick_21\">\r\n     <g id=\"line2d_38\">\r\n      <g>\r\n       <use style=\"stroke:#000000;stroke-width:0.8;\" x=\"274.551325\" xlink:href=\"#mc6b15bdab7\" y=\"472.598125\"/>\r\n      </g>\r\n     </g>\r\n     <g id=\"text_47\">\r\n      <!-- 470 -->\r\n      <g transform=\"translate(265.007575 487.196562)scale(0.1 -0.1)\">\r\n       <use xlink:href=\"#DejaVuSans-34\"/>\r\n       <use x=\"63.623047\" xlink:href=\"#DejaVuSans-37\"/>\r\n       <use x=\"127.246094\" xlink:href=\"#DejaVuSans-30\"/>\r\n      </g>\r\n     </g>\r\n    </g>\r\n    <g id=\"xtick_22\">\r\n     <g id=\"line2d_39\">\r\n      <g>\r\n       <use style=\"stroke:#000000;stroke-width:0.8;\" x=\"321.425508\" xlink:href=\"#mc6b15bdab7\" y=\"472.598125\"/>\r\n      </g>\r\n     </g>\r\n     <g id=\"text_48\">\r\n      <!-- 480 -->\r\n      <g transform=\"translate(311.881758 487.196562)scale(0.1 -0.1)\">\r\n       <use xlink:href=\"#DejaVuSans-34\"/>\r\n       <use x=\"63.623047\" xlink:href=\"#DejaVuSans-38\"/>\r\n       <use x=\"127.246094\" xlink:href=\"#DejaVuSans-30\"/>\r\n      </g>\r\n     </g>\r\n    </g>\r\n    <g id=\"xtick_23\">\r\n     <g id=\"line2d_40\">\r\n      <g>\r\n       <use style=\"stroke:#000000;stroke-width:0.8;\" x=\"368.299691\" xlink:href=\"#mc6b15bdab7\" y=\"472.598125\"/>\r\n      </g>\r\n     </g>\r\n     <g id=\"text_49\">\r\n      <!-- 490 -->\r\n      <g transform=\"translate(358.755941 487.196562)scale(0.1 -0.1)\">\r\n       <use xlink:href=\"#DejaVuSans-34\"/>\r\n       <use x=\"63.623047\" xlink:href=\"#DejaVuSans-39\"/>\r\n       <use x=\"127.246094\" xlink:href=\"#DejaVuSans-30\"/>\r\n      </g>\r\n     </g>\r\n    </g>\r\n    <g id=\"xtick_24\">\r\n     <g id=\"line2d_41\">\r\n      <g>\r\n       <use style=\"stroke:#000000;stroke-width:0.8;\" x=\"415.173874\" xlink:href=\"#mc6b15bdab7\" y=\"472.598125\"/>\r\n      </g>\r\n     </g>\r\n     <g id=\"text_50\">\r\n      <!-- 500 -->\r\n      <g transform=\"translate(405.630124 487.196562)scale(0.1 -0.1)\">\r\n       <use xlink:href=\"#DejaVuSans-35\"/>\r\n       <use x=\"63.623047\" xlink:href=\"#DejaVuSans-30\"/>\r\n       <use x=\"127.246094\" xlink:href=\"#DejaVuSans-30\"/>\r\n      </g>\r\n     </g>\r\n    </g>\r\n    <g id=\"text_51\">\r\n     <!-- Fitted Values -->\r\n     <g transform=\"translate(221.440595 500.874687)scale(0.1 -0.1)\">\r\n      <use xlink:href=\"#DejaVuSans-46\"/>\r\n      <use x=\"50.269531\" xlink:href=\"#DejaVuSans-69\"/>\r\n      <use x=\"78.052734\" xlink:href=\"#DejaVuSans-74\"/>\r\n      <use x=\"117.261719\" xlink:href=\"#DejaVuSans-74\"/>\r\n      <use x=\"156.470703\" xlink:href=\"#DejaVuSans-65\"/>\r\n      <use x=\"217.994141\" xlink:href=\"#DejaVuSans-64\"/>\r\n      <use x=\"281.470703\" xlink:href=\"#DejaVuSans-20\"/>\r\n      <use x=\"313.257812\" xlink:href=\"#DejaVuSans-56\"/>\r\n      <use x=\"373.916016\" xlink:href=\"#DejaVuSans-61\"/>\r\n      <use x=\"435.195312\" xlink:href=\"#DejaVuSans-6c\"/>\r\n      <use x=\"462.978516\" xlink:href=\"#DejaVuSans-75\"/>\r\n      <use x=\"526.357422\" xlink:href=\"#DejaVuSans-65\"/>\r\n      <use x=\"587.880859\" xlink:href=\"#DejaVuSans-73\"/>\r\n     </g>\r\n    </g>\r\n   </g>\r\n   <g id=\"matplotlib.axis_6\">\r\n    <g id=\"ytick_15\">\r\n     <g id=\"line2d_42\">\r\n      <g>\r\n       <use style=\"stroke:#000000;stroke-width:0.8;\" x=\"55.345313\" xlink:href=\"#m836ed1b8e9\" y=\"472.598125\"/>\r\n      </g>\r\n     </g>\r\n     <g id=\"text_52\">\r\n      <!-- 0.00 -->\r\n      <g transform=\"translate(26.079688 476.397344)scale(0.1 -0.1)\">\r\n       <use xlink:href=\"#DejaVuSans-30\"/>\r\n       <use x=\"63.623047\" xlink:href=\"#DejaVuSans-2e\"/>\r\n       <use x=\"95.410156\" xlink:href=\"#DejaVuSans-30\"/>\r\n       <use x=\"159.033203\" xlink:href=\"#DejaVuSans-30\"/>\r\n      </g>\r\n     </g>\r\n    </g>\r\n    <g id=\"ytick_16\">\r\n     <g id=\"line2d_43\">\r\n      <g>\r\n       <use style=\"stroke:#000000;stroke-width:0.8;\" x=\"55.345313\" xlink:href=\"#m836ed1b8e9\" y=\"449.483387\"/>\r\n      </g>\r\n     </g>\r\n     <g id=\"text_53\">\r\n      <!-- 0.25 -->\r\n      <g transform=\"translate(26.079688 453.282606)scale(0.1 -0.1)\">\r\n       <use xlink:href=\"#DejaVuSans-30\"/>\r\n       <use x=\"63.623047\" xlink:href=\"#DejaVuSans-2e\"/>\r\n       <use x=\"95.410156\" xlink:href=\"#DejaVuSans-32\"/>\r\n       <use x=\"159.033203\" xlink:href=\"#DejaVuSans-35\"/>\r\n      </g>\r\n     </g>\r\n    </g>\r\n    <g id=\"ytick_17\">\r\n     <g id=\"line2d_44\">\r\n      <g>\r\n       <use style=\"stroke:#000000;stroke-width:0.8;\" x=\"55.345313\" xlink:href=\"#m836ed1b8e9\" y=\"426.368649\"/>\r\n      </g>\r\n     </g>\r\n     <g id=\"text_54\">\r\n      <!-- 0.50 -->\r\n      <g transform=\"translate(26.079688 430.167867)scale(0.1 -0.1)\">\r\n       <use xlink:href=\"#DejaVuSans-30\"/>\r\n       <use x=\"63.623047\" xlink:href=\"#DejaVuSans-2e\"/>\r\n       <use x=\"95.410156\" xlink:href=\"#DejaVuSans-35\"/>\r\n       <use x=\"159.033203\" xlink:href=\"#DejaVuSans-30\"/>\r\n      </g>\r\n     </g>\r\n    </g>\r\n    <g id=\"ytick_18\">\r\n     <g id=\"line2d_45\">\r\n      <g>\r\n       <use style=\"stroke:#000000;stroke-width:0.8;\" x=\"55.345313\" xlink:href=\"#m836ed1b8e9\" y=\"403.25391\"/>\r\n      </g>\r\n     </g>\r\n     <g id=\"text_55\">\r\n      <!-- 0.75 -->\r\n      <g transform=\"translate(26.079688 407.053129)scale(0.1 -0.1)\">\r\n       <use xlink:href=\"#DejaVuSans-30\"/>\r\n       <use x=\"63.623047\" xlink:href=\"#DejaVuSans-2e\"/>\r\n       <use x=\"95.410156\" xlink:href=\"#DejaVuSans-37\"/>\r\n       <use x=\"159.033203\" xlink:href=\"#DejaVuSans-35\"/>\r\n      </g>\r\n     </g>\r\n    </g>\r\n    <g id=\"ytick_19\">\r\n     <g id=\"line2d_46\">\r\n      <g>\r\n       <use style=\"stroke:#000000;stroke-width:0.8;\" x=\"55.345313\" xlink:href=\"#m836ed1b8e9\" y=\"380.139172\"/>\r\n      </g>\r\n     </g>\r\n     <g id=\"text_56\">\r\n      <!-- 1.00 -->\r\n      <g transform=\"translate(26.079688 383.938391)scale(0.1 -0.1)\">\r\n       <use xlink:href=\"#DejaVuSans-31\"/>\r\n       <use x=\"63.623047\" xlink:href=\"#DejaVuSans-2e\"/>\r\n       <use x=\"95.410156\" xlink:href=\"#DejaVuSans-30\"/>\r\n       <use x=\"159.033203\" xlink:href=\"#DejaVuSans-30\"/>\r\n      </g>\r\n     </g>\r\n    </g>\r\n    <g id=\"ytick_20\">\r\n     <g id=\"line2d_47\">\r\n      <g>\r\n       <use style=\"stroke:#000000;stroke-width:0.8;\" x=\"55.345313\" xlink:href=\"#m836ed1b8e9\" y=\"357.024434\"/>\r\n      </g>\r\n     </g>\r\n     <g id=\"text_57\">\r\n      <!-- 1.25 -->\r\n      <g transform=\"translate(26.079688 360.823653)scale(0.1 -0.1)\">\r\n       <use xlink:href=\"#DejaVuSans-31\"/>\r\n       <use x=\"63.623047\" xlink:href=\"#DejaVuSans-2e\"/>\r\n       <use x=\"95.410156\" xlink:href=\"#DejaVuSans-32\"/>\r\n       <use x=\"159.033203\" xlink:href=\"#DejaVuSans-35\"/>\r\n      </g>\r\n     </g>\r\n    </g>\r\n    <g id=\"ytick_21\">\r\n     <g id=\"line2d_48\">\r\n      <g>\r\n       <use style=\"stroke:#000000;stroke-width:0.8;\" x=\"55.345313\" xlink:href=\"#m836ed1b8e9\" y=\"333.909696\"/>\r\n      </g>\r\n     </g>\r\n     <g id=\"text_58\">\r\n      <!-- 1.50 -->\r\n      <g transform=\"translate(26.079688 337.708915)scale(0.1 -0.1)\">\r\n       <use xlink:href=\"#DejaVuSans-31\"/>\r\n       <use x=\"63.623047\" xlink:href=\"#DejaVuSans-2e\"/>\r\n       <use x=\"95.410156\" xlink:href=\"#DejaVuSans-35\"/>\r\n       <use x=\"159.033203\" xlink:href=\"#DejaVuSans-30\"/>\r\n      </g>\r\n     </g>\r\n    </g>\r\n    <g id=\"ytick_22\">\r\n     <g id=\"line2d_49\">\r\n      <g>\r\n       <use style=\"stroke:#000000;stroke-width:0.8;\" x=\"55.345313\" xlink:href=\"#m836ed1b8e9\" y=\"310.794958\"/>\r\n      </g>\r\n     </g>\r\n     <g id=\"text_59\">\r\n      <!-- 1.75 -->\r\n      <g transform=\"translate(26.079688 314.594177)scale(0.1 -0.1)\">\r\n       <use xlink:href=\"#DejaVuSans-31\"/>\r\n       <use x=\"63.623047\" xlink:href=\"#DejaVuSans-2e\"/>\r\n       <use x=\"95.410156\" xlink:href=\"#DejaVuSans-37\"/>\r\n       <use x=\"159.033203\" xlink:href=\"#DejaVuSans-35\"/>\r\n      </g>\r\n     </g>\r\n    </g>\r\n    <g id=\"ytick_23\">\r\n     <g id=\"line2d_50\">\r\n      <g>\r\n       <use style=\"stroke:#000000;stroke-width:0.8;\" x=\"55.345313\" xlink:href=\"#m836ed1b8e9\" y=\"287.68022\"/>\r\n      </g>\r\n     </g>\r\n     <g id=\"text_60\">\r\n      <!-- 2.00 -->\r\n      <g transform=\"translate(26.079688 291.479438)scale(0.1 -0.1)\">\r\n       <use xlink:href=\"#DejaVuSans-32\"/>\r\n       <use x=\"63.623047\" xlink:href=\"#DejaVuSans-2e\"/>\r\n       <use x=\"95.410156\" xlink:href=\"#DejaVuSans-30\"/>\r\n       <use x=\"159.033203\" xlink:href=\"#DejaVuSans-30\"/>\r\n      </g>\r\n     </g>\r\n    </g>\r\n    <g id=\"text_61\">\r\n     <!-- $\\sqrt{|Studentized \\ Residuals|}$ -->\r\n     <g transform=\"translate(19.679688 441.578125)rotate(-90)scale(0.1 -0.1)\">\r\n      <defs>\r\n       <path d=\"M 6970 9933 \r\nL 3373 -1888 \r\nL 3104 -1888 \r\nL 1626 2918 \r\nQ 1555 3149 1465 3251 \r\nQ 1376 3354 1229 3354 \r\nQ 1011 3354 794 3181 \r\nL 717 3309 \r\nL 1766 4115 \r\nL 1926 4115 \r\nL 3379 -602 \r\nL 3405 -602 \r\nL 6605 9933 \r\nL 6970 9933 \r\nz\r\n\" id=\"STIXSizeOneSym-Regular-221a\" transform=\"scale(0.015625)\"/>\r\n       <path d=\"M 1344 4891 \r\nL 1344 -1509 \r\nL 813 -1509 \r\nL 813 4891 \r\nL 1344 4891 \r\nz\r\n\" id=\"DejaVuSans-7c\" transform=\"scale(0.015625)\"/>\r\n       <path d=\"M 3859 4513 \r\nL 3738 3897 \r\nQ 3422 4066 3111 4152 \r\nQ 2800 4238 2509 4238 \r\nQ 1944 4238 1609 3991 \r\nQ 1275 3744 1275 3334 \r\nQ 1275 3109 1398 2989 \r\nQ 1522 2869 2034 2731 \r\nL 2413 2638 \r\nQ 3053 2472 3303 2217 \r\nQ 3553 1963 3553 1503 \r\nQ 3553 797 2998 353 \r\nQ 2444 -91 1538 -91 \r\nQ 1166 -91 791 -17 \r\nQ 416 56 38 206 \r\nL 166 856 \r\nQ 513 641 861 531 \r\nQ 1209 422 1556 422 \r\nQ 2147 422 2503 684 \r\nQ 2859 947 2859 1369 \r\nQ 2859 1650 2717 1795 \r\nQ 2575 1941 2106 2059 \r\nL 1728 2156 \r\nQ 1081 2325 845 2545 \r\nQ 609 2766 609 3163 \r\nQ 609 3859 1145 4304 \r\nQ 1681 4750 2541 4750 \r\nQ 2875 4750 3203 4690 \r\nQ 3531 4631 3859 4513 \r\nz\r\n\" id=\"DejaVuSans-Oblique-53\" transform=\"scale(0.015625)\"/>\r\n       <path d=\"M 2706 3500 \r\nL 2619 3053 \r\nL 1472 3053 \r\nL 1100 1153 \r\nQ 1081 1047 1072 975 \r\nQ 1063 903 1063 863 \r\nQ 1063 663 1183 572 \r\nQ 1303 481 1569 481 \r\nL 2150 481 \r\nL 2053 0 \r\nL 1503 0 \r\nQ 991 0 739 200 \r\nQ 488 400 488 806 \r\nQ 488 878 497 964 \r\nQ 506 1050 525 1153 \r\nL 897 3053 \r\nL 409 3053 \r\nL 500 3500 \r\nL 978 3500 \r\nL 1172 4494 \r\nL 1747 4494 \r\nL 1556 3500 \r\nL 2706 3500 \r\nz\r\n\" id=\"DejaVuSans-Oblique-74\" transform=\"scale(0.015625)\"/>\r\n       <path d=\"M 428 1388 \r\nL 838 3500 \r\nL 1416 3500 \r\nL 1006 1409 \r\nQ 975 1256 961 1147 \r\nQ 947 1038 947 966 \r\nQ 947 700 1109 554 \r\nQ 1272 409 1569 409 \r\nQ 2031 409 2368 721 \r\nQ 2706 1034 2809 1563 \r\nL 3194 3500 \r\nL 3769 3500 \r\nL 3091 0 \r\nL 2516 0 \r\nL 2631 550 \r\nQ 2388 244 2052 76 \r\nQ 1716 -91 1338 -91 \r\nQ 878 -91 622 161 \r\nQ 366 413 366 863 \r\nQ 366 956 381 1097 \r\nQ 397 1238 428 1388 \r\nz\r\n\" id=\"DejaVuSans-Oblique-75\" transform=\"scale(0.015625)\"/>\r\n       <path d=\"M 2675 525 \r\nQ 2444 222 2128 65 \r\nQ 1813 -91 1428 -91 \r\nQ 903 -91 598 267 \r\nQ 294 625 294 1247 \r\nQ 294 1766 478 2236 \r\nQ 663 2706 1013 3078 \r\nQ 1244 3325 1534 3454 \r\nQ 1825 3584 2144 3584 \r\nQ 2481 3584 2739 3421 \r\nQ 2997 3259 3138 2956 \r\nL 3513 4863 \r\nL 4091 4863 \r\nL 3144 0 \r\nL 2566 0 \r\nL 2675 525 \r\nz\r\nM 891 1350 \r\nQ 891 897 1095 644 \r\nQ 1300 391 1663 391 \r\nQ 1931 391 2161 520 \r\nQ 2391 650 2566 903 \r\nQ 2750 1166 2856 1509 \r\nQ 2963 1853 2963 2188 \r\nQ 2963 2622 2758 2865 \r\nQ 2553 3109 2194 3109 \r\nQ 1922 3109 1687 2981 \r\nQ 1453 2853 1288 2613 \r\nQ 1106 2353 998 2009 \r\nQ 891 1666 891 1350 \r\nz\r\n\" id=\"DejaVuSans-Oblique-64\" transform=\"scale(0.015625)\"/>\r\n       <path d=\"M 3078 2063 \r\nQ 3088 2113 3092 2166 \r\nQ 3097 2219 3097 2272 \r\nQ 3097 2653 2873 2875 \r\nQ 2650 3097 2266 3097 \r\nQ 1838 3097 1509 2826 \r\nQ 1181 2556 1013 2059 \r\nL 3078 2063 \r\nz\r\nM 3578 1613 \r\nL 903 1613 \r\nQ 884 1494 878 1425 \r\nQ 872 1356 872 1306 \r\nQ 872 872 1139 634 \r\nQ 1406 397 1894 397 \r\nQ 2269 397 2603 481 \r\nQ 2938 566 3225 728 \r\nL 3116 159 \r\nQ 2806 34 2476 -28 \r\nQ 2147 -91 1806 -91 \r\nQ 1078 -91 686 257 \r\nQ 294 606 294 1247 \r\nQ 294 1794 489 2264 \r\nQ 684 2734 1063 3103 \r\nQ 1306 3334 1642 3459 \r\nQ 1978 3584 2356 3584 \r\nQ 2950 3584 3301 3228 \r\nQ 3653 2872 3653 2272 \r\nQ 3653 2128 3634 1964 \r\nQ 3616 1800 3578 1613 \r\nz\r\n\" id=\"DejaVuSans-Oblique-65\" transform=\"scale(0.015625)\"/>\r\n       <path d=\"M 3566 2113 \r\nL 3156 0 \r\nL 2578 0 \r\nL 2988 2091 \r\nQ 3016 2238 3031 2350 \r\nQ 3047 2463 3047 2528 \r\nQ 3047 2791 2881 2937 \r\nQ 2716 3084 2419 3084 \r\nQ 1956 3084 1622 2776 \r\nQ 1288 2469 1184 1941 \r\nL 800 0 \r\nL 225 0 \r\nL 903 3500 \r\nL 1478 3500 \r\nL 1363 2950 \r\nQ 1603 3253 1940 3418 \r\nQ 2278 3584 2650 3584 \r\nQ 3113 3584 3367 3334 \r\nQ 3622 3084 3622 2631 \r\nQ 3622 2519 3608 2391 \r\nQ 3594 2263 3566 2113 \r\nz\r\n\" id=\"DejaVuSans-Oblique-6e\" transform=\"scale(0.015625)\"/>\r\n       <path d=\"M 1172 4863 \r\nL 1747 4863 \r\nL 1606 4134 \r\nL 1031 4134 \r\nL 1172 4863 \r\nz\r\nM 909 3500 \r\nL 1484 3500 \r\nL 800 0 \r\nL 225 0 \r\nL 909 3500 \r\nz\r\n\" id=\"DejaVuSans-Oblique-69\" transform=\"scale(0.015625)\"/>\r\n       <path d=\"M 744 3500 \r\nL 3475 3500 \r\nL 3372 2975 \r\nL 738 459 \r\nL 2913 459 \r\nL 2822 0 \r\nL -19 0 \r\nL 84 525 \r\nL 2719 3041 \r\nL 653 3041 \r\nL 744 3500 \r\nz\r\n\" id=\"DejaVuSans-Oblique-7a\" transform=\"scale(0.015625)\"/>\r\n       <path d=\"M 1613 4147 \r\nL 1294 2491 \r\nL 2106 2491 \r\nQ 2584 2491 2879 2755 \r\nQ 3175 3019 3175 3444 \r\nQ 3175 3784 2976 3965 \r\nQ 2778 4147 2406 4147 \r\nL 1613 4147 \r\nz\r\nM 2772 2241 \r\nQ 2972 2194 3105 2009 \r\nQ 3238 1825 3413 1275 \r\nL 3809 0 \r\nL 3144 0 \r\nL 2778 1197 \r\nQ 2638 1659 2453 1815 \r\nQ 2269 1972 1888 1972 \r\nL 1191 1972 \r\nL 806 0 \r\nL 172 0 \r\nL 1081 4666 \r\nL 2503 4666 \r\nQ 3150 4666 3495 4373 \r\nQ 3841 4081 3841 3531 \r\nQ 3841 3044 3547 2687 \r\nQ 3253 2331 2772 2241 \r\nz\r\n\" id=\"DejaVuSans-Oblique-52\" transform=\"scale(0.015625)\"/>\r\n       <path d=\"M 3200 3397 \r\nL 3091 2853 \r\nQ 2863 2978 2609 3040 \r\nQ 2356 3103 2088 3103 \r\nQ 1634 3103 1373 2948 \r\nQ 1113 2794 1113 2528 \r\nQ 1113 2219 1719 2053 \r\nQ 1766 2041 1788 2034 \r\nL 1972 1978 \r\nQ 2547 1819 2739 1644 \r\nQ 2931 1469 2931 1166 \r\nQ 2931 609 2489 259 \r\nQ 2047 -91 1331 -91 \r\nQ 1053 -91 747 -37 \r\nQ 441 16 72 128 \r\nL 184 722 \r\nQ 500 559 806 475 \r\nQ 1113 391 1394 391 \r\nQ 1816 391 2080 572 \r\nQ 2344 753 2344 1031 \r\nQ 2344 1331 1650 1516 \r\nL 1591 1531 \r\nL 1394 1581 \r\nQ 956 1697 753 1886 \r\nQ 550 2075 550 2369 \r\nQ 550 2928 970 3256 \r\nQ 1391 3584 2113 3584 \r\nQ 2397 3584 2667 3537 \r\nQ 2938 3491 3200 3397 \r\nz\r\n\" id=\"DejaVuSans-Oblique-73\" transform=\"scale(0.015625)\"/>\r\n       <path d=\"M 3438 1997 \r\nL 3047 0 \r\nL 2472 0 \r\nL 2578 531 \r\nQ 2325 219 2001 64 \r\nQ 1678 -91 1281 -91 \r\nQ 834 -91 548 182 \r\nQ 263 456 263 884 \r\nQ 263 1497 752 1853 \r\nQ 1241 2209 2100 2209 \r\nL 2900 2209 \r\nL 2931 2363 \r\nQ 2938 2388 2941 2417 \r\nQ 2944 2447 2944 2509 \r\nQ 2944 2788 2717 2942 \r\nQ 2491 3097 2081 3097 \r\nQ 1800 3097 1504 3025 \r\nQ 1209 2953 897 2809 \r\nL 997 3341 \r\nQ 1322 3463 1633 3523 \r\nQ 1944 3584 2234 3584 \r\nQ 2853 3584 3176 3315 \r\nQ 3500 3047 3500 2534 \r\nQ 3500 2431 3484 2292 \r\nQ 3469 2153 3438 1997 \r\nz\r\nM 2816 1759 \r\nL 2241 1759 \r\nQ 1534 1759 1195 1570 \r\nQ 856 1381 856 984 \r\nQ 856 709 1029 553 \r\nQ 1203 397 1509 397 \r\nQ 1978 397 2328 733 \r\nQ 2678 1069 2791 1631 \r\nL 2816 1759 \r\nz\r\n\" id=\"DejaVuSans-Oblique-61\" transform=\"scale(0.015625)\"/>\r\n       <path d=\"M 1172 4863 \r\nL 1747 4863 \r\nL 800 0 \r\nL 225 0 \r\nL 1172 4863 \r\nz\r\n\" id=\"DejaVuSans-Oblique-6c\" transform=\"scale(0.015625)\"/>\r\n      </defs>\r\n      <use transform=\"translate(0 -2.265625)scale(0.7106)\" xlink:href=\"#STIXSizeOneSym-Regular-221a\"/>\r\n      <use transform=\"translate(87.596558 0.328125)\" xlink:href=\"#DejaVuSans-7c\"/>\r\n      <use transform=\"translate(121.287964 0.328125)\" xlink:href=\"#DejaVuSans-Oblique-53\"/>\r\n      <use transform=\"translate(184.764526 0.328125)\" xlink:href=\"#DejaVuSans-Oblique-74\"/>\r\n      <use transform=\"translate(223.973511 0.328125)\" xlink:href=\"#DejaVuSans-Oblique-75\"/>\r\n      <use transform=\"translate(287.352417 0.328125)\" xlink:href=\"#DejaVuSans-Oblique-64\"/>\r\n      <use transform=\"translate(350.828979 0.328125)\" xlink:href=\"#DejaVuSans-Oblique-65\"/>\r\n      <use transform=\"translate(412.352417 0.328125)\" xlink:href=\"#DejaVuSans-Oblique-6e\"/>\r\n      <use transform=\"translate(475.731323 0.328125)\" xlink:href=\"#DejaVuSans-Oblique-74\"/>\r\n      <use transform=\"translate(514.940308 0.328125)\" xlink:href=\"#DejaVuSans-Oblique-69\"/>\r\n      <use transform=\"translate(542.723511 0.328125)\" xlink:href=\"#DejaVuSans-Oblique-7a\"/>\r\n      <use transform=\"translate(595.213745 0.328125)\" xlink:href=\"#DejaVuSans-Oblique-65\"/>\r\n      <use transform=\"translate(656.737183 0.328125)\" xlink:href=\"#DejaVuSans-Oblique-64\"/>\r\n      <use transform=\"translate(752.684124 0.328125)\" xlink:href=\"#DejaVuSans-Oblique-52\"/>\r\n      <use transform=\"translate(822.166545 0.328125)\" xlink:href=\"#DejaVuSans-Oblique-65\"/>\r\n      <use transform=\"translate(883.689983 0.328125)\" xlink:href=\"#DejaVuSans-Oblique-73\"/>\r\n      <use transform=\"translate(935.789592 0.328125)\" xlink:href=\"#DejaVuSans-Oblique-69\"/>\r\n      <use transform=\"translate(963.572795 0.328125)\" xlink:href=\"#DejaVuSans-Oblique-64\"/>\r\n      <use transform=\"translate(1027.049358 0.328125)\" xlink:href=\"#DejaVuSans-Oblique-75\"/>\r\n      <use transform=\"translate(1090.428264 0.328125)\" xlink:href=\"#DejaVuSans-Oblique-61\"/>\r\n      <use transform=\"translate(1151.707561 0.328125)\" xlink:href=\"#DejaVuSans-Oblique-6c\"/>\r\n      <use transform=\"translate(1179.490764 0.328125)\" xlink:href=\"#DejaVuSans-Oblique-73\"/>\r\n      <use transform=\"translate(1231.590374 0.328125)\" xlink:href=\"#DejaVuSans-7c\"/>\r\n      <path d=\"M 75.096558 101.5 \r\nL 75.096558 107.75 \r\nL 1277.78178 107.75 \r\nL 1277.78178 101.5 \r\nL 75.096558 101.5 \r\nz\r\n\"/>\r\n     </g>\r\n    </g>\r\n   </g>\r\n   <g id=\"line2d_51\">\r\n    <path clip-path=\"url(#p2fffa20350)\" d=\"M 73.353833 402.906309 \r\nL 73.353833 402.906309 \r\nL 157.813377 398.295358 \r\nL 157.813377 398.295358 \r\nL 157.813377 398.295358 \r\nL 157.813377 398.295358 \r\nL 157.813377 398.295358 \r\nL 157.813377 398.295358 \r\nL 157.813377 398.295358 \r\nL 157.813377 398.295358 \r\nL 157.813377 398.295358 \r\nL 157.813377 398.295358 \r\nL 157.813377 398.295358 \r\nL 157.813377 398.295358 \r\nL 157.813377 398.295358 \r\nL 157.813377 398.295358 \r\nL 157.813377 398.295358 \r\nL 157.813377 398.295358 \r\nL 157.813377 398.295358 \r\nL 157.813377 398.295358 \r\nL 157.813377 398.295358 \r\nL 157.813377 398.295358 \r\nL 157.813377 398.295358 \r\nL 157.813377 398.295358 \r\nL 157.813377 398.295358 \r\nL 157.813377 398.295358 \r\nL 157.813377 398.295358 \r\nL 157.813377 398.295358 \r\nL 157.813377 398.295358 \r\nL 166.099018 399.334254 \r\nL 166.099018 399.334254 \r\nL 190.940545 402.690426 \r\nL 190.940545 402.690426 \r\nL 190.940545 402.690426 \r\nL 190.940545 402.690426 \r\nL 196.514794 403.410962 \r\nL 196.514794 403.410962 \r\nL 196.514794 403.410962 \r\nL 196.514794 403.410962 \r\nL 196.514794 403.410962 \r\nL 196.514794 403.410962 \r\nL 196.514794 403.410962 \r\nL 204.800435 404.04376 \r\nL 206.424233 403.675565 \r\nL 206.424233 403.675565 \r\nL 206.424233 403.675565 \r\nL 206.424233 403.675565 \r\nL 206.424233 403.675565 \r\nL 206.424233 403.675565 \r\nL 206.424233 403.675565 \r\nL 206.424233 403.675565 \r\nL 206.424233 403.675565 \r\nL 206.424233 403.675565 \r\nL 206.424233 403.675565 \r\nL 229.641962 401.984484 \r\nL 239.551402 401.484647 \r\nL 239.551402 401.484647 \r\nL 250.558562 400.838251 \r\nL 250.558562 400.838251 \r\nL 250.558562 400.838251 \r\nL 250.558562 400.838251 \r\nL 250.558562 400.838251 \r\nL 250.558562 400.838251 \r\nL 250.558562 400.838251 \r\nL 250.558562 400.838251 \r\nL 250.558562 400.838251 \r\nL 250.558562 400.838251 \r\nL 250.558562 400.838251 \r\nL 250.558562 400.838251 \r\nL 250.558562 400.838251 \r\nL 250.558562 400.838251 \r\nL 250.558562 400.838251 \r\nL 250.558562 400.838251 \r\nL 250.558562 400.838251 \r\nL 250.558562 400.838251 \r\nL 250.558562 400.838251 \r\nL 250.558562 400.838251 \r\nL 250.558562 400.838251 \r\nL 250.558562 400.838251 \r\nL 250.558562 400.838251 \r\nL 250.558562 400.838251 \r\nL 250.558562 400.838251 \r\nL 250.558562 400.838251 \r\nL 250.558562 400.838251 \r\nL 250.558562 400.838251 \r\nL 250.558562 400.838251 \r\nL 250.558562 400.838251 \r\nL 283.685731 403.061073 \r\nL 283.685731 403.061073 \r\nL 283.685731 403.061073 \r\nL 283.685731 403.061073 \r\nL 283.685731 403.061073 \r\nL 289.259979 403.280733 \r\nL 289.259979 403.280733 \r\nL 289.259979 403.280733 \r\nL 289.259979 403.280733 \r\nL 289.259979 403.280733 \r\nL 289.259979 403.280733 \r\nL 289.259979 403.280733 \r\nL 289.259979 403.280733 \r\nL 289.259979 403.280733 \r\nL 289.259979 403.280733 \r\nL 289.259979 403.280733 \r\nL 289.259979 403.280733 \r\nL 289.259979 403.280733 \r\nL 299.169419 403.373653 \r\nL 299.169419 403.373653 \r\nL 299.169419 403.373653 \r\nL 299.169419 403.373653 \r\nL 299.169419 403.373653 \r\nL 299.169419 403.373653 \r\nL 307.651879 402.977238 \r\nL 307.651879 402.977238 \r\nL 307.651879 402.977238 \r\nL 307.651879 402.977238 \r\nL 322.387148 401.026973 \r\nL 356.262735 395.483944 \r\nL 356.262735 395.483944 \r\nL 356.262735 395.483944 \r\nL 400.397064 389.07805 \r\nL 400.397064 389.07805 \r\nL 400.397064 389.07805 \r\nL 433.524233 383.969834 \r\n\" style=\"fill:none;stroke:#ff0000;stroke-linecap:square;stroke-width:1.5;\"/>\r\n   </g>\r\n   <g id=\"patch_13\">\r\n    <path d=\"M 55.345313 472.598125 \r\nL 55.345313 282.758125 \r\n\" style=\"fill:none;stroke:#000000;stroke-linecap:square;stroke-linejoin:miter;stroke-width:0.8;\"/>\r\n   </g>\r\n   <g id=\"patch_14\">\r\n    <path d=\"M 451.532753 472.598125 \r\nL 451.532753 282.758125 \r\n\" style=\"fill:none;stroke:#000000;stroke-linecap:square;stroke-linejoin:miter;stroke-width:0.8;\"/>\r\n   </g>\r\n   <g id=\"patch_15\">\r\n    <path d=\"M 55.345312 472.598125 \r\nL 451.532753 472.598125 \r\n\" style=\"fill:none;stroke:#000000;stroke-linecap:square;stroke-linejoin:miter;stroke-width:0.8;\"/>\r\n   </g>\r\n   <g id=\"patch_16\">\r\n    <path d=\"M 55.345312 282.758125 \r\nL 451.532753 282.758125 \r\n\" style=\"fill:none;stroke:#000000;stroke-linecap:square;stroke-linejoin:miter;stroke-width:0.8;\"/>\r\n   </g>\r\n   <g id=\"text_62\">\r\n    <!-- 93 -->\r\n    <g transform=\"translate(190.940545 292.00402)scale(0.1 -0.1)\">\r\n     <use xlink:href=\"#DejaVuSans-39\"/>\r\n     <use x=\"63.623047\" xlink:href=\"#DejaVuSans-33\"/>\r\n    </g>\r\n   </g>\r\n   <g id=\"text_63\">\r\n    <!-- 52 -->\r\n    <g transform=\"translate(190.940545 319.758901)scale(0.1 -0.1)\">\r\n     <use xlink:href=\"#DejaVuSans-35\"/>\r\n     <use x=\"63.623047\" xlink:href=\"#DejaVuSans-32\"/>\r\n    </g>\r\n   </g>\r\n   <g id=\"text_64\">\r\n    <!-- 50 -->\r\n    <g transform=\"translate(289.259979 329.204116)scale(0.1 -0.1)\">\r\n     <use xlink:href=\"#DejaVuSans-35\"/>\r\n     <use x=\"63.623047\" xlink:href=\"#DejaVuSans-30\"/>\r\n    </g>\r\n   </g>\r\n   <g id=\"text_65\">\r\n    <!-- Scale-Location -->\r\n    <g transform=\"translate(209.75247 276.758125)scale(0.12 -0.12)\">\r\n     <defs>\r\n      <path d=\"M 628 4666 \r\nL 1259 4666 \r\nL 1259 531 \r\nL 3531 531 \r\nL 3531 0 \r\nL 628 0 \r\nL 628 4666 \r\nz\r\n\" id=\"DejaVuSans-4c\" transform=\"scale(0.015625)\"/>\r\n     </defs>\r\n     <use xlink:href=\"#DejaVuSans-53\"/>\r\n     <use x=\"63.476562\" xlink:href=\"#DejaVuSans-63\"/>\r\n     <use x=\"118.457031\" xlink:href=\"#DejaVuSans-61\"/>\r\n     <use x=\"179.736328\" xlink:href=\"#DejaVuSans-6c\"/>\r\n     <use x=\"207.519531\" xlink:href=\"#DejaVuSans-65\"/>\r\n     <use x=\"269.042969\" xlink:href=\"#DejaVuSans-2d\"/>\r\n     <use x=\"305.126953\" xlink:href=\"#DejaVuSans-4c\"/>\r\n     <use x=\"359.089844\" xlink:href=\"#DejaVuSans-6f\"/>\r\n     <use x=\"420.271484\" xlink:href=\"#DejaVuSans-63\"/>\r\n     <use x=\"475.251953\" xlink:href=\"#DejaVuSans-61\"/>\r\n     <use x=\"536.53125\" xlink:href=\"#DejaVuSans-74\"/>\r\n     <use x=\"575.740234\" xlink:href=\"#DejaVuSans-69\"/>\r\n     <use x=\"603.523438\" xlink:href=\"#DejaVuSans-6f\"/>\r\n     <use x=\"664.705078\" xlink:href=\"#DejaVuSans-6e\"/>\r\n    </g>\r\n   </g>\r\n  </g>\r\n  <g id=\"axes_4\">\r\n   <g id=\"patch_17\">\r\n    <path d=\"M 498.892753 472.598125 \r\nL 895.080193 472.598125 \r\nL 895.080193 282.758125 \r\nL 498.892753 282.758125 \r\nz\r\n\" style=\"fill:#ffffff;\"/>\r\n   </g>\r\n   <g id=\"PathCollection_4\">\r\n    <path clip-path=\"url(#p22124b60a5)\" d=\"M 520.958729 355.750441 \r\nC 522.082447 355.750441 523.160291 355.303984 523.95488 354.509395 \r\nC 524.749468 353.714807 525.195926 352.636962 525.195926 351.513245 \r\nC 525.195926 350.389527 524.749468 349.311683 523.95488 348.517094 \r\nC 523.160291 347.722506 522.082447 347.276048 520.958729 347.276048 \r\nC 519.835012 347.276048 518.757167 347.722506 517.962579 348.517094 \r\nC 517.167991 349.311683 516.721533 350.389527 516.721533 351.513245 \r\nC 516.721533 352.636962 517.167991 353.714807 517.962579 354.509395 \r\nC 518.757167 355.303984 519.835012 355.750441 520.958729 355.750441 \r\nz\r\n\" style=\"fill:#1f77b4;fill-opacity:0.75;stroke:#1f77b4;stroke-opacity:0.75;\"/>\r\n    <path clip-path=\"url(#p22124b60a5)\" d=\"M 824.477886 363.942189 \r\nC 825.565408 363.942189 826.608535 363.510112 827.377529 362.741117 \r\nC 828.146523 361.972123 828.5786 360.928996 828.5786 359.841474 \r\nC 828.5786 358.753952 828.146523 357.710826 827.377529 356.941831 \r\nC 826.608535 356.172837 825.565408 355.74076 824.477886 355.74076 \r\nC 823.390364 355.74076 822.347237 356.172837 821.578243 356.941831 \r\nC 820.809249 357.710826 820.377171 358.753952 820.377171 359.841474 \r\nC 820.377171 360.928996 820.809249 361.972123 821.578243 362.741117 \r\nC 822.347237 363.510112 823.390364 363.942189 824.477886 363.942189 \r\nz\r\n\" style=\"fill:#1f77b4;fill-opacity:0.75;stroke:#1f77b4;stroke-opacity:0.75;\"/>\r\n    <path clip-path=\"url(#p22124b60a5)\" d=\"M 520.958729 389.438004 \r\nC 522.282369 389.438004 523.551975 388.912116 524.48793 387.976161 \r\nC 525.423884 387.040207 525.949772 385.770601 525.949772 384.446961 \r\nC 525.949772 383.123321 525.423884 381.853716 524.48793 380.917761 \r\nC 523.551975 379.981806 522.282369 379.455918 520.958729 379.455918 \r\nC 519.635089 379.455918 518.365484 379.981806 517.429529 380.917761 \r\nC 516.493574 381.853716 515.967686 383.123321 515.967686 384.446961 \r\nC 515.967686 385.770601 516.493574 387.040207 517.429529 387.976161 \r\nC 518.365484 388.912116 519.635089 389.438004 520.958729 389.438004 \r\nz\r\n\" style=\"fill:#1f77b4;fill-opacity:0.75;stroke:#1f77b4;stroke-opacity:0.75;\"/>\r\n    <path clip-path=\"url(#p22124b60a5)\" d=\"M 520.958729 348.703866 \r\nC 522.194519 348.703866 523.379861 348.212882 524.253696 347.339046 \r\nC 525.127532 346.465211 525.618516 345.279869 525.618516 344.044079 \r\nC 525.618516 342.80829 525.127532 341.622948 524.253696 340.749113 \r\nC 523.379861 339.875277 522.194519 339.384293 520.958729 339.384293 \r\nC 519.722939 339.384293 518.537598 339.875277 517.663763 340.749113 \r\nC 516.789927 341.622948 516.298943 342.80829 516.298943 344.044079 \r\nC 516.298943 345.279869 516.789927 346.465211 517.663763 347.339046 \r\nC 518.537598 348.212882 519.722939 348.703866 520.958729 348.703866 \r\nz\r\n\" style=\"fill:#1f77b4;fill-opacity:0.75;stroke:#1f77b4;stroke-opacity:0.75;\"/>\r\n    <path clip-path=\"url(#p22124b60a5)\" d=\"M 669.615575 349.047801 \r\nC 671.507024 349.047801 673.321259 348.296321 674.658715 346.958864 \r\nC 675.996171 345.621408 676.747652 343.807173 676.747652 341.915724 \r\nC 676.747652 340.024275 675.996171 338.210041 674.658715 336.872584 \r\nC 673.321259 335.535128 671.507024 334.783647 669.615575 334.783647 \r\nC 667.724126 334.783647 665.909891 335.535128 664.572435 336.872584 \r\nC 663.234979 338.210041 662.483498 340.024275 662.483498 341.915724 \r\nC 662.483498 343.807173 663.234979 345.621408 664.572435 346.958864 \r\nC 665.909891 348.296321 667.724126 349.047801 669.615575 349.047801 \r\nz\r\n\" style=\"fill:#1f77b4;fill-opacity:0.75;stroke:#1f77b4;stroke-opacity:0.75;\"/>\r\n    <path clip-path=\"url(#p22124b60a5)\" d=\"M 576.212088 391.174905 \r\nC 577.848063 391.174905 579.417253 390.524925 580.574062 389.368116 \r\nC 581.730871 388.211307 582.38085 386.642117 582.38085 385.006142 \r\nC 582.38085 383.370167 581.730871 381.800977 580.574062 380.644168 \r\nC 579.417253 379.487359 577.848063 378.837379 576.212088 378.837379 \r\nC 574.576113 378.837379 573.006923 379.487359 571.850114 380.644168 \r\nC 570.693305 381.800977 570.043325 383.370167 570.043325 385.006142 \r\nC 570.043325 386.642117 570.693305 388.211307 571.850114 389.368116 \r\nC 573.006923 390.524925 574.576113 391.174905 576.212088 391.174905 \r\nz\r\n\" style=\"fill:#1f77b4;fill-opacity:0.75;stroke:#1f77b4;stroke-opacity:0.75;\"/>\r\n    <path clip-path=\"url(#p22124b60a5)\" d=\"M 520.958729 340.623259 \r\nC 522.376751 340.623259 523.736885 340.059873 524.739578 339.057181 \r\nC 525.74227 338.054488 526.305656 336.694354 526.305656 335.276332 \r\nC 526.305656 333.858311 525.74227 332.498177 524.739578 331.495484 \r\nC 523.736885 330.492791 522.376751 329.929405 520.958729 329.929405 \r\nC 519.540708 329.929405 518.180574 330.492791 517.177881 331.495484 \r\nC 516.175188 332.498177 515.611802 333.858311 515.611802 335.276332 \r\nC 515.611802 336.694354 516.175188 338.054488 517.177881 339.057181 \r\nC 518.180574 340.059873 519.540708 340.623259 520.958729 340.623259 \r\nz\r\n\" style=\"fill:#1f77b4;fill-opacity:0.75;stroke:#1f77b4;stroke-opacity:0.75;\"/>\r\n    <path clip-path=\"url(#p22124b60a5)\" d=\"M 558.820195 357.610839 \r\nC 559.963419 357.610839 561.059973 357.156631 561.868354 356.34825 \r\nC 562.676736 355.539868 563.130943 354.443314 563.130943 353.300091 \r\nC 563.130943 352.156867 562.676736 351.060313 561.868354 350.251932 \r\nC 561.059973 349.44355 559.963419 348.989343 558.820195 348.989343 \r\nC 557.676972 348.989343 556.580418 349.44355 555.772036 350.251932 \r\nC 554.963655 351.060313 554.509448 352.156867 554.509448 353.300091 \r\nC 554.509448 354.443314 554.963655 355.539868 555.772036 356.34825 \r\nC 556.580418 357.156631 557.676972 357.610839 558.820195 357.610839 \r\nz\r\n\" style=\"fill:#1f77b4;fill-opacity:0.75;stroke:#1f77b4;stroke-opacity:0.75;\"/>\r\n    <path clip-path=\"url(#p22124b60a5)\" d=\"M 562.461739 385.148413 \r\nC 563.850804 385.148413 565.183163 384.596532 566.16538 383.614315 \r\nC 567.147598 382.632098 567.699479 381.299738 567.699479 379.910673 \r\nC 567.699479 378.521608 567.147598 377.189249 566.16538 376.207032 \r\nC 565.183163 375.224815 563.850804 374.672933 562.461739 374.672933 \r\nC 561.072674 374.672933 559.740315 375.224815 558.758097 376.207032 \r\nC 557.77588 377.189249 557.223999 378.521608 557.223999 379.910673 \r\nC 557.223999 381.299738 557.77588 382.632098 558.758097 383.614315 \r\nC 559.740315 384.596532 561.072674 385.148413 562.461739 385.148413 \r\nz\r\n\" style=\"fill:#1f77b4;fill-opacity:0.75;stroke:#1f77b4;stroke-opacity:0.75;\"/>\r\n    <path clip-path=\"url(#p22124b60a5)\" d=\"M 520.958729 359.338033 \r\nC 522.046147 359.338033 523.089173 358.905997 523.858093 358.137077 \r\nC 524.627013 357.368157 525.059049 356.325131 525.059049 355.237713 \r\nC 525.059049 354.150296 524.627013 353.10727 523.858093 352.33835 \r\nC 523.089173 351.569429 522.046147 351.137394 520.958729 351.137394 \r\nC 519.871312 351.137394 518.828286 351.569429 518.059366 352.33835 \r\nC 517.290445 353.10727 516.85841 354.150296 516.85841 355.237713 \r\nC 516.85841 356.325131 517.290445 357.368157 518.059366 358.137077 \r\nC 518.828286 358.905997 519.871312 359.338033 520.958729 359.338033 \r\nz\r\n\" style=\"fill:#1f77b4;fill-opacity:0.75;stroke:#1f77b4;stroke-opacity:0.75;\"/>\r\n    <path clip-path=\"url(#p22124b60a5)\" d=\"M 520.958729 338.328871 \r\nC 522.436428 338.328871 523.853804 337.741775 524.898695 336.696884 \r\nC 525.943586 335.651993 526.530682 334.234617 526.530682 332.756918 \r\nC 526.530682 331.279219 525.943586 329.861844 524.898695 328.816953 \r\nC 523.853804 327.772062 522.436428 327.184966 520.958729 327.184966 \r\nC 519.48103 327.184966 518.063655 327.772062 517.018764 328.816953 \r\nC 515.973873 329.861844 515.386777 331.279219 515.386777 332.756918 \r\nC 515.386777 334.234617 515.973873 335.651993 517.018764 336.696884 \r\nC 518.063655 337.741775 519.48103 338.328871 520.958729 338.328871 \r\nz\r\n\" style=\"fill:#1f77b4;fill-opacity:0.75;stroke:#1f77b4;stroke-opacity:0.75;\"/>\r\n    <path clip-path=\"url(#p22124b60a5)\" d=\"M 520.958729 381.423852 \r\nC 522.143874 381.423852 523.280637 380.95299 524.118661 380.114966 \r\nC 524.956685 379.276942 525.427548 378.140179 525.427548 376.955034 \r\nC 525.427548 375.76989 524.956685 374.633126 524.118661 373.795102 \r\nC 523.280637 372.957078 522.143874 372.486216 520.958729 372.486216 \r\nC 519.773585 372.486216 518.636821 372.957078 517.798798 373.795102 \r\nC 516.960774 374.633126 516.489911 375.76989 516.489911 376.955034 \r\nC 516.489911 378.140179 516.960774 379.276942 517.798798 380.114966 \r\nC 518.636821 380.95299 519.773585 381.423852 520.958729 381.423852 \r\nz\r\n\" style=\"fill:#1f77b4;fill-opacity:0.75;stroke:#1f77b4;stroke-opacity:0.75;\"/>\r\n    <path clip-path=\"url(#p22124b60a5)\" d=\"M 648.338705 364.134939 \r\nC 649.40855 364.134939 650.43472 363.709885 651.191214 362.953391 \r\nC 651.947708 362.196897 652.372762 361.170726 652.372762 360.100882 \r\nC 652.372762 359.031038 651.947708 358.004867 651.191214 357.248373 \r\nC 650.43472 356.491879 649.40855 356.066825 648.338705 356.066825 \r\nC 647.268861 356.066825 646.242691 356.491879 645.486196 357.248373 \r\nC 644.729702 358.004867 644.304648 359.031038 644.304648 360.100882 \r\nC 644.304648 361.170726 644.729702 362.196897 645.486196 362.953391 \r\nC 646.242691 363.709885 647.268861 364.134939 648.338705 364.134939 \r\nz\r\n\" style=\"fill:#1f77b4;fill-opacity:0.75;stroke:#1f77b4;stroke-opacity:0.75;\"/>\r\n    <path clip-path=\"url(#p22124b60a5)\" d=\"M 520.958729 333.74577 \r\nC 522.563533 333.74577 524.102823 333.108175 525.23759 331.973407 \r\nC 526.372358 330.83864 527.009953 329.29935 527.009953 327.694546 \r\nC 527.009953 326.089743 526.372358 324.550452 525.23759 323.415685 \r\nC 524.102823 322.280918 522.563533 321.643323 520.958729 321.643323 \r\nC 519.353926 321.643323 517.814635 322.280918 516.679868 323.415685 \r\nC 515.545101 324.550452 514.907506 326.089743 514.907506 327.694546 \r\nC 514.907506 329.29935 515.545101 330.83864 516.679868 331.973407 \r\nC 517.814635 333.108175 519.353926 333.74577 520.958729 333.74577 \r\nz\r\n\" style=\"fill:#1f77b4;fill-opacity:0.75;stroke:#1f77b4;stroke-opacity:0.75;\"/>\r\n    <path clip-path=\"url(#p22124b60a5)\" d=\"M 833.316954 356.232274 \r\nC 835.070203 356.232274 836.751879 355.535701 837.991613 354.295967 \r\nC 839.231348 353.056233 839.927921 351.374556 839.927921 349.621307 \r\nC 839.927921 347.868059 839.231348 346.186382 837.991613 344.946648 \r\nC 836.751879 343.706914 835.070203 343.010341 833.316954 343.010341 \r\nC 831.563705 343.010341 829.882029 343.706914 828.642295 344.946648 \r\nC 827.402561 346.186382 826.705988 347.868059 826.705988 349.621307 \r\nC 826.705988 351.374556 827.402561 353.056233 828.642295 354.295967 \r\nC 829.882029 355.535701 831.563705 356.232274 833.316954 356.232274 \r\nz\r\n\" style=\"fill:#1f77b4;fill-opacity:0.75;stroke:#1f77b4;stroke-opacity:0.75;\"/>\r\n    <path clip-path=\"url(#p22124b60a5)\" d=\"M 671.716501 349.229923 \r\nC 673.602986 349.229923 675.412459 348.480414 676.746405 347.146468 \r\nC 678.080351 345.812522 678.82986 344.003049 678.82986 342.116564 \r\nC 678.82986 340.230079 678.080351 338.420606 676.746405 337.08666 \r\nC 675.412459 335.752714 673.602986 335.003205 671.716501 335.003205 \r\nC 669.830016 335.003205 668.020543 335.752714 666.686597 337.08666 \r\nC 665.352651 338.420606 664.603142 340.230079 664.603142 342.116564 \r\nC 664.603142 344.003049 665.352651 345.812522 666.686597 347.146468 \r\nC 668.020543 348.480414 669.830016 349.229923 671.716501 349.229923 \r\nz\r\n\" style=\"fill:#1f77b4;fill-opacity:0.75;stroke:#1f77b4;stroke-opacity:0.75;\"/>\r\n    <path clip-path=\"url(#p22124b60a5)\" d=\"M 562.461739 375.439566 \r\nC 563.616281 375.439566 564.723692 374.980861 565.540077 374.164476 \r\nC 566.356462 373.348092 566.815167 372.240681 566.815167 371.086138 \r\nC 566.815167 369.931596 566.356462 368.824185 565.540077 368.0078 \r\nC 564.723692 367.191415 563.616281 366.73271 562.461739 366.73271 \r\nC 561.307196 366.73271 560.199785 367.191415 559.383401 368.0078 \r\nC 558.567016 368.824185 558.108311 369.931596 558.108311 371.086138 \r\nC 558.108311 372.240681 558.567016 373.348092 559.383401 374.164476 \r\nC 560.199785 374.980861 561.307196 375.439566 562.461739 375.439566 \r\nz\r\n\" style=\"fill:#1f77b4;fill-opacity:0.75;stroke:#1f77b4;stroke-opacity:0.75;\"/>\r\n    <path clip-path=\"url(#p22124b60a5)\" d=\"M 648.338705 362.90496 \r\nC 649.424875 362.90496 650.466704 362.473421 651.234741 361.705383 \r\nC 652.002779 360.937345 652.434319 359.895516 652.434319 358.809347 \r\nC 652.434319 357.723178 652.002779 356.681349 651.234741 355.913311 \r\nC 650.466704 355.145273 649.424875 354.713733 648.338705 354.713733 \r\nC 647.252536 354.713733 646.210707 355.145273 645.442669 355.913311 \r\nC 644.674631 356.681349 644.243092 357.723178 644.243092 358.809347 \r\nC 644.243092 359.895516 644.674631 360.937345 645.442669 361.705383 \r\nC 646.210707 362.473421 647.252536 362.90496 648.338705 362.90496 \r\nz\r\n\" style=\"fill:#1f77b4;fill-opacity:0.75;stroke:#1f77b4;stroke-opacity:0.75;\"/>\r\n    <path clip-path=\"url(#p22124b60a5)\" d=\"M 516.901273 327.722627 \r\nC 518.623098 327.722627 520.274632 327.038539 521.492146 325.821025 \r\nC 522.70966 324.603511 523.393748 322.951976 523.393748 321.230151 \r\nC 523.393748 319.508327 522.70966 317.856792 521.492146 316.639278 \r\nC 520.274632 315.421764 518.623098 314.737676 516.901273 314.737676 \r\nC 515.179448 314.737676 513.527913 315.421764 512.3104 316.639278 \r\nC 511.092886 317.856792 510.408798 319.508327 510.408798 321.230151 \r\nC 510.408798 322.951976 511.092886 324.603511 512.3104 325.821025 \r\nC 513.527913 327.038539 515.179448 327.722627 516.901273 327.722627 \r\nz\r\n\" style=\"fill:#1f77b4;fill-opacity:0.75;stroke:#1f77b4;stroke-opacity:0.75;\"/>\r\n    <path clip-path=\"url(#p22124b60a5)\" d=\"M 683.163364 390.880776 \r\nC 685.186141 390.880776 687.126342 390.077119 688.556661 388.6468 \r\nC 689.986979 387.216481 690.790637 385.27628 690.790637 383.253504 \r\nC 690.790637 381.230727 689.986979 379.290526 688.556661 377.860207 \r\nC 687.126342 376.429888 685.186141 375.626231 683.163364 375.626231 \r\nC 681.140588 375.626231 679.200387 376.429888 677.770068 377.860207 \r\nC 676.339749 379.290526 675.536092 381.230727 675.536092 383.253504 \r\nC 675.536092 385.27628 676.339749 387.216481 677.770068 388.6468 \r\nC 679.200387 390.077119 681.140588 390.880776 683.163364 390.880776 \r\nz\r\n\" style=\"fill:#1f77b4;fill-opacity:0.75;stroke:#1f77b4;stroke-opacity:0.75;\"/>\r\n    <path clip-path=\"url(#p22124b60a5)\" d=\"M 618.378244 308.802288 \r\nC 622.996775 308.802288 627.426765 306.967326 630.69256 303.701532 \r\nC 633.958354 300.435737 635.793316 296.005747 635.793316 291.387216 \r\nC 635.793316 286.768685 633.958354 282.338695 630.69256 279.0729 \r\nC 627.426765 275.807106 622.996775 273.972144 618.378244 273.972144 \r\nC 613.759713 273.972144 609.329723 275.807106 606.063928 279.0729 \r\nC 602.798134 282.338695 600.963172 286.768685 600.963172 291.387216 \r\nC 600.963172 296.005747 602.798134 300.435737 606.063928 303.701532 \r\nC 609.329723 306.967326 613.759713 308.802288 618.378244 308.802288 \r\nz\r\n\" style=\"fill:#1f77b4;fill-opacity:0.75;stroke:#1f77b4;stroke-opacity:0.75;\"/>\r\n    <path clip-path=\"url(#p22124b60a5)\" d=\"M 615.364134 410.884645 \r\nC 618.070846 410.884645 620.667062 409.809257 622.580997 407.895323 \r\nC 624.494931 405.981388 625.570319 403.385172 625.570319 400.67846 \r\nC 625.570319 397.971748 624.494931 395.375531 622.580997 393.461597 \r\nC 620.667062 391.547662 618.070846 390.472274 615.364134 390.472274 \r\nC 612.657422 390.472274 610.061205 391.547662 608.147271 393.461597 \r\nC 606.233336 395.375531 605.157948 397.971748 605.157948 400.67846 \r\nC 605.157948 403.385172 606.233336 405.981388 608.147271 407.895323 \r\nC 610.061205 409.809257 612.657422 410.884645 615.364134 410.884645 \r\nz\r\n\" style=\"fill:#1f77b4;fill-opacity:0.75;stroke:#1f77b4;stroke-opacity:0.75;\"/>\r\n    <path clip-path=\"url(#p22124b60a5)\" d=\"M 516.901273 324.825438 \r\nC 518.706264 324.825438 520.437571 324.108307 521.713893 322.831985 \r\nC 522.990215 321.555664 523.707346 319.824357 523.707346 318.019365 \r\nC 523.707346 316.214374 522.990215 314.483067 521.713893 313.206745 \r\nC 520.437571 311.930424 518.706264 311.213293 516.901273 311.213293 \r\nC 515.096281 311.213293 513.364975 311.930424 512.088653 313.206745 \r\nC 510.812331 314.483067 510.0952 316.214374 510.0952 318.019365 \r\nC 510.0952 319.824357 510.812331 321.555664 512.088653 322.831985 \r\nC 513.364975 324.108307 515.096281 324.825438 516.901273 324.825438 \r\nz\r\n\" style=\"fill:#1f77b4;fill-opacity:0.75;stroke:#1f77b4;stroke-opacity:0.75;\"/>\r\n    <path clip-path=\"url(#p22124b60a5)\" d=\"M 516.901273 405.595064 \r\nC 518.538561 405.595064 520.109011 404.944562 521.266749 403.786825 \r\nC 522.424486 402.629087 523.074988 401.058637 523.074988 399.421349 \r\nC 523.074988 397.784061 522.424486 396.213611 521.266749 395.055873 \r\nC 520.109011 393.898136 518.538561 393.247634 516.901273 393.247634 \r\nC 515.263985 393.247634 513.693535 393.898136 512.535797 395.055873 \r\nC 511.37806 396.213611 510.727558 397.784061 510.727558 399.421349 \r\nC 510.727558 401.058637 511.37806 402.629087 512.535797 403.786825 \r\nC 513.693535 404.944562 515.263985 405.595064 516.901273 405.595064 \r\nz\r\n\" style=\"fill:#1f77b4;fill-opacity:0.75;stroke:#1f77b4;stroke-opacity:0.75;\"/>\r\n    <path clip-path=\"url(#p22124b60a5)\" d=\"M 516.901273 377.315487 \r\nC 518.025539 377.315487 519.10391 376.868811 519.898887 376.073835 \r\nC 520.693863 375.278858 521.140539 374.200487 521.140539 373.076221 \r\nC 521.140539 371.951955 520.693863 370.873584 519.898887 370.078607 \r\nC 519.10391 369.283631 518.025539 368.836955 516.901273 368.836955 \r\nC 515.777006 368.836955 514.698636 369.283631 513.903659 370.078607 \r\nC 513.108683 370.873584 512.662007 371.951955 512.662007 373.076221 \r\nC 512.662007 374.200487 513.108683 375.278858 513.903659 376.073835 \r\nC 514.698636 376.868811 515.777006 377.315487 516.901273 377.315487 \r\nz\r\n\" style=\"fill:#1f77b4;fill-opacity:0.75;stroke:#1f77b4;stroke-opacity:0.75;\"/>\r\n    <path clip-path=\"url(#p22124b60a5)\" d=\"M 516.901273 349.125292 \r\nC 518.112984 349.125292 519.27523 348.643874 520.132039 347.787065 \r\nC 520.988848 346.930256 521.470266 345.76801 521.470266 344.556299 \r\nC 521.470266 343.344588 520.988848 342.182342 520.132039 341.325533 \r\nC 519.27523 340.468724 518.112984 339.987306 516.901273 339.987306 \r\nC 515.689562 339.987306 514.527316 340.468724 513.670507 341.325533 \r\nC 512.813698 342.182342 512.33228 343.344588 512.33228 344.556299 \r\nC 512.33228 345.76801 512.813698 346.930256 513.670507 347.787065 \r\nC 514.527316 348.643874 515.689562 349.125292 516.901273 349.125292 \r\nz\r\n\" style=\"fill:#1f77b4;fill-opacity:0.75;stroke:#1f77b4;stroke-opacity:0.75;\"/>\r\n    <path clip-path=\"url(#p22124b60a5)\" d=\"M 558.820195 402.927447 \r\nC 560.768274 402.927447 562.636827 402.153467 564.014327 400.775967 \r\nC 565.391827 399.398467 566.165807 397.529914 566.165807 395.581835 \r\nC 566.165807 393.633756 565.391827 391.765203 564.014327 390.387703 \r\nC 562.636827 389.010203 560.768274 388.236223 558.820195 388.236223 \r\nC 556.872116 388.236223 555.003563 389.010203 553.626064 390.387703 \r\nC 552.248564 391.765203 551.474584 393.633756 551.474584 395.581835 \r\nC 551.474584 397.529914 552.248564 399.398467 553.626064 400.775967 \r\nC 555.003563 402.153467 556.872116 402.927447 558.820195 402.927447 \r\nz\r\n\" style=\"fill:#1f77b4;fill-opacity:0.75;stroke:#1f77b4;stroke-opacity:0.75;\"/>\r\n    <path clip-path=\"url(#p22124b60a5)\" d=\"M 520.958729 373.620701 \r\nC 522.052189 373.620701 523.10101 373.186265 523.874202 372.413072 \r\nC 524.647395 371.63988 525.081831 370.591059 525.081831 369.497599 \r\nC 525.081831 368.40414 524.647395 367.355319 523.874202 366.582126 \r\nC 523.10101 365.808934 522.052189 365.374498 520.958729 365.374498 \r\nC 519.86527 365.374498 518.816449 365.808934 518.043256 366.582126 \r\nC 517.270064 367.355319 516.835628 368.40414 516.835628 369.497599 \r\nC 516.835628 370.591059 517.270064 371.63988 518.043256 372.413072 \r\nC 518.816449 373.186265 519.86527 373.620701 520.958729 373.620701 \r\nz\r\n\" style=\"fill:#1f77b4;fill-opacity:0.75;stroke:#1f77b4;stroke-opacity:0.75;\"/>\r\n    <path clip-path=\"url(#p22124b60a5)\" d=\"M 516.901273 381.876823 \r\nC 518.081876 381.876823 519.214283 381.407764 520.049095 380.572952 \r\nC 520.883907 379.73814 521.352965 378.605733 521.352965 377.425131 \r\nC 521.352965 376.244528 520.883907 375.112121 520.049095 374.277309 \r\nC 519.214283 373.442497 518.081876 372.973438 516.901273 372.973438 \r\nC 515.72067 372.973438 514.588263 373.442497 513.753451 374.277309 \r\nC 512.918639 375.112121 512.449581 376.244528 512.449581 377.425131 \r\nC 512.449581 378.605733 512.918639 379.73814 513.753451 380.572952 \r\nC 514.588263 381.407764 515.72067 381.876823 516.901273 381.876823 \r\nz\r\n\" style=\"fill:#1f77b4;fill-opacity:0.75;stroke:#1f77b4;stroke-opacity:0.75;\"/>\r\n    <path clip-path=\"url(#p22124b60a5)\" d=\"M 516.901273 376.669636 \r\nC 518.018813 376.669636 519.090732 376.225632 519.880952 375.435412 \r\nC 520.671172 374.645192 521.115176 373.573273 521.115176 372.455733 \r\nC 521.115176 371.338193 520.671172 370.266274 519.880952 369.476054 \r\nC 519.090732 368.685834 518.018813 368.241831 516.901273 368.241831 \r\nC 515.783733 368.241831 514.711814 368.685834 513.921594 369.476054 \r\nC 513.131374 370.266274 512.68737 371.338193 512.68737 372.455733 \r\nC 512.68737 373.573273 513.131374 374.645192 513.921594 375.435412 \r\nC 514.711814 376.225632 515.783733 376.669636 516.901273 376.669636 \r\nz\r\n\" style=\"fill:#1f77b4;fill-opacity:0.75;stroke:#1f77b4;stroke-opacity:0.75;\"/>\r\n    <path clip-path=\"url(#p22124b60a5)\" d=\"M 520.958729 363.591108 \r\nC 522.022971 363.591108 523.043767 363.16828 523.796299 362.415748 \r\nC 524.548832 361.663216 524.971659 360.642419 524.971659 359.578178 \r\nC 524.971659 358.513937 524.548832 357.49314 523.796299 356.740608 \r\nC 523.043767 355.988076 522.022971 355.565248 520.958729 355.565248 \r\nC 519.894488 355.565248 518.873692 355.988076 518.121159 356.740608 \r\nC 517.368627 357.49314 516.9458 358.513937 516.9458 359.578178 \r\nC 516.9458 360.642419 517.368627 361.663216 518.121159 362.415748 \r\nC 518.873692 363.16828 519.894488 363.591108 520.958729 363.591108 \r\nz\r\n\" style=\"fill:#1f77b4;fill-opacity:0.75;stroke:#1f77b4;stroke-opacity:0.75;\"/>\r\n    <path clip-path=\"url(#p22124b60a5)\" d=\"M 558.820195 360.568965 \r\nC 559.915427 360.568965 560.965948 360.133825 561.740394 359.359379 \r\nC 562.51484 358.584933 562.94998 357.534412 562.94998 356.43918 \r\nC 562.94998 355.343949 562.51484 354.293428 561.740394 353.518982 \r\nC 560.965948 352.744536 559.915427 352.309396 558.820195 352.309396 \r\nC 557.724964 352.309396 556.674443 352.744536 555.899997 353.518982 \r\nC 555.125551 354.293428 554.690411 355.343949 554.690411 356.43918 \r\nC 554.690411 357.534412 555.125551 358.584933 555.899997 359.359379 \r\nC 556.674443 360.133825 557.724964 360.568965 558.820195 360.568965 \r\nz\r\n\" style=\"fill:#1f77b4;fill-opacity:0.75;stroke:#1f77b4;stroke-opacity:0.75;\"/>\r\n    <path clip-path=\"url(#p22124b60a5)\" d=\"M 516.901273 353.24049 \r\nC 518.049636 353.24049 519.15112 352.784241 519.963135 351.972225 \r\nC 520.775151 351.16021 521.2314 350.058726 521.2314 348.910363 \r\nC 521.2314 347.761999 520.775151 346.660516 519.963135 345.8485 \r\nC 519.15112 345.036485 518.049636 344.580235 516.901273 344.580235 \r\nC 515.75291 344.580235 514.651426 345.036485 513.83941 345.8485 \r\nC 513.027395 346.660516 512.571146 347.761999 512.571146 348.910363 \r\nC 512.571146 350.058726 513.027395 351.16021 513.83941 351.972225 \r\nC 514.651426 352.784241 515.75291 353.24049 516.901273 353.24049 \r\nz\r\n\" style=\"fill:#1f77b4;fill-opacity:0.75;stroke:#1f77b4;stroke-opacity:0.75;\"/>\r\n    <path clip-path=\"url(#p22124b60a5)\" d=\"M 520.958729 321.662703 \r\nC 522.932766 321.662703 524.826218 320.87841 526.222073 319.482555 \r\nC 527.617928 318.0867 528.402221 316.193248 528.402221 314.219211 \r\nC 528.402221 312.245174 527.617928 310.351723 526.222073 308.955868 \r\nC 524.826218 307.560013 522.932766 306.775719 520.958729 306.775719 \r\nC 518.984692 306.775719 517.091241 307.560013 515.695386 308.955868 \r\nC 514.299531 310.351723 513.515238 312.245174 513.515238 314.219211 \r\nC 513.515238 316.193248 514.299531 318.0867 515.695386 319.482555 \r\nC 517.091241 320.87841 518.984692 321.662703 520.958729 321.662703 \r\nz\r\n\" style=\"fill:#1f77b4;fill-opacity:0.75;stroke:#1f77b4;stroke-opacity:0.75;\"/>\r\n    <path clip-path=\"url(#p22124b60a5)\" d=\"M 877.071673 380.833278 \r\nC 878.877904 380.833278 880.610399 380.115655 881.887597 378.838457 \r\nC 883.164795 377.561259 883.882418 375.828764 883.882418 374.022533 \r\nC 883.882418 372.216303 883.164795 370.483807 881.887597 369.206609 \r\nC 880.610399 367.929411 878.877904 367.211788 877.071673 367.211788 \r\nC 875.265443 367.211788 873.532947 367.929411 872.255749 369.206609 \r\nC 870.978551 370.483807 870.260928 372.216303 870.260928 374.022533 \r\nC 870.260928 375.828764 870.978551 377.561259 872.255749 378.838457 \r\nC 873.532947 380.115655 875.265443 380.833278 877.071673 380.833278 \r\nz\r\n\" style=\"fill:#1f77b4;fill-opacity:0.75;stroke:#1f77b4;stroke-opacity:0.75;\"/>\r\n    <path clip-path=\"url(#p22124b60a5)\" d=\"M 520.958729 367.924857 \r\nC 522.02169 367.924857 523.041258 367.502538 523.792884 366.750911 \r\nC 524.544511 365.999285 524.96683 364.979717 524.96683 363.916756 \r\nC 524.96683 362.853796 524.544511 361.834228 523.792884 361.082601 \r\nC 523.041258 360.330974 522.02169 359.908656 520.958729 359.908656 \r\nC 519.895769 359.908656 518.876201 360.330974 518.124574 361.082601 \r\nC 517.372948 361.834228 516.950629 362.853796 516.950629 363.916756 \r\nC 516.950629 364.979717 517.372948 365.999285 518.124574 366.750911 \r\nC 518.876201 367.502538 519.895769 367.924857 520.958729 367.924857 \r\nz\r\n\" style=\"fill:#1f77b4;fill-opacity:0.75;stroke:#1f77b4;stroke-opacity:0.75;\"/>\r\n    <path clip-path=\"url(#p22124b60a5)\" d=\"M 516.901273 384.51367 \r\nC 518.120743 384.51367 519.290431 384.029169 520.152726 383.166874 \r\nC 521.015022 382.304578 521.499522 381.13489 521.499522 379.91542 \r\nC 521.499522 378.69595 521.015022 377.526262 520.152726 376.663967 \r\nC 519.290431 375.801671 518.120743 375.317171 516.901273 375.317171 \r\nC 515.681803 375.317171 514.512115 375.801671 513.64982 376.663967 \r\nC 512.787524 377.526262 512.303023 378.69595 512.303023 379.91542 \r\nC 512.303023 381.13489 512.787524 382.304578 513.64982 383.166874 \r\nC 514.512115 384.029169 515.681803 384.51367 516.901273 384.51367 \r\nz\r\n\" style=\"fill:#1f77b4;fill-opacity:0.75;stroke:#1f77b4;stroke-opacity:0.75;\"/>\r\n    <path clip-path=\"url(#p22124b60a5)\" d=\"M 516.901273 406.292434 \r\nC 518.554481 406.292434 520.140201 405.635607 521.309195 404.466613 \r\nC 522.47819 403.297618 523.135017 401.711898 523.135017 400.05869 \r\nC 523.135017 398.405482 522.47819 396.819762 521.309195 395.650768 \r\nC 520.140201 394.481773 518.554481 393.824946 516.901273 393.824946 \r\nC 515.248065 393.824946 513.662345 394.481773 512.49335 395.650768 \r\nC 511.324356 396.819762 510.667529 398.405482 510.667529 400.05869 \r\nC 510.667529 401.711898 511.324356 403.297618 512.49335 404.466613 \r\nC 513.662345 405.635607 515.248065 406.292434 516.901273 406.292434 \r\nz\r\n\" style=\"fill:#1f77b4;fill-opacity:0.75;stroke:#1f77b4;stroke-opacity:0.75;\"/>\r\n    <path clip-path=\"url(#p22124b60a5)\" d=\"M 558.820195 386.25716 \r\nC 560.228763 386.25716 561.579829 385.69753 562.575837 384.701522 \r\nC 563.571845 383.705514 564.131475 382.354448 564.131475 380.94588 \r\nC 564.131475 379.537313 563.571845 378.186246 562.575837 377.190239 \r\nC 561.579829 376.194231 560.228763 375.634601 558.820195 375.634601 \r\nC 557.411628 375.634601 556.060562 376.194231 555.064554 377.190239 \r\nC 554.068546 378.186246 553.508916 379.537313 553.508916 380.94588 \r\nC 553.508916 382.354448 554.068546 383.705514 555.064554 384.701522 \r\nC 556.060562 385.69753 557.411628 386.25716 558.820195 386.25716 \r\nz\r\n\" style=\"fill:#1f77b4;fill-opacity:0.75;stroke:#1f77b4;stroke-opacity:0.75;\"/>\r\n    <path clip-path=\"url(#p22124b60a5)\" d=\"M 562.461739 372.760121 \r\nC 563.57259 372.760121 564.638093 372.318775 565.423583 371.533285 \r\nC 566.209073 370.747794 566.650419 369.682291 566.650419 368.571441 \r\nC 566.650419 367.46059 566.209073 366.395087 565.423583 365.609596 \r\nC 564.638093 364.824106 563.57259 364.38276 562.461739 364.38276 \r\nC 561.350888 364.38276 560.285385 364.824106 559.499895 365.609596 \r\nC 558.714405 366.395087 558.273059 367.46059 558.273059 368.571441 \r\nC 558.273059 369.682291 558.714405 370.747794 559.499895 371.533285 \r\nC 560.285385 372.318775 561.350888 372.760121 562.461739 372.760121 \r\nz\r\n\" style=\"fill:#1f77b4;fill-opacity:0.75;stroke:#1f77b4;stroke-opacity:0.75;\"/>\r\n    <path clip-path=\"url(#p22124b60a5)\" d=\"M 516.901273 343.887065 \r\nC 518.213877 343.887065 519.472897 343.365562 520.401049 342.437411 \r\nC 521.3292 341.50926 521.850703 340.25024 521.850703 338.937635 \r\nC 521.850703 337.625031 521.3292 336.366011 520.401049 335.43786 \r\nC 519.472897 334.509709 518.213877 333.988205 516.901273 333.988205 \r\nC 515.588669 333.988205 514.329649 334.509709 513.401497 335.43786 \r\nC 512.473346 336.366011 511.951843 337.625031 511.951843 338.937635 \r\nC 511.951843 340.25024 512.473346 341.50926 513.401497 342.437411 \r\nC 514.329649 343.365562 515.588669 343.887065 516.901273 343.887065 \r\nz\r\n\" style=\"fill:#1f77b4;fill-opacity:0.75;stroke:#1f77b4;stroke-opacity:0.75;\"/>\r\n    <path clip-path=\"url(#p22124b60a5)\" d=\"M 576.212088 389.70622 \r\nC 577.796521 389.70622 579.316273 389.076718 580.436637 387.956355 \r\nC 581.557001 386.835991 582.186503 385.316239 582.186503 383.731805 \r\nC 582.186503 382.147372 581.557001 380.62762 580.436637 379.507256 \r\nC 579.316273 378.386893 577.796521 377.75739 576.212088 377.75739 \r\nC 574.627654 377.75739 573.107902 378.386893 571.987538 379.507256 \r\nC 570.867175 380.62762 570.237673 382.147372 570.237673 383.731805 \r\nC 570.237673 385.316239 570.867175 386.835991 571.987538 387.956355 \r\nC 573.107902 389.076718 574.627654 389.70622 576.212088 389.70622 \r\nz\r\n\" style=\"fill:#1f77b4;fill-opacity:0.75;stroke:#1f77b4;stroke-opacity:0.75;\"/>\r\n    <path clip-path=\"url(#p22124b60a5)\" d=\"M 516.901273 398.678686 \r\nC 518.386058 398.678686 519.810229 398.088774 520.86013 397.038873 \r\nC 521.910032 395.988972 522.499943 394.5648 522.499943 393.080016 \r\nC 522.499943 391.595231 521.910032 390.171059 520.86013 389.121158 \r\nC 519.810229 388.071257 518.386058 387.481346 516.901273 387.481346 \r\nC 515.416488 387.481346 513.992317 388.071257 512.942415 389.121158 \r\nC 511.892514 390.171059 511.302603 391.595231 511.302603 393.080016 \r\nC 511.302603 394.5648 511.892514 395.988972 512.942415 397.038873 \r\nC 513.992317 398.088774 515.416488 398.678686 516.901273 398.678686 \r\nz\r\n\" style=\"fill:#1f77b4;fill-opacity:0.75;stroke:#1f77b4;stroke-opacity:0.75;\"/>\r\n    <path clip-path=\"url(#p22124b60a5)\" d=\"M 516.901273 362.849668 \r\nC 517.967407 362.849668 518.990018 362.426089 519.743888 361.672219 \r\nC 520.497758 360.918348 520.921338 359.895737 520.921338 358.829604 \r\nC 520.921338 357.76347 520.497758 356.740859 519.743888 355.986989 \r\nC 518.990018 355.233119 517.967407 354.809539 516.901273 354.809539 \r\nC 515.835139 354.809539 514.812528 355.233119 514.058658 355.986989 \r\nC 513.304788 356.740859 512.881208 357.76347 512.881208 358.829604 \r\nC 512.881208 359.895737 513.304788 360.918348 514.058658 361.672219 \r\nC 514.812528 362.426089 515.835139 362.849668 516.901273 362.849668 \r\nz\r\n\" style=\"fill:#1f77b4;fill-opacity:0.75;stroke:#1f77b4;stroke-opacity:0.75;\"/>\r\n    <path clip-path=\"url(#p22124b60a5)\" d=\"M 586.896524 412.014114 \r\nC 589.426834 412.014114 591.853849 411.008811 593.643048 409.219612 \r\nC 595.432247 407.430414 596.437549 405.003398 596.437549 402.473089 \r\nC 596.437549 399.94278 595.432247 397.515765 593.643048 395.726566 \r\nC 591.853849 393.937367 589.426834 392.932064 586.896524 392.932064 \r\nC 584.366215 392.932064 581.9392 393.937367 580.150001 395.726566 \r\nC 578.360802 397.515765 577.355499 399.94278 577.355499 402.473089 \r\nC 577.355499 405.003398 578.360802 407.430414 580.150001 409.219612 \r\nC 581.9392 411.008811 584.366215 412.014114 586.896524 412.014114 \r\nz\r\n\" style=\"fill:#1f77b4;fill-opacity:0.75;stroke:#1f77b4;stroke-opacity:0.75;\"/>\r\n    <path clip-path=\"url(#p22124b60a5)\" d=\"M 576.212088 376.150354 \r\nC 577.396115 376.150354 578.531806 375.679935 579.36904 374.842702 \r\nC 580.206273 374.005468 580.676692 372.869776 580.676692 371.685749 \r\nC 580.676692 370.501722 580.206273 369.366031 579.36904 368.528797 \r\nC 578.531806 367.691564 577.396115 367.221145 576.212088 367.221145 \r\nC 575.028061 367.221145 573.892369 367.691564 573.055135 368.528797 \r\nC 572.217902 369.366031 571.747483 370.501722 571.747483 371.685749 \r\nC 571.747483 372.869776 572.217902 374.005468 573.055135 374.842702 \r\nC 573.892369 375.679935 575.028061 376.150354 576.212088 376.150354 \r\nz\r\n\" style=\"fill:#1f77b4;fill-opacity:0.75;stroke:#1f77b4;stroke-opacity:0.75;\"/>\r\n    <path clip-path=\"url(#p22124b60a5)\" d=\"M 558.820195 379.273091 \r\nC 560.04849 379.273091 561.226642 378.785084 562.095178 377.916549 \r\nC 562.963713 377.048013 563.45172 375.869861 563.45172 374.641567 \r\nC 563.45172 373.413272 562.963713 372.23512 562.095178 371.366584 \r\nC 561.226642 370.498049 560.04849 370.010042 558.820195 370.010042 \r\nC 557.591901 370.010042 556.413749 370.498049 555.545213 371.366584 \r\nC 554.676678 372.23512 554.188671 373.413272 554.188671 374.641567 \r\nC 554.188671 375.869861 554.676678 377.048013 555.545213 377.916549 \r\nC 556.413749 378.785084 557.591901 379.273091 558.820195 379.273091 \r\nz\r\n\" style=\"fill:#1f77b4;fill-opacity:0.75;stroke:#1f77b4;stroke-opacity:0.75;\"/>\r\n    <path clip-path=\"url(#p22124b60a5)\" d=\"M 671.716501 324.150294 \r\nC 676.020595 324.150294 680.148985 322.440259 683.192439 319.396805 \r\nC 686.235893 316.353351 687.945928 312.224961 687.945928 307.920867 \r\nC 687.945928 303.616773 686.235893 299.488384 683.192439 296.444929 \r\nC 680.148985 293.401475 676.020595 291.69144 671.716501 291.69144 \r\nC 667.412407 291.69144 663.284018 293.401475 660.240563 296.444929 \r\nC 657.197109 299.488384 655.487074 303.616773 655.487074 307.920867 \r\nC 655.487074 312.224961 657.197109 316.353351 660.240563 319.396805 \r\nC 663.284018 322.440259 667.412407 324.150294 671.716501 324.150294 \r\nz\r\n\" style=\"fill:#1f77b4;fill-opacity:0.75;stroke:#1f77b4;stroke-opacity:0.75;\"/>\r\n    <path clip-path=\"url(#p22124b60a5)\" d=\"M 520.958729 399.705932 \r\nC 522.501832 399.705932 523.981941 399.09285 525.073079 398.001712 \r\nC 526.164218 396.910574 526.777299 395.430465 526.777299 393.887362 \r\nC 526.777299 392.344259 526.164218 390.86415 525.073079 389.773012 \r\nC 523.981941 388.681873 522.501832 388.068792 520.958729 388.068792 \r\nC 519.415627 388.068792 517.935518 388.681873 516.844379 389.773012 \r\nC 515.753241 390.86415 515.14016 392.344259 515.14016 393.887362 \r\nC 515.14016 395.430465 515.753241 396.910574 516.844379 398.001712 \r\nC 517.935518 399.09285 519.415627 399.705932 520.958729 399.705932 \r\nz\r\n\" style=\"fill:#1f77b4;fill-opacity:0.75;stroke:#1f77b4;stroke-opacity:0.75;\"/>\r\n    <path clip-path=\"url(#p22124b60a5)\" d=\"M 558.820195 400.715198 \r\nC 560.691578 400.715198 562.486565 399.97169 563.809832 398.648423 \r\nC 565.133099 397.325156 565.876607 395.530169 565.876607 393.658787 \r\nC 565.876607 391.787405 565.133099 389.992417 563.809832 388.66915 \r\nC 562.486565 387.345883 560.691578 386.602375 558.820195 386.602375 \r\nC 556.948813 386.602375 555.153826 387.345883 553.830559 388.66915 \r\nC 552.507292 389.992417 551.763784 391.787405 551.763784 393.658787 \r\nC 551.763784 395.530169 552.507292 397.325156 553.830559 398.648423 \r\nC 555.153826 399.97169 556.948813 400.715198 558.820195 400.715198 \r\nz\r\n\" style=\"fill:#1f77b4;fill-opacity:0.75;stroke:#1f77b4;stroke-opacity:0.75;\"/>\r\n    <path clip-path=\"url(#p22124b60a5)\" d=\"M 562.461739 312.501251 \r\nC 565.652895 312.501251 568.713779 311.233391 570.970268 308.976903 \r\nC 573.226756 306.720414 574.494615 303.65953 574.494615 300.468374 \r\nC 574.494615 297.277218 573.226756 294.216334 570.970268 291.959845 \r\nC 568.713779 289.703357 565.652895 288.435497 562.461739 288.435497 \r\nC 559.270583 288.435497 556.209698 289.703357 553.95321 291.959845 \r\nC 551.696722 294.216334 550.428862 297.277218 550.428862 300.468374 \r\nC 550.428862 303.65953 551.696722 306.720414 553.95321 308.976903 \r\nC 556.209698 311.233391 559.270583 312.501251 562.461739 312.501251 \r\nz\r\n\" style=\"fill:#1f77b4;fill-opacity:0.75;stroke:#1f77b4;stroke-opacity:0.75;\"/>\r\n    <path clip-path=\"url(#p22124b60a5)\" d=\"M 558.820195 399.98005 \r\nC 560.666328 399.98005 562.437097 399.246573 563.74251 397.94116 \r\nC 565.047923 396.635747 565.781399 394.864979 565.781399 393.018846 \r\nC 565.781399 391.172713 565.047923 389.401944 563.74251 388.096531 \r\nC 562.437097 386.791118 560.666328 386.057642 558.820195 386.057642 \r\nC 556.974063 386.057642 555.203294 386.791118 553.897881 388.096531 \r\nC 552.592468 389.401944 551.858991 391.172713 551.858991 393.018846 \r\nC 551.858991 394.864979 552.592468 396.635747 553.897881 397.94116 \r\nC 555.203294 399.246573 556.974063 399.98005 558.820195 399.98005 \r\nz\r\n\" style=\"fill:#1f77b4;fill-opacity:0.75;stroke:#1f77b4;stroke-opacity:0.75;\"/>\r\n    <path clip-path=\"url(#p22124b60a5)\" d=\"M 520.958729 359.338033 \r\nC 522.046147 359.338033 523.089173 358.905997 523.858093 358.137077 \r\nC 524.627013 357.368157 525.059049 356.325131 525.059049 355.237713 \r\nC 525.059049 354.150296 524.627013 353.10727 523.858093 352.33835 \r\nC 523.089173 351.569429 522.046147 351.137394 520.958729 351.137394 \r\nC 519.871312 351.137394 518.828286 351.569429 518.059366 352.33835 \r\nC 517.290445 353.10727 516.85841 354.150296 516.85841 355.237713 \r\nC 516.85841 356.325131 517.290445 357.368157 518.059366 358.137077 \r\nC 518.828286 358.905997 519.871312 359.338033 520.958729 359.338033 \r\nz\r\n\" style=\"fill:#1f77b4;fill-opacity:0.75;stroke:#1f77b4;stroke-opacity:0.75;\"/>\r\n    <path clip-path=\"url(#p22124b60a5)\" d=\"M 562.461739 350.39887 \r\nC 563.81231 350.39887 565.107747 349.862282 566.062746 348.907284 \r\nC 567.017744 347.952286 567.554331 346.656848 567.554331 345.306277 \r\nC 567.554331 343.955706 567.017744 342.660268 566.062746 341.70527 \r\nC 565.107747 340.750272 563.81231 340.213685 562.461739 340.213685 \r\nC 561.111168 340.213685 559.81573 340.750272 558.860732 341.70527 \r\nC 557.905734 342.660268 557.369146 343.955706 557.369146 345.306277 \r\nC 557.369146 346.656848 557.905734 347.952286 558.860732 348.907284 \r\nC 559.81573 349.862282 561.111168 350.39887 562.461739 350.39887 \r\nz\r\n\" style=\"fill:#1f77b4;fill-opacity:0.75;stroke:#1f77b4;stroke-opacity:0.75;\"/>\r\n    <path clip-path=\"url(#p22124b60a5)\" d=\"M 520.958729 382.084108 \r\nC 522.153815 382.084108 523.300115 381.609295 524.145168 380.764242 \r\nC 524.990222 379.919189 525.465034 378.772889 525.465034 377.577803 \r\nC 525.465034 376.382717 524.990222 375.236418 524.145168 374.391365 \r\nC 523.300115 373.546311 522.153815 373.071498 520.958729 373.071498 \r\nC 519.763643 373.071498 518.617344 373.546311 517.772291 374.391365 \r\nC 516.927237 375.236418 516.452424 376.382717 516.452424 377.577803 \r\nC 516.452424 378.772889 516.927237 379.919189 517.772291 380.764242 \r\nC 518.617344 381.609295 519.763643 382.084108 520.958729 382.084108 \r\nz\r\n\" style=\"fill:#1f77b4;fill-opacity:0.75;stroke:#1f77b4;stroke-opacity:0.75;\"/>\r\n    <path clip-path=\"url(#p22124b60a5)\" d=\"M 562.461739 399.635294 \r\nC 564.320928 399.635294 566.104219 398.896631 567.418865 397.581986 \r\nC 568.73351 396.267341 569.472173 394.484049 569.472173 392.62486 \r\nC 569.472173 390.765671 568.73351 388.982379 567.418865 387.667734 \r\nC 566.104219 386.353089 564.320928 385.614426 562.461739 385.614426 \r\nC 560.60255 385.614426 558.819258 386.353089 557.504613 387.667734 \r\nC 556.189968 388.982379 555.451305 390.765671 555.451305 392.62486 \r\nC 555.451305 394.484049 556.189968 396.267341 557.504613 397.581986 \r\nC 558.819258 398.896631 560.60255 399.635294 562.461739 399.635294 \r\nz\r\n\" style=\"fill:#1f77b4;fill-opacity:0.75;stroke:#1f77b4;stroke-opacity:0.75;\"/>\r\n    <path clip-path=\"url(#p22124b60a5)\" d=\"M 558.820195 368.621991 \r\nC 559.888589 368.621991 560.913368 368.197514 561.668836 367.442046 \r\nC 562.424305 366.686577 562.848782 365.661798 562.848782 364.593405 \r\nC 562.848782 363.525011 562.424305 362.500232 561.668836 361.744764 \r\nC 560.913368 360.989295 559.888589 360.564818 558.820195 360.564818 \r\nC 557.751802 360.564818 556.727023 360.989295 555.971554 361.744764 \r\nC 555.216086 362.500232 554.791609 363.525011 554.791609 364.593405 \r\nC 554.791609 365.661798 555.216086 366.686577 555.971554 367.442046 \r\nC 556.727023 368.197514 557.751802 368.621991 558.820195 368.621991 \r\nz\r\n\" style=\"fill:#1f77b4;fill-opacity:0.75;stroke:#1f77b4;stroke-opacity:0.75;\"/>\r\n    <path clip-path=\"url(#p22124b60a5)\" d=\"M 516.901273 342.72876 \r\nC 518.238834 342.72876 519.521792 342.197341 520.467591 341.251543 \r\nC 521.413389 340.305744 521.944808 339.022786 521.944808 337.685225 \r\nC 521.944808 336.347664 521.413389 335.064706 520.467591 334.118907 \r\nC 519.521792 333.173109 518.238834 332.64169 516.901273 332.64169 \r\nC 515.563712 332.64169 514.280754 333.173109 513.334955 334.118907 \r\nC 512.389157 335.064706 511.857738 336.347664 511.857738 337.685225 \r\nC 511.857738 339.022786 512.389157 340.305744 513.334955 341.251543 \r\nC 514.280754 342.197341 515.563712 342.72876 516.901273 342.72876 \r\nz\r\n\" style=\"fill:#1f77b4;fill-opacity:0.75;stroke:#1f77b4;stroke-opacity:0.75;\"/>\r\n    <path clip-path=\"url(#p22124b60a5)\" d=\"M 516.901273 374.101207 \r\nC 517.995464 374.101207 519.044987 373.66648 519.818697 372.89277 \r\nC 520.592406 372.11906 521.027133 371.069537 521.027133 369.975347 \r\nC 521.027133 368.881156 520.592406 367.831633 519.818697 367.057923 \r\nC 519.044987 366.284213 517.995464 365.849486 516.901273 365.849486 \r\nC 515.807082 365.849486 514.757559 366.284213 513.983849 367.057923 \r\nC 513.210139 367.831633 512.775413 368.881156 512.775413 369.975347 \r\nC 512.775413 371.069537 513.210139 372.11906 513.983849 372.89277 \r\nC 514.757559 373.66648 515.807082 374.101207 516.901273 374.101207 \r\nz\r\n\" style=\"fill:#1f77b4;fill-opacity:0.75;stroke:#1f77b4;stroke-opacity:0.75;\"/>\r\n    <path clip-path=\"url(#p22124b60a5)\" d=\"M 520.958729 378.797687 \r\nC 522.10744 378.797687 523.209257 378.341299 524.021518 377.529038 \r\nC 524.833779 376.716777 525.290167 375.61496 525.290167 374.466249 \r\nC 525.290167 373.317539 524.833779 372.215722 524.021518 371.403461 \r\nC 523.209257 370.5912 522.10744 370.134812 520.958729 370.134812 \r\nC 519.810019 370.134812 518.708202 370.5912 517.895941 371.403461 \r\nC 517.08368 372.215722 516.627292 373.317539 516.627292 374.466249 \r\nC 516.627292 375.61496 517.08368 376.716777 517.895941 377.529038 \r\nC 518.708202 378.341299 519.810019 378.797687 520.958729 378.797687 \r\nz\r\n\" style=\"fill:#1f77b4;fill-opacity:0.75;stroke:#1f77b4;stroke-opacity:0.75;\"/>\r\n    <path clip-path=\"url(#p22124b60a5)\" d=\"M 516.901273 395.941822 \r\nC 518.329008 395.941822 519.698458 395.374577 520.708019 394.365016 \r\nC 521.71758 393.355456 522.284825 391.986005 522.284825 390.558271 \r\nC 522.284825 389.130536 521.71758 387.761086 520.708019 386.751525 \r\nC 519.698458 385.741964 518.329008 385.174719 516.901273 385.174719 \r\nC 515.473538 385.174719 514.104088 385.741964 513.094527 386.751525 \r\nC 512.084966 387.761086 511.517721 389.130536 511.517721 390.558271 \r\nC 511.517721 391.986005 512.084966 393.355456 513.094527 394.365016 \r\nC 514.104088 395.374577 515.473538 395.941822 516.901273 395.941822 \r\nz\r\n\" style=\"fill:#1f77b4;fill-opacity:0.75;stroke:#1f77b4;stroke-opacity:0.75;\"/>\r\n    <path clip-path=\"url(#p22124b60a5)\" d=\"M 586.896524 358.292085 \r\nC 588.05395 358.292085 589.164127 357.832235 589.982551 357.013811 \r\nC 590.800975 356.195387 591.260825 355.08521 591.260825 353.927784 \r\nC 591.260825 352.770358 590.800975 351.660181 589.982551 350.841757 \r\nC 589.164127 350.023333 588.05395 349.563483 586.896524 349.563483 \r\nC 585.739098 349.563483 584.628921 350.023333 583.810497 350.841757 \r\nC 582.992074 351.660181 582.532223 352.770358 582.532223 353.927784 \r\nC 582.532223 355.08521 582.992074 356.195387 583.810497 357.013811 \r\nC 584.628921 357.832235 585.739098 358.292085 586.896524 358.292085 \r\nz\r\n\" style=\"fill:#1f77b4;fill-opacity:0.75;stroke:#1f77b4;stroke-opacity:0.75;\"/>\r\n    <path clip-path=\"url(#p22124b60a5)\" d=\"M 520.958729 340.623259 \r\nC 522.376751 340.623259 523.736885 340.059873 524.739578 339.057181 \r\nC 525.74227 338.054488 526.305656 336.694354 526.305656 335.276332 \r\nC 526.305656 333.858311 525.74227 332.498177 524.739578 331.495484 \r\nC 523.736885 330.492791 522.376751 329.929405 520.958729 329.929405 \r\nC 519.540708 329.929405 518.180574 330.492791 517.177881 331.495484 \r\nC 516.175188 332.498177 515.611802 333.858311 515.611802 335.276332 \r\nC 515.611802 336.694354 516.175188 338.054488 517.177881 339.057181 \r\nC 518.180574 340.059873 519.540708 340.623259 520.958729 340.623259 \r\nz\r\n\" style=\"fill:#1f77b4;fill-opacity:0.75;stroke:#1f77b4;stroke-opacity:0.75;\"/>\r\n    <path clip-path=\"url(#p22124b60a5)\" d=\"M 520.958729 355.750441 \r\nC 522.082447 355.750441 523.160291 355.303984 523.95488 354.509395 \r\nC 524.749468 353.714807 525.195926 352.636962 525.195926 351.513245 \r\nC 525.195926 350.389527 524.749468 349.311683 523.95488 348.517094 \r\nC 523.160291 347.722506 522.082447 347.276048 520.958729 347.276048 \r\nC 519.835012 347.276048 518.757167 347.722506 517.962579 348.517094 \r\nC 517.167991 349.311683 516.721533 350.389527 516.721533 351.513245 \r\nC 516.721533 352.636962 517.167991 353.714807 517.962579 354.509395 \r\nC 518.757167 355.303984 519.835012 355.750441 520.958729 355.750441 \r\nz\r\n\" style=\"fill:#1f77b4;fill-opacity:0.75;stroke:#1f77b4;stroke-opacity:0.75;\"/>\r\n    <path clip-path=\"url(#p22124b60a5)\" d=\"M 576.212088 363.725145 \r\nC 577.280216 363.725145 578.30474 363.300773 579.060021 362.545492 \r\nC 579.815301 361.790212 580.239673 360.765688 580.239673 359.69756 \r\nC 580.239673 358.629431 579.815301 357.604907 579.060021 356.849627 \r\nC 578.30474 356.094346 577.280216 355.669974 576.212088 355.669974 \r\nC 575.14396 355.669974 574.119435 356.094346 573.364155 356.849627 \r\nC 572.608874 357.604907 572.184502 358.629431 572.184502 359.69756 \r\nC 572.184502 360.765688 572.608874 361.790212 573.364155 362.545492 \r\nC 574.119435 363.300773 575.14396 363.725145 576.212088 363.725145 \r\nz\r\n\" style=\"fill:#1f77b4;fill-opacity:0.75;stroke:#1f77b4;stroke-opacity:0.75;\"/>\r\n    <path clip-path=\"url(#p22124b60a5)\" d=\"M 520.958729 354.565133 \r\nC 522.097673 354.565133 523.190122 354.112626 523.995477 353.307271 \r\nC 524.800832 352.501916 525.253339 351.409467 525.253339 350.270524 \r\nC 525.253339 349.13158 524.800832 348.039131 523.995477 347.233776 \r\nC 523.190122 346.428421 522.097673 345.975914 520.958729 345.975914 \r\nC 519.819786 345.975914 518.727337 346.428421 517.921982 347.233776 \r\nC 517.116627 348.039131 516.66412 349.13158 516.66412 350.270524 \r\nC 516.66412 351.409467 517.116627 352.501916 517.921982 353.307271 \r\nC 518.727337 354.112626 519.819786 354.565133 520.958729 354.565133 \r\nz\r\n\" style=\"fill:#1f77b4;fill-opacity:0.75;stroke:#1f77b4;stroke-opacity:0.75;\"/>\r\n    <path clip-path=\"url(#p22124b60a5)\" d=\"M 520.958729 396.942908 \r\nC 522.439347 396.942908 523.859522 396.354652 524.906476 395.307697 \r\nC 525.953431 394.260742 526.541687 392.840568 526.541687 391.35995 \r\nC 526.541687 389.879333 525.953431 388.459158 524.906476 387.412203 \r\nC 523.859522 386.365248 522.439347 385.776993 520.958729 385.776993 \r\nC 519.478112 385.776993 518.057937 386.365248 517.010982 387.412203 \r\nC 515.964028 388.459158 515.375772 389.879333 515.375772 391.35995 \r\nC 515.375772 392.840568 515.964028 394.260742 517.010982 395.307697 \r\nC 518.057937 396.354652 519.478112 396.942908 520.958729 396.942908 \r\nz\r\n\" style=\"fill:#1f77b4;fill-opacity:0.75;stroke:#1f77b4;stroke-opacity:0.75;\"/>\r\n    <path clip-path=\"url(#p22124b60a5)\" d=\"M 558.820195 344.099084 \r\nC 560.395213 344.099084 561.905934 343.473323 563.01964 342.359617 \r\nC 564.133345 341.245911 564.759106 339.73519 564.759106 338.160173 \r\nC 564.759106 336.585155 564.133345 335.074434 563.01964 333.960729 \r\nC 561.905934 332.847023 560.395213 332.221262 558.820195 332.221262 \r\nC 557.245178 332.221262 555.734457 332.847023 554.620751 333.960729 \r\nC 553.507046 335.074434 552.881284 336.585155 552.881284 338.160173 \r\nC 552.881284 339.73519 553.507046 341.245911 554.620751 342.359617 \r\nC 555.734457 343.473323 557.245178 344.099084 558.820195 344.099084 \r\nz\r\n\" style=\"fill:#1f77b4;fill-opacity:0.75;stroke:#1f77b4;stroke-opacity:0.75;\"/>\r\n    <path clip-path=\"url(#p22124b60a5)\" d=\"M 833.316954 357.158468 \r\nC 834.948904 357.158468 836.514232 356.510088 837.668195 355.356125 \r\nC 838.822158 354.202162 839.470538 352.636834 839.470538 351.004884 \r\nC 839.470538 349.372935 838.822158 347.807606 837.668195 346.653643 \r\nC 836.514232 345.499681 834.948904 344.8513 833.316954 344.8513 \r\nC 831.685005 344.8513 830.119676 345.499681 828.965713 346.653643 \r\nC 827.811751 347.807606 827.16337 349.372935 827.16337 351.004884 \r\nC 827.16337 352.636834 827.811751 354.202162 828.965713 355.356125 \r\nC 830.119676 356.510088 831.685005 357.158468 833.316954 357.158468 \r\nz\r\n\" style=\"fill:#1f77b4;fill-opacity:0.75;stroke:#1f77b4;stroke-opacity:0.75;\"/>\r\n    <path clip-path=\"url(#p22124b60a5)\" d=\"M 576.212088 343.92281 \r\nC 577.908719 343.92281 579.536089 343.248731 580.735789 342.049032 \r\nC 581.935488 340.849332 582.609567 339.221962 582.609567 337.525331 \r\nC 582.609567 335.8287 581.935488 334.201329 580.735789 333.00163 \r\nC 579.536089 331.80193 577.908719 331.127851 576.212088 331.127851 \r\nC 574.515456 331.127851 572.888086 331.80193 571.688387 333.00163 \r\nC 570.488687 334.201329 569.814608 335.8287 569.814608 337.525331 \r\nC 569.814608 339.221962 570.488687 340.849332 571.688387 342.049032 \r\nC 572.888086 343.248731 574.515456 343.92281 576.212088 343.92281 \r\nz\r\n\" style=\"fill:#1f77b4;fill-opacity:0.75;stroke:#1f77b4;stroke-opacity:0.75;\"/>\r\n    <path clip-path=\"url(#p22124b60a5)\" d=\"M 516.901273 371.557263 \r\nC 517.97807 371.557263 519.01091 371.129447 519.772321 370.368036 \r\nC 520.533731 369.606625 520.961547 368.573786 520.961547 367.496988 \r\nC 520.961547 366.420191 520.533731 365.387351 519.772321 364.625941 \r\nC 519.01091 363.86453 517.97807 363.436714 516.901273 363.436714 \r\nC 515.824476 363.436714 514.791636 363.86453 514.030225 364.625941 \r\nC 513.268815 365.387351 512.840998 366.420191 512.840998 367.496988 \r\nC 512.840998 368.573786 513.268815 369.606625 514.030225 370.368036 \r\nC 514.791636 371.129447 515.824476 371.557263 516.901273 371.557263 \r\nz\r\n\" style=\"fill:#1f77b4;fill-opacity:0.75;stroke:#1f77b4;stroke-opacity:0.75;\"/>\r\n    <path clip-path=\"url(#p22124b60a5)\" d=\"M 516.901273 362.239122 \r\nC 517.96969 362.239122 518.994492 361.814636 519.749977 361.059151 \r\nC 520.505462 360.303666 520.929948 359.278864 520.929948 358.210447 \r\nC 520.929948 357.14203 520.505462 356.117228 519.749977 355.361743 \r\nC 518.994492 354.606258 517.96969 354.181772 516.901273 354.181772 \r\nC 515.832856 354.181772 514.808054 354.606258 514.052569 355.361743 \r\nC 513.297084 356.117228 512.872598 357.14203 512.872598 358.210447 \r\nC 512.872598 359.278864 513.297084 360.303666 514.052569 361.059151 \r\nC 514.808054 361.814636 515.832856 362.239122 516.901273 362.239122 \r\nz\r\n\" style=\"fill:#1f77b4;fill-opacity:0.75;stroke:#1f77b4;stroke-opacity:0.75;\"/>\r\n    <path clip-path=\"url(#p22124b60a5)\" d=\"M 562.461739 387.997695 \r\nC 563.935305 387.997695 565.348717 387.412241 566.390686 386.370272 \r\nC 567.432655 385.328303 568.018109 383.914892 568.018109 382.441325 \r\nC 568.018109 380.967759 567.432655 379.554347 566.390686 378.512379 \r\nC 565.348717 377.47041 563.935305 376.884955 562.461739 376.884955 \r\nC 560.988172 376.884955 559.574761 377.47041 558.532792 378.512379 \r\nC 557.490823 379.554347 556.905369 380.967759 556.905369 382.441325 \r\nC 556.905369 383.914892 557.490823 385.328303 558.532792 386.370272 \r\nC 559.574761 387.412241 560.988172 387.997695 562.461739 387.997695 \r\nz\r\n\" style=\"fill:#1f77b4;fill-opacity:0.75;stroke:#1f77b4;stroke-opacity:0.75;\"/>\r\n    <path clip-path=\"url(#p22124b60a5)\" d=\"M 516.901273 363.461683 \r\nC 517.965526 363.461683 518.986333 363.038851 519.738873 362.28631 \r\nC 520.491413 361.53377 520.914246 360.512963 520.914246 359.44871 \r\nC 520.914246 358.384457 520.491413 357.36365 519.738873 356.61111 \r\nC 518.986333 355.85857 517.965526 355.435738 516.901273 355.435738 \r\nC 515.83702 355.435738 514.816213 355.85857 514.063673 356.61111 \r\nC 513.311132 357.36365 512.8883 358.384457 512.8883 359.44871 \r\nC 512.8883 360.512963 513.311132 361.53377 514.063673 362.28631 \r\nC 514.816213 363.038851 515.83702 363.461683 516.901273 363.461683 \r\nz\r\n\" style=\"fill:#1f77b4;fill-opacity:0.75;stroke:#1f77b4;stroke-opacity:0.75;\"/>\r\n    <path clip-path=\"url(#p22124b60a5)\" d=\"M 618.378244 487.969034 \r\nC 624.743118 487.969034 630.848161 485.440243 635.348807 480.939597 \r\nC 639.849453 476.438951 642.378244 470.333908 642.378244 463.969034 \r\nC 642.378244 457.60416 639.849453 451.499117 635.348807 446.998471 \r\nC 630.848161 442.497825 624.743118 439.969034 618.378244 439.969034 \r\nC 612.01337 439.969034 605.908327 442.497825 601.407681 446.998471 \r\nC 596.907035 451.499117 594.378244 457.60416 594.378244 463.969034 \r\nC 594.378244 470.333908 596.907035 476.438951 601.407681 480.939597 \r\nC 605.908327 485.440243 612.01337 487.969034 618.378244 487.969034 \r\nz\r\n\" style=\"fill:#1f77b4;fill-opacity:0.75;stroke:#1f77b4;stroke-opacity:0.75;\"/>\r\n    <path clip-path=\"url(#p22124b60a5)\" d=\"M 516.901273 374.101207 \r\nC 517.995464 374.101207 519.044987 373.66648 519.818697 372.89277 \r\nC 520.592406 372.11906 521.027133 371.069537 521.027133 369.975347 \r\nC 521.027133 368.881156 520.592406 367.831633 519.818697 367.057923 \r\nC 519.044987 366.284213 517.995464 365.849486 516.901273 365.849486 \r\nC 515.807082 365.849486 514.757559 366.284213 513.983849 367.057923 \r\nC 513.210139 367.831633 512.775413 368.881156 512.775413 369.975347 \r\nC 512.775413 371.069537 513.210139 372.11906 513.983849 372.89277 \r\nC 514.757559 373.66648 515.807082 374.101207 516.901273 374.101207 \r\nz\r\n\" style=\"fill:#1f77b4;fill-opacity:0.75;stroke:#1f77b4;stroke-opacity:0.75;\"/>\r\n    <path clip-path=\"url(#p22124b60a5)\" d=\"M 586.896524 370.045314 \r\nC 587.981344 370.045314 589.021878 369.614311 589.788961 368.847228 \r\nC 590.556044 368.080144 590.987047 367.039611 590.987047 365.954791 \r\nC 590.987047 364.869972 590.556044 363.829438 589.788961 363.062355 \r\nC 589.021878 362.295272 587.981344 361.864269 586.896524 361.864269 \r\nC 585.811705 361.864269 584.771171 362.295272 584.004088 363.062355 \r\nC 583.237005 363.829438 582.806002 364.869972 582.806002 365.954791 \r\nC 582.806002 367.039611 583.237005 368.080144 584.004088 368.847228 \r\nC 584.771171 369.614311 585.811705 370.045314 586.896524 370.045314 \r\nz\r\n\" style=\"fill:#1f77b4;fill-opacity:0.75;stroke:#1f77b4;stroke-opacity:0.75;\"/>\r\n    <path clip-path=\"url(#p22124b60a5)\" d=\"M 576.212088 358.339318 \r\nC 577.357974 358.339318 578.457081 357.884053 579.267345 357.073789 \r\nC 580.077608 356.263526 580.532874 355.164418 580.532874 354.018532 \r\nC 580.532874 352.872646 580.077608 351.773539 579.267345 350.963275 \r\nC 578.457081 350.153011 577.357974 349.697746 576.212088 349.697746 \r\nC 575.066202 349.697746 573.967094 350.153011 573.156831 350.963275 \r\nC 572.346567 351.773539 571.891302 352.872646 571.891302 354.018532 \r\nC 571.891302 355.164418 572.346567 356.263526 573.156831 357.073789 \r\nC 573.967094 357.884053 575.066202 358.339318 576.212088 358.339318 \r\nz\r\n\" style=\"fill:#1f77b4;fill-opacity:0.75;stroke:#1f77b4;stroke-opacity:0.75;\"/>\r\n    <path clip-path=\"url(#p22124b60a5)\" d=\"M 558.820195 312.133359 \r\nC 561.952917 312.133359 564.957753 310.888715 567.172922 308.673546 \r\nC 569.388091 306.458377 570.632735 303.453542 570.632735 300.32082 \r\nC 570.632735 297.188098 569.388091 294.183262 567.172922 291.968093 \r\nC 564.957753 289.752924 561.952917 288.508281 558.820195 288.508281 \r\nC 555.687473 288.508281 552.682638 289.752924 550.467469 291.968093 \r\nC 548.2523 294.183262 547.007656 297.188098 547.007656 300.32082 \r\nC 547.007656 303.453542 548.2523 306.458377 550.467469 308.673546 \r\nC 552.682638 310.888715 555.687473 312.133359 558.820195 312.133359 \r\nz\r\n\" style=\"fill:#1f77b4;fill-opacity:0.75;stroke:#1f77b4;stroke-opacity:0.75;\"/>\r\n    <path clip-path=\"url(#p22124b60a5)\" d=\"M 615.364134 359.296113 \r\nC 616.519992 359.296113 617.628664 358.836885 618.445979 358.019571 \r\nC 619.263294 357.202256 619.722521 356.093583 619.722521 354.937725 \r\nC 619.722521 353.781867 619.263294 352.673195 618.445979 351.85588 \r\nC 617.628664 351.038565 616.519992 350.579338 615.364134 350.579338 \r\nC 614.208276 350.579338 613.099603 351.038565 612.282288 351.85588 \r\nC 611.464973 352.673195 611.005746 353.781867 611.005746 354.937725 \r\nC 611.005746 356.093583 611.464973 357.202256 612.282288 358.019571 \r\nC 613.099603 358.836885 614.208276 359.296113 615.364134 359.296113 \r\nz\r\n\" style=\"fill:#1f77b4;fill-opacity:0.75;stroke:#1f77b4;stroke-opacity:0.75;\"/>\r\n    <path clip-path=\"url(#p22124b60a5)\" d=\"M 683.163364 386.755779 \r\nC 684.965445 386.755779 686.693959 386.039805 687.968222 384.765542 \r\nC 689.242486 383.491278 689.95846 381.762764 689.95846 379.960683 \r\nC 689.95846 378.158603 689.242486 376.430088 687.968222 375.155825 \r\nC 686.693959 373.881562 684.965445 373.165588 683.163364 373.165588 \r\nC 681.361284 373.165588 679.632769 373.881562 678.358506 375.155825 \r\nC 677.084243 376.430088 676.368269 378.158603 676.368269 379.960683 \r\nC 676.368269 381.762764 677.084243 383.491278 678.358506 384.765542 \r\nC 679.632769 386.039805 681.361284 386.755779 683.163364 386.755779 \r\nz\r\n\" style=\"fill:#1f77b4;fill-opacity:0.75;stroke:#1f77b4;stroke-opacity:0.75;\"/>\r\n    <path clip-path=\"url(#p22124b60a5)\" d=\"M 586.896524 363.659115 \r\nC 587.966013 363.659115 588.991842 363.234203 589.748084 362.477961 \r\nC 590.504327 361.721718 590.929239 360.695889 590.929239 359.626401 \r\nC 590.929239 358.556912 590.504327 357.531083 589.748084 356.77484 \r\nC 588.991842 356.018598 587.966013 355.593686 586.896524 355.593686 \r\nC 585.827036 355.593686 584.801207 356.018598 584.044964 356.77484 \r\nC 583.288722 357.531083 582.863809 358.556912 582.863809 359.626401 \r\nC 582.863809 360.695889 583.288722 361.721718 584.044964 362.477961 \r\nC 584.801207 363.234203 585.827036 363.659115 586.896524 363.659115 \r\nz\r\n\" style=\"fill:#1f77b4;fill-opacity:0.75;stroke:#1f77b4;stroke-opacity:0.75;\"/>\r\n    <path clip-path=\"url(#p22124b60a5)\" d=\"M 562.461739 363.187281 \r\nC 563.532103 363.187281 564.558772 362.762021 565.315633 362.005159 \r\nC 566.072495 361.248297 566.497755 360.221629 566.497755 359.151265 \r\nC 566.497755 358.0809 566.072495 357.054232 565.315633 356.29737 \r\nC 564.558772 355.540508 563.532103 355.115248 562.461739 355.115248 \r\nC 561.391375 355.115248 560.364706 355.540508 559.607844 356.29737 \r\nC 558.850983 357.054232 558.425723 358.0809 558.425723 359.151265 \r\nC 558.425723 360.221629 558.850983 361.248297 559.607844 362.005159 \r\nC 560.364706 362.762021 561.391375 363.187281 562.461739 363.187281 \r\nz\r\n\" style=\"fill:#1f77b4;fill-opacity:0.75;stroke:#1f77b4;stroke-opacity:0.75;\"/>\r\n    <path clip-path=\"url(#p22124b60a5)\" d=\"M 516.901273 356.209387 \r\nC 518.013916 356.209387 519.081138 355.76733 519.867896 354.980572 \r\nC 520.654653 354.193814 521.096711 353.126592 521.096711 352.013949 \r\nC 521.096711 350.901306 520.654653 349.834084 519.867896 349.047326 \r\nC 519.081138 348.260569 518.013916 347.818511 516.901273 347.818511 \r\nC 515.78863 347.818511 514.721408 348.260569 513.93465 349.047326 \r\nC 513.147893 349.834084 512.705835 350.901306 512.705835 352.013949 \r\nC 512.705835 353.126592 513.147893 354.193814 513.93465 354.980572 \r\nC 514.721408 355.76733 515.78863 356.209387 516.901273 356.209387 \r\nz\r\n\" style=\"fill:#1f77b4;fill-opacity:0.75;stroke:#1f77b4;stroke-opacity:0.75;\"/>\r\n    <path clip-path=\"url(#p22124b60a5)\" d=\"M 764.482742 408.02673 \r\nC 767.901635 408.02673 771.180959 406.66839 773.598481 404.250868 \r\nC 776.016003 401.833346 777.374343 398.554022 777.374343 395.135129 \r\nC 777.374343 391.716237 776.016003 388.436913 773.598481 386.019391 \r\nC 771.180959 383.601869 767.901635 382.243529 764.482742 382.243529 \r\nC 761.06385 382.243529 757.784526 383.601869 755.367004 386.019391 \r\nC 752.949482 388.436913 751.591142 391.716237 751.591142 395.135129 \r\nC 751.591142 398.554022 752.949482 401.833346 755.367004 404.250868 \r\nC 757.784526 406.66839 761.06385 408.02673 764.482742 408.02673 \r\nz\r\n\" style=\"fill:#1f77b4;fill-opacity:0.75;stroke:#1f77b4;stroke-opacity:0.75;\"/>\r\n    <path clip-path=\"url(#p22124b60a5)\" d=\"M 615.364134 374.756701 \r\nC 616.553495 374.756701 617.694304 374.284162 618.535309 373.443157 \r\nC 619.376315 372.602151 619.848854 371.461343 619.848854 370.271981 \r\nC 619.848854 369.082619 619.376315 367.941811 618.535309 367.100805 \r\nC 617.694304 366.259799 616.553495 365.787261 615.364134 365.787261 \r\nC 614.174772 365.787261 613.033963 366.259799 612.192958 367.100805 \r\nC 611.351952 367.941811 610.879414 369.082619 610.879414 370.271981 \r\nC 610.879414 371.461343 611.351952 372.602151 612.192958 373.443157 \r\nC 613.033963 374.284162 614.174772 374.756701 615.364134 374.756701 \r\nz\r\n\" style=\"fill:#1f77b4;fill-opacity:0.75;stroke:#1f77b4;stroke-opacity:0.75;\"/>\r\n    <path clip-path=\"url(#p22124b60a5)\" d=\"M 520.958729 364.820833 \r\nC 522.020342 364.820833 523.038616 364.39905 523.78929 363.648377 \r\nC 524.539963 362.897703 524.961746 361.879429 524.961746 360.817816 \r\nC 524.961746 359.756204 524.539963 358.737929 523.78929 357.987256 \r\nC 523.038616 357.236583 522.020342 356.8148 520.958729 356.8148 \r\nC 519.897117 356.8148 518.878842 357.236583 518.128169 357.987256 \r\nC 517.377496 358.737929 516.955713 359.756204 516.955713 360.817816 \r\nC 516.955713 361.879429 517.377496 362.897703 518.128169 363.648377 \r\nC 518.878842 364.39905 519.897117 364.820833 520.958729 364.820833 \r\nz\r\n\" style=\"fill:#1f77b4;fill-opacity:0.75;stroke:#1f77b4;stroke-opacity:0.75;\"/>\r\n    <path clip-path=\"url(#p22124b60a5)\" d=\"M 520.958729 405.985293 \r\nC 522.650639 405.985293 524.27348 405.313091 525.469841 404.11673 \r\nC 526.666201 402.920369 527.338404 401.297528 527.338404 399.605619 \r\nC 527.338404 397.913709 526.666201 396.290868 525.469841 395.094508 \r\nC 524.27348 393.898147 522.650639 393.225944 520.958729 393.225944 \r\nC 519.26682 393.225944 517.643979 393.898147 516.447618 395.094508 \r\nC 515.251257 396.290868 514.579055 397.913709 514.579055 399.605619 \r\nC 514.579055 401.297528 515.251257 402.920369 516.447618 404.11673 \r\nC 517.643979 405.313091 519.26682 405.985293 520.958729 405.985293 \r\nz\r\n\" style=\"fill:#1f77b4;fill-opacity:0.75;stroke:#1f77b4;stroke-opacity:0.75;\"/>\r\n    <path clip-path=\"url(#p22124b60a5)\" d=\"M 558.820195 351.873501 \r\nC 560.110018 351.873501 561.347185 351.361049 562.259227 350.449007 \r\nC 563.171269 349.536965 563.683721 348.299797 563.683721 347.009975 \r\nC 563.683721 345.720153 563.171269 344.482985 562.259227 343.570943 \r\nC 561.347185 342.658901 560.110018 342.146449 558.820195 342.146449 \r\nC 557.530373 342.146449 556.293205 342.658901 555.381163 343.570943 \r\nC 554.469121 344.482985 553.95667 345.720153 553.95667 347.009975 \r\nC 553.95667 348.299797 554.469121 349.536965 555.381163 350.449007 \r\nC 556.293205 351.361049 557.530373 351.873501 558.820195 351.873501 \r\nz\r\n\" style=\"fill:#1f77b4;fill-opacity:0.75;stroke:#1f77b4;stroke-opacity:0.75;\"/>\r\n    <path clip-path=\"url(#p22124b60a5)\" d=\"M 648.338705 364.134939 \r\nC 649.40855 364.134939 650.43472 363.709885 651.191214 362.953391 \r\nC 651.947708 362.196897 652.372762 361.170726 652.372762 360.100882 \r\nC 652.372762 359.031038 651.947708 358.004867 651.191214 357.248373 \r\nC 650.43472 356.491879 649.40855 356.066825 648.338705 356.066825 \r\nC 647.268861 356.066825 646.242691 356.491879 645.486196 357.248373 \r\nC 644.729702 358.004867 644.304648 359.031038 644.304648 360.100882 \r\nC 644.304648 361.170726 644.729702 362.196897 645.486196 362.953391 \r\nC 646.242691 363.709885 647.268861 364.134939 648.338705 364.134939 \r\nz\r\n\" style=\"fill:#1f77b4;fill-opacity:0.75;stroke:#1f77b4;stroke-opacity:0.75;\"/>\r\n    <path clip-path=\"url(#p22124b60a5)\" d=\"M 520.958729 369.807965 \r\nC 522.027911 369.807965 523.053446 369.383175 523.809471 368.627149 \r\nC 524.565497 367.871124 524.990287 366.845589 524.990287 365.776407 \r\nC 524.990287 364.707226 524.565497 363.681691 523.809471 362.925666 \r\nC 523.053446 362.16964 522.027911 361.74485 520.958729 361.74485 \r\nC 519.889548 361.74485 518.864013 362.16964 518.107988 362.925666 \r\nC 517.351962 363.681691 516.927172 364.707226 516.927172 365.776407 \r\nC 516.927172 366.845589 517.351962 367.871124 518.107988 368.627149 \r\nC 518.864013 369.383175 519.889548 369.807965 520.958729 369.807965 \r\nz\r\n\" style=\"fill:#1f77b4;fill-opacity:0.75;stroke:#1f77b4;stroke-opacity:0.75;\"/>\r\n    <path clip-path=\"url(#p22124b60a5)\" d=\"M 558.820195 384.844535 \r\nC 560.189087 384.844535 561.502097 384.300668 562.470049 383.332716 \r\nC 563.438002 382.364763 563.981868 381.051754 563.981868 379.682862 \r\nC 563.981868 378.313971 563.438002 377.000961 562.470049 376.033008 \r\nC 561.502097 375.065056 560.189087 374.52119 558.820195 374.52119 \r\nC 557.451304 374.52119 556.138294 375.065056 555.170342 376.033008 \r\nC 554.202389 377.000961 553.658523 378.313971 553.658523 379.682862 \r\nC 553.658523 381.051754 554.202389 382.364763 555.170342 383.332716 \r\nC 556.138294 384.300668 557.451304 384.844535 558.820195 384.844535 \r\nz\r\n\" style=\"fill:#1f77b4;fill-opacity:0.75;stroke:#1f77b4;stroke-opacity:0.75;\"/>\r\n    <path clip-path=\"url(#p22124b60a5)\" d=\"M 516.901273 357.404953 \r\nC 518.002065 357.404953 519.057919 356.967603 519.836296 356.189226 \r\nC 520.614674 355.410849 521.052023 354.354994 521.052023 353.254203 \r\nC 521.052023 352.153411 520.614674 351.097557 519.836296 350.319179 \r\nC 519.057919 349.540802 518.002065 349.103453 516.901273 349.103453 \r\nC 515.800481 349.103453 514.744627 349.540802 513.966249 350.319179 \r\nC 513.187872 351.097557 512.750523 352.153411 512.750523 353.254203 \r\nC 512.750523 354.354994 513.187872 355.410849 513.966249 356.189226 \r\nC 514.744627 356.967603 515.800481 357.404953 516.901273 357.404953 \r\nz\r\n\" style=\"fill:#1f77b4;fill-opacity:0.75;stroke:#1f77b4;stroke-opacity:0.75;\"/>\r\n    <path clip-path=\"url(#p22124b60a5)\" d=\"M 586.896524 389.165181 \r\nC 588.503919 389.165181 590.045695 388.526557 591.182295 387.389957 \r\nC 592.318895 386.253357 592.95752 384.711581 592.95752 383.104186 \r\nC 592.95752 381.496791 592.318895 379.955015 591.182295 378.818415 \r\nC 590.045695 377.681815 588.503919 377.043191 586.896524 377.043191 \r\nC 585.28913 377.043191 583.747353 377.681815 582.610753 378.818415 \r\nC 581.474154 379.955015 580.835529 381.496791 580.835529 383.104186 \r\nC 580.835529 384.711581 581.474154 386.253357 582.610753 387.389957 \r\nC 583.747353 388.526557 585.28913 389.165181 586.896524 389.165181 \r\nz\r\n\" style=\"fill:#1f77b4;fill-opacity:0.75;stroke:#1f77b4;stroke-opacity:0.75;\"/>\r\n    <path clip-path=\"url(#p22124b60a5)\" d=\"M 516.901273 364.690187 \r\nC 517.962981 364.690187 518.981346 364.268366 519.732087 363.517626 \r\nC 520.482827 362.766885 520.904648 361.748519 520.904648 360.686812 \r\nC 520.904648 359.625104 520.482827 358.606738 519.732087 357.855998 \r\nC 518.981346 357.105257 517.962981 356.683436 516.901273 356.683436 \r\nC 515.839565 356.683436 514.8212 357.105257 514.070459 357.855998 \r\nC 513.319718 358.606738 512.897898 359.625104 512.897898 360.686812 \r\nC 512.897898 361.748519 513.319718 362.766885 514.070459 363.517626 \r\nC 514.8212 364.268366 515.839565 364.690187 516.901273 364.690187 \r\nz\r\n\" style=\"fill:#1f77b4;fill-opacity:0.75;stroke:#1f77b4;stroke-opacity:0.75;\"/>\r\n    <path clip-path=\"url(#p22124b60a5)\" d=\"M 656.163184 347.740721 \r\nC 658.092062 347.740721 659.942198 346.974369 661.306122 345.610446 \r\nC 662.670045 344.246523 663.436396 342.396387 663.436396 340.467508 \r\nC 663.436396 338.53863 662.670045 336.688494 661.306122 335.32457 \r\nC 659.942198 333.960647 658.092062 333.194296 656.163184 333.194296 \r\nC 654.234305 333.194296 652.384169 333.960647 651.020246 335.32457 \r\nC 649.656323 336.688494 648.889971 338.53863 648.889971 340.467508 \r\nC 648.889971 342.396387 649.656323 344.246523 651.020246 345.610446 \r\nC 652.384169 346.974369 654.234305 347.740721 656.163184 347.740721 \r\nz\r\n\" style=\"fill:#1f77b4;fill-opacity:0.75;stroke:#1f77b4;stroke-opacity:0.75;\"/>\r\n    <path clip-path=\"url(#p22124b60a5)\" d=\"M 520.958729 390.114339 \r\nC 522.295603 390.114339 523.577902 389.583193 524.523214 388.637881 \r\nC 525.468527 387.692568 525.999672 386.410269 525.999672 385.073396 \r\nC 525.999672 383.736522 525.468527 382.454223 524.523214 381.508911 \r\nC 523.577902 380.563599 522.295603 380.032453 520.958729 380.032453 \r\nC 519.621856 380.032453 518.339557 380.563599 517.394245 381.508911 \r\nC 516.448932 382.454223 515.917787 383.736522 515.917787 385.073396 \r\nC 515.917787 386.410269 516.448932 387.692568 517.394245 388.637881 \r\nC 518.339557 389.583193 519.621856 390.114339 520.958729 390.114339 \r\nz\r\n\" style=\"fill:#1f77b4;fill-opacity:0.75;stroke:#1f77b4;stroke-opacity:0.75;\"/>\r\n    <path clip-path=\"url(#p22124b60a5)\" d=\"M 516.901273 325.985434 \r\nC 518.672732 325.985434 520.371875 325.281626 521.624485 324.029015 \r\nC 522.877095 322.776405 523.580903 321.077262 523.580903 319.305803 \r\nC 523.580903 317.534344 522.877095 315.835202 521.624485 314.582591 \r\nC 520.371875 313.329981 518.672732 312.626173 516.901273 312.626173 \r\nC 515.129814 312.626173 513.430671 313.329981 512.178061 314.582591 \r\nC 510.92545 315.835202 510.221642 317.534344 510.221642 319.305803 \r\nC 510.221642 321.077262 510.92545 322.776405 512.178061 324.029015 \r\nC 513.430671 325.281626 515.129814 325.985434 516.901273 325.985434 \r\nz\r\n\" style=\"fill:#1f77b4;fill-opacity:0.75;stroke:#1f77b4;stroke-opacity:0.75;\"/>\r\n    <path clip-path=\"url(#p22124b60a5)\" d=\"M 520.958729 412.349404 \r\nC 522.808562 412.349404 524.582878 411.614458 525.890907 410.306429 \r\nC 527.198936 408.9984 527.933882 407.224084 527.933882 405.374251 \r\nC 527.933882 403.524419 527.198936 401.750102 525.890907 400.442073 \r\nC 524.582878 399.134045 522.808562 398.399099 520.958729 398.399099 \r\nC 519.108897 398.399099 517.33458 399.134045 516.026551 400.442073 \r\nC 514.718523 401.750102 513.983576 403.524419 513.983576 405.374251 \r\nC 513.983576 407.224084 514.718523 408.9984 516.026551 410.306429 \r\nC 517.33458 411.614458 519.108897 412.349404 520.958729 412.349404 \r\nz\r\n\" style=\"fill:#1f77b4;fill-opacity:0.75;stroke:#1f77b4;stroke-opacity:0.75;\"/>\r\n    <path clip-path=\"url(#p22124b60a5)\" d=\"M 516.901273 387.171348 \r\nC 518.163918 387.171348 519.375019 386.669693 520.267843 385.776869 \r\nC 521.160668 384.884044 521.662323 383.672943 521.662323 382.410298 \r\nC 521.662323 381.147653 521.160668 379.936552 520.267843 379.043727 \r\nC 519.375019 378.150903 518.163918 377.649248 516.901273 377.649248 \r\nC 515.638628 377.649248 514.427527 378.150903 513.534702 379.043727 \r\nC 512.641877 379.936552 512.140223 381.147653 512.140223 382.410298 \r\nC 512.140223 383.672943 512.641877 384.884044 513.534702 385.776869 \r\nC 514.427527 386.669693 515.638628 387.171348 516.901273 387.171348 \r\nz\r\n\" style=\"fill:#1f77b4;fill-opacity:0.75;stroke:#1f77b4;stroke-opacity:0.75;\"/>\r\n    <path clip-path=\"url(#p22124b60a5)\" d=\"M 562.461739 349.841603 \r\nC 563.832033 349.841603 565.146387 349.297179 566.115331 348.328235 \r\nC 567.084275 347.359291 567.628699 346.044937 567.628699 344.674643 \r\nC 567.628699 343.304349 567.084275 341.989995 566.115331 341.021051 \r\nC 565.146387 340.052107 563.832033 339.507684 562.461739 339.507684 \r\nC 561.091445 339.507684 559.777091 340.052107 558.808147 341.021051 \r\nC 557.839203 341.989995 557.294779 343.304349 557.294779 344.674643 \r\nC 557.294779 346.044937 557.839203 347.359291 558.808147 348.328235 \r\nC 559.777091 349.297179 561.091445 349.841603 562.461739 349.841603 \r\nz\r\n\" style=\"fill:#1f77b4;fill-opacity:0.75;stroke:#1f77b4;stroke-opacity:0.75;\"/>\r\n    <path clip-path=\"url(#p22124b60a5)\" d=\"M 615.364134 376.186228 \r\nC 616.593301 376.186228 617.77229 375.697874 618.641443 374.828722 \r\nC 619.510595 373.959569 619.998949 372.78058 619.998949 371.551413 \r\nC 619.998949 370.322245 619.510595 369.143256 618.641443 368.274103 \r\nC 617.77229 367.404951 616.593301 366.916597 615.364134 366.916597 \r\nC 614.134966 366.916597 612.955977 367.404951 612.086824 368.274103 \r\nC 611.217672 369.143256 610.729318 370.322245 610.729318 371.551413 \r\nC 610.729318 372.78058 611.217672 373.959569 612.086824 374.828722 \r\nC 612.955977 375.697874 614.134966 376.186228 615.364134 376.186228 \r\nz\r\n\" style=\"fill:#1f77b4;fill-opacity:0.75;stroke:#1f77b4;stroke-opacity:0.75;\"/>\r\n    <path clip-path=\"url(#p22124b60a5)\" d=\"M 586.896524 329.740163 \r\nC 589.509413 329.740163 592.015637 328.702051 593.863228 326.854459 \r\nC 595.71082 325.006868 596.748932 322.500644 596.748932 319.887755 \r\nC 596.748932 317.274866 595.71082 314.768643 593.863228 312.921051 \r\nC 592.015637 311.07346 589.509413 310.035348 586.896524 310.035348 \r\nC 584.283635 310.035348 581.777412 311.07346 579.92982 312.921051 \r\nC 578.082229 314.768643 577.044117 317.274866 577.044117 319.887755 \r\nC 577.044117 322.500644 578.082229 325.006868 579.92982 326.854459 \r\nC 581.777412 328.702051 584.283635 329.740163 586.896524 329.740163 \r\nz\r\n\" style=\"fill:#1f77b4;fill-opacity:0.75;stroke:#1f77b4;stroke-opacity:0.75;\"/>\r\n    <path clip-path=\"url(#p22124b60a5)\" d=\"M 516.901273 371.557263 \r\nC 517.97807 371.557263 519.01091 371.129447 519.772321 370.368036 \r\nC 520.533731 369.606625 520.961547 368.573786 520.961547 367.496988 \r\nC 520.961547 366.420191 520.533731 365.387351 519.772321 364.625941 \r\nC 519.01091 363.86453 517.97807 363.436714 516.901273 363.436714 \r\nC 515.824476 363.436714 514.791636 363.86453 514.030225 364.625941 \r\nC 513.268815 365.387351 512.840998 366.420191 512.840998 367.496988 \r\nC 512.840998 368.573786 513.268815 369.606625 514.030225 370.368036 \r\nC 514.791636 371.129447 515.824476 371.557263 516.901273 371.557263 \r\nz\r\n\" style=\"fill:#1f77b4;fill-opacity:0.75;stroke:#1f77b4;stroke-opacity:0.75;\"/>\r\n    <path clip-path=\"url(#p22124b60a5)\" d=\"M 656.163184 342.277304 \r\nC 658.556619 342.277304 660.852348 341.326382 662.544763 339.633968 \r\nC 664.237178 337.941553 665.1881 335.645824 665.1881 333.252388 \r\nC 665.1881 330.858953 664.237178 328.563224 662.544763 326.870809 \r\nC 660.852348 325.178394 658.556619 324.227472 656.163184 324.227472 \r\nC 653.769748 324.227472 651.474019 325.178394 649.781604 326.870809 \r\nC 648.08919 328.563224 647.138267 330.858953 647.138267 333.252388 \r\nC 647.138267 335.645824 648.08919 337.941553 649.781604 339.633968 \r\nC 651.474019 341.326382 653.769748 342.277304 656.163184 342.277304 \r\nz\r\n\" style=\"fill:#1f77b4;fill-opacity:0.75;stroke:#1f77b4;stroke-opacity:0.75;\"/>\r\n    <path clip-path=\"url(#p22124b60a5)\" d=\"M 562.461739 388.714277 \r\nC 563.957344 388.714277 565.391895 388.120066 566.449447 387.062514 \r\nC 567.507 386.004961 568.10121 384.570411 568.10121 383.074805 \r\nC 568.10121 381.5792 567.507 380.14465 566.449447 379.087097 \r\nC 565.391895 378.029544 563.957344 377.435334 562.461739 377.435334 \r\nC 560.966134 377.435334 559.531583 378.029544 558.474031 379.087097 \r\nC 557.416478 380.14465 556.822268 381.5792 556.822268 383.074805 \r\nC 556.822268 384.570411 557.416478 386.004961 558.474031 387.062514 \r\nC 559.531583 388.120066 560.966134 388.714277 562.461739 388.714277 \r\nz\r\n\" style=\"fill:#1f77b4;fill-opacity:0.75;stroke:#1f77b4;stroke-opacity:0.75;\"/>\r\n    <path clip-path=\"url(#p22124b60a5)\" d=\"M 685.964121 364.344124 \r\nC 687.033883 364.344124 688.059974 363.919103 688.816409 363.162668 \r\nC 689.572845 362.406232 689.997866 361.380141 689.997866 360.31038 \r\nC 689.997866 359.240618 689.572845 358.214527 688.816409 357.458092 \r\nC 688.059974 356.701656 687.033883 356.276636 685.964121 356.276636 \r\nC 684.89436 356.276636 683.868269 356.701656 683.111833 357.458092 \r\nC 682.355398 358.214527 681.930377 359.240618 681.930377 360.31038 \r\nC 681.930377 361.380141 682.355398 362.406232 683.111833 363.162668 \r\nC 683.868269 363.919103 684.89436 364.344124 685.964121 364.344124 \r\nz\r\n\" style=\"fill:#1f77b4;fill-opacity:0.75;stroke:#1f77b4;stroke-opacity:0.75;\"/>\r\n    <path clip-path=\"url(#p22124b60a5)\" d=\"M 618.378244 366.102237 \r\nC 619.439056 366.102237 620.456564 365.680772 621.206671 364.930664 \r\nC 621.956779 364.180557 622.378244 363.16305 622.378244 362.102237 \r\nC 622.378244 361.041425 621.956779 360.023918 621.206671 359.27381 \r\nC 620.456564 358.523703 619.439056 358.102237 618.378244 358.102237 \r\nC 617.317432 358.102237 616.299925 358.523703 615.549817 359.27381 \r\nC 614.799709 360.023918 614.378244 361.041425 614.378244 362.102237 \r\nC 614.378244 363.16305 614.799709 364.180557 615.549817 364.930664 \r\nC 616.299925 365.680772 617.317432 366.102237 618.378244 366.102237 \r\nz\r\n\" style=\"fill:#1f77b4;fill-opacity:0.75;stroke:#1f77b4;stroke-opacity:0.75;\"/>\r\n    <path clip-path=\"url(#p22124b60a5)\" d=\"M 516.901273 369.038272 \r\nC 517.966924 369.038272 518.989072 368.614884 519.742602 367.861355 \r\nC 520.496131 367.107826 520.919518 366.085678 520.919518 365.020027 \r\nC 520.919518 363.954375 520.496131 362.932227 519.742602 362.178698 \r\nC 518.989072 361.425169 517.966924 361.001781 516.901273 361.001781 \r\nC 515.835622 361.001781 514.813473 361.425169 514.059944 362.178698 \r\nC 513.306415 362.932227 512.883027 363.954375 512.883027 365.020027 \r\nC 512.883027 366.085678 513.306415 367.107826 514.059944 367.861355 \r\nC 514.813473 368.614884 515.835622 369.038272 516.901273 369.038272 \r\nz\r\n\" style=\"fill:#1f77b4;fill-opacity:0.75;stroke:#1f77b4;stroke-opacity:0.75;\"/>\r\n    <path clip-path=\"url(#p22124b60a5)\" d=\"M 648.338705 358.81731 \r\nC 649.540249 358.81731 650.692743 358.339932 651.542363 357.490312 \r\nC 652.391983 356.640692 652.869362 355.488198 652.869362 354.286654 \r\nC 652.869362 353.08511 652.391983 351.932616 651.542363 351.082996 \r\nC 650.692743 350.233376 649.540249 349.755998 648.338705 349.755998 \r\nC 647.137161 349.755998 645.984667 350.233376 645.135047 351.082996 \r\nC 644.285428 351.932616 643.808049 353.08511 643.808049 354.286654 \r\nC 643.808049 355.488198 644.285428 356.640692 645.135047 357.490312 \r\nC 645.984667 358.339932 647.137161 358.81731 648.338705 358.81731 \r\nz\r\n\" style=\"fill:#1f77b4;fill-opacity:0.75;stroke:#1f77b4;stroke-opacity:0.75;\"/>\r\n    <path clip-path=\"url(#p22124b60a5)\" d=\"M 618.378244 346.472717 \r\nC 620.187572 346.472717 621.923038 345.753863 623.202427 344.474475 \r\nC 624.481815 343.195087 625.200668 341.459621 625.200668 339.650293 \r\nC 625.200668 337.840965 624.481815 336.105498 623.202427 334.82611 \r\nC 621.923038 333.546722 620.187572 332.827868 618.378244 332.827868 \r\nC 616.568916 332.827868 614.83345 333.546722 613.554062 334.82611 \r\nC 612.274673 336.105498 611.55582 337.840965 611.55582 339.650293 \r\nC 611.55582 341.459621 612.274673 343.195087 613.554062 344.474475 \r\nC 614.83345 345.753863 616.568916 346.472717 618.378244 346.472717 \r\nz\r\n\" style=\"fill:#1f77b4;fill-opacity:0.75;stroke:#1f77b4;stroke-opacity:0.75;\"/>\r\n    <path clip-path=\"url(#p22124b60a5)\" d=\"M 558.820195 317.768069 \r\nC 561.665499 317.768069 564.39465 316.637618 566.406583 314.625685 \r\nC 568.418517 312.613751 569.548968 309.884601 569.548968 307.039297 \r\nC 569.548968 304.193993 568.418517 301.464843 566.406583 299.452909 \r\nC 564.39465 297.440976 561.665499 296.310525 558.820195 296.310525 \r\nC 555.974892 296.310525 553.245741 297.440976 551.233808 299.452909 \r\nC 549.221874 301.464843 548.091423 304.193993 548.091423 307.039297 \r\nC 548.091423 309.884601 549.221874 312.613751 551.233808 314.625685 \r\nC 553.245741 316.637618 555.974892 317.768069 558.820195 317.768069 \r\nz\r\n\" style=\"fill:#1f77b4;fill-opacity:0.75;stroke:#1f77b4;stroke-opacity:0.75;\"/>\r\n    <path clip-path=\"url(#p22124b60a5)\" d=\"M 516.901273 386.505029 \r\nC 518.152744 386.505029 519.353127 386.007814 520.23805 385.12289 \r\nC 521.122974 384.237967 521.620189 383.037584 521.620189 381.786113 \r\nC 521.620189 380.534642 521.122974 379.334259 520.23805 378.449335 \r\nC 519.353127 377.564412 518.152744 377.067197 516.901273 377.067197 \r\nC 515.649802 377.067197 514.449419 377.564412 513.564495 378.449335 \r\nC 512.679572 379.334259 512.182357 380.534642 512.182357 381.786113 \r\nC 512.182357 383.037584 512.679572 384.237967 513.564495 385.12289 \r\nC 514.449419 386.007814 515.649802 386.505029 516.901273 386.505029 \r\nz\r\n\" style=\"fill:#1f77b4;fill-opacity:0.75;stroke:#1f77b4;stroke-opacity:0.75;\"/>\r\n    <path clip-path=\"url(#p22124b60a5)\" d=\"M 516.901273 369.665667 \r\nC 517.969112 369.665667 518.99336 369.24141 519.748436 368.486334 \r\nC 520.503513 367.731257 520.92777 366.70701 520.92777 365.639171 \r\nC 520.92777 364.571331 520.503513 363.547084 519.748436 362.792007 \r\nC 518.99336 362.036931 517.969112 361.612674 516.901273 361.612674 \r\nC 515.833433 361.612674 514.809186 362.036931 514.05411 362.792007 \r\nC 513.299033 363.547084 512.874776 364.571331 512.874776 365.639171 \r\nC 512.874776 366.70701 513.299033 367.731257 514.05411 368.486334 \r\nC 514.809186 369.24141 515.833433 369.665667 516.901273 369.665667 \r\nz\r\n\" style=\"fill:#1f77b4;fill-opacity:0.75;stroke:#1f77b4;stroke-opacity:0.75;\"/>\r\n    <path clip-path=\"url(#p22124b60a5)\" d=\"M 516.901273 321.917703 \r\nC 518.79151 321.917703 520.604583 321.166703 521.941183 319.830104 \r\nC 523.277783 318.493504 524.028782 316.680431 524.028782 314.790194 \r\nC 524.028782 312.899956 523.277783 311.086883 521.941183 309.750284 \r\nC 520.604583 308.413684 518.79151 307.662685 516.901273 307.662685 \r\nC 515.011035 307.662685 513.197963 308.413684 511.861363 309.750284 \r\nC 510.524763 311.086883 509.773764 312.899956 509.773764 314.790194 \r\nC 509.773764 316.680431 510.524763 318.493504 511.861363 319.830104 \r\nC 513.197963 321.166703 515.011035 321.917703 516.901273 321.917703 \r\nz\r\n\" style=\"fill:#1f77b4;fill-opacity:0.75;stroke:#1f77b4;stroke-opacity:0.75;\"/>\r\n    <path clip-path=\"url(#p22124b60a5)\" d=\"M 576.212088 376.841153 \r\nC 577.411727 376.841153 578.562393 376.364531 579.410666 375.516258 \r\nC 580.258939 374.667985 580.735561 373.517319 580.735561 372.31768 \r\nC 580.735561 371.118041 580.258939 369.967374 579.410666 369.119101 \r\nC 578.562393 368.270828 577.411727 367.794206 576.212088 367.794206 \r\nC 575.012449 367.794206 573.861782 368.270828 573.013509 369.119101 \r\nC 572.165236 369.967374 571.688614 371.118041 571.688614 372.31768 \r\nC 571.688614 373.517319 572.165236 374.667985 573.013509 375.516258 \r\nC 573.861782 376.364531 575.012449 376.841153 576.212088 376.841153 \r\nz\r\n\" style=\"fill:#1f77b4;fill-opacity:0.75;stroke:#1f77b4;stroke-opacity:0.75;\"/>\r\n    <path clip-path=\"url(#p22124b60a5)\" d=\"M 520.958729 388.762912 \r\nC 522.269369 388.762912 523.526505 388.242189 524.453267 387.315427 \r\nC 525.38003 386.388664 525.900752 385.131528 525.900752 383.820889 \r\nC 525.900752 382.510249 525.38003 381.253113 524.453267 380.326351 \r\nC 523.526505 379.399588 522.269369 378.878865 520.958729 378.878865 \r\nC 519.648089 378.878865 518.390954 379.399588 517.464191 380.326351 \r\nC 516.537429 381.253113 516.016706 382.510249 516.016706 383.820889 \r\nC 516.016706 385.131528 516.537429 386.388664 517.464191 387.315427 \r\nC 518.390954 388.242189 519.648089 388.762912 520.958729 388.762912 \r\nz\r\n\" style=\"fill:#1f77b4;fill-opacity:0.75;stroke:#1f77b4;stroke-opacity:0.75;\"/>\r\n    <path clip-path=\"url(#p22124b60a5)\" d=\"M 562.461739 366.922358 \r\nC 563.523534 366.922358 564.541984 366.500502 565.292786 365.7497 \r\nC 566.043589 364.998897 566.465445 363.980448 566.465445 362.918652 \r\nC 566.465445 361.856857 566.043589 360.838407 565.292786 360.087605 \r\nC 564.541984 359.336802 563.523534 358.914947 562.461739 358.914947 \r\nC 561.399944 358.914947 560.381494 359.336802 559.630691 360.087605 \r\nC 558.879889 360.838407 558.458033 361.856857 558.458033 362.918652 \r\nC 558.458033 363.980448 558.879889 364.998897 559.630691 365.7497 \r\nC 560.381494 366.500502 561.399944 366.922358 562.461739 366.922358 \r\nz\r\n\" style=\"fill:#1f77b4;fill-opacity:0.75;stroke:#1f77b4;stroke-opacity:0.75;\"/>\r\n    <path clip-path=\"url(#p22124b60a5)\" d=\"M 656.163184 351.787621 \r\nC 657.781565 351.787621 659.333879 351.144631 660.478247 350.000263 \r\nC 661.622616 348.855895 662.265606 347.30358 662.265606 345.685199 \r\nC 662.265606 344.066818 661.622616 342.514503 660.478247 341.370135 \r\nC 659.333879 340.225767 657.781565 339.582777 656.163184 339.582777 \r\nC 654.544802 339.582777 652.992488 340.225767 651.84812 341.370135 \r\nC 650.703751 342.514503 650.060762 344.066818 650.060762 345.685199 \r\nC 650.060762 347.30358 650.703751 348.855895 651.84812 350.000263 \r\nC 652.992488 351.144631 654.544802 351.787621 656.163184 351.787621 \r\nz\r\n\" style=\"fill:#1f77b4;fill-opacity:0.75;stroke:#1f77b4;stroke-opacity:0.75;\"/>\r\n    <path clip-path=\"url(#p22124b60a5)\" d=\"M 683.163364 377.921972 \r\nC 684.536956 377.921972 685.854474 377.376239 686.82575 376.404963 \r\nC 687.797026 375.433687 688.34276 374.116169 688.34276 372.742577 \r\nC 688.34276 371.368985 687.797026 370.051468 686.82575 369.080192 \r\nC 685.854474 368.108916 684.536956 367.563182 683.163364 367.563182 \r\nC 681.789773 367.563182 680.472255 368.108916 679.500979 369.080192 \r\nC 678.529703 370.051468 677.983969 371.368985 677.983969 372.742577 \r\nC 677.983969 374.116169 678.529703 375.433687 679.500979 376.404963 \r\nC 680.472255 377.376239 681.789773 377.921972 683.163364 377.921972 \r\nz\r\n\" style=\"fill:#1f77b4;fill-opacity:0.75;stroke:#1f77b4;stroke-opacity:0.75;\"/>\r\n    <path clip-path=\"url(#p22124b60a5)\" d=\"M 824.477886 382.653294 \r\nC 826.329342 382.653294 828.105217 381.917703 829.414394 380.608525 \r\nC 830.723571 379.299348 831.459162 377.523474 831.459162 375.672018 \r\nC 831.459162 373.820561 830.723571 372.044687 829.414394 370.73551 \r\nC 828.105217 369.426332 826.329342 368.690741 824.477886 368.690741 \r\nC 822.62643 368.690741 820.850555 369.426332 819.541378 370.73551 \r\nC 818.232201 372.044687 817.496609 373.820561 817.496609 375.672018 \r\nC 817.496609 377.523474 818.232201 379.299348 819.541378 380.608525 \r\nC 820.850555 381.917703 822.62643 382.653294 824.477886 382.653294 \r\nz\r\n\" style=\"fill:#1f77b4;fill-opacity:0.75;stroke:#1f77b4;stroke-opacity:0.75;\"/>\r\n    <path clip-path=\"url(#p22124b60a5)\" d=\"M 520.958729 348.703866 \r\nC 522.194519 348.703866 523.379861 348.212882 524.253696 347.339046 \r\nC 525.127532 346.465211 525.618516 345.279869 525.618516 344.044079 \r\nC 525.618516 342.80829 525.127532 341.622948 524.253696 340.749113 \r\nC 523.379861 339.875277 522.194519 339.384293 520.958729 339.384293 \r\nC 519.722939 339.384293 518.537598 339.875277 517.663763 340.749113 \r\nC 516.789927 341.622948 516.298943 342.80829 516.298943 344.044079 \r\nC 516.298943 345.279869 516.789927 346.465211 517.663763 347.339046 \r\nC 518.537598 348.212882 519.722939 348.703866 520.958729 348.703866 \r\nz\r\n\" style=\"fill:#1f77b4;fill-opacity:0.75;stroke:#1f77b4;stroke-opacity:0.75;\"/>\r\n    <path clip-path=\"url(#p22124b60a5)\" d=\"M 615.364134 374.048577 \r\nC 616.535296 374.048577 617.658649 373.583269 618.486786 372.755132 \r\nC 619.314923 371.926995 619.78023 370.803643 619.78023 369.63248 \r\nC 619.78023 368.461318 619.314923 367.337965 618.486786 366.509828 \r\nC 617.658649 365.681692 616.535296 365.216384 615.364134 365.216384 \r\nC 614.192971 365.216384 613.069619 365.681692 612.241482 366.509828 \r\nC 611.413345 367.337965 610.948037 368.461318 610.948037 369.63248 \r\nC 610.948037 370.803643 611.413345 371.926995 612.241482 372.755132 \r\nC 613.069619 373.583269 614.192971 374.048577 615.364134 374.048577 \r\nz\r\n\" style=\"fill:#1f77b4;fill-opacity:0.75;stroke:#1f77b4;stroke-opacity:0.75;\"/>\r\n   </g>\r\n   <g id=\"matplotlib.axis_7\">\r\n    <g id=\"xtick_25\">\r\n     <g id=\"line2d_52\">\r\n      <g>\r\n       <use style=\"stroke:#000000;stroke-width:0.8;\" x=\"560.841493\" xlink:href=\"#mc6b15bdab7\" y=\"472.598125\"/>\r\n      </g>\r\n     </g>\r\n     <g id=\"text_66\">\r\n      <!-- 0.05 -->\r\n      <g transform=\"translate(549.708681 487.196562)scale(0.1 -0.1)\">\r\n       <use xlink:href=\"#DejaVuSans-30\"/>\r\n       <use x=\"63.623047\" xlink:href=\"#DejaVuSans-2e\"/>\r\n       <use x=\"95.410156\" xlink:href=\"#DejaVuSans-30\"/>\r\n       <use x=\"159.033203\" xlink:href=\"#DejaVuSans-35\"/>\r\n      </g>\r\n     </g>\r\n    </g>\r\n    <g id=\"xtick_26\">\r\n     <g id=\"line2d_53\">\r\n      <g>\r\n       <use style=\"stroke:#000000;stroke-width:0.8;\" x=\"644.009172\" xlink:href=\"#mc6b15bdab7\" y=\"472.598125\"/>\r\n      </g>\r\n     </g>\r\n     <g id=\"text_67\">\r\n      <!-- 0.10 -->\r\n      <g transform=\"translate(632.876359 487.196562)scale(0.1 -0.1)\">\r\n       <use xlink:href=\"#DejaVuSans-30\"/>\r\n       <use x=\"63.623047\" xlink:href=\"#DejaVuSans-2e\"/>\r\n       <use x=\"95.410156\" xlink:href=\"#DejaVuSans-31\"/>\r\n       <use x=\"159.033203\" xlink:href=\"#DejaVuSans-30\"/>\r\n      </g>\r\n     </g>\r\n    </g>\r\n    <g id=\"xtick_27\">\r\n     <g id=\"line2d_54\">\r\n      <g>\r\n       <use style=\"stroke:#000000;stroke-width:0.8;\" x=\"727.176851\" xlink:href=\"#mc6b15bdab7\" y=\"472.598125\"/>\r\n      </g>\r\n     </g>\r\n     <g id=\"text_68\">\r\n      <!-- 0.15 -->\r\n      <g transform=\"translate(716.044038 487.196562)scale(0.1 -0.1)\">\r\n       <use xlink:href=\"#DejaVuSans-30\"/>\r\n       <use x=\"63.623047\" xlink:href=\"#DejaVuSans-2e\"/>\r\n       <use x=\"95.410156\" xlink:href=\"#DejaVuSans-31\"/>\r\n       <use x=\"159.033203\" xlink:href=\"#DejaVuSans-35\"/>\r\n      </g>\r\n     </g>\r\n    </g>\r\n    <g id=\"xtick_28\">\r\n     <g id=\"line2d_55\">\r\n      <g>\r\n       <use style=\"stroke:#000000;stroke-width:0.8;\" x=\"810.344529\" xlink:href=\"#mc6b15bdab7\" y=\"472.598125\"/>\r\n      </g>\r\n     </g>\r\n     <g id=\"text_69\">\r\n      <!-- 0.20 -->\r\n      <g transform=\"translate(799.211717 487.196562)scale(0.1 -0.1)\">\r\n       <use xlink:href=\"#DejaVuSans-30\"/>\r\n       <use x=\"63.623047\" xlink:href=\"#DejaVuSans-2e\"/>\r\n       <use x=\"95.410156\" xlink:href=\"#DejaVuSans-32\"/>\r\n       <use x=\"159.033203\" xlink:href=\"#DejaVuSans-30\"/>\r\n      </g>\r\n     </g>\r\n    </g>\r\n    <g id=\"xtick_29\">\r\n     <g id=\"line2d_56\">\r\n      <g>\r\n       <use style=\"stroke:#000000;stroke-width:0.8;\" x=\"893.512208\" xlink:href=\"#mc6b15bdab7\" y=\"472.598125\"/>\r\n      </g>\r\n     </g>\r\n     <g id=\"text_70\">\r\n      <!-- 0.25 -->\r\n      <g transform=\"translate(882.379395 487.196562)scale(0.1 -0.1)\">\r\n       <use xlink:href=\"#DejaVuSans-30\"/>\r\n       <use x=\"63.623047\" xlink:href=\"#DejaVuSans-2e\"/>\r\n       <use x=\"95.410156\" xlink:href=\"#DejaVuSans-32\"/>\r\n       <use x=\"159.033203\" xlink:href=\"#DejaVuSans-35\"/>\r\n      </g>\r\n     </g>\r\n    </g>\r\n    <g id=\"text_71\">\r\n     <!-- H Leverage -->\r\n     <g transform=\"translate(662.749911 502.394375)scale(0.12 -0.12)\">\r\n      <defs>\r\n       <path d=\"M 628 4666 \r\nL 1259 4666 \r\nL 1259 2753 \r\nL 3553 2753 \r\nL 3553 4666 \r\nL 4184 4666 \r\nL 4184 0 \r\nL 3553 0 \r\nL 3553 2222 \r\nL 1259 2222 \r\nL 1259 0 \r\nL 628 0 \r\nL 628 4666 \r\nz\r\n\" id=\"DejaVuSans-48\" transform=\"scale(0.015625)\"/>\r\n       <path d=\"M 2906 1791 \r\nQ 2906 2416 2648 2759 \r\nQ 2391 3103 1925 3103 \r\nQ 1463 3103 1205 2759 \r\nQ 947 2416 947 1791 \r\nQ 947 1169 1205 825 \r\nQ 1463 481 1925 481 \r\nQ 2391 481 2648 825 \r\nQ 2906 1169 2906 1791 \r\nz\r\nM 3481 434 \r\nQ 3481 -459 3084 -895 \r\nQ 2688 -1331 1869 -1331 \r\nQ 1566 -1331 1297 -1286 \r\nQ 1028 -1241 775 -1147 \r\nL 775 -588 \r\nQ 1028 -725 1275 -790 \r\nQ 1522 -856 1778 -856 \r\nQ 2344 -856 2625 -561 \r\nQ 2906 -266 2906 331 \r\nL 2906 616 \r\nQ 2728 306 2450 153 \r\nQ 2172 0 1784 0 \r\nQ 1141 0 747 490 \r\nQ 353 981 353 1791 \r\nQ 353 2603 747 3093 \r\nQ 1141 3584 1784 3584 \r\nQ 2172 3584 2450 3431 \r\nQ 2728 3278 2906 2969 \r\nL 2906 3500 \r\nL 3481 3500 \r\nL 3481 434 \r\nz\r\n\" id=\"DejaVuSans-67\" transform=\"scale(0.015625)\"/>\r\n      </defs>\r\n      <use xlink:href=\"#DejaVuSans-48\"/>\r\n      <use x=\"75.195312\" xlink:href=\"#DejaVuSans-20\"/>\r\n      <use x=\"106.982422\" xlink:href=\"#DejaVuSans-4c\"/>\r\n      <use x=\"160.945312\" xlink:href=\"#DejaVuSans-65\"/>\r\n      <use x=\"222.46875\" xlink:href=\"#DejaVuSans-76\"/>\r\n      <use x=\"281.648438\" xlink:href=\"#DejaVuSans-65\"/>\r\n      <use x=\"343.171875\" xlink:href=\"#DejaVuSans-72\"/>\r\n      <use x=\"384.285156\" xlink:href=\"#DejaVuSans-61\"/>\r\n      <use x=\"445.564453\" xlink:href=\"#DejaVuSans-67\"/>\r\n      <use x=\"509.041016\" xlink:href=\"#DejaVuSans-65\"/>\r\n     </g>\r\n    </g>\r\n   </g>\r\n   <g id=\"matplotlib.axis_8\">\r\n    <g id=\"ytick_24\">\r\n     <g id=\"line2d_57\">\r\n      <g>\r\n       <use style=\"stroke:#000000;stroke-width:0.8;\" x=\"498.892753\" xlink:href=\"#m836ed1b8e9\" y=\"462.411843\"/>\r\n      </g>\r\n     </g>\r\n     <g id=\"text_72\">\r\n      <!-- −4 -->\r\n      <g transform=\"translate(477.150565 466.211062)scale(0.1 -0.1)\">\r\n       <use xlink:href=\"#DejaVuSans-2212\"/>\r\n       <use x=\"83.789062\" xlink:href=\"#DejaVuSans-34\"/>\r\n      </g>\r\n     </g>\r\n    </g>\r\n    <g id=\"ytick_25\">\r\n     <g id=\"line2d_58\">\r\n      <g>\r\n       <use style=\"stroke:#000000;stroke-width:0.8;\" x=\"498.892753\" xlink:href=\"#m836ed1b8e9\" y=\"437.308435\"/>\r\n      </g>\r\n     </g>\r\n     <g id=\"text_73\">\r\n      <!-- −3 -->\r\n      <g transform=\"translate(477.150565 441.107653)scale(0.1 -0.1)\">\r\n       <use xlink:href=\"#DejaVuSans-2212\"/>\r\n       <use x=\"83.789062\" xlink:href=\"#DejaVuSans-33\"/>\r\n      </g>\r\n     </g>\r\n    </g>\r\n    <g id=\"ytick_26\">\r\n     <g id=\"line2d_59\">\r\n      <g>\r\n       <use style=\"stroke:#000000;stroke-width:0.8;\" x=\"498.892753\" xlink:href=\"#m836ed1b8e9\" y=\"412.205026\"/>\r\n      </g>\r\n     </g>\r\n     <g id=\"text_74\">\r\n      <!-- −2 -->\r\n      <g transform=\"translate(477.150565 416.004245)scale(0.1 -0.1)\">\r\n       <use xlink:href=\"#DejaVuSans-2212\"/>\r\n       <use x=\"83.789062\" xlink:href=\"#DejaVuSans-32\"/>\r\n      </g>\r\n     </g>\r\n    </g>\r\n    <g id=\"ytick_27\">\r\n     <g id=\"line2d_60\">\r\n      <g>\r\n       <use style=\"stroke:#000000;stroke-width:0.8;\" x=\"498.892753\" xlink:href=\"#m836ed1b8e9\" y=\"387.101618\"/>\r\n      </g>\r\n     </g>\r\n     <g id=\"text_75\">\r\n      <!-- −1 -->\r\n      <g transform=\"translate(477.150565 390.900837)scale(0.1 -0.1)\">\r\n       <use xlink:href=\"#DejaVuSans-2212\"/>\r\n       <use x=\"83.789062\" xlink:href=\"#DejaVuSans-31\"/>\r\n      </g>\r\n     </g>\r\n    </g>\r\n    <g id=\"ytick_28\">\r\n     <g id=\"line2d_61\">\r\n      <g>\r\n       <use style=\"stroke:#000000;stroke-width:0.8;\" x=\"498.892753\" xlink:href=\"#m836ed1b8e9\" y=\"361.998209\"/>\r\n      </g>\r\n     </g>\r\n     <g id=\"text_76\">\r\n      <!-- 0 -->\r\n      <g transform=\"translate(485.530253 365.797428)scale(0.1 -0.1)\">\r\n       <use xlink:href=\"#DejaVuSans-30\"/>\r\n      </g>\r\n     </g>\r\n    </g>\r\n    <g id=\"ytick_29\">\r\n     <g id=\"line2d_62\">\r\n      <g>\r\n       <use style=\"stroke:#000000;stroke-width:0.8;\" x=\"498.892753\" xlink:href=\"#m836ed1b8e9\" y=\"336.894801\"/>\r\n      </g>\r\n     </g>\r\n     <g id=\"text_77\">\r\n      <!-- 1 -->\r\n      <g transform=\"translate(485.530253 340.69402)scale(0.1 -0.1)\">\r\n       <use xlink:href=\"#DejaVuSans-31\"/>\r\n      </g>\r\n     </g>\r\n    </g>\r\n    <g id=\"ytick_30\">\r\n     <g id=\"line2d_63\">\r\n      <g>\r\n       <use style=\"stroke:#000000;stroke-width:0.8;\" x=\"498.892753\" xlink:href=\"#m836ed1b8e9\" y=\"311.791393\"/>\r\n      </g>\r\n     </g>\r\n     <g id=\"text_78\">\r\n      <!-- 2 -->\r\n      <g transform=\"translate(485.530253 315.590611)scale(0.1 -0.1)\">\r\n       <use xlink:href=\"#DejaVuSans-32\"/>\r\n      </g>\r\n     </g>\r\n    </g>\r\n    <g id=\"ytick_31\">\r\n     <g id=\"line2d_64\">\r\n      <g>\r\n       <use style=\"stroke:#000000;stroke-width:0.8;\" x=\"498.892753\" xlink:href=\"#m836ed1b8e9\" y=\"286.687984\"/>\r\n      </g>\r\n     </g>\r\n     <g id=\"text_79\">\r\n      <!-- 3 -->\r\n      <g transform=\"translate(485.530253 290.487203)scale(0.1 -0.1)\">\r\n       <use xlink:href=\"#DejaVuSans-33\"/>\r\n      </g>\r\n     </g>\r\n    </g>\r\n    <g id=\"text_80\">\r\n     <!-- Studentized Residuals -->\r\n     <g transform=\"translate(470.65494 443.985625)rotate(-90)scale(0.12 -0.12)\">\r\n      <use xlink:href=\"#DejaVuSans-53\"/>\r\n      <use x=\"63.476562\" xlink:href=\"#DejaVuSans-74\"/>\r\n      <use x=\"102.685547\" xlink:href=\"#DejaVuSans-75\"/>\r\n      <use x=\"166.064453\" xlink:href=\"#DejaVuSans-64\"/>\r\n      <use x=\"229.541016\" xlink:href=\"#DejaVuSans-65\"/>\r\n      <use x=\"291.064453\" xlink:href=\"#DejaVuSans-6e\"/>\r\n      <use x=\"354.443359\" xlink:href=\"#DejaVuSans-74\"/>\r\n      <use x=\"393.652344\" xlink:href=\"#DejaVuSans-69\"/>\r\n      <use x=\"421.435547\" xlink:href=\"#DejaVuSans-7a\"/>\r\n      <use x=\"473.925781\" xlink:href=\"#DejaVuSans-65\"/>\r\n      <use x=\"535.449219\" xlink:href=\"#DejaVuSans-64\"/>\r\n      <use x=\"598.925781\" xlink:href=\"#DejaVuSans-20\"/>\r\n      <use x=\"630.712891\" xlink:href=\"#DejaVuSans-52\"/>\r\n      <use x=\"695.695312\" xlink:href=\"#DejaVuSans-65\"/>\r\n      <use x=\"757.21875\" xlink:href=\"#DejaVuSans-73\"/>\r\n      <use x=\"809.318359\" xlink:href=\"#DejaVuSans-69\"/>\r\n      <use x=\"837.101562\" xlink:href=\"#DejaVuSans-64\"/>\r\n      <use x=\"900.578125\" xlink:href=\"#DejaVuSans-75\"/>\r\n      <use x=\"963.957031\" xlink:href=\"#DejaVuSans-61\"/>\r\n      <use x=\"1025.236328\" xlink:href=\"#DejaVuSans-6c\"/>\r\n      <use x=\"1053.019531\" xlink:href=\"#DejaVuSans-73\"/>\r\n     </g>\r\n    </g>\r\n   </g>\r\n   <g id=\"patch_18\">\r\n    <path d=\"M 498.892753 472.598125 \r\nL 498.892753 282.758125 \r\n\" style=\"fill:none;stroke:#000000;stroke-linecap:square;stroke-linejoin:miter;stroke-width:0.8;\"/>\r\n   </g>\r\n   <g id=\"patch_19\">\r\n    <path d=\"M 895.080193 472.598125 \r\nL 895.080193 282.758125 \r\n\" style=\"fill:none;stroke:#000000;stroke-linecap:square;stroke-linejoin:miter;stroke-width:0.8;\"/>\r\n   </g>\r\n   <g id=\"patch_20\">\r\n    <path d=\"M 498.892753 472.598125 \r\nL 895.080193 472.598125 \r\n\" style=\"fill:none;stroke:#000000;stroke-linecap:square;stroke-linejoin:miter;stroke-width:0.8;\"/>\r\n   </g>\r\n   <g id=\"patch_21\">\r\n    <path d=\"M 498.892753 282.758125 \r\nL 895.080193 282.758125 \r\n\" style=\"fill:none;stroke:#000000;stroke-linecap:square;stroke-linejoin:miter;stroke-width:0.8;\"/>\r\n   </g>\r\n   <g id=\"text_81\">\r\n    <!-- 153 -->\r\n    <g transform=\"translate(818.6786 354.042188)scale(0.144 -0.144)\">\r\n     <use xlink:href=\"#DejaVuSans-31\"/>\r\n     <use x=\"63.623047\" xlink:href=\"#DejaVuSans-35\"/>\r\n     <use x=\"127.246094\" xlink:href=\"#DejaVuSans-33\"/>\r\n    </g>\r\n   </g>\r\n   <g id=\"text_82\">\r\n    <!-- 184 -->\r\n    <g transform=\"translate(659.529295 331.829444)scale(0.144 -0.144)\">\r\n     <use xlink:href=\"#DejaVuSans-31\"/>\r\n     <use x=\"63.623047\" xlink:href=\"#DejaVuSans-38\"/>\r\n     <use x=\"127.246094\" xlink:href=\"#DejaVuSans-34\"/>\r\n    </g>\r\n   </g>\r\n   <g id=\"text_83\">\r\n    <!-- 181 -->\r\n    <g transform=\"translate(823.967636 340.271989)scale(0.144 -0.144)\">\r\n     <use xlink:href=\"#DejaVuSans-31\"/>\r\n     <use x=\"63.623047\" xlink:href=\"#DejaVuSans-38\"/>\r\n     <use x=\"127.246094\" xlink:href=\"#DejaVuSans-31\"/>\r\n    </g>\r\n   </g>\r\n   <g id=\"text_84\">\r\n    <!-- 229 -->\r\n    <g transform=\"translate(661.656693 332.056756)scale(0.144 -0.144)\">\r\n     <use xlink:href=\"#DejaVuSans-32\"/>\r\n     <use x=\"63.623047\" xlink:href=\"#DejaVuSans-32\"/>\r\n     <use x=\"127.246094\" xlink:href=\"#DejaVuSans-39\"/>\r\n    </g>\r\n   </g>\r\n   <g id=\"text_85\">\r\n    <!-- 9 -->\r\n    <g transform=\"translate(672.376772 372.466911)scale(0.144 -0.144)\">\r\n     <use xlink:href=\"#DejaVuSans-39\"/>\r\n    </g>\r\n   </g>\r\n   <g id=\"text_86\">\r\n    <!-- 52 -->\r\n    <g transform=\"translate(593.749613 266.758585)scale(0.144 -0.144)\">\r\n     <use xlink:href=\"#DejaVuSans-35\"/>\r\n     <use x=\"63.623047\" xlink:href=\"#DejaVuSans-32\"/>\r\n    </g>\r\n   </g>\r\n   <g id=\"text_87\">\r\n    <!-- 7 -->\r\n    <g transform=\"translate(867.439825 364.390685)scale(0.144 -0.144)\">\r\n     <use xlink:href=\"#DejaVuSans-37\"/>\r\n    </g>\r\n   </g>\r\n   <g id=\"text_88\">\r\n    <!-- 115 -->\r\n    <g transform=\"translate(648.764626 284.968992)scale(0.144 -0.144)\">\r\n     <use xlink:href=\"#DejaVuSans-31\"/>\r\n     <use x=\"63.623047\" xlink:href=\"#DejaVuSans-31\"/>\r\n     <use x=\"127.246094\" xlink:href=\"#DejaVuSans-35\"/>\r\n    </g>\r\n   </g>\r\n   <g id=\"text_89\">\r\n    <!-- 15 -->\r\n    <g transform=\"translate(545.444682 283.451317)scale(0.144 -0.144)\">\r\n     <use xlink:href=\"#DejaVuSans-31\"/>\r\n     <use x=\"63.623047\" xlink:href=\"#DejaVuSans-35\"/>\r\n    </g>\r\n   </g>\r\n   <g id=\"text_90\">\r\n    <!-- 213 -->\r\n    <g transform=\"translate(824.614473 342.302403)scale(0.144 -0.144)\">\r\n     <use xlink:href=\"#DejaVuSans-32\"/>\r\n     <use x=\"63.623047\" xlink:href=\"#DejaVuSans-31\"/>\r\n     <use x=\"127.246094\" xlink:href=\"#DejaVuSans-33\"/>\r\n    </g>\r\n   </g>\r\n   <g id=\"text_91\">\r\n    <!-- 93 -->\r\n    <g transform=\"translate(584.437119 430.027909)scale(0.144 -0.144)\">\r\n     <use xlink:href=\"#DejaVuSans-39\"/>\r\n     <use x=\"63.623047\" xlink:href=\"#DejaVuSans-33\"/>\r\n    </g>\r\n   </g>\r\n   <g id=\"text_92\">\r\n    <!-- 50 -->\r\n    <g transform=\"translate(542.114742 283.615367)scale(0.144 -0.144)\">\r\n     <use xlink:href=\"#DejaVuSans-35\"/>\r\n     <use x=\"63.623047\" xlink:href=\"#DejaVuSans-30\"/>\r\n    </g>\r\n   </g>\r\n   <g id=\"text_93\">\r\n    <!-- 200 -->\r\n    <g transform=\"translate(673.553648 370.350967)scale(0.144 -0.144)\">\r\n     <use xlink:href=\"#DejaVuSans-32\"/>\r\n     <use x=\"63.623047\" xlink:href=\"#DejaVuSans-30\"/>\r\n     <use x=\"127.246094\" xlink:href=\"#DejaVuSans-30\"/>\r\n    </g>\r\n   </g>\r\n   <g id=\"text_94\">\r\n    <!-- 27 -->\r\n    <g transform=\"translate(746.251266 376.903653)scale(0.144 -0.144)\">\r\n     <use xlink:href=\"#DejaVuSans-32\"/>\r\n     <use x=\"63.623047\" xlink:href=\"#DejaVuSans-37\"/>\r\n    </g>\r\n   </g>\r\n   <g id=\"text_95\">\r\n    <!-- 125 -->\r\n    <g transform=\"translate(680.259546 354.605804)scale(0.144 -0.144)\">\r\n     <use xlink:href=\"#DejaVuSans-31\"/>\r\n     <use x=\"63.623047\" xlink:href=\"#DejaVuSans-32\"/>\r\n     <use x=\"127.246094\" xlink:href=\"#DejaVuSans-35\"/>\r\n    </g>\r\n   </g>\r\n   <g id=\"text_96\">\r\n    <!-- 26 -->\r\n    <g transform=\"translate(543.64742 291.866522)scale(0.144 -0.144)\">\r\n     <use xlink:href=\"#DejaVuSans-32\"/>\r\n     <use x=\"63.623047\" xlink:href=\"#DejaVuSans-36\"/>\r\n    </g>\r\n   </g>\r\n   <g id=\"text_97\">\r\n    <!-- 199 -->\r\n    <g transform=\"translate(675.838593 365.417806)scale(0.144 -0.144)\">\r\n     <use xlink:href=\"#DejaVuSans-31\"/>\r\n     <use x=\"63.623047\" xlink:href=\"#DejaVuSans-39\"/>\r\n     <use x=\"127.246094\" xlink:href=\"#DejaVuSans-39\"/>\r\n    </g>\r\n   </g>\r\n   <g id=\"text_98\">\r\n    <!-- 85 -->\r\n    <g transform=\"translate(814.60487 365.799002)scale(0.144 -0.144)\">\r\n     <use xlink:href=\"#DejaVuSans-38\"/>\r\n     <use x=\"63.623047\" xlink:href=\"#DejaVuSans-35\"/>\r\n    </g>\r\n   </g>\r\n   <g id=\"text_99\">\r\n    <!-- Influence Plot -->\r\n    <g transform=\"translate(656.132098 262.758125)scale(0.12 -0.12)\">\r\n     <defs>\r\n      <path d=\"M 628 4666 \r\nL 1259 4666 \r\nL 1259 0 \r\nL 628 0 \r\nL 628 4666 \r\nz\r\n\" id=\"DejaVuSans-49\" transform=\"scale(0.015625)\"/>\r\n      <path d=\"M 2375 4863 \r\nL 2375 4384 \r\nL 1825 4384 \r\nQ 1516 4384 1395 4259 \r\nQ 1275 4134 1275 3809 \r\nL 1275 3500 \r\nL 2222 3500 \r\nL 2222 3053 \r\nL 1275 3053 \r\nL 1275 0 \r\nL 697 0 \r\nL 697 3053 \r\nL 147 3053 \r\nL 147 3500 \r\nL 697 3500 \r\nL 697 3744 \r\nQ 697 4328 969 4595 \r\nQ 1241 4863 1831 4863 \r\nL 2375 4863 \r\nz\r\n\" id=\"DejaVuSans-66\" transform=\"scale(0.015625)\"/>\r\n      <path d=\"M 1259 4147 \r\nL 1259 2394 \r\nL 2053 2394 \r\nQ 2494 2394 2734 2622 \r\nQ 2975 2850 2975 3272 \r\nQ 2975 3691 2734 3919 \r\nQ 2494 4147 2053 4147 \r\nL 1259 4147 \r\nz\r\nM 628 4666 \r\nL 2053 4666 \r\nQ 2838 4666 3239 4311 \r\nQ 3641 3956 3641 3272 \r\nQ 3641 2581 3239 2228 \r\nQ 2838 1875 2053 1875 \r\nL 1259 1875 \r\nL 1259 0 \r\nL 628 0 \r\nL 628 4666 \r\nz\r\n\" id=\"DejaVuSans-50\" transform=\"scale(0.015625)\"/>\r\n     </defs>\r\n     <use xlink:href=\"#DejaVuSans-49\"/>\r\n     <use x=\"29.492188\" xlink:href=\"#DejaVuSans-6e\"/>\r\n     <use x=\"92.871094\" xlink:href=\"#DejaVuSans-66\"/>\r\n     <use x=\"128.076172\" xlink:href=\"#DejaVuSans-6c\"/>\r\n     <use x=\"155.859375\" xlink:href=\"#DejaVuSans-75\"/>\r\n     <use x=\"219.238281\" xlink:href=\"#DejaVuSans-65\"/>\r\n     <use x=\"280.761719\" xlink:href=\"#DejaVuSans-6e\"/>\r\n     <use x=\"344.140625\" xlink:href=\"#DejaVuSans-63\"/>\r\n     <use x=\"399.121094\" xlink:href=\"#DejaVuSans-65\"/>\r\n     <use x=\"460.644531\" xlink:href=\"#DejaVuSans-20\"/>\r\n     <use x=\"492.431641\" xlink:href=\"#DejaVuSans-50\"/>\r\n     <use x=\"552.734375\" xlink:href=\"#DejaVuSans-6c\"/>\r\n     <use x=\"580.517578\" xlink:href=\"#DejaVuSans-6f\"/>\r\n     <use x=\"641.699219\" xlink:href=\"#DejaVuSans-74\"/>\r\n    </g>\r\n   </g>\r\n  </g>\r\n </g>\r\n <defs>\r\n  <clipPath id=\"p18f14c32f4\">\r\n   <rect height=\"189.84\" width=\"396.18744\" x=\"55.345313\" y=\"22.318125\"/>\r\n  </clipPath>\r\n  <clipPath id=\"p3355c1a610\">\r\n   <rect height=\"189.84\" width=\"396.18744\" x=\"498.892753\" y=\"22.318125\"/>\r\n  </clipPath>\r\n  <clipPath id=\"p2fffa20350\">\r\n   <rect height=\"189.84\" width=\"396.18744\" x=\"55.345313\" y=\"282.758125\"/>\r\n  </clipPath>\r\n  <clipPath id=\"p22124b60a5\">\r\n   <rect height=\"189.84\" width=\"396.18744\" x=\"498.892753\" y=\"282.758125\"/>\r\n  </clipPath>\r\n </defs>\r\n</svg>\r\n",
                        "image/png": "[encoded data removed]"
                    },
                    "metadata": {}
                }
            ],
            "metadata": {}
        },
        {
            "cell_type": "markdown",
            "source": [
                "The normal Q-Q plot suggests that the dependent variable is normally distributed, and the residuals vs. fitted plot shows that the homogeneity of the errors is met. Without anything to the contrary, we can assume that the observations are independent. Let's take look at the output: "
            ],
            "metadata": {}
        },
        {
            "cell_type": "code",
            "execution_count": 41,
            "source": [
                "print(anova.summary())"
            ],
            "outputs": [
                {
                    "output_type": "stream",
                    "name": "stdout",
                    "text": [
                        "                            OLS Regression Results                            \n",
                        "==============================================================================\n",
                        "Dep. Variable:            Time_in_bed   R-squared:                       0.110\n",
                        "Model:                            OLS   Adj. R-squared:                  0.064\n",
                        "Method:                 Least Squares   F-statistic:                     2.394\n",
                        "Date:                Sat, 21 Aug 2021   Prob (F-statistic):             0.0323\n",
                        "Time:                        20:21:10   Log-Likelihood:                -627.29\n",
                        "No. Observations:                 123   AIC:                             1269.\n",
                        "Df Residuals:                     116   BIC:                             1288.\n",
                        "Df Model:                           6                                         \n",
                        "Covariance Type:            nonrobust                                         \n",
                        "=========================================================================================\n",
                        "                            coef    std err          t      P>|t|      [0.025      0.975]\n",
                        "-----------------------------------------------------------------------------------------\n",
                        "Intercept               515.4745     18.937     27.221      0.000     477.968     552.981\n",
                        "C(Drank_coffee)[T.1]    -10.3705     10.108     -1.026      0.307     -30.391       9.650\n",
                        "C(Drank_tea)[T.1]        -8.2564      9.845     -0.839      0.403     -27.756      11.243\n",
                        "C(Wake_up)[T.2]         -31.9661     13.127     -2.435      0.016     -57.966      -5.966\n",
                        "C(Ate_late)[T.1]        -18.0184     18.844     -0.956      0.341     -55.342      19.305\n",
                        "C(Worked_out)[T.1]      -19.7860      7.600     -2.604      0.010     -34.838      -4.734\n",
                        "C(Stressful_day)[T.1]     7.0673     11.664      0.606      0.546     -16.035      30.170\n",
                        "==============================================================================\n",
                        "Omnibus:                        4.753   Durbin-Watson:                   2.425\n",
                        "Prob(Omnibus):                  0.093   Jarque-Bera (JB):                6.266\n",
                        "Skew:                           0.099   Prob(JB):                       0.0436\n",
                        "Kurtosis:                       4.088   Cond. No.                         11.5\n",
                        "==============================================================================\n",
                        "\n",
                        "Notes:\n",
                        "[1] Standard Errors assume that the covariance matrix of the errors is correctly specified.\n"
                    ]
                }
            ],
            "metadata": {}
        },
        {
            "cell_type": "markdown",
            "source": [
                "Next, we'll remove the variables that are not significant."
            ],
            "metadata": {}
        },
        {
            "cell_type": "code",
            "execution_count": 42,
            "source": [
                "anova = ols('Time_in_bed ~ C(Wake_up) + C(Worked_out)', data = dfTrain).fit()\r\n",
                "\r\n",
                "print(anova.summary())"
            ],
            "outputs": [
                {
                    "output_type": "stream",
                    "name": "stdout",
                    "text": [
                        "                            OLS Regression Results                            \n",
                        "==============================================================================\n",
                        "Dep. Variable:            Time_in_bed   R-squared:                       0.087\n",
                        "Model:                            OLS   Adj. R-squared:                  0.072\n",
                        "Method:                 Least Squares   F-statistic:                     5.745\n",
                        "Date:                Sat, 21 Aug 2021   Prob (F-statistic):            0.00414\n",
                        "Time:                        20:21:10   Log-Likelihood:                -628.84\n",
                        "No. Observations:                 123   AIC:                             1264.\n",
                        "Df Residuals:                     120   BIC:                             1272.\n",
                        "Df Model:                           2                                         \n",
                        "Covariance Type:            nonrobust                                         \n",
                        "======================================================================================\n",
                        "                         coef    std err          t      P>|t|      [0.025      0.975]\n",
                        "--------------------------------------------------------------------------------------\n",
                        "Intercept            499.6155     13.133     38.042      0.000     473.612     525.619\n",
                        "C(Wake_up)[T.2]      -31.7958     12.907     -2.464      0.015     -57.350      -6.241\n",
                        "C(Worked_out)[T.1]   -18.6814      7.366     -2.536      0.012     -33.267      -4.096\n",
                        "==============================================================================\n",
                        "Omnibus:                        5.596   Durbin-Watson:                   2.418\n",
                        "Prob(Omnibus):                  0.061   Jarque-Bera (JB):                7.076\n",
                        "Skew:                           0.216   Prob(JB):                       0.0291\n",
                        "Kurtosis:                       4.093   Cond. No.                         7.22\n",
                        "==============================================================================\n",
                        "\n",
                        "Notes:\n",
                        "[1] Standard Errors assume that the covariance matrix of the errors is correctly specified.\n"
                    ]
                }
            ],
            "metadata": {}
        },
        {
            "cell_type": "markdown",
            "source": [
                "After doing manual stepwise adjustments (removing and adding variables as the p-values dictate), we are left over with only \"Wake up\" and \"Worked out\".\r\n",
                "\r\n",
                "Clearly, using only these categorical variables cannot explain the variance in sleep time on their own. While \"Wake up\" and \"Worked out\" are significant, meaning they do have an effect on the response, the adjusted R-squared is very low. In the future, it may be worth it to consider these 3 variables on other analyses, as they explain something about \"Time in bed\", and may be bolstered by other, new variables."
            ],
            "metadata": {}
        },
        {
            "cell_type": "markdown",
            "source": [],
            "metadata": {}
        }
    ],
    "metadata": {
        "orig_nbformat": 4,
        "language_info": {
            "name": "python",
            "version": "3.8.11",
            "mimetype": "text/x-python",
            "codemirror_mode": {
                "name": "ipython",
                "version": 3
            },
            "pygments_lexer": "ipython3",
            "nbconvert_exporter": "python",
            "file_extension": ".py"
        },
        "kernelspec": {
            "name": "python3",
            "display_name": "Python 3.8.11 64-bit ('base': conda)"
        },
        "interpreter": {
            "hash": "b2c5e44d31b875738ed638c71f6d3072afbbc08fcbfca63303afa3e2eb11ddc0"
        }
    },
    "nbformat": 4,
    "nbformat_minor": 2
}