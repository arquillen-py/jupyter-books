{
    "cells": [
        {
            "cell_type": "code",
            "execution_count": 1,
            "source": [
                "#%%capture\r\n",
                "# Import packages\r\n",
                "import pandas as pd\r\n",
                "import numpy as np\r\n",
                "import matplotlib.pyplot as plt\r\n",
                "import matplotlib.ticker as tick\r\n",
                "from sklearn.linear_model import LinearRegression\r\n",
                "from sklearn.metrics import r2_score\r\n",
                "from sklearn.model_selection import train_test_split\r\n",
                "from sklearn import metrics\r\n",
                "\r\n",
                "from scipy import stats\r\n",
                "\r\n",
                "import statsmodels.api as sm\r\n",
                "import statsmodels.formula.api as smf\r\n",
                "\r\n",
                "#from IPython.core.interactiveshell import InteractiveShell\r\n",
                "#InteractiveShell.ast_node_interactivity = \"all\" # Print multiple output in one cell\r\n",
                "\r\n",
                "try:\r\n",
                "    import seaborn as sns\r\n",
                "    print(\"Module 'seaborn' is installed\")\r\n",
                "except ModuleNotFoundError:\r\n",
                "    %pip install seaborn\r\n",
                "    import seaborn as sns\r\n",
                "\r\n",
                "#import datetime\r\n",
                "#import random\r\n",
                "#%pip install nbconvert[webpdf]\r\n",
                "#%pip install latex"
            ],
            "outputs": [
                {
                    "output_type": "stream",
                    "name": "stdout",
                    "text": [
                        "Module 'seaborn' is installed\n"
                    ]
                }
            ],
            "metadata": {}
        },
        {
            "cell_type": "code",
            "execution_count": 2,
            "source": [
                "df = pd.read_csv(\"Datasets/sleepdata.csv\", delimiter=\";\", header = 0)"
            ],
            "outputs": [],
            "metadata": {}
        },
        {
            "cell_type": "code",
            "execution_count": 3,
            "source": [
                "f\"This dataset has {df.shape[0]} rows and {df.shape[1]} columns.\""
            ],
            "outputs": [
                {
                    "output_type": "execute_result",
                    "data": {
                        "text/plain": [
                            "'This dataset has 887 rows and 8 columns.'"
                        ]
                    },
                    "metadata": {},
                    "execution_count": 3
                }
            ],
            "metadata": {}
        },
        {
            "cell_type": "code",
            "execution_count": 4,
            "source": [
                "df.head(5)"
            ],
            "outputs": [
                {
                    "output_type": "execute_result",
                    "data": {
                        "text/plain": [
                            "                 Start                  End Sleep quality Time in bed Wake up  \\\n",
                            "0  2014-12-29 22:57:49  2014-12-30 07:30:13          100%        8:32      :)   \n",
                            "1  2014-12-30 21:17:50  2014-12-30 21:33:54            3%        0:16      :|   \n",
                            "2  2014-12-30 22:42:49  2014-12-31 07:13:31           98%        8:30      :|   \n",
                            "3  2014-12-31 22:31:01  2015-01-01 06:03:01           65%        7:32     NaN   \n",
                            "4  2015-01-01 22:12:10  2015-01-02 04:56:35           72%        6:44      :)   \n",
                            "\n",
                            "              Sleep Notes  Heart rate  Activity (steps)  \n",
                            "0                     NaN        59.0                 0  \n",
                            "1           Stressful day        72.0                 0  \n",
                            "2                     NaN        57.0                 0  \n",
                            "3                     NaN         NaN                 0  \n",
                            "4  Drank coffee:Drank tea        68.0                 0  "
                        ],
                        "text/html": [
                            "<div>\n",
                            "<style scoped>\n",
                            "    .dataframe tbody tr th:only-of-type {\n",
                            "        vertical-align: middle;\n",
                            "    }\n",
                            "\n",
                            "    .dataframe tbody tr th {\n",
                            "        vertical-align: top;\n",
                            "    }\n",
                            "\n",
                            "    .dataframe thead th {\n",
                            "        text-align: right;\n",
                            "    }\n",
                            "</style>\n",
                            "<table border=\"1\" class=\"dataframe\">\n",
                            "  <thead>\n",
                            "    <tr style=\"text-align: right;\">\n",
                            "      <th></th>\n",
                            "      <th>Start</th>\n",
                            "      <th>End</th>\n",
                            "      <th>Sleep quality</th>\n",
                            "      <th>Time in bed</th>\n",
                            "      <th>Wake up</th>\n",
                            "      <th>Sleep Notes</th>\n",
                            "      <th>Heart rate</th>\n",
                            "      <th>Activity (steps)</th>\n",
                            "    </tr>\n",
                            "  </thead>\n",
                            "  <tbody>\n",
                            "    <tr>\n",
                            "      <th>0</th>\n",
                            "      <td>2014-12-29 22:57:49</td>\n",
                            "      <td>2014-12-30 07:30:13</td>\n",
                            "      <td>100%</td>\n",
                            "      <td>8:32</td>\n",
                            "      <td>:)</td>\n",
                            "      <td>NaN</td>\n",
                            "      <td>59.0</td>\n",
                            "      <td>0</td>\n",
                            "    </tr>\n",
                            "    <tr>\n",
                            "      <th>1</th>\n",
                            "      <td>2014-12-30 21:17:50</td>\n",
                            "      <td>2014-12-30 21:33:54</td>\n",
                            "      <td>3%</td>\n",
                            "      <td>0:16</td>\n",
                            "      <td>:|</td>\n",
                            "      <td>Stressful day</td>\n",
                            "      <td>72.0</td>\n",
                            "      <td>0</td>\n",
                            "    </tr>\n",
                            "    <tr>\n",
                            "      <th>2</th>\n",
                            "      <td>2014-12-30 22:42:49</td>\n",
                            "      <td>2014-12-31 07:13:31</td>\n",
                            "      <td>98%</td>\n",
                            "      <td>8:30</td>\n",
                            "      <td>:|</td>\n",
                            "      <td>NaN</td>\n",
                            "      <td>57.0</td>\n",
                            "      <td>0</td>\n",
                            "    </tr>\n",
                            "    <tr>\n",
                            "      <th>3</th>\n",
                            "      <td>2014-12-31 22:31:01</td>\n",
                            "      <td>2015-01-01 06:03:01</td>\n",
                            "      <td>65%</td>\n",
                            "      <td>7:32</td>\n",
                            "      <td>NaN</td>\n",
                            "      <td>NaN</td>\n",
                            "      <td>NaN</td>\n",
                            "      <td>0</td>\n",
                            "    </tr>\n",
                            "    <tr>\n",
                            "      <th>4</th>\n",
                            "      <td>2015-01-01 22:12:10</td>\n",
                            "      <td>2015-01-02 04:56:35</td>\n",
                            "      <td>72%</td>\n",
                            "      <td>6:44</td>\n",
                            "      <td>:)</td>\n",
                            "      <td>Drank coffee:Drank tea</td>\n",
                            "      <td>68.0</td>\n",
                            "      <td>0</td>\n",
                            "    </tr>\n",
                            "  </tbody>\n",
                            "</table>\n",
                            "</div>"
                        ]
                    },
                    "metadata": {},
                    "execution_count": 4
                }
            ],
            "metadata": {}
        },
        {
            "cell_type": "code",
            "execution_count": 5,
            "source": [
                "df.dtypes"
            ],
            "outputs": [
                {
                    "output_type": "execute_result",
                    "data": {
                        "text/plain": [
                            "Start                object\n",
                            "End                  object\n",
                            "Sleep quality        object\n",
                            "Time in bed          object\n",
                            "Wake up              object\n",
                            "Sleep Notes          object\n",
                            "Heart rate          float64\n",
                            "Activity (steps)      int64\n",
                            "dtype: object"
                        ]
                    },
                    "metadata": {},
                    "execution_count": 5
                }
            ],
            "metadata": {}
        },
        {
            "cell_type": "markdown",
            "source": [
                "We'll change the start and end columns to the datetime data type, and convert time in bed to minutes."
            ],
            "metadata": {}
        },
        {
            "cell_type": "code",
            "execution_count": 6,
            "source": [
                "#Convert the dates to datetime, and convert \"time in bed\" to a quantitative variable, measured in minutes\r\n",
                "df[\"Start\"] = pd.to_datetime(df[\"Start\"])\r\n",
                "df[\"End\"] = pd.to_datetime(df[\"End\"])\r\n",
                "\r\n",
                "i = 0\r\n",
                "for time in df[\"Time in bed\"]:\r\n",
                "    #print(time)\r\n",
                "    df[\"Time in bed\"].iloc[i] = int(df[\"Time in bed\"].iloc[i].split(\":\")[0]) * 60 + int(df[\"Time in bed\"].iloc[i].split(\":\")[1])\r\n",
                "    i += 1\r\n",
                "    if i >= df.shape[0]:\r\n",
                "        break\r\n",
                "\r\n",
                "df[\"Time in bed\"] = pd.to_numeric(df[\"Time in bed\"], downcast=\"float\")"
            ],
            "outputs": [
                {
                    "output_type": "stream",
                    "name": "stderr",
                    "text": [
                        "C:\\Users\\arqui\\anaconda3\\lib\\site-packages\\pandas\\core\\indexing.py:1732: SettingWithCopyWarning: \n",
                        "A value is trying to be set on a copy of a slice from a DataFrame\n",
                        "\n",
                        "See the caveats in the documentation: https://pandas.pydata.org/pandas-docs/stable/user_guide/indexing.html#returning-a-view-versus-a-copy\n",
                        "  self._setitem_single_block(indexer, value, name)\n"
                    ]
                }
            ],
            "metadata": {}
        },
        {
            "cell_type": "code",
            "execution_count": 7,
            "source": [
                "df.dtypes"
            ],
            "outputs": [
                {
                    "output_type": "execute_result",
                    "data": {
                        "text/plain": [
                            "Start               datetime64[ns]\n",
                            "End                 datetime64[ns]\n",
                            "Sleep quality               object\n",
                            "Time in bed                float32\n",
                            "Wake up                     object\n",
                            "Sleep Notes                 object\n",
                            "Heart rate                 float64\n",
                            "Activity (steps)             int64\n",
                            "dtype: object"
                        ]
                    },
                    "metadata": {},
                    "execution_count": 7
                }
            ],
            "metadata": {}
        },
        {
            "cell_type": "code",
            "execution_count": 8,
            "source": [
                "df.head(5)"
            ],
            "outputs": [
                {
                    "output_type": "execute_result",
                    "data": {
                        "text/plain": [
                            "                Start                 End Sleep quality  Time in bed Wake up  \\\n",
                            "0 2014-12-29 22:57:49 2014-12-30 07:30:13          100%        512.0      :)   \n",
                            "1 2014-12-30 21:17:50 2014-12-30 21:33:54            3%         16.0      :|   \n",
                            "2 2014-12-30 22:42:49 2014-12-31 07:13:31           98%        510.0      :|   \n",
                            "3 2014-12-31 22:31:01 2015-01-01 06:03:01           65%        452.0     NaN   \n",
                            "4 2015-01-01 22:12:10 2015-01-02 04:56:35           72%        404.0      :)   \n",
                            "\n",
                            "              Sleep Notes  Heart rate  Activity (steps)  \n",
                            "0                     NaN        59.0                 0  \n",
                            "1           Stressful day        72.0                 0  \n",
                            "2                     NaN        57.0                 0  \n",
                            "3                     NaN         NaN                 0  \n",
                            "4  Drank coffee:Drank tea        68.0                 0  "
                        ],
                        "text/html": [
                            "<div>\n",
                            "<style scoped>\n",
                            "    .dataframe tbody tr th:only-of-type {\n",
                            "        vertical-align: middle;\n",
                            "    }\n",
                            "\n",
                            "    .dataframe tbody tr th {\n",
                            "        vertical-align: top;\n",
                            "    }\n",
                            "\n",
                            "    .dataframe thead th {\n",
                            "        text-align: right;\n",
                            "    }\n",
                            "</style>\n",
                            "<table border=\"1\" class=\"dataframe\">\n",
                            "  <thead>\n",
                            "    <tr style=\"text-align: right;\">\n",
                            "      <th></th>\n",
                            "      <th>Start</th>\n",
                            "      <th>End</th>\n",
                            "      <th>Sleep quality</th>\n",
                            "      <th>Time in bed</th>\n",
                            "      <th>Wake up</th>\n",
                            "      <th>Sleep Notes</th>\n",
                            "      <th>Heart rate</th>\n",
                            "      <th>Activity (steps)</th>\n",
                            "    </tr>\n",
                            "  </thead>\n",
                            "  <tbody>\n",
                            "    <tr>\n",
                            "      <th>0</th>\n",
                            "      <td>2014-12-29 22:57:49</td>\n",
                            "      <td>2014-12-30 07:30:13</td>\n",
                            "      <td>100%</td>\n",
                            "      <td>512.0</td>\n",
                            "      <td>:)</td>\n",
                            "      <td>NaN</td>\n",
                            "      <td>59.0</td>\n",
                            "      <td>0</td>\n",
                            "    </tr>\n",
                            "    <tr>\n",
                            "      <th>1</th>\n",
                            "      <td>2014-12-30 21:17:50</td>\n",
                            "      <td>2014-12-30 21:33:54</td>\n",
                            "      <td>3%</td>\n",
                            "      <td>16.0</td>\n",
                            "      <td>:|</td>\n",
                            "      <td>Stressful day</td>\n",
                            "      <td>72.0</td>\n",
                            "      <td>0</td>\n",
                            "    </tr>\n",
                            "    <tr>\n",
                            "      <th>2</th>\n",
                            "      <td>2014-12-30 22:42:49</td>\n",
                            "      <td>2014-12-31 07:13:31</td>\n",
                            "      <td>98%</td>\n",
                            "      <td>510.0</td>\n",
                            "      <td>:|</td>\n",
                            "      <td>NaN</td>\n",
                            "      <td>57.0</td>\n",
                            "      <td>0</td>\n",
                            "    </tr>\n",
                            "    <tr>\n",
                            "      <th>3</th>\n",
                            "      <td>2014-12-31 22:31:01</td>\n",
                            "      <td>2015-01-01 06:03:01</td>\n",
                            "      <td>65%</td>\n",
                            "      <td>452.0</td>\n",
                            "      <td>NaN</td>\n",
                            "      <td>NaN</td>\n",
                            "      <td>NaN</td>\n",
                            "      <td>0</td>\n",
                            "    </tr>\n",
                            "    <tr>\n",
                            "      <th>4</th>\n",
                            "      <td>2015-01-01 22:12:10</td>\n",
                            "      <td>2015-01-02 04:56:35</td>\n",
                            "      <td>72%</td>\n",
                            "      <td>404.0</td>\n",
                            "      <td>:)</td>\n",
                            "      <td>Drank coffee:Drank tea</td>\n",
                            "      <td>68.0</td>\n",
                            "      <td>0</td>\n",
                            "    </tr>\n",
                            "  </tbody>\n",
                            "</table>\n",
                            "</div>"
                        ]
                    },
                    "metadata": {},
                    "execution_count": 8
                }
            ],
            "metadata": {}
        },
        {
            "cell_type": "markdown",
            "source": [
                "Next, we'll split up the sleep notes into multiple boolean columns.\r\n"
            ],
            "metadata": {}
        },
        {
            "cell_type": "code",
            "execution_count": 9,
            "source": [
                "#Get all possible unique vales of the \"sleep notes\" column\r\n",
                "uniqueSleepNotes = []\r\n",
                "for notes in df[\"Sleep Notes\"]:\r\n",
                "    if pd.notna(notes):\r\n",
                "        if \":\" in notes:\r\n",
                "            #print(notes.split(\":\"))\r\n",
                "            for item in notes.split(\":\"):\r\n",
                "                [uniqueSleepNotes.append(item) for item in notes.split(\":\") if item not in uniqueSleepNotes]\r\n",
                "\r\n",
                "f\"The potential values for Sleep Notes are: {uniqueSleepNotes}\""
            ],
            "outputs": [
                {
                    "output_type": "execute_result",
                    "data": {
                        "text/plain": [
                            "\"The potential values for Sleep Notes are: ['Drank coffee', 'Drank tea', 'Ate late', 'Worked out', 'Stressful day']\""
                        ]
                    },
                    "metadata": {},
                    "execution_count": 9
                }
            ],
            "metadata": {}
        },
        {
            "cell_type": "code",
            "execution_count": 10,
            "source": [
                "#This section replaces NaN in the \"sleep notes\" column with None, and codes the new categorical variables as booleans with 0 or 1 values.\r\n",
                "df[\"Sleep Notes\"] = df[\"Sleep Notes\"].fillna(\"None\")\r\n",
                "\r\n",
                "for note in uniqueSleepNotes:\r\n",
                "    df[note] = False\r\n",
                "\r\n",
                "df.head(5)\r\n",
                "\r\n",
                "i = 0\r\n",
                "for notes in df[\"Sleep Notes\"]:\r\n",
                "    if \"None\" in notes:\r\n",
                "        #print(notes)\r\n",
                "        i += 1\r\n",
                "    elif \":\" not in notes:\r\n",
                "        #print(notes)\r\n",
                "        df[notes].iloc[i] = True\r\n",
                "        i += 1\r\n",
                "    elif \":\" in notes:\r\n",
                "        for item in notes.split(\":\"):\r\n",
                "            df[item].iloc[i] = True\r\n",
                "        i += 1\r\n",
                "\r\n",
                "for note in uniqueSleepNotes:\r\n",
                "    df[note] = df[note].astype(\"int\")"
            ],
            "outputs": [
                {
                    "output_type": "stream",
                    "name": "stderr",
                    "text": [
                        "C:\\Users\\arqui\\anaconda3\\lib\\site-packages\\pandas\\core\\indexing.py:1732: SettingWithCopyWarning: \n",
                        "A value is trying to be set on a copy of a slice from a DataFrame\n",
                        "\n",
                        "See the caveats in the documentation: https://pandas.pydata.org/pandas-docs/stable/user_guide/indexing.html#returning-a-view-versus-a-copy\n",
                        "  self._setitem_single_block(indexer, value, name)\n"
                    ]
                }
            ],
            "metadata": {}
        },
        {
            "cell_type": "code",
            "execution_count": 11,
            "source": [
                "df.head(5)"
            ],
            "outputs": [
                {
                    "output_type": "execute_result",
                    "data": {
                        "text/plain": [
                            "                Start                 End Sleep quality  Time in bed Wake up  \\\n",
                            "0 2014-12-29 22:57:49 2014-12-30 07:30:13          100%        512.0      :)   \n",
                            "1 2014-12-30 21:17:50 2014-12-30 21:33:54            3%         16.0      :|   \n",
                            "2 2014-12-30 22:42:49 2014-12-31 07:13:31           98%        510.0      :|   \n",
                            "3 2014-12-31 22:31:01 2015-01-01 06:03:01           65%        452.0     NaN   \n",
                            "4 2015-01-01 22:12:10 2015-01-02 04:56:35           72%        404.0      :)   \n",
                            "\n",
                            "              Sleep Notes  Heart rate  Activity (steps)  Drank coffee  \\\n",
                            "0                    None        59.0                 0             0   \n",
                            "1           Stressful day        72.0                 0             0   \n",
                            "2                    None        57.0                 0             0   \n",
                            "3                    None         NaN                 0             0   \n",
                            "4  Drank coffee:Drank tea        68.0                 0             1   \n",
                            "\n",
                            "   Drank tea  Ate late  Worked out  Stressful day  \n",
                            "0          0         0           0              0  \n",
                            "1          0         0           0              1  \n",
                            "2          0         0           0              0  \n",
                            "3          0         0           0              0  \n",
                            "4          1         0           0              0  "
                        ],
                        "text/html": [
                            "<div>\n",
                            "<style scoped>\n",
                            "    .dataframe tbody tr th:only-of-type {\n",
                            "        vertical-align: middle;\n",
                            "    }\n",
                            "\n",
                            "    .dataframe tbody tr th {\n",
                            "        vertical-align: top;\n",
                            "    }\n",
                            "\n",
                            "    .dataframe thead th {\n",
                            "        text-align: right;\n",
                            "    }\n",
                            "</style>\n",
                            "<table border=\"1\" class=\"dataframe\">\n",
                            "  <thead>\n",
                            "    <tr style=\"text-align: right;\">\n",
                            "      <th></th>\n",
                            "      <th>Start</th>\n",
                            "      <th>End</th>\n",
                            "      <th>Sleep quality</th>\n",
                            "      <th>Time in bed</th>\n",
                            "      <th>Wake up</th>\n",
                            "      <th>Sleep Notes</th>\n",
                            "      <th>Heart rate</th>\n",
                            "      <th>Activity (steps)</th>\n",
                            "      <th>Drank coffee</th>\n",
                            "      <th>Drank tea</th>\n",
                            "      <th>Ate late</th>\n",
                            "      <th>Worked out</th>\n",
                            "      <th>Stressful day</th>\n",
                            "    </tr>\n",
                            "  </thead>\n",
                            "  <tbody>\n",
                            "    <tr>\n",
                            "      <th>0</th>\n",
                            "      <td>2014-12-29 22:57:49</td>\n",
                            "      <td>2014-12-30 07:30:13</td>\n",
                            "      <td>100%</td>\n",
                            "      <td>512.0</td>\n",
                            "      <td>:)</td>\n",
                            "      <td>None</td>\n",
                            "      <td>59.0</td>\n",
                            "      <td>0</td>\n",
                            "      <td>0</td>\n",
                            "      <td>0</td>\n",
                            "      <td>0</td>\n",
                            "      <td>0</td>\n",
                            "      <td>0</td>\n",
                            "    </tr>\n",
                            "    <tr>\n",
                            "      <th>1</th>\n",
                            "      <td>2014-12-30 21:17:50</td>\n",
                            "      <td>2014-12-30 21:33:54</td>\n",
                            "      <td>3%</td>\n",
                            "      <td>16.0</td>\n",
                            "      <td>:|</td>\n",
                            "      <td>Stressful day</td>\n",
                            "      <td>72.0</td>\n",
                            "      <td>0</td>\n",
                            "      <td>0</td>\n",
                            "      <td>0</td>\n",
                            "      <td>0</td>\n",
                            "      <td>0</td>\n",
                            "      <td>1</td>\n",
                            "    </tr>\n",
                            "    <tr>\n",
                            "      <th>2</th>\n",
                            "      <td>2014-12-30 22:42:49</td>\n",
                            "      <td>2014-12-31 07:13:31</td>\n",
                            "      <td>98%</td>\n",
                            "      <td>510.0</td>\n",
                            "      <td>:|</td>\n",
                            "      <td>None</td>\n",
                            "      <td>57.0</td>\n",
                            "      <td>0</td>\n",
                            "      <td>0</td>\n",
                            "      <td>0</td>\n",
                            "      <td>0</td>\n",
                            "      <td>0</td>\n",
                            "      <td>0</td>\n",
                            "    </tr>\n",
                            "    <tr>\n",
                            "      <th>3</th>\n",
                            "      <td>2014-12-31 22:31:01</td>\n",
                            "      <td>2015-01-01 06:03:01</td>\n",
                            "      <td>65%</td>\n",
                            "      <td>452.0</td>\n",
                            "      <td>NaN</td>\n",
                            "      <td>None</td>\n",
                            "      <td>NaN</td>\n",
                            "      <td>0</td>\n",
                            "      <td>0</td>\n",
                            "      <td>0</td>\n",
                            "      <td>0</td>\n",
                            "      <td>0</td>\n",
                            "      <td>0</td>\n",
                            "    </tr>\n",
                            "    <tr>\n",
                            "      <th>4</th>\n",
                            "      <td>2015-01-01 22:12:10</td>\n",
                            "      <td>2015-01-02 04:56:35</td>\n",
                            "      <td>72%</td>\n",
                            "      <td>404.0</td>\n",
                            "      <td>:)</td>\n",
                            "      <td>Drank coffee:Drank tea</td>\n",
                            "      <td>68.0</td>\n",
                            "      <td>0</td>\n",
                            "      <td>1</td>\n",
                            "      <td>1</td>\n",
                            "      <td>0</td>\n",
                            "      <td>0</td>\n",
                            "      <td>0</td>\n",
                            "    </tr>\n",
                            "  </tbody>\n",
                            "</table>\n",
                            "</div>"
                        ]
                    },
                    "metadata": {},
                    "execution_count": 11
                }
            ],
            "metadata": {}
        },
        {
            "cell_type": "code",
            "execution_count": 12,
            "source": [
                "#This section codes the \"wake up column\" as ordinal, with :) being 2 and :( being 0.\r\n",
                "df = df.dropna()\r\n",
                "\r\n",
                "i = 0 \r\n",
                "for emoticon in df[\"Wake up\"]:\r\n",
                "    if \":)\" in emoticon:\r\n",
                "        df[\"Wake up\"].iloc[i] = 2\r\n",
                "        i += 1\r\n",
                "    if \":|\" in emoticon:\r\n",
                "        df[\"Wake up\"].iloc[i] = 1\r\n",
                "        i += 1\r\n",
                "    if \":(\" in emoticon:\r\n",
                "        df[\"Wake up\"].iloc[i] = 0\r\n",
                "        i += 1"
            ],
            "outputs": [
                {
                    "output_type": "stream",
                    "name": "stderr",
                    "text": [
                        "C:\\Users\\arqui\\anaconda3\\lib\\site-packages\\pandas\\core\\indexing.py:1732: SettingWithCopyWarning: \n",
                        "A value is trying to be set on a copy of a slice from a DataFrame\n",
                        "\n",
                        "See the caveats in the documentation: https://pandas.pydata.org/pandas-docs/stable/user_guide/indexing.html#returning-a-view-versus-a-copy\n",
                        "  self._setitem_single_block(indexer, value, name)\n"
                    ]
                }
            ],
            "metadata": {}
        },
        {
            "cell_type": "code",
            "execution_count": 13,
            "source": [
                "#print('Mean Absolute Error:', metrics.mean_absolute_error(y_test, y_pred))  \r\n",
                "#print('Mean Squared Error:', metrics.mean_squared_error(y_test, y_pred))  \r\n",
                "#print('Root Mean Squared Error:', np.sqrt(metrics.mean_squared_error(y_test, y_pred)))\r\n",
                "\r\n",
                "#print(r2_score(y_test, y_pred))\r\n",
                "#df.head(5)"
            ],
            "outputs": [],
            "metadata": {}
        },
        {
            "cell_type": "code",
            "execution_count": 14,
            "source": [
                "y = df[\"Time in bed\"]\r\n",
                "x = df[[\"Wake up\", \"Drank coffee\", \"Drank tea\", \"Ate late\", \"Worked out\", \"Stressful day\", \"Heart rate\"]]\r\n",
                "\r\n",
                "x_train, x_test, y_train, y_test = train_test_split(x, y, test_size=0.2, random_state=0)\r\n",
                "\r\n",
                "dfTrain = pd.DataFrame({\r\n",
                "    \"Wake_up\": x_train[\"Wake up\"],\r\n",
                "    \"Drank_coffee\": x_train[\"Drank coffee\"],\r\n",
                "    \"Drank_tea\": x_train[\"Drank tea\"],\r\n",
                "    \"Ate_late\": x_train[\"Ate late\"],\r\n",
                "    \"Worked_out\": x_train[\"Worked out\"],\r\n",
                "    \"Stressful_day\": x_train[\"Stressful day\"],\r\n",
                "    \"Heart_rate\": x_train[\"Heart rate\"],\r\n",
                "    \"Time_in_bed\": y_train\r\n",
                "})\r\n",
                "\r\n",
                "dfTrain.head(5)\r\n",
                "\r\n",
                "mod = smf.ols(formula = \"Time_in_bed ~  C(Drank_coffee) + C(Drank_tea)\", data = dfTrain).fit()\r\n",
                "\r\n",
                "print(mod.summary())"
            ],
            "outputs": [
                {
                    "output_type": "stream",
                    "name": "stdout",
                    "text": [
                        "                            OLS Regression Results                            \n",
                        "==============================================================================\n",
                        "Dep. Variable:            Time_in_bed   R-squared:                       0.061\n",
                        "Model:                            OLS   Adj. R-squared:                  0.046\n",
                        "Method:                 Least Squares   F-statistic:                     4.109\n",
                        "Date:                Fri, 13 Aug 2021   Prob (F-statistic):             0.0187\n",
                        "Time:                        21:39:13   Log-Likelihood:                -735.33\n",
                        "No. Observations:                 129   AIC:                             1477.\n",
                        "Df Residuals:                     126   BIC:                             1485.\n",
                        "Df Model:                           2                                         \n",
                        "Covariance Type:            nonrobust                                         \n",
                        "========================================================================================\n",
                        "                           coef    std err          t      P>|t|      [0.025      0.975]\n",
                        "----------------------------------------------------------------------------------------\n",
                        "Intercept              405.0409     18.304     22.129      0.000     368.818     441.264\n",
                        "C(Drank_coffee)[T.1]    31.1572     15.636      1.993      0.048       0.214      62.100\n",
                        "C(Drank_tea)[T.1]       32.1298     15.258      2.106      0.037       1.936      62.324\n",
                        "==============================================================================\n",
                        "Omnibus:                       84.248   Durbin-Watson:                   2.059\n",
                        "Prob(Omnibus):                  0.000   Jarque-Bera (JB):              660.096\n",
                        "Skew:                          -2.141   Prob(JB):                    4.59e-144\n",
                        "Kurtosis:                      13.221   Cond. No.                         5.57\n",
                        "==============================================================================\n",
                        "\n",
                        "Notes:\n",
                        "[1] Standard Errors assume that the covariance matrix of the errors is correctly specified.\n"
                    ]
                }
            ],
            "metadata": {}
        },
        {
            "cell_type": "markdown",
            "source": [
                "After doing manual stepwise adjustments (removing and adding variables as the p-value dictates), we are left over with only \"Drank coffee\" and \"Drank tea\".\r\n",
                "\r\n",
                "Clearly, using only these categorical var\r\n",
                "iables does little to explain the variance in sleep time on their own. While \"Drank coffee\" and \"Drank tea\" are significant, meaning they do have an effect on the response, the adjusted R-squared is very, very low. In the future, it may be worth it to consider these 2 variables on other analyses, as they explain something about \"Time in bed\", and may be bolstered by other, new variables."
            ],
            "metadata": {}
        }
    ],
    "metadata": {
        "orig_nbformat": 4,
        "language_info": {
            "name": "python",
            "version": "3.8.11",
            "mimetype": "text/x-python",
            "codemirror_mode": {
                "name": "ipython",
                "version": 3
            },
            "pygments_lexer": "ipython3",
            "nbconvert_exporter": "python",
            "file_extension": ".py"
        },
        "kernelspec": {
            "name": "python3",
            "display_name": "Python 3.8.11 64-bit ('base': conda)"
        },
        "interpreter": {
            "hash": "b2c5e44d31b875738ed638c71f6d3072afbbc08fcbfca63303afa3e2eb11ddc0"
        }
    },
    "nbformat": 4,
    "nbformat_minor": 2
}